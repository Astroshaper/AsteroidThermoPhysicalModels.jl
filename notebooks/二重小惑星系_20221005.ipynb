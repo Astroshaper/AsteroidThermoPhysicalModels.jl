{
 "cells": [
  {
   "cell_type": "code",
   "execution_count": 2,
   "metadata": {},
   "outputs": [
    {
     "data": {
      "text/plain": [
       "v\"1.8.2\""
      ]
     },
     "execution_count": 2,
     "metadata": {},
     "output_type": "execute_result"
    }
   ],
   "source": [
    "VERSION"
   ]
  },
  {
   "cell_type": "code",
   "execution_count": 3,
   "metadata": {},
   "outputs": [],
   "source": [
    "ENV[\"COLUMNS\"] = 1000\n",
    "ENV[\"LINES\"] = 20;"
   ]
  },
  {
   "cell_type": "code",
   "execution_count": 4,
   "metadata": {},
   "outputs": [],
   "source": [
    "# using Pkg\n",
    "# Pkg.add(\"GLMakie\")\n",
    "# Pkg.update(\"GLMakie\")\n",
    "# Pkg.build(\"GLMakie\")"
   ]
  },
  {
   "cell_type": "code",
   "execution_count": 31,
   "metadata": {},
   "outputs": [],
   "source": [
    "using DataFrames\n",
    "using GLMakie\n",
    "\n",
    "using Revise\n",
    "using Astroshaper\n",
    "import SPICE"
   ]
  },
  {
   "cell_type": "code",
   "execution_count": 169,
   "metadata": {},
   "outputs": [],
   "source": [
    "meta_kernel = \"/Users/masanorikanamaru/Dropbox/spice/hera/kernels/mk/hera_study_PO_EMA_2024_shapeViewer.tm\"\n",
    "\n",
    "SPICE.furnsh(meta_kernel)"
   ]
  },
  {
   "cell_type": "code",
   "execution_count": 170,
   "metadata": {},
   "outputs": [
    {
     "data": {
      "text/plain": [
       "8.554824691849957e8:180.0:8.556552691849957e8"
      ]
     },
     "execution_count": 170,
     "metadata": {},
     "output_type": "execute_result"
    }
   ],
   "source": [
    "et_start = SPICE.utc2et(\"2027-02-09T22:00:00\")\n",
    "et_end   = SPICE.utc2et(\"2027-02-11T22:00:00\")\n",
    "step     = 3600/20\n",
    "\n",
    "et_range = et_start:step:et_end"
   ]
  },
  {
   "cell_type": "code",
   "execution_count": 171,
   "metadata": {},
   "outputs": [],
   "source": [
    "\"\"\"\n",
    "Obtain a dataframe of ephemerides \n",
    "\n",
    "# Arguments\n",
    "- `targ`   : Target body name\n",
    "- `ets`    : AbstractVetor of observer epoch\n",
    "- `ref`    : Reference frame of output position vector\n",
    "- `abcorr` : Aberration correction flag\n",
    "- `obs`    : Observing body name\n",
    "\"\"\"\n",
    "function spkpos_df(targ, ets::AbstractVector, ref, abcorr, obs)\n",
    "    df = DataFrame(et=Float64[], x=Float64[], y=Float64[], z=Float64[], lt=Float64[])\n",
    "    for et in ets\n",
    "        pos, lt = SPICE.spkpos(targ, et, ref, abcorr, obs)  # pos [km], lt [s]\n",
    "        pos = SPICE.convrt.(pos, \"km\", \"m\")\n",
    "        push!(df, (et, pos..., lt))\n",
    "    end\n",
    "    df\n",
    "end\n",
    "\n",
    "function spkpos_vec(targ, ets::AbstractVector, ref, abcorr, obs)\n",
    "    positions = Vector{Float64}[]\n",
    "    for et in ets\n",
    "        pos, lt = SPICE.spkpos(targ, et, ref, abcorr, obs)  # pos [km], lt [s]\n",
    "        pos = SPICE.convrt.(pos, \"km\", \"m\")\n",
    "        push!(positions, collect(pos))\n",
    "    end\n",
    "    positions\n",
    "end\n",
    "\n",
    "\n",
    "\"\"\"\n",
    "# Arguments\n",
    "- `from` : Name of the frame to transform from\n",
    "- `to`   : Name of the frame to transform to\n",
    "- `ets`  : Epoch of the rotation matrix\n",
    "\n",
    "# Return\n",
    "- `rotate` : A rotation matrix\n",
    "\"\"\"\n",
    "pxform(from, to, ets) = [SPICE.pxform(from, to, et) for et in ets];"
   ]
  },
  {
   "cell_type": "code",
   "execution_count": 172,
   "metadata": {},
   "outputs": [],
   "source": [
    "sun_d1 = spkpos_vec(\"SUN\",       et_range, \"DIDYMOS_FIXED\",   \"None\", \"DIDYMOS\")\n",
    "sun_d2 = spkpos_vec(\"SUN\",       et_range, \"DIMORPHOS_FIXED\", \"None\", \"DIMORPHOS\")\n",
    "d1_d2  = spkpos_vec(\"DIDYMOS\",   et_range, \"DIMORPHOS_FIXED\", \"None\", \"DIMORPHOS\")\n",
    "d2_d1  = spkpos_vec(\"DIMORPHOS\", et_range, \"DIDYMOS_FIXED\",   \"None\", \"DIDYMOS\");"
   ]
  },
  {
   "cell_type": "code",
   "execution_count": 173,
   "metadata": {},
   "outputs": [],
   "source": [
    "D1_TO_D2 = pxform(\"DIDYMOS_FIXED\",   \"DIMORPHOS_FIXED\", et_range)\n",
    "D2_TO_D1 = pxform(\"DIMORPHOS_FIXED\", \"DIDYMOS_FIXED\",   et_range);"
   ]
  },
  {
   "cell_type": "code",
   "execution_count": 174,
   "metadata": {},
   "outputs": [],
   "source": [
    "SPICE.kclear()"
   ]
  },
  {
   "cell_type": "code",
   "execution_count": 183,
   "metadata": {},
   "outputs": [
    {
     "data": {
      "text/plain": [
       "GLMakie.Screen(...)"
      ]
     },
     "execution_count": 183,
     "metadata": {},
     "output_type": "execute_result"
    }
   ],
   "source": [
    "fig = Figure()\n",
    "ax = Axis3(fig[1, 1], aspect=:data)\n",
    "\n",
    "# scatter!(0,0,0)\n",
    "# scatter!(sun_d1.x, sun_d1.y, sun_d1.z, color=:orange)\n",
    "# scatter!(d2_d1.x, d2_d1.y, d2_d1.z, color=:skyblue)\n",
    "# scatter!(sun_d1.x, sun_d1.y, sun_d1.z, color=:orange)\n",
    "# scatter!(d2_d1.x, d2_d1.y, d2_d1.z, color=:skyblue)\n",
    "\n",
    "# scatter!([r[1] for r in sun_d1], [r[2] for r in sun_d1], [r[3] for r in sun_d1], color=:orange)\n",
    "\n",
    "display(fig)"
   ]
  },
  {
   "cell_type": "markdown",
   "metadata": {},
   "source": [
    "- まずはDidymosだけで熱計算してみる\n",
    "- まずはDimorphosだけで熱計算してみる\n",
    "- 二重小惑星として熱計算してみる"
   ]
  },
  {
   "cell_type": "code",
   "execution_count": null,
   "metadata": {},
   "outputs": [],
   "source": []
  },
  {
   "cell_type": "code",
   "execution_count": null,
   "metadata": {},
   "outputs": [],
   "source": []
  },
  {
   "cell_type": "code",
   "execution_count": null,
   "metadata": {},
   "outputs": [],
   "source": []
  },
  {
   "cell_type": "code",
   "execution_count": null,
   "metadata": {},
   "outputs": [],
   "source": []
  },
  {
   "cell_type": "code",
   "execution_count": null,
   "metadata": {},
   "outputs": [],
   "source": []
  },
  {
   "cell_type": "code",
   "execution_count": null,
   "metadata": {},
   "outputs": [],
   "source": []
  },
  {
   "cell_type": "markdown",
   "metadata": {},
   "source": [
    "## 66391 Moshup (1999 KW4)\n",
    "\n",
    "- [JPL database](https://ssd.jpl.nasa.gov/tools/sbdb_lookup.html#/?sstr=1999KW4&view=VOSP)"
   ]
  },
  {
   "cell_type": "code",
   "execution_count": 34,
   "metadata": {},
   "outputs": [
    {
     "data": {
      "text/plain": []
     },
     "execution_count": 34,
     "metadata": {},
     "output_type": "execute_result"
    },
    {
     "name": "stdout",
     "output_type": "stream",
     "text": [
      "--------------------\n",
      "  Orbital elements  \n",
      "--------------------\n",
      "    Semi-mojor axis         : a  = 0.6423718937095335 [AU]\n",
      "    Eccentricity            : e  = 0.6883626074960387 [-]\n",
      "    Lon. of ascending node  : Ω  = 244.89998977091534 [deg]\n",
      "    Argument of periapsis   : ω  = 192.6452855048569 [deg]\n",
      "    Inclination             : I  = 38.87892427076324 [deg]\n",
      "    Periapsis passage time  : tₚ = -8.239849462571867e6 [sec]\n",
      "    Mean anomaly            : Φ  = 182.5701683309563 [deg]\n",
      "--------------------\n",
      "  Other parameters  \n",
      "--------------------\n",
      "    Gravitational parameter : μ = 1.32712440018e20 [m^3/s^2]\n",
      "    Mean motion             : n = 1.9143629523143177 [deg/day]\n",
      "    Orbital period          : P = 188.05211392374034 [day]\n",
      "------------------\n",
      "  Time-variables  \n",
      "------------------\n",
      "    Time                    : t  = 0.0 [sec]\n",
      "    Eccentric anomaly       : u  = 181.5223575891701 [deg]\n",
      "    True anomaly            : ν  = 180.6540778308607 [deg]\n",
      "    Position                : r  = [-1.62213450924202e11, -1.8518786598129344e9, 0.0] [m]\n",
      "    Velocity                : v  = [584.8433651173145, -15962.501452684051, 0.0] [m/s]\n",
      "    Solar irradiation       : F☉ = 1161.6390244874326 [W/m²]\n"
     ]
    }
   ],
   "source": [
    "params_orbit = Dict()\n",
    "\n",
    "params_orbit[:a] = 0.6423718937095335  # semi-mojor axis [AU]\n",
    "params_orbit[:e] = 0.6883626074960387  # eccentricity\n",
    "params_orbit[:I] = 38.87892427076324   # inclination [deg]\n",
    "params_orbit[:Ω] = 244.8999897709153   # longitude of the ascending node [deg]\n",
    "params_orbit[:ω] = 192.6452855048569   # argument of periapsis [deg]\n",
    "params_orbit[:Φ] = 182.5701683309563   # mean anomaly [deg]\n",
    "\n",
    "params_orbit[:μ] = GM☉\n",
    "\n",
    "orbit1 = OrbitalElements(params_orbit)"
   ]
  },
  {
   "cell_type": "code",
   "execution_count": 36,
   "metadata": {},
   "outputs": [
    {
     "data": {
      "text/plain": []
     },
     "execution_count": 36,
     "metadata": {},
     "output_type": "execute_result"
    },
    {
     "name": "stdout",
     "output_type": "stream",
     "text": [
      "-------------------\n",
      "  Spin parameters  \n",
      "-------------------\n",
      "Right ascension (RA) : α = 22.298395064751112 [deg]\n",
      "Declination (Dec)    : δ = -67.747791152182 [deg]\n",
      "Ecliptic longitude   : λ = 326.0 [deg]\n",
      "Ecliptic latitude    : β = -65.0 [deg]\n",
      "Obliquity            : ε = 147.3267557672455 [deg]\n",
      "Spin period          : P = 2.7645000000000004 [hours]\n",
      "Spin rate            : ω = 0.0006313363183195259 [rad/sec]\n",
      "Vernal equinox lon.  : γ = 125.15365519198035 [deg]\n",
      "                           (longitude from the periheion direction)\n",
      "Time                 : t  = 0.0 [sec]\n",
      "Initial spin phase   : ϕ₀ = 0.0 [deg]\n",
      "Spin phase           : ϕ  = 0.0 [deg]\n"
     ]
    }
   ],
   "source": [
    "params_spin = Dict()\n",
    "params_spin[:λ] = 326.\n",
    "params_spin[:β] = -65.\n",
    "params_spin[:P] = 2.7645\n",
    "\n",
    "spin1 = SpinParams(params_spin, orbit1)"
   ]
  },
  {
   "cell_type": "code",
   "execution_count": 37,
   "metadata": {},
   "outputs": [],
   "source": [
    "# params_thermo = ParamsThermo(\n",
    "#     A_B   = 0.04,\n",
    "#     A_TH  = 0.,\n",
    "#     k     = 0.1,\n",
    "#     ρ     = 1270.,\n",
    "#     Cp    = 600.,\n",
    "#     ϵ     = 1.,\n",
    "#     P     = spin1.T,\n",
    "#     Δt    = spin1.T/72,\n",
    "#     t_bgn = 0.,\n",
    "#     # t_end = spin.T*10,\n",
    "#     t_end = orbit1.T,\n",
    "#     Δz    = 0.015,\n",
    "#     z_max = 0.6,\n",
    "# )"
   ]
  },
  {
   "cell_type": "markdown",
   "metadata": {},
   "source": [
    "## Satellite Squannit\n",
    "\n",
    "- [JPL database](https://ssd.jpl.nasa.gov/tools/sbdb_lookup.html#/?sstr=1999KW4&view=VOSP)"
   ]
  },
  {
   "cell_type": "code",
   "execution_count": 38,
   "metadata": {},
   "outputs": [
    {
     "data": {
      "text/plain": []
     },
     "execution_count": 38,
     "metadata": {},
     "output_type": "execute_result"
    },
    {
     "name": "stdout",
     "output_type": "stream",
     "text": [
      "--------------------\n",
      "  Orbital elements  \n",
      "--------------------\n",
      "    Semi-mojor axis         : a  = 1.7032328067237854e-8 [AU]\n",
      "    Eccentricity            : e  = 0.0004 [-]\n",
      "    Lon. of ascending node  : Ω  = 105.4 [deg]\n",
      "    Argument of periapsis   : ω  = 319.7 [deg]\n",
      "    Inclination             : I  = 156.1 [deg]\n",
      "    Periapsis passage time  : tₚ = 0.0 [sec]\n",
      "    Mean anomaly            : Φ  = -0.0 [deg]\n",
      "--------------------\n",
      "  Other parameters  \n",
      "--------------------\n",
      "    Gravitational parameter : μ = 166.051187528 [m^3/s^2]\n",
      "    Mean motion             : n = 495.97322554307357 [deg/day]\n",
      "    Orbital period          : P = 0.725845633311783 [day]\n",
      "------------------\n",
      "  Time-variables  \n",
      "------------------\n",
      "    Time                    : t  = 0.0 [sec]\n",
      "    Eccentric anomaly       : u  = 0.0 [deg]\n",
      "    True anomaly            : ν  = 0.0 [deg]\n",
      "    Position                : r  = [2546.9808000000003, 0.0, 0.0] [m]\n",
      "    Velocity                : v  = [-0.0, 0.25538477268155224, 0.0] [m/s]\n",
      "    Solar irradiation       : F☉ = 4.71248712997923e18 [W/m²]\n"
     ]
    }
   ],
   "source": [
    "params_orbit = Dict()\n",
    "\n",
    "params_orbit[:a] = 2548 / AU  # semi-mojor axis [AU]\n",
    "params_orbit[:e] = 0.0004     # eccentricity\n",
    "params_orbit[:I] = 156.1      # inclination [deg]\n",
    "params_orbit[:Ω] = 105.4      # longitude of the ascending node [deg]\n",
    "params_orbit[:ω] = 319.7      # argument of periapsis [deg]\n",
    "params_orbit[:tₚ] = 0.        # periapsis passage time [sec]\n",
    "\n",
    "m₁ = 2.353e12\n",
    "m₂ = 0.135e12\n",
    "params_orbit[:μ] = G * (m₁ + m₂)\n",
    "\n",
    "orbit2 = OrbitalElements(params_orbit)"
   ]
  },
  {
   "cell_type": "code",
   "execution_count": 42,
   "metadata": {},
   "outputs": [
    {
     "data": {
      "text/plain": []
     },
     "execution_count": 42,
     "metadata": {},
     "output_type": "execute_result"
    },
    {
     "name": "stdout",
     "output_type": "stream",
     "text": [
      "-------------------\n",
      "  Spin parameters  \n",
      "-------------------\n",
      "Right ascension (RA) : α = 15.829825508029357 [deg]\n",
      "Declination (Dec)    : δ = -66.1369604954399 [deg]\n",
      "Ecliptic longitude   : λ = 326.0 [deg]\n",
      "Ecliptic latitude    : β = -62.0 [deg]\n",
      "Obliquity            : ε = 147.00101898240996 [deg]\n",
      "Spin period          : P = 17.42029519948279 [hours]\n",
      "Spin rate            : ω = 0.00010018941883637818 [rad/sec]\n",
      "Vernal equinox lon.  : γ = 119.6521850206004 [deg]\n",
      "                           (longitude from the periheion direction)\n",
      "Time                 : t  = 0.0 [sec]\n",
      "Initial spin phase   : ϕ₀ = 0.0 [deg]\n",
      "Spin phase           : ϕ  = 0.0 [deg]\n"
     ]
    }
   ],
   "source": [
    "params_spin = Dict()\n",
    "params_spin[:λ] = 326.\n",
    "params_spin[:β] = -62.\n",
    "params_spin[:P] = SPICE.convrt(orbit2.P, \"seconds\", \"hours\")\n",
    "\n",
    "spin2 = SpinParams(params_spin, orbit1)"
   ]
  },
  {
   "cell_type": "code",
   "execution_count": 55,
   "metadata": {},
   "outputs": [
    {
     "data": {
      "text/plain": []
     },
     "execution_count": 55,
     "metadata": {},
     "output_type": "execute_result"
    },
    {
     "name": "stdout",
     "output_type": "stream",
     "text": [
      "Thermophysical parameters\n",
      "-------------------------\n",
      "A_B   : 0.04\n",
      "A_TH  : 0.0\n",
      "k     : 0.1\n",
      "ρ     : 1270.0\n",
      "Cp    : 600.0\n",
      "ϵ     : 1.0\n",
      "-------------------------\n",
      "t_bgn : 0.0\n",
      "t_bgn : 0.0 (Normalized by period P)\n",
      "t_end : 125426.1254362761\n",
      "t_end : 12.602854186639746 (Normalized by period P)\n",
      "Nt    : 144\n",
      "Δt    : 877.105772281651\n",
      "Δt    : 0.0881318474590192 (Normalized by period P)\n",
      "-------------------------\n",
      "z_max : 0.6\n",
      "z_max : 4.683432404907855 (Normalized by skin depth l)\n",
      "Nz    : 40\n",
      "Δz    : 0.015384615384615385\n",
      "Δz    : 0.12008801038225268 (Normalized by skin depth l)\n",
      "-------------------------\n",
      "P     : 9952.2\n",
      "l     : 0.12811116893055807\n",
      "Γ     : 276.04347483684523\n",
      "λ     : 0.4863217700643013\n",
      "-------------------------\n"
     ]
    }
   ],
   "source": [
    "params_thermo = ThermoParams(\n",
    "    A_B   = 0.04,\n",
    "    A_TH  = 0.,\n",
    "    k     = 0.1,\n",
    "    ρ     = 1270.,\n",
    "    Cp    = 600.,\n",
    "    ϵ     = 1.,\n",
    "    P     = spin1.P,\n",
    "    Nt    = 144,\n",
    "    t_bgn = 0.,\n",
    "    t_end = spin2.P * 2,\n",
    "    Nz    = 40,\n",
    "    z_max = 0.6,\n",
    ")"
   ]
  },
  {
   "cell_type": "code",
   "execution_count": null,
   "metadata": {},
   "outputs": [],
   "source": []
  },
  {
   "cell_type": "code",
   "execution_count": 22,
   "metadata": {},
   "outputs": [],
   "source": [
    "# kernels = [\n",
    "#     \"../../spice/kernels/generic_kernels/lsk/naif0012.tls\",\n",
    "#     \"../../spice/kernels/generic_kernels/spk/planets/de440.bsp\",\n",
    "#     \"../../spice/kernels/generic_kernels/pck/de-403-masses.tpc\",\n",
    "#     \"../../spice/kernels/generic_kernels/pck/pck00010.tpc\",\n",
    "# ]\n",
    "# bodies = [\"Sun\", \"Mercury\", \"Venus\", \"Earth_barycenter\", \"Mars_barycenter\"]\n",
    "\n",
    "# Astroshaper.plot_orbits(kernels, bodies, orbit1)"
   ]
  },
  {
   "cell_type": "code",
   "execution_count": 59,
   "metadata": {},
   "outputs": [],
   "source": [
    "# draw(shape1, shape2, \"tmp.mp4\")"
   ]
  },
  {
   "cell_type": "code",
   "execution_count": 61,
   "metadata": {},
   "outputs": [
    {
     "ename": "LoadError",
     "evalue": "MethodError: no method matching run_binary_TPM!(::ShapeModel{Int64, Vector{StaticArrays.SVector{3, Float64}}, Vector{StaticArrays.SVector{3, Int64}}, StructArrays.StructVector{Astroshaper.Facet{StaticArrays.SVector{3, Float64}, Float64, StructArrays.StructVector{Astroshaper.VisibleFacet, NamedTuple{(:id, :f, :d, :d̂), Tuple{Vector{Int64}, Vector{Float64}, Vector{Float64}, Vector{StaticArrays.SVector{3, Float64}}}}, Int64}, Astroshaper.Flux{Float64}, Vector{Float64}, Vector{Float64}}, NamedTuple{(:A, :B, :C, :center, :normal, :area, :visiblefacets, :flux, :temps, :_temps_, :force), Tuple{Vector{StaticArrays.SVector{3, Float64}}, Vector{StaticArrays.SVector{3, Float64}}, Vector{StaticArrays.SVector{3, Float64}}, Vector{StaticArrays.SVector{3, Float64}}, Vector{StaticArrays.SVector{3, Float64}}, Vector{Float64}, Vector{StructArrays.StructVector{Astroshaper.VisibleFacet, NamedTuple{(:id, :f, :d, :d̂), Tuple{Vector{Int64}, Vector{Float64}, Vector{Float64}, Vector{StaticArrays.SVector{3, Float64}}}}, Int64}}, Vector{Astroshaper.Flux{Float64}}, Vector{Vector{Float64}}, Vector{Vector{Float64}}, Vector{Vector{Float64}}}}, Int64}, Float64, StaticArrays.SVector{3, Float64}, Matrix{Float64}, Vector{Float64}}, ::ShapeModel{Int64, Vector{StaticArrays.SVector{3, Float64}}, Vector{StaticArrays.SVector{3, Int64}}, StructArrays.StructVector{Astroshaper.Facet{StaticArrays.SVector{3, Float64}, Float64, StructArrays.StructVector{Astroshaper.VisibleFacet, NamedTuple{(:id, :f, :d, :d̂), Tuple{Vector{Int64}, Vector{Float64}, Vector{Float64}, Vector{StaticArrays.SVector{3, Float64}}}}, Int64}, Astroshaper.Flux{Float64}, Vector{Float64}, Vector{Float64}}, NamedTuple{(:A, :B, :C, :center, :normal, :area, :visiblefacets, :flux, :temps, :_temps_, :force), Tuple{Vector{StaticArrays.SVector{3, Float64}}, Vector{StaticArrays.SVector{3, Float64}}, Vector{StaticArrays.SVector{3, Float64}}, Vector{StaticArrays.SVector{3, Float64}}, Vector{StaticArrays.SVector{3, Float64}}, Vector{Float64}, Vector{StructArrays.StructVector{Astroshaper.VisibleFacet, NamedTuple{(:id, :f, :d, :d̂), Tuple{Vector{Int64}, Vector{Float64}, Vector{Float64}, Vector{StaticArrays.SVector{3, Float64}}}}, Int64}}, Vector{Astroshaper.Flux{Float64}}, Vector{Vector{Float64}}, Vector{Vector{Float64}}, Vector{Vector{Float64}}}}, Int64}, Float64, StaticArrays.SVector{3, Float64}, Matrix{Float64}, Vector{Float64}}, ::OrbitalElements{Float64, StaticArrays.SVector{3, Float64}}, ::OrbitalElements{Float64, StaticArrays.SVector{3, Float64}}, ::SpinParams{Float64, StaticArrays.SVector{3, Float64}}, ::SpinParams{Float64, StaticArrays.SVector{3, Float64}}, ::ThermoParams{Int64, Float64, Int64, Float64})\n\u001b[0mClosest candidates are:\n\u001b[0m  run_binary_TPM!(::Any, ::Any) at ~/Dropbox/Mac/Documents/GitHub/Astroshaper/src/binary.jl:126",
     "output_type": "error",
     "traceback": [
      "MethodError: no method matching run_binary_TPM!(::ShapeModel{Int64, Vector{StaticArrays.SVector{3, Float64}}, Vector{StaticArrays.SVector{3, Int64}}, StructArrays.StructVector{Astroshaper.Facet{StaticArrays.SVector{3, Float64}, Float64, StructArrays.StructVector{Astroshaper.VisibleFacet, NamedTuple{(:id, :f, :d, :d̂), Tuple{Vector{Int64}, Vector{Float64}, Vector{Float64}, Vector{StaticArrays.SVector{3, Float64}}}}, Int64}, Astroshaper.Flux{Float64}, Vector{Float64}, Vector{Float64}}, NamedTuple{(:A, :B, :C, :center, :normal, :area, :visiblefacets, :flux, :temps, :_temps_, :force), Tuple{Vector{StaticArrays.SVector{3, Float64}}, Vector{StaticArrays.SVector{3, Float64}}, Vector{StaticArrays.SVector{3, Float64}}, Vector{StaticArrays.SVector{3, Float64}}, Vector{StaticArrays.SVector{3, Float64}}, Vector{Float64}, Vector{StructArrays.StructVector{Astroshaper.VisibleFacet, NamedTuple{(:id, :f, :d, :d̂), Tuple{Vector{Int64}, Vector{Float64}, Vector{Float64}, Vector{StaticArrays.SVector{3, Float64}}}}, Int64}}, Vector{Astroshaper.Flux{Float64}}, Vector{Vector{Float64}}, Vector{Vector{Float64}}, Vector{Vector{Float64}}}}, Int64}, Float64, StaticArrays.SVector{3, Float64}, Matrix{Float64}, Vector{Float64}}, ::ShapeModel{Int64, Vector{StaticArrays.SVector{3, Float64}}, Vector{StaticArrays.SVector{3, Int64}}, StructArrays.StructVector{Astroshaper.Facet{StaticArrays.SVector{3, Float64}, Float64, StructArrays.StructVector{Astroshaper.VisibleFacet, NamedTuple{(:id, :f, :d, :d̂), Tuple{Vector{Int64}, Vector{Float64}, Vector{Float64}, Vector{StaticArrays.SVector{3, Float64}}}}, Int64}, Astroshaper.Flux{Float64}, Vector{Float64}, Vector{Float64}}, NamedTuple{(:A, :B, :C, :center, :normal, :area, :visiblefacets, :flux, :temps, :_temps_, :force), Tuple{Vector{StaticArrays.SVector{3, Float64}}, Vector{StaticArrays.SVector{3, Float64}}, Vector{StaticArrays.SVector{3, Float64}}, Vector{StaticArrays.SVector{3, Float64}}, Vector{StaticArrays.SVector{3, Float64}}, Vector{Float64}, Vector{StructArrays.StructVector{Astroshaper.VisibleFacet, NamedTuple{(:id, :f, :d, :d̂), Tuple{Vector{Int64}, Vector{Float64}, Vector{Float64}, Vector{StaticArrays.SVector{3, Float64}}}}, Int64}}, Vector{Astroshaper.Flux{Float64}}, Vector{Vector{Float64}}, Vector{Vector{Float64}}, Vector{Vector{Float64}}}}, Int64}, Float64, StaticArrays.SVector{3, Float64}, Matrix{Float64}, Vector{Float64}}, ::OrbitalElements{Float64, StaticArrays.SVector{3, Float64}}, ::OrbitalElements{Float64, StaticArrays.SVector{3, Float64}}, ::SpinParams{Float64, StaticArrays.SVector{3, Float64}}, ::SpinParams{Float64, StaticArrays.SVector{3, Float64}}, ::ThermoParams{Int64, Float64, Int64, Float64})\n\u001b[0mClosest candidates are:\n\u001b[0m  run_binary_TPM!(::Any, ::Any) at ~/Dropbox/Mac/Documents/GitHub/Astroshaper/src/binary.jl:126",
      "",
      "Stacktrace:",
      " [1] top-level scope",
      "   @ In[61]:1",
      " [2] eval",
      "   @ ./boot.jl:373 [inlined]",
      " [3] include_string(mapexpr::typeof(REPL.softscope), mod::Module, code::String, filename::String)",
      "   @ Base ./loading.jl:1196"
     ]
    }
   ],
   "source": [
    "tmp = run_binary(shape1, shape2, orbit1, orbit2, spin1, spin2, params_thermo);"
   ]
  },
  {
   "cell_type": "code",
   "execution_count": null,
   "metadata": {},
   "outputs": [],
   "source": []
  },
  {
   "cell_type": "code",
   "execution_count": null,
   "metadata": {},
   "outputs": [],
   "source": []
  },
  {
   "cell_type": "code",
   "execution_count": null,
   "metadata": {},
   "outputs": [],
   "source": []
  },
  {
   "cell_type": "code",
   "execution_count": null,
   "metadata": {},
   "outputs": [],
   "source": []
  }
 ],
 "metadata": {
  "kernelspec": {
   "display_name": "Julia 1.8.2",
   "language": "julia",
   "name": "julia-1.8"
  },
  "language_info": {
   "file_extension": ".jl",
   "mimetype": "application/julia",
   "name": "julia",
   "version": "1.8.2"
  }
 },
 "nbformat": 4,
 "nbformat_minor": 4
}
