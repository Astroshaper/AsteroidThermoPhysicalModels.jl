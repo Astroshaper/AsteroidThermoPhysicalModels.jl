{
 "cells": [
  {
   "cell_type": "code",
   "execution_count": 1,
   "metadata": {},
   "outputs": [
    {
     "data": {
      "text/plain": [
       "v\"1.7.0\""
      ]
     },
     "execution_count": 1,
     "metadata": {},
     "output_type": "execute_result"
    }
   ],
   "source": [
    "VERSION"
   ]
  },
  {
   "cell_type": "code",
   "execution_count": 2,
   "metadata": {},
   "outputs": [],
   "source": [
    "ENV[\"COLUMNS\"] = 1000\n",
    "ENV[\"LINES\"] = 20;"
   ]
  },
  {
   "cell_type": "code",
   "execution_count": 3,
   "metadata": {},
   "outputs": [],
   "source": [
    "# using Pkg\n",
    "# Pkg.add(\"GLMakie\")\n",
    "# Pkg.update(\"GLMakie\")\n",
    "# Pkg.build(\"GLMakie\")"
   ]
  },
  {
   "cell_type": "code",
   "execution_count": 4,
   "metadata": {},
   "outputs": [
    {
     "name": "stderr",
     "output_type": "stream",
     "text": [
      "┌ Info: Precompiling DataFrames [a93c6f00-e57d-5684-b7b6-d8193f3e46c0]\n",
      "└ @ Base loading.jl:1423\n",
      "┌ Info: Precompiling GLMakie [e9467ef8-e4e7-5192-8a1a-b1aee30e663a]\n",
      "└ @ Base loading.jl:1423\n",
      "\u001b[91m\u001b[1mERROR: \u001b[22m\u001b[39mLoadError: `Makie.convert_arguments` for the plot type MakieCore.Text{Tuple{String}} and its conversion trait MakieCore.PointBased() was unsuccessful.\n",
      "\n",
      "The signature that could not be converted was:\n",
      "::String\n",
      "\n",
      "Makie needs to convert all plot input arguments to types that can be consumed by the backends (typically Arrays with Float32 elements).\n",
      "You can define a method for `Makie.convert_arguments` (a type recipe) for these types or their supertypes to make this set of arguments convertible (See http://makie.juliaplots.org/stable/documentation/recipes/index.html).\n",
      "\n",
      "Alternatively, you can define `Makie.convert_single_argument` for single arguments which have types that are unknown to Makie but which can be converted to known types and fed back to the conversion pipeline.\n",
      "\n",
      "Stacktrace:\n",
      "  [1] \u001b[0m\u001b[1merror\u001b[22m\u001b[0m\u001b[1m(\u001b[22m\u001b[90ms\u001b[39m::\u001b[0mString\u001b[0m\u001b[1m)\u001b[22m\n",
      "\u001b[90m    @ \u001b[39m\u001b[90mBase\u001b[39m \u001b[90m./\u001b[39m\u001b[90m\u001b[4merror.jl:33\u001b[24m\u001b[39m\n",
      "  [2] \u001b[0m\u001b[1mconvert_arguments\u001b[22m\u001b[0m\u001b[1m(\u001b[22m\u001b[90mT\u001b[39m::\u001b[0mType\u001b[90m{MakieCore.Text{Tuple{String}}}\u001b[39m, \u001b[90margs\u001b[39m::\u001b[0mString; \u001b[90mkw\u001b[39m::\u001b[0mBase.Pairs\u001b[90m{Symbol, Union{}, Tuple{}, NamedTuple{(), Tuple{}}}\u001b[39m\u001b[0m\u001b[1m)\u001b[22m\n",
      "\u001b[90m    @ \u001b[39m\u001b[35mMakie\u001b[39m \u001b[90m~/.julia/packages/Makie/fEZv2/src/\u001b[39m\u001b[90m\u001b[4mconversions.jl:17\u001b[24m\u001b[39m\n",
      "  [3] \u001b[0m\u001b[1mconvert_arguments\u001b[22m\u001b[0m\u001b[1m(\u001b[22m\u001b[90mT\u001b[39m::\u001b[0mType\u001b[90m{MakieCore.Text{Tuple{String}}}\u001b[39m, \u001b[90margs\u001b[39m::\u001b[0mString\u001b[0m\u001b[1m)\u001b[22m\n",
      "\u001b[90m    @ \u001b[39m\u001b[35mMakie\u001b[39m \u001b[90m~/.julia/packages/Makie/fEZv2/src/\u001b[39m\u001b[90m\u001b[4mconversions.jl:8\u001b[24m\u001b[39m\n",
      "  [4] \u001b[0m\u001b[1mplot!\u001b[22m\u001b[0m\u001b[1m(\u001b[22m\u001b[90mscene\u001b[39m::\u001b[0mMakie.Scene, \u001b[90mP\u001b[39m::\u001b[0mType\u001b[90m{MakieCore.Text}\u001b[39m, \u001b[90mattributes\u001b[39m::\u001b[0mMakieCore.Attributes, \u001b[90margs\u001b[39m::\u001b[0mObservables.Observable\u001b[90m{Any}\u001b[39m; \u001b[90mkw_attributes\u001b[39m::\u001b[0mBase.Pairs\u001b[90m{Symbol, Union{}, Tuple{}, NamedTuple{(), Tuple{}}}\u001b[39m\u001b[0m\u001b[1m)\u001b[22m\n",
      "\u001b[90m    @ \u001b[39m\u001b[35mMakie\u001b[39m \u001b[90m~/.julia/packages/Makie/fEZv2/src/\u001b[39m\u001b[90m\u001b[4minterfaces.jl:302\u001b[24m\u001b[39m\n",
      "  [5] \u001b[0m\u001b[1mplot!\u001b[22m\n",
      "\u001b[90m    @ \u001b[39m\u001b[90m~/.julia/packages/Makie/fEZv2/src/\u001b[39m\u001b[90m\u001b[4minterfaces.jl:288\u001b[24m\u001b[39m\u001b[90m [inlined]\u001b[39m\n",
      "  [6] \u001b[0m\u001b[1m#plot!#137\u001b[22m\n",
      "\u001b[90m    @ \u001b[39m\u001b[90m~/.julia/packages/Makie/fEZv2/src/\u001b[39m\u001b[90m\u001b[4minterfaces.jl:271\u001b[24m\u001b[39m\u001b[90m [inlined]\u001b[39m\n",
      "  [7] \u001b[0m\u001b[1mtext!\u001b[22m\u001b[0m\u001b[1m(\u001b[22m::\u001b[0mMakie.Scene, ::\u001b[0mVararg\u001b[90m{Any}\u001b[39m; \u001b[90mattributes\u001b[39m::\u001b[0mBase.Pairs\u001b[90m{Symbol, Any, NTuple{9, Symbol}, NamedTuple{(:textsize, :color, :position, :visible, :align, :rotation, :font, :markerspace, :inspectable), Tuple{Observables.Observable{Any}, Observables.Observable{Any}, Observables.Observable{GeometryBasics.Point2{Float64}}, Observables.Observable{Any}, Observables.Observable{Tuple{Symbol, Symbol}}, Observables.Observable{Float32}, Observables.Observable{Any}, Symbol, Bool}}}\u001b[39m\u001b[0m\u001b[1m)\u001b[22m\n",
      "\u001b[90m    @ \u001b[39m\u001b[36mMakieCore\u001b[39m \u001b[90m~/.julia/packages/MakieCore/8YGMv/src/\u001b[39m\u001b[90m\u001b[4mrecipes.jl:38\u001b[24m\u001b[39m\n",
      "  [8] \u001b[0m\u001b[1mMakie.MakieLayout.LineAxis\u001b[22m\u001b[0m\u001b[1m(\u001b[22m\u001b[90mparent\u001b[39m::\u001b[0mMakie.Scene; \u001b[90mkwargs\u001b[39m::\u001b[0mBase.Pairs\u001b[90m{Symbol, Observables.Observable, NTuple{36, Symbol}, NamedTuple{(:endpoints, :limits, :flipped, :ticklabelrotation, :ticklabelalign, :labelsize, :labelpadding, :ticklabelpad, :labelvisible, :label, :labelfont, :ticklabelfont, :ticklabelcolor, :labelcolor, :tickalign, :ticklabelspace, :ticks, :tickformat, :ticklabelsvisible, :ticksvisible, :spinevisible, :spinecolor, :spinewidth, :ticklabelsize, :trimspine, :ticksize, :reversed, :tickwidth, :tickcolor, :minorticksvisible, :minortickalign, :minorticksize, :minortickwidth, :minortickcolor, :minorticks, :scale), Tuple{Observables.Observable{Tuple{GeometryBasics.Point{2, Float32}, GeometryBasics.Point{2, Float32}}}, Observables.Observable{Tuple{Float32, Float32}}, Observables.Observable{Bool}, Observables.Observable{Float64}, Observables.Observable{Union{MakieCore.Automatic, Tuple{Symbol, Symbol}}}, Observables.Observable{Float64}, Observables.Observable{Float64}, Observables.Observable{Float64}, Observables.Observable{Bool}, Observables.Observable{Any}, Observables.Observable{FreeTypeAbstraction.FTFont}, Observables.Observable{FreeTypeAbstraction.FTFont}, Observables.Observable{ColorTypes.RGBA{Float32}}, Observables.Observable{ColorTypes.RGBA{Float32}}, Observables.Observable{Float64}, Observables.Observable{Union{MakieCore.Automatic, Float64}}, Observables.Observable{Any}, Observables.Observable{Any}, Observables.Observable{Bool}, Observables.Observable{Bool}, Observables.Observable{Bool}, Observables.Observable{ColorTypes.RGBA{Float32}}, Observables.Observable{Float64}, Observables.Observable{Float64}, Observables.Observable{Bool}, Observables.Observable{Float64}, Observables.Observable{Bool}, Observables.Observable{Float64}, Observables.Observable{ColorTypes.RGBA{Float32}}, Observables.Observable{Bool}, Observables.Observable{Float64}, Observables.Observable{Float64}, Observables.Observable{Float64}, Observables.Observable{ColorTypes.RGBA{Float32}}, Observables.Observable{Any}, Observables.Observable{Any}}}}\u001b[39m\u001b[0m\u001b[1m)\u001b[22m\n",
      "\u001b[90m    @ \u001b[39m\u001b[35mMakie.MakieLayout\u001b[39m \u001b[90m~/.julia/packages/Makie/fEZv2/src/makielayout/\u001b[39m\u001b[90m\u001b[4mlineaxis.jl:174\u001b[24m\u001b[39m\n",
      "  [9] \u001b[0m\u001b[1minitialize_block!\u001b[22m\u001b[0m\u001b[1m(\u001b[22m\u001b[90max\u001b[39m::\u001b[0mMakie.MakieLayout.Axis; \u001b[90mpalette\u001b[39m::\u001b[0mNothing\u001b[0m\u001b[1m)\u001b[22m\n",
      "\u001b[90m    @ \u001b[39m\u001b[35mMakie.MakieLayout\u001b[39m \u001b[90m~/.julia/packages/Makie/fEZv2/src/makielayout/blocks/\u001b[39m\u001b[90m\u001b[4maxis.jl:193\u001b[24m\u001b[39m\n",
      " [10] \u001b[0m\u001b[1minitialize_block!\u001b[22m\u001b[0m\u001b[1m(\u001b[22m\u001b[90max\u001b[39m::\u001b[0mMakie.MakieLayout.Axis\u001b[0m\u001b[1m)\u001b[22m\n",
      "\u001b[90m    @ \u001b[39m\u001b[35mMakie.MakieLayout\u001b[39m \u001b[90m~/.julia/packages/Makie/fEZv2/src/makielayout/blocks/\u001b[39m\u001b[90m\u001b[4maxis.jl:21\u001b[24m\u001b[39m\n",
      " [11] \u001b[0m\u001b[1m_block\u001b[22m\u001b[0m\u001b[1m(\u001b[22m::\u001b[0mType\u001b[90m{Makie.MakieLayout.Axis}\u001b[39m, ::\u001b[0mMakie.Figure; \u001b[90mbbox\u001b[39m::\u001b[0mNothing, \u001b[90mkwargs\u001b[39m::\u001b[0mBase.Pairs\u001b[90m{Symbol, Union{}, Tuple{}, NamedTuple{(), Tuple{}}}\u001b[39m\u001b[0m\u001b[1m)\u001b[22m\n",
      "\u001b[90m    @ \u001b[39m\u001b[35mMakie.MakieLayout\u001b[39m \u001b[90m~/.julia/packages/Makie/fEZv2/src/makielayout/\u001b[39m\u001b[90m\u001b[4mblocks.jl:395\u001b[24m\u001b[39m\n",
      " [12] \u001b[0m\u001b[1m_block\u001b[22m\u001b[0m\u001b[1m(\u001b[22m::\u001b[0mType\u001b[90m{Makie.MakieLayout.Axis}\u001b[39m, ::\u001b[0mMakie.Figure\u001b[0m\u001b[1m)\u001b[22m\n",
      "\u001b[90m    @ \u001b[39m\u001b[35mMakie.MakieLayout\u001b[39m \u001b[90m~/.julia/packages/Makie/fEZv2/src/makielayout/\u001b[39m\u001b[90m\u001b[4mblocks.jl:292\u001b[24m\u001b[39m\n",
      " [13] \u001b[0m\u001b[1mMakie.MakieLayout.Axis\u001b[22m\u001b[0m\u001b[1m(\u001b[22m\u001b[90margs\u001b[39m::\u001b[0mMakie.Figure; \u001b[90mkwargs\u001b[39m::\u001b[0mBase.Pairs\u001b[90m{Symbol, Union{}, Tuple{}, NamedTuple{(), Tuple{}}}\u001b[39m\u001b[0m\u001b[1m)\u001b[22m\n",
      "\u001b[90m    @ \u001b[39m\u001b[35mMakie.MakieLayout\u001b[39m \u001b[90m~/.julia/packages/Makie/fEZv2/src/makielayout/\u001b[39m\u001b[90m\u001b[4mblocks.jl:269\u001b[24m\u001b[39m\n",
      " [14] \u001b[0m\u001b[1mMakie.MakieLayout.Axis\u001b[22m\u001b[0m\u001b[1m(\u001b[22m\u001b[90margs\u001b[39m::\u001b[0mMakie.Figure\u001b[0m\u001b[1m)\u001b[22m\n",
      "\u001b[90m    @ \u001b[39m\u001b[35mMakie.MakieLayout\u001b[39m \u001b[90m~/.julia/packages/Makie/fEZv2/src/makielayout/\u001b[39m\u001b[90m\u001b[4mblocks.jl:269\u001b[24m\u001b[39m\n",
      " [15] \u001b[0m\u001b[1mplot\u001b[22m\u001b[0m\u001b[1m(\u001b[22m\u001b[90mP\u001b[39m::\u001b[0mType\u001b[90m{MakieCore.Scatter}\u001b[39m, \u001b[90margs\u001b[39m::\u001b[0mUnitRange\u001b[90m{Int64}\u001b[39m; \u001b[90maxis\u001b[39m::\u001b[0mNamedTuple\u001b[90m{(), Tuple{}}\u001b[39m, \u001b[90mfigure\u001b[39m::\u001b[0mNamedTuple\u001b[90m{(), Tuple{}}\u001b[39m, \u001b[90mkw_attributes\u001b[39m::\u001b[0mBase.Pairs\u001b[90m{Symbol, Union{}, Tuple{}, NamedTuple{(), Tuple{}}}\u001b[39m\u001b[0m\u001b[1m)\u001b[22m\n",
      "\u001b[90m    @ \u001b[39m\u001b[35mMakie\u001b[39m \u001b[90m~/.julia/packages/Makie/fEZv2/src/\u001b[39m\u001b[90m\u001b[4mfigureplotting.jl:30\u001b[24m\u001b[39m\n",
      " [16] \u001b[0m\u001b[1mplot\u001b[22m\n",
      "\u001b[90m    @ \u001b[39m\u001b[90m~/.julia/packages/Makie/fEZv2/src/\u001b[39m\u001b[90m\u001b[4mfigureplotting.jl:16\u001b[24m\u001b[39m\u001b[90m [inlined]\u001b[39m\n",
      " [17] \u001b[0m\u001b[1m#scatter#43\u001b[22m\n",
      "\u001b[90m    @ \u001b[39m\u001b[90m~/.julia/packages/MakieCore/8YGMv/src/\u001b[39m\u001b[90m\u001b[4mrecipes.jl:34\u001b[24m\u001b[39m\u001b[90m [inlined]\u001b[39m\n",
      " [18] \u001b[0m\u001b[1mscatter\u001b[22m\n",
      "\u001b[90m    @ \u001b[39m\u001b[90m~/.julia/packages/MakieCore/8YGMv/src/\u001b[39m\u001b[90m\u001b[4mrecipes.jl:34\u001b[24m\u001b[39m\u001b[90m [inlined]\u001b[39m\n",
      " [19] \u001b[0m\u001b[1m_precompile_\u001b[22m\u001b[0m\u001b[1m(\u001b[22m\u001b[0m\u001b[1m)\u001b[22m\n",
      "\u001b[90m    @ \u001b[39m\u001b[35mMakie\u001b[39m \u001b[90m~/.julia/packages/Makie/fEZv2/src/\u001b[39m\u001b[90m\u001b[4mprecompiles.jl:3\u001b[24m\u001b[39m\n",
      " [20] top-level scope\n",
      "\u001b[90m    @ \u001b[39m\u001b[90m~/.julia/packages/Makie/fEZv2/src/\u001b[39m\u001b[90m\u001b[4mMakie.jl:303\u001b[24m\u001b[39m\n",
      " [21] \u001b[0m\u001b[1minclude\u001b[22m\n",
      "\u001b[90m    @ \u001b[39m\u001b[90m./\u001b[39m\u001b[90m\u001b[4mBase.jl:418\u001b[24m\u001b[39m\u001b[90m [inlined]\u001b[39m\n",
      " [22] \u001b[0m\u001b[1minclude_package_for_output\u001b[22m\u001b[0m\u001b[1m(\u001b[22m\u001b[90mpkg\u001b[39m::\u001b[0mBase.PkgId, \u001b[90minput\u001b[39m::\u001b[0mString, \u001b[90mdepot_path\u001b[39m::\u001b[0mVector\u001b[90m{String}\u001b[39m, \u001b[90mdl_load_path\u001b[39m::\u001b[0mVector\u001b[90m{String}\u001b[39m, \u001b[90mload_path\u001b[39m::\u001b[0mVector\u001b[90m{String}\u001b[39m, \u001b[90mconcrete_deps\u001b[39m::\u001b[0mVector\u001b[90m{Pair{Base.PkgId, UInt64}}\u001b[39m, \u001b[90msource\u001b[39m::\u001b[0mString\u001b[0m\u001b[1m)\u001b[22m\n",
      "\u001b[90m    @ \u001b[39m\u001b[90mBase\u001b[39m \u001b[90m./\u001b[39m\u001b[90m\u001b[4mloading.jl:1318\u001b[24m\u001b[39m\n",
      " [23] top-level scope\n",
      "\u001b[90m    @ \u001b[39m\u001b[90m\u001b[4mnone:1\u001b[24m\u001b[39m\n",
      " [24] \u001b[0m\u001b[1meval\u001b[22m\n",
      "\u001b[90m    @ \u001b[39m\u001b[90m./\u001b[39m\u001b[90m\u001b[4mboot.jl:373\u001b[24m\u001b[39m\u001b[90m [inlined]\u001b[39m\n",
      " [25] \u001b[0m\u001b[1meval\u001b[22m\u001b[0m\u001b[1m(\u001b[22m\u001b[90mx\u001b[39m::\u001b[0mExpr\u001b[0m\u001b[1m)\u001b[22m\n",
      "\u001b[90m    @ \u001b[39m\u001b[90mBase.MainInclude\u001b[39m \u001b[90m./\u001b[39m\u001b[90m\u001b[4mclient.jl:453\u001b[24m\u001b[39m\n",
      " [26] top-level scope\n",
      "\u001b[90m    @ \u001b[39m\u001b[90m\u001b[4mnone:1\u001b[24m\u001b[39m\n",
      "in expression starting at /Users/masanorikanamaru/.julia/packages/Makie/fEZv2/src/Makie.jl:1\n",
      "\n",
      "\u001b[91mcaused by: \u001b[39mMethodError: no method matching convert_arguments(::Type{MakieCore.Text{Tuple{String}}}, ::String)\n",
      "\u001b[0mClosest candidates are:\n",
      "\u001b[0m  convert_arguments(::Union{Type{Any}, Type{<:MakieCore.AbstractPlot}}, ::Any...; kw...) at ~/.julia/packages/Makie/fEZv2/src/conversions.jl:7\n",
      "\u001b[0m  convert_arguments(::Union{Type{Any}, Type{<:MakieCore.AbstractPlot}}, \u001b[91m::IntervalSets.AbstractInterval\u001b[39m, \u001b[91m::Function\u001b[39m) at ~/.julia/packages/Makie/fEZv2/src/conversions.jl:561\n",
      "\u001b[0m  convert_arguments(::Union{Type{Any}, Type{<:MakieCore.AbstractPlot}}, \u001b[91m::KernelDensity.BivariateKDE\u001b[39m) at ~/.julia/packages/Makie/fEZv2/src/stats/density.jl:14\n",
      "\u001b[0m  ...\n",
      "Stacktrace:\n",
      "  [1] \u001b[0m\u001b[1mconvert_arguments_individually\u001b[22m\u001b[0m\u001b[1m(\u001b[22m\u001b[90mT\u001b[39m::\u001b[0mType\u001b[90m{MakieCore.Text{Tuple{String}}}\u001b[39m, \u001b[90margs\u001b[39m::\u001b[0mString\u001b[0m\u001b[1m)\u001b[22m\n",
      "\u001b[90m    @ \u001b[39m\u001b[35mMakie\u001b[39m \u001b[90m~/.julia/packages/Makie/fEZv2/src/\u001b[39m\u001b[90m\u001b[4mconversions.jl:47\u001b[24m\u001b[39m\n",
      "  [2] \u001b[0m\u001b[1mconvert_arguments\u001b[22m\u001b[0m\u001b[1m(\u001b[22m\u001b[90mT\u001b[39m::\u001b[0mType\u001b[90m{MakieCore.Text{Tuple{String}}}\u001b[39m, \u001b[90margs\u001b[39m::\u001b[0mString; \u001b[90mkw\u001b[39m::\u001b[0mBase.Pairs\u001b[90m{Symbol, Union{}, Tuple{}, NamedTuple{(), Tuple{}}}\u001b[39m\u001b[0m\u001b[1m)\u001b[22m\n",
      "\u001b[90m    @ \u001b[39m\u001b[35mMakie\u001b[39m \u001b[90m~/.julia/packages/Makie/fEZv2/src/\u001b[39m\u001b[90m\u001b[4mconversions.jl:14\u001b[24m\u001b[39m\n",
      "  [3] \u001b[0m\u001b[1mconvert_arguments\u001b[22m\u001b[0m\u001b[1m(\u001b[22m\u001b[90mT\u001b[39m::\u001b[0mType\u001b[90m{MakieCore.Text{Tuple{String}}}\u001b[39m, \u001b[90margs\u001b[39m::\u001b[0mString\u001b[0m\u001b[1m)\u001b[22m\n",
      "\u001b[90m    @ \u001b[39m\u001b[35mMakie\u001b[39m \u001b[90m~/.julia/packages/Makie/fEZv2/src/\u001b[39m\u001b[90m\u001b[4mconversions.jl:8\u001b[24m\u001b[39m\n",
      "  [4] \u001b[0m\u001b[1mplot!\u001b[22m\u001b[0m\u001b[1m(\u001b[22m\u001b[90mscene\u001b[39m::\u001b[0mMakie.Scene, \u001b[90mP\u001b[39m::\u001b[0mType\u001b[90m{MakieCore.Text}\u001b[39m, \u001b[90mattributes\u001b[39m::\u001b[0mMakieCore.Attributes, \u001b[90margs\u001b[39m::\u001b[0mObservables.Observable\u001b[90m{Any}\u001b[39m; \u001b[90mkw_attributes\u001b[39m::\u001b[0mBase.Pairs\u001b[90m{Symbol, Union{}, Tuple{}, NamedTuple{(), Tuple{}}}\u001b[39m\u001b[0m\u001b[1m)\u001b[22m\n",
      "\u001b[90m    @ \u001b[39m\u001b[35mMakie\u001b[39m \u001b[90m~/.julia/packages/Makie/fEZv2/src/\u001b[39m\u001b[90m\u001b[4minterfaces.jl:302\u001b[24m\u001b[39m\n",
      "  [5] \u001b[0m\u001b[1mplot!\u001b[22m\n",
      "\u001b[90m    @ \u001b[39m\u001b[90m~/.julia/packages/Makie/fEZv2/src/\u001b[39m\u001b[90m\u001b[4minterfaces.jl:288\u001b[24m\u001b[39m\u001b[90m [inlined]\u001b[39m\n",
      "  [6] \u001b[0m\u001b[1m#plot!#137\u001b[22m\n",
      "\u001b[90m    @ \u001b[39m\u001b[90m~/.julia/packages/Makie/fEZv2/src/\u001b[39m\u001b[90m\u001b[4minterfaces.jl:271\u001b[24m\u001b[39m\u001b[90m [inlined]\u001b[39m\n",
      "  [7] \u001b[0m\u001b[1mtext!\u001b[22m\u001b[0m\u001b[1m(\u001b[22m::\u001b[0mMakie.Scene, ::\u001b[0mVararg\u001b[90m{Any}\u001b[39m; \u001b[90mattributes\u001b[39m::\u001b[0mBase.Pairs\u001b[90m{Symbol, Any, NTuple{9, Symbol}, NamedTuple{(:textsize, :color, :position, :visible, :align, :rotation, :font, :markerspace, :inspectable), Tuple{Observables.Observable{Any}, Observables.Observable{Any}, Observables.Observable{GeometryBasics.Point2{Float64}}, Observables.Observable{Any}, Observables.Observable{Tuple{Symbol, Symbol}}, Observables.Observable{Float32}, Observables.Observable{Any}, Symbol, Bool}}}\u001b[39m\u001b[0m\u001b[1m)\u001b[22m\n",
      "\u001b[90m    @ \u001b[39m\u001b[36mMakieCore\u001b[39m \u001b[90m~/.julia/packages/MakieCore/8YGMv/src/\u001b[39m\u001b[90m\u001b[4mrecipes.jl:38\u001b[24m\u001b[39m\n",
      "  [8] \u001b[0m\u001b[1mMakie.MakieLayout.LineAxis\u001b[22m\u001b[0m\u001b[1m(\u001b[22m\u001b[90mparent\u001b[39m::\u001b[0mMakie.Scene; \u001b[90mkwargs\u001b[39m::\u001b[0mBase.Pairs\u001b[90m{Symbol, Observables.Observable, NTuple{36, Symbol}, NamedTuple{(:endpoints, :limits, :flipped, :ticklabelrotation, :ticklabelalign, :labelsize, :labelpadding, :ticklabelpad, :labelvisible, :label, :labelfont, :ticklabelfont, :ticklabelcolor, :labelcolor, :tickalign, :ticklabelspace, :ticks, :tickformat, :ticklabelsvisible, :ticksvisible, :spinevisible, :spinecolor, :spinewidth, :ticklabelsize, :trimspine, :ticksize, :reversed, :tickwidth, :tickcolor, :minorticksvisible, :minortickalign, :minorticksize, :minortickwidth, :minortickcolor, :minorticks, :scale), Tuple{Observables.Observable{Tuple{GeometryBasics.Point{2, Float32}, GeometryBasics.Point{2, Float32}}}, Observables.Observable{Tuple{Float32, Float32}}, Observables.Observable{Bool}, Observables.Observable{Float64}, Observables.Observable{Union{MakieCore.Automatic, Tuple{Symbol, Symbol}}}, Observables.Observable{Float64}, Observables.Observable{Float64}, Observables.Observable{Float64}, Observables.Observable{Bool}, Observables.Observable{Any}, Observables.Observable{FreeTypeAbstraction.FTFont}, Observables.Observable{FreeTypeAbstraction.FTFont}, Observables.Observable{ColorTypes.RGBA{Float32}}, Observables.Observable{ColorTypes.RGBA{Float32}}, Observables.Observable{Float64}, Observables.Observable{Union{MakieCore.Automatic, Float64}}, Observables.Observable{Any}, Observables.Observable{Any}, Observables.Observable{Bool}, Observables.Observable{Bool}, Observables.Observable{Bool}, Observables.Observable{ColorTypes.RGBA{Float32}}, Observables.Observable{Float64}, Observables.Observable{Float64}, Observables.Observable{Bool}, Observables.Observable{Float64}, Observables.Observable{Bool}, Observables.Observable{Float64}, Observables.Observable{ColorTypes.RGBA{Float32}}, Observables.Observable{Bool}, Observables.Observable{Float64}, Observables.Observable{Float64}, Observables.Observable{Float64}, Observables.Observable{ColorTypes.RGBA{Float32}}, Observables.Observable{Any}, Observables.Observable{Any}}}}\u001b[39m\u001b[0m\u001b[1m)\u001b[22m\n",
      "\u001b[90m    @ \u001b[39m\u001b[35mMakie.MakieLayout\u001b[39m \u001b[90m~/.julia/packages/Makie/fEZv2/src/makielayout/\u001b[39m\u001b[90m\u001b[4mlineaxis.jl:174\u001b[24m\u001b[39m\n",
      "  [9] \u001b[0m\u001b[1minitialize_block!\u001b[22m\u001b[0m\u001b[1m(\u001b[22m\u001b[90max\u001b[39m::\u001b[0mMakie.MakieLayout.Axis; \u001b[90mpalette\u001b[39m::\u001b[0mNothing\u001b[0m\u001b[1m)\u001b[22m\n",
      "\u001b[90m    @ \u001b[39m\u001b[35mMakie.MakieLayout\u001b[39m \u001b[90m~/.julia/packages/Makie/fEZv2/src/makielayout/blocks/\u001b[39m\u001b[90m\u001b[4maxis.jl:193\u001b[24m\u001b[39m\n",
      " [10] \u001b[0m\u001b[1minitialize_block!\u001b[22m\u001b[0m\u001b[1m(\u001b[22m\u001b[90max\u001b[39m::\u001b[0mMakie.MakieLayout.Axis\u001b[0m\u001b[1m)\u001b[22m\n",
      "\u001b[90m    @ \u001b[39m\u001b[35mMakie.MakieLayout\u001b[39m \u001b[90m~/.julia/packages/Makie/fEZv2/src/makielayout/blocks/\u001b[39m\u001b[90m\u001b[4maxis.jl:21\u001b[24m\u001b[39m\n",
      " [11] \u001b[0m\u001b[1m_block\u001b[22m\u001b[0m\u001b[1m(\u001b[22m::\u001b[0mType\u001b[90m{Makie.MakieLayout.Axis}\u001b[39m, ::\u001b[0mMakie.Figure; \u001b[90mbbox\u001b[39m::\u001b[0mNothing, \u001b[90mkwargs\u001b[39m::\u001b[0mBase.Pairs\u001b[90m{Symbol, Union{}, Tuple{}, NamedTuple{(), Tuple{}}}\u001b[39m\u001b[0m\u001b[1m)\u001b[22m\n",
      "\u001b[90m    @ \u001b[39m\u001b[35mMakie.MakieLayout\u001b[39m \u001b[90m~/.julia/packages/Makie/fEZv2/src/makielayout/\u001b[39m\u001b[90m\u001b[4mblocks.jl:395\u001b[24m\u001b[39m\n",
      " [12] \u001b[0m\u001b[1m_block\u001b[22m\u001b[0m\u001b[1m(\u001b[22m::\u001b[0mType\u001b[90m{Makie.MakieLayout.Axis}\u001b[39m, ::\u001b[0mMakie.Figure\u001b[0m\u001b[1m)\u001b[22m\n",
      "\u001b[90m    @ \u001b[39m\u001b[35mMakie.MakieLayout\u001b[39m \u001b[90m~/.julia/packages/Makie/fEZv2/src/makielayout/\u001b[39m\u001b[90m\u001b[4mblocks.jl:292\u001b[24m\u001b[39m\n",
      " [13] \u001b[0m\u001b[1mMakie.MakieLayout.Axis\u001b[22m\u001b[0m\u001b[1m(\u001b[22m\u001b[90margs\u001b[39m::\u001b[0mMakie.Figure; \u001b[90mkwargs\u001b[39m::\u001b[0mBase.Pairs\u001b[90m{Symbol, Union{}, Tuple{}, NamedTuple{(), Tuple{}}}\u001b[39m\u001b[0m\u001b[1m)\u001b[22m\n",
      "\u001b[90m    @ \u001b[39m\u001b[35mMakie.MakieLayout\u001b[39m \u001b[90m~/.julia/packages/Makie/fEZv2/src/makielayout/\u001b[39m\u001b[90m\u001b[4mblocks.jl:269\u001b[24m\u001b[39m\n",
      " [14] \u001b[0m\u001b[1mMakie.MakieLayout.Axis\u001b[22m\u001b[0m\u001b[1m(\u001b[22m\u001b[90margs\u001b[39m::\u001b[0mMakie.Figure\u001b[0m\u001b[1m)\u001b[22m\n",
      "\u001b[90m    @ \u001b[39m\u001b[35mMakie.MakieLayout\u001b[39m \u001b[90m~/.julia/packages/Makie/fEZv2/src/makielayout/\u001b[39m\u001b[90m\u001b[4mblocks.jl:269\u001b[24m\u001b[39m\n",
      " [15] \u001b[0m\u001b[1mplot\u001b[22m\u001b[0m\u001b[1m(\u001b[22m\u001b[90mP\u001b[39m::\u001b[0mType\u001b[90m{MakieCore.Scatter}\u001b[39m, \u001b[90margs\u001b[39m::\u001b[0mUnitRange\u001b[90m{Int64}\u001b[39m; \u001b[90maxis\u001b[39m::\u001b[0mNamedTuple\u001b[90m{(), Tuple{}}\u001b[39m, \u001b[90mfigure\u001b[39m::\u001b[0mNamedTuple\u001b[90m{(), Tuple{}}\u001b[39m, \u001b[90mkw_attributes\u001b[39m::\u001b[0mBase.Pairs\u001b[90m{Symbol, Union{}, Tuple{}, NamedTuple{(), Tuple{}}}\u001b[39m\u001b[0m\u001b[1m)\u001b[22m\n",
      "\u001b[90m    @ \u001b[39m\u001b[35mMakie\u001b[39m \u001b[90m~/.julia/packages/Makie/fEZv2/src/\u001b[39m\u001b[90m\u001b[4mfigureplotting.jl:30\u001b[24m\u001b[39m\n",
      " [16] \u001b[0m\u001b[1mplot\u001b[22m\n",
      "\u001b[90m    @ \u001b[39m\u001b[90m~/.julia/packages/Makie/fEZv2/src/\u001b[39m\u001b[90m\u001b[4mfigureplotting.jl:16\u001b[24m\u001b[39m\u001b[90m [inlined]\u001b[39m\n",
      " [17] \u001b[0m\u001b[1m#scatter#43\u001b[22m\n",
      "\u001b[90m    @ \u001b[39m\u001b[90m~/.julia/packages/MakieCore/8YGMv/src/\u001b[39m\u001b[90m\u001b[4mrecipes.jl:34\u001b[24m\u001b[39m\u001b[90m [inlined]\u001b[39m\n",
      " [18] \u001b[0m\u001b[1mscatter\u001b[22m\n",
      "\u001b[90m    @ \u001b[39m\u001b[90m~/.julia/packages/MakieCore/8YGMv/src/\u001b[39m\u001b[90m\u001b[4mrecipes.jl:34\u001b[24m\u001b[39m\u001b[90m [inlined]\u001b[39m\n",
      " [19] \u001b[0m\u001b[1m_precompile_\u001b[22m\u001b[0m\u001b[1m(\u001b[22m\u001b[0m\u001b[1m)\u001b[22m\n",
      "\u001b[90m    @ \u001b[39m\u001b[35mMakie\u001b[39m \u001b[90m~/.julia/packages/Makie/fEZv2/src/\u001b[39m\u001b[90m\u001b[4mprecompiles.jl:3\u001b[24m\u001b[39m\n",
      " [20] top-level scope\n",
      "\u001b[90m    @ \u001b[39m\u001b[90m~/.julia/packages/Makie/fEZv2/src/\u001b[39m\u001b[90m\u001b[4mMakie.jl:303\u001b[24m\u001b[39m\n",
      " [21] \u001b[0m\u001b[1minclude\u001b[22m\n",
      "\u001b[90m    @ \u001b[39m\u001b[90m./\u001b[39m\u001b[90m\u001b[4mBase.jl:418\u001b[24m\u001b[39m\u001b[90m [inlined]\u001b[39m\n",
      " [22] \u001b[0m\u001b[1minclude_package_for_output\u001b[22m\u001b[0m\u001b[1m(\u001b[22m\u001b[90mpkg\u001b[39m::\u001b[0mBase.PkgId, \u001b[90minput\u001b[39m::\u001b[0mString, \u001b[90mdepot_path\u001b[39m::\u001b[0mVector\u001b[90m{String}\u001b[39m, \u001b[90mdl_load_path\u001b[39m::\u001b[0mVector\u001b[90m{String}\u001b[39m, \u001b[90mload_path\u001b[39m::\u001b[0mVector\u001b[90m{String}\u001b[39m, \u001b[90mconcrete_deps\u001b[39m::\u001b[0mVector\u001b[90m{Pair{Base.PkgId, UInt64}}\u001b[39m, \u001b[90msource\u001b[39m::\u001b[0mString\u001b[0m\u001b[1m)\u001b[22m\n",
      "\u001b[90m    @ \u001b[39m\u001b[90mBase\u001b[39m \u001b[90m./\u001b[39m\u001b[90m\u001b[4mloading.jl:1318\u001b[24m\u001b[39m\n",
      " [23] top-level scope\n",
      "\u001b[90m    @ \u001b[39m\u001b[90m\u001b[4mnone:1\u001b[24m\u001b[39m\n",
      " [24] \u001b[0m\u001b[1meval\u001b[22m\n",
      "\u001b[90m    @ \u001b[39m\u001b[90m./\u001b[39m\u001b[90m\u001b[4mboot.jl:373\u001b[24m\u001b[39m\u001b[90m [inlined]\u001b[39m\n",
      " [25] \u001b[0m\u001b[1meval\u001b[22m\u001b[0m\u001b[1m(\u001b[22m\u001b[90mx\u001b[39m::\u001b[0mExpr\u001b[0m\u001b[1m)\u001b[22m\n",
      "\u001b[90m    @ \u001b[39m\u001b[90mBase.MainInclude\u001b[39m \u001b[90m./\u001b[39m\u001b[90m\u001b[4mclient.jl:453\u001b[24m\u001b[39m\n",
      " [26] top-level scope\n",
      "\u001b[90m    @ \u001b[39m\u001b[90m\u001b[4mnone:1\u001b[24m\u001b[39m\n",
      "\n",
      "\u001b[91mcaused by: \u001b[39mMethodError: no method matching convert_arguments(::MakieCore.PointBased, ::String)\n",
      "\u001b[0mClosest candidates are:\n",
      "\u001b[0m  convert_arguments(\u001b[91m::Type{<:MakieCore.Combined{Makie.band}}\u001b[39m, ::Any, \u001b[91m::Any\u001b[39m, \u001b[91m::Any\u001b[39m) at ~/.julia/packages/Makie/fEZv2/src/basic_recipes/band.jl:20\n",
      "\u001b[0m  convert_arguments(\u001b[91m::Type{<:MakieCore.Combined{Makie.rangebars}}\u001b[39m, ::Any, \u001b[91m::Any\u001b[39m) at ~/.julia/packages/Makie/fEZv2/src/basic_recipes/error_and_rangebars.jl:119\n",
      "\u001b[0m  convert_arguments(\u001b[91m::Type{<:MakieCore.Combined{Makie.rangebars}}\u001b[39m, ::Any, \u001b[91m::Any\u001b[39m, \u001b[91m::Any\u001b[39m) at ~/.julia/packages/Makie/fEZv2/src/basic_recipes/error_and_rangebars.jl:114\n",
      "\u001b[0m  ...\n",
      "Stacktrace:\n",
      "  [1] \u001b[0m\u001b[1mconvert_arguments\u001b[22m\u001b[0m\u001b[1m(\u001b[22m\u001b[90mT\u001b[39m::\u001b[0mType\u001b[90m{MakieCore.Text{Tuple{String}}}\u001b[39m, \u001b[90margs\u001b[39m::\u001b[0mString; \u001b[90mkw\u001b[39m::\u001b[0mBase.Pairs\u001b[90m{Symbol, Union{}, Tuple{}, NamedTuple{(), Tuple{}}}\u001b[39m\u001b[0m\u001b[1m)\u001b[22m\n",
      "\u001b[90m    @ \u001b[39m\u001b[35mMakie\u001b[39m \u001b[90m~/.julia/packages/Makie/fEZv2/src/\u001b[39m\u001b[90m\u001b[4mconversions.jl:10\u001b[24m\u001b[39m\n",
      "  [2] \u001b[0m\u001b[1mconvert_arguments\u001b[22m\u001b[0m\u001b[1m(\u001b[22m\u001b[90mT\u001b[39m::\u001b[0mType\u001b[90m{MakieCore.Text{Tuple{String}}}\u001b[39m, \u001b[90margs\u001b[39m::\u001b[0mString\u001b[0m\u001b[1m)\u001b[22m\n",
      "\u001b[90m    @ \u001b[39m\u001b[35mMakie\u001b[39m \u001b[90m~/.julia/packages/Makie/fEZv2/src/\u001b[39m\u001b[90m\u001b[4mconversions.jl:8\u001b[24m\u001b[39m\n",
      "  [3] \u001b[0m\u001b[1mplot!\u001b[22m\u001b[0m\u001b[1m(\u001b[22m\u001b[90mscene\u001b[39m::\u001b[0mMakie.Scene, \u001b[90mP\u001b[39m::\u001b[0mType\u001b[90m{MakieCore.Text}\u001b[39m, \u001b[90mattributes\u001b[39m::\u001b[0mMakieCore.Attributes, \u001b[90margs\u001b[39m::\u001b[0mObservables.Observable\u001b[90m{Any}\u001b[39m; \u001b[90mkw_attributes\u001b[39m::\u001b[0mBase.Pairs\u001b[90m{Symbol, Union{}, Tuple{}, NamedTuple{(), Tuple{}}}\u001b[39m\u001b[0m\u001b[1m)\u001b[22m\n",
      "\u001b[90m    @ \u001b[39m\u001b[35mMakie\u001b[39m \u001b[90m~/.julia/packages/Makie/fEZv2/src/\u001b[39m\u001b[90m\u001b[4minterfaces.jl:302\u001b[24m\u001b[39m\n",
      "  [4] \u001b[0m\u001b[1mplot!\u001b[22m\n",
      "\u001b[90m    @ \u001b[39m\u001b[90m~/.julia/packages/Makie/fEZv2/src/\u001b[39m\u001b[90m\u001b[4minterfaces.jl:288\u001b[24m\u001b[39m\u001b[90m [inlined]\u001b[39m\n",
      "  [5] \u001b[0m\u001b[1m#plot!#137\u001b[22m\n",
      "\u001b[90m    @ \u001b[39m\u001b[90m~/.julia/packages/Makie/fEZv2/src/\u001b[39m\u001b[90m\u001b[4minterfaces.jl:271\u001b[24m\u001b[39m\u001b[90m [inlined]\u001b[39m\n",
      "  [6] \u001b[0m\u001b[1mtext!\u001b[22m\u001b[0m\u001b[1m(\u001b[22m::\u001b[0mMakie.Scene, ::\u001b[0mVararg\u001b[90m{Any}\u001b[39m; \u001b[90mattributes\u001b[39m::\u001b[0mBase.Pairs\u001b[90m{Symbol, Any, NTuple{9, Symbol}, NamedTuple{(:textsize, :color, :position, :visible, :align, :rotation, :font, :markerspace, :inspectable), Tuple{Observables.Observable{Any}, Observables.Observable{Any}, Observables.Observable{GeometryBasics.Point2{Float64}}, Observables.Observable{Any}, Observables.Observable{Tuple{Symbol, Symbol}}, Observables.Observable{Float32}, Observables.Observable{Any}, Symbol, Bool}}}\u001b[39m\u001b[0m\u001b[1m)\u001b[22m\n",
      "\u001b[90m    @ \u001b[39m\u001b[36mMakieCore\u001b[39m \u001b[90m~/.julia/packages/MakieCore/8YGMv/src/\u001b[39m\u001b[90m\u001b[4mrecipes.jl:38\u001b[24m\u001b[39m\n",
      "  [7] \u001b[0m\u001b[1mMakie.MakieLayout.LineAxis\u001b[22m\u001b[0m\u001b[1m(\u001b[22m\u001b[90mparent\u001b[39m::\u001b[0mMakie.Scene; \u001b[90mkwargs\u001b[39m::\u001b[0mBase.Pairs\u001b[90m{Symbol, Observables.Observable, NTuple{36, Symbol}, NamedTuple{(:endpoints, :limits, :flipped, :ticklabelrotation, :ticklabelalign, :labelsize, :labelpadding, :ticklabelpad, :labelvisible, :label, :labelfont, :ticklabelfont, :ticklabelcolor, :labelcolor, :tickalign, :ticklabelspace, :ticks, :tickformat, :ticklabelsvisible, :ticksvisible, :spinevisible, :spinecolor, :spinewidth, :ticklabelsize, :trimspine, :ticksize, :reversed, :tickwidth, :tickcolor, :minorticksvisible, :minortickalign, :minorticksize, :minortickwidth, :minortickcolor, :minorticks, :scale), Tuple{Observables.Observable{Tuple{GeometryBasics.Point{2, Float32}, GeometryBasics.Point{2, Float32}}}, Observables.Observable{Tuple{Float32, Float32}}, Observables.Observable{Bool}, Observables.Observable{Float64}, Observables.Observable{Union{MakieCore.Automatic, Tuple{Symbol, Symbol}}}, Observables.Observable{Float64}, Observables.Observable{Float64}, Observables.Observable{Float64}, Observables.Observable{Bool}, Observables.Observable{Any}, Observables.Observable{FreeTypeAbstraction.FTFont}, Observables.Observable{FreeTypeAbstraction.FTFont}, Observables.Observable{ColorTypes.RGBA{Float32}}, Observables.Observable{ColorTypes.RGBA{Float32}}, Observables.Observable{Float64}, Observables.Observable{Union{MakieCore.Automatic, Float64}}, Observables.Observable{Any}, Observables.Observable{Any}, Observables.Observable{Bool}, Observables.Observable{Bool}, Observables.Observable{Bool}, Observables.Observable{ColorTypes.RGBA{Float32}}, Observables.Observable{Float64}, Observables.Observable{Float64}, Observables.Observable{Bool}, Observables.Observable{Float64}, Observables.Observable{Bool}, Observables.Observable{Float64}, Observables.Observable{ColorTypes.RGBA{Float32}}, Observables.Observable{Bool}, Observables.Observable{Float64}, Observables.Observable{Float64}, Observables.Observable{Float64}, Observables.Observable{ColorTypes.RGBA{Float32}}, Observables.Observable{Any}, Observables.Observable{Any}}}}\u001b[39m\u001b[0m\u001b[1m)\u001b[22m\n",
      "\u001b[90m    @ \u001b[39m\u001b[35mMakie.MakieLayout\u001b[39m \u001b[90m~/.julia/packages/Makie/fEZv2/src/makielayout/\u001b[39m\u001b[90m\u001b[4mlineaxis.jl:174\u001b[24m\u001b[39m\n",
      "  [8] \u001b[0m\u001b[1minitialize_block!\u001b[22m\u001b[0m\u001b[1m(\u001b[22m\u001b[90max\u001b[39m::\u001b[0mMakie.MakieLayout.Axis; \u001b[90mpalette\u001b[39m::\u001b[0mNothing\u001b[0m\u001b[1m)\u001b[22m\n",
      "\u001b[90m    @ \u001b[39m\u001b[35mMakie.MakieLayout\u001b[39m \u001b[90m~/.julia/packages/Makie/fEZv2/src/makielayout/blocks/\u001b[39m\u001b[90m\u001b[4maxis.jl:193\u001b[24m\u001b[39m\n",
      "  [9] \u001b[0m\u001b[1minitialize_block!\u001b[22m\u001b[0m\u001b[1m(\u001b[22m\u001b[90max\u001b[39m::\u001b[0mMakie.MakieLayout.Axis\u001b[0m\u001b[1m)\u001b[22m\n",
      "\u001b[90m    @ \u001b[39m\u001b[35mMakie.MakieLayout\u001b[39m \u001b[90m~/.julia/packages/Makie/fEZv2/src/makielayout/blocks/\u001b[39m\u001b[90m\u001b[4maxis.jl:21\u001b[24m\u001b[39m\n",
      " [10] \u001b[0m\u001b[1m_block\u001b[22m\u001b[0m\u001b[1m(\u001b[22m::\u001b[0mType\u001b[90m{Makie.MakieLayout.Axis}\u001b[39m, ::\u001b[0mMakie.Figure; \u001b[90mbbox\u001b[39m::\u001b[0mNothing, \u001b[90mkwargs\u001b[39m::\u001b[0mBase.Pairs\u001b[90m{Symbol, Union{}, Tuple{}, NamedTuple{(), Tuple{}}}\u001b[39m\u001b[0m\u001b[1m)\u001b[22m\n",
      "\u001b[90m    @ \u001b[39m\u001b[35mMakie.MakieLayout\u001b[39m \u001b[90m~/.julia/packages/Makie/fEZv2/src/makielayout/\u001b[39m\u001b[90m\u001b[4mblocks.jl:395\u001b[24m\u001b[39m\n",
      " [11] \u001b[0m\u001b[1m_block\u001b[22m\u001b[0m\u001b[1m(\u001b[22m::\u001b[0mType\u001b[90m{Makie.MakieLayout.Axis}\u001b[39m, ::\u001b[0mMakie.Figure\u001b[0m\u001b[1m)\u001b[22m\n",
      "\u001b[90m    @ \u001b[39m\u001b[35mMakie.MakieLayout\u001b[39m \u001b[90m~/.julia/packages/Makie/fEZv2/src/makielayout/\u001b[39m\u001b[90m\u001b[4mblocks.jl:292\u001b[24m\u001b[39m\n",
      " [12] \u001b[0m\u001b[1mMakie.MakieLayout.Axis\u001b[22m\u001b[0m\u001b[1m(\u001b[22m\u001b[90margs\u001b[39m::\u001b[0mMakie.Figure; \u001b[90mkwargs\u001b[39m::\u001b[0mBase.Pairs\u001b[90m{Symbol, Union{}, Tuple{}, NamedTuple{(), Tuple{}}}\u001b[39m\u001b[0m\u001b[1m)\u001b[22m\n",
      "\u001b[90m    @ \u001b[39m\u001b[35mMakie.MakieLayout\u001b[39m \u001b[90m~/.julia/packages/Makie/fEZv2/src/makielayout/\u001b[39m\u001b[90m\u001b[4mblocks.jl:269\u001b[24m\u001b[39m\n",
      " [13] \u001b[0m\u001b[1mMakie.MakieLayout.Axis\u001b[22m\u001b[0m\u001b[1m(\u001b[22m\u001b[90margs\u001b[39m::\u001b[0mMakie.Figure\u001b[0m\u001b[1m)\u001b[22m\n",
      "\u001b[90m    @ \u001b[39m\u001b[35mMakie.MakieLayout\u001b[39m \u001b[90m~/.julia/packages/Makie/fEZv2/src/makielayout/\u001b[39m\u001b[90m\u001b[4mblocks.jl:269\u001b[24m\u001b[39m\n",
      " [14] \u001b[0m\u001b[1mplot\u001b[22m\u001b[0m\u001b[1m(\u001b[22m\u001b[90mP\u001b[39m::\u001b[0mType\u001b[90m{MakieCore.Scatter}\u001b[39m, \u001b[90margs\u001b[39m::\u001b[0mUnitRange\u001b[90m{Int64}\u001b[39m; \u001b[90maxis\u001b[39m::\u001b[0mNamedTuple\u001b[90m{(), Tuple{}}\u001b[39m, \u001b[90mfigure\u001b[39m::\u001b[0mNamedTuple\u001b[90m{(), Tuple{}}\u001b[39m, \u001b[90mkw_attributes\u001b[39m::\u001b[0mBase.Pairs\u001b[90m{Symbol, Union{}, Tuple{}, NamedTuple{(), Tuple{}}}\u001b[39m\u001b[0m\u001b[1m)\u001b[22m\n",
      "\u001b[90m    @ \u001b[39m\u001b[35mMakie\u001b[39m \u001b[90m~/.julia/packages/Makie/fEZv2/src/\u001b[39m\u001b[90m\u001b[4mfigureplotting.jl:30\u001b[24m\u001b[39m\n",
      " [15] \u001b[0m\u001b[1mplot\u001b[22m\n",
      "\u001b[90m    @ \u001b[39m\u001b[90m~/.julia/packages/Makie/fEZv2/src/\u001b[39m\u001b[90m\u001b[4mfigureplotting.jl:16\u001b[24m\u001b[39m\u001b[90m [inlined]\u001b[39m\n",
      " [16] \u001b[0m\u001b[1m#scatter#43\u001b[22m\n",
      "\u001b[90m    @ \u001b[39m\u001b[90m~/.julia/packages/MakieCore/8YGMv/src/\u001b[39m\u001b[90m\u001b[4mrecipes.jl:34\u001b[24m\u001b[39m\u001b[90m [inlined]\u001b[39m\n",
      " [17] \u001b[0m\u001b[1mscatter\u001b[22m\n",
      "\u001b[90m    @ \u001b[39m\u001b[90m~/.julia/packages/MakieCore/8YGMv/src/\u001b[39m\u001b[90m\u001b[4mrecipes.jl:34\u001b[24m\u001b[39m\u001b[90m [inlined]\u001b[39m\n",
      " [18] \u001b[0m\u001b[1m_precompile_\u001b[22m\u001b[0m\u001b[1m(\u001b[22m\u001b[0m\u001b[1m)\u001b[22m\n",
      "\u001b[90m    @ \u001b[39m\u001b[35mMakie\u001b[39m \u001b[90m~/.julia/packages/Makie/fEZv2/src/\u001b[39m\u001b[90m\u001b[4mprecompiles.jl:3\u001b[24m\u001b[39m\n",
      " [19] top-level scope\n",
      "\u001b[90m    @ \u001b[39m\u001b[90m~/.julia/packages/Makie/fEZv2/src/\u001b[39m\u001b[90m\u001b[4mMakie.jl:303\u001b[24m\u001b[39m\n",
      " [20] \u001b[0m\u001b[1minclude\u001b[22m\n",
      "\u001b[90m    @ \u001b[39m\u001b[90m./\u001b[39m\u001b[90m\u001b[4mBase.jl:418\u001b[24m\u001b[39m\u001b[90m [inlined]\u001b[39m\n",
      " [21] \u001b[0m\u001b[1minclude_package_for_output\u001b[22m\u001b[0m\u001b[1m(\u001b[22m\u001b[90mpkg\u001b[39m::\u001b[0mBase.PkgId, \u001b[90minput\u001b[39m::\u001b[0mString, \u001b[90mdepot_path\u001b[39m::\u001b[0mVector\u001b[90m{String}\u001b[39m, \u001b[90mdl_load_path\u001b[39m::\u001b[0mVector\u001b[90m{String}\u001b[39m, \u001b[90mload_path\u001b[39m::\u001b[0mVector\u001b[90m{String}\u001b[39m, \u001b[90mconcrete_deps\u001b[39m::\u001b[0mVector\u001b[90m{Pair{Base.PkgId, UInt64}}\u001b[39m, \u001b[90msource\u001b[39m::\u001b[0mString\u001b[0m\u001b[1m)\u001b[22m\n",
      "\u001b[90m    @ \u001b[39m\u001b[90mBase\u001b[39m \u001b[90m./\u001b[39m\u001b[90m\u001b[4mloading.jl:1318\u001b[24m\u001b[39m\n",
      " [22] top-level scope\n",
      "\u001b[90m    @ \u001b[39m\u001b[90m\u001b[4mnone:1\u001b[24m\u001b[39m\n",
      " [23] \u001b[0m\u001b[1meval\u001b[22m\n",
      "\u001b[90m    @ \u001b[39m\u001b[90m./\u001b[39m\u001b[90m\u001b[4mboot.jl:373\u001b[24m\u001b[39m\u001b[90m [inlined]\u001b[39m\n",
      " [24] \u001b[0m\u001b[1meval\u001b[22m\u001b[0m\u001b[1m(\u001b[22m\u001b[90mx\u001b[39m::\u001b[0mExpr\u001b[0m\u001b[1m)\u001b[22m\n",
      "\u001b[90m    @ \u001b[39m\u001b[90mBase.MainInclude\u001b[39m \u001b[90m./\u001b[39m\u001b[90m\u001b[4mclient.jl:453\u001b[24m\u001b[39m\n",
      " [25] top-level scope\n",
      "\u001b[90m    @ \u001b[39m\u001b[90m\u001b[4mnone:1\u001b[24m\u001b[39m\n",
      "\u001b[91m\u001b[1mERROR: \u001b[22m\u001b[39mLoadError: Failed to precompile Makie [ee78f7c6-11fb-53f2-987a-cfe4a2b5a57a] to /Users/masanorikanamaru/.julia/compiled/v1.7/Makie/jl_nCS99r.\n",
      "Stacktrace:\n",
      "  [1] \u001b[0m\u001b[1merror\u001b[22m\u001b[0m\u001b[1m(\u001b[22m\u001b[90ms\u001b[39m::\u001b[0mString\u001b[0m\u001b[1m)\u001b[22m\n",
      "\u001b[90m    @ \u001b[39m\u001b[90mBase\u001b[39m \u001b[90m./\u001b[39m\u001b[90m\u001b[4merror.jl:33\u001b[24m\u001b[39m\n",
      "  [2] \u001b[0m\u001b[1mcompilecache\u001b[22m\u001b[0m\u001b[1m(\u001b[22m\u001b[90mpkg\u001b[39m::\u001b[0mBase.PkgId, \u001b[90mpath\u001b[39m::\u001b[0mString, \u001b[90minternal_stderr\u001b[39m::\u001b[0mIO, \u001b[90minternal_stdout\u001b[39m::\u001b[0mIO, \u001b[90mignore_loaded_modules\u001b[39m::\u001b[0mBool\u001b[0m\u001b[1m)\u001b[22m\n",
      "\u001b[90m    @ \u001b[39m\u001b[90mBase\u001b[39m \u001b[90m./\u001b[39m\u001b[90m\u001b[4mloading.jl:1466\u001b[24m\u001b[39m\n",
      "  [3] \u001b[0m\u001b[1mcompilecache\u001b[22m\u001b[0m\u001b[1m(\u001b[22m\u001b[90mpkg\u001b[39m::\u001b[0mBase.PkgId, \u001b[90mpath\u001b[39m::\u001b[0mString\u001b[0m\u001b[1m)\u001b[22m\n",
      "\u001b[90m    @ \u001b[39m\u001b[90mBase\u001b[39m \u001b[90m./\u001b[39m\u001b[90m\u001b[4mloading.jl:1410\u001b[24m\u001b[39m\n",
      "  [4] \u001b[0m\u001b[1m_require\u001b[22m\u001b[0m\u001b[1m(\u001b[22m\u001b[90mpkg\u001b[39m::\u001b[0mBase.PkgId\u001b[0m\u001b[1m)\u001b[22m\n",
      "\u001b[90m    @ \u001b[39m\u001b[90mBase\u001b[39m \u001b[90m./\u001b[39m\u001b[90m\u001b[4mloading.jl:1120\u001b[24m\u001b[39m\n",
      "  [5] \u001b[0m\u001b[1mrequire\u001b[22m\u001b[0m\u001b[1m(\u001b[22m\u001b[90muuidkey\u001b[39m::\u001b[0mBase.PkgId\u001b[0m\u001b[1m)\u001b[22m\n",
      "\u001b[90m    @ \u001b[39m\u001b[90mBase\u001b[39m \u001b[90m./\u001b[39m\u001b[90m\u001b[4mloading.jl:1013\u001b[24m\u001b[39m\n",
      "  [6] \u001b[0m\u001b[1mrequire\u001b[22m\u001b[0m\u001b[1m(\u001b[22m\u001b[90minto\u001b[39m::\u001b[0mModule, \u001b[90mmod\u001b[39m::\u001b[0mSymbol\u001b[0m\u001b[1m)\u001b[22m\n",
      "\u001b[90m    @ \u001b[39m\u001b[90mBase\u001b[39m \u001b[90m./\u001b[39m\u001b[90m\u001b[4mloading.jl:997\u001b[24m\u001b[39m\n",
      "  [7] \u001b[0m\u001b[1minclude\u001b[22m\n",
      "\u001b[90m    @ \u001b[39m\u001b[90m./\u001b[39m\u001b[90m\u001b[4mBase.jl:418\u001b[24m\u001b[39m\u001b[90m [inlined]\u001b[39m\n",
      "  [8] \u001b[0m\u001b[1minclude_package_for_output\u001b[22m\u001b[0m\u001b[1m(\u001b[22m\u001b[90mpkg\u001b[39m::\u001b[0mBase.PkgId, \u001b[90minput\u001b[39m::\u001b[0mString, \u001b[90mdepot_path\u001b[39m::\u001b[0mVector\u001b[90m{String}\u001b[39m, \u001b[90mdl_load_path\u001b[39m::\u001b[0mVector\u001b[90m{String}\u001b[39m, \u001b[90mload_path\u001b[39m::\u001b[0mVector\u001b[90m{String}\u001b[39m, \u001b[90mconcrete_deps\u001b[39m::\u001b[0mVector\u001b[90m{Pair{Base.PkgId, UInt64}}\u001b[39m, \u001b[90msource\u001b[39m::\u001b[0mNothing\u001b[0m\u001b[1m)\u001b[22m\n",
      "\u001b[90m    @ \u001b[39m\u001b[90mBase\u001b[39m \u001b[90m./\u001b[39m\u001b[90m\u001b[4mloading.jl:1318\u001b[24m\u001b[39m\n",
      "  [9] top-level scope\n",
      "\u001b[90m    @ \u001b[39m\u001b[90m\u001b[4mnone:1\u001b[24m\u001b[39m\n",
      " [10] \u001b[0m\u001b[1meval\u001b[22m\n",
      "\u001b[90m    @ \u001b[39m\u001b[90m./\u001b[39m\u001b[90m\u001b[4mboot.jl:373\u001b[24m\u001b[39m\u001b[90m [inlined]\u001b[39m\n",
      " [11] \u001b[0m\u001b[1meval\u001b[22m\u001b[0m\u001b[1m(\u001b[22m\u001b[90mx\u001b[39m::\u001b[0mExpr\u001b[0m\u001b[1m)\u001b[22m\n",
      "\u001b[90m    @ \u001b[39m\u001b[90mBase.MainInclude\u001b[39m \u001b[90m./\u001b[39m\u001b[90m\u001b[4mclient.jl:453\u001b[24m\u001b[39m\n",
      " [12] top-level scope\n",
      "\u001b[90m    @ \u001b[39m\u001b[90m\u001b[4mnone:1\u001b[24m\u001b[39m\n",
      "in expression starting at /Users/masanorikanamaru/.julia/packages/GLMakie/vwLnZ/src/GLMakie.jl:1\n"
     ]
    },
    {
     "ename": "LoadError",
     "evalue": "Failed to precompile GLMakie [e9467ef8-e4e7-5192-8a1a-b1aee30e663a] to /Users/masanorikanamaru/.julia/compiled/v1.7/GLMakie/jl_m50p56.",
     "output_type": "error",
     "traceback": [
      "Failed to precompile GLMakie [e9467ef8-e4e7-5192-8a1a-b1aee30e663a] to /Users/masanorikanamaru/.julia/compiled/v1.7/GLMakie/jl_m50p56.",
      "",
      "Stacktrace:",
      " [1] error(s::String)",
      "   @ Base ./error.jl:33",
      " [2] compilecache(pkg::Base.PkgId, path::String, internal_stderr::IO, internal_stdout::IO, ignore_loaded_modules::Bool)",
      "   @ Base ./loading.jl:1466",
      " [3] compilecache(pkg::Base.PkgId, path::String)",
      "   @ Base ./loading.jl:1410",
      " [4] _require(pkg::Base.PkgId)",
      "   @ Base ./loading.jl:1120",
      " [5] require(uuidkey::Base.PkgId)",
      "   @ Base ./loading.jl:1013",
      " [6] require(into::Module, mod::Symbol)",
      "   @ Base ./loading.jl:997",
      " [7] eval",
      "   @ ./boot.jl:373 [inlined]",
      " [8] include_string(mapexpr::typeof(REPL.softscope), mod::Module, code::String, filename::String)",
      "   @ Base ./loading.jl:1196"
     ]
    }
   ],
   "source": [
    "using DataFrames\n",
    "using GLMakie\n",
    "\n",
    "using Revise\n",
    "using Astroshaper\n",
    "import SPICE"
   ]
  },
  {
   "cell_type": "code",
   "execution_count": 6,
   "metadata": {},
   "outputs": [],
   "source": [
    "meta_kernel = \"/Users/masanorikanamaru/Dropbox/spice/hera/kernels/mk/hera_study_PO_EMA_2024.tm\"\n",
    "\n",
    "SPICE.furnsh(meta_kernel)"
   ]
  },
  {
   "cell_type": "code",
   "execution_count": 7,
   "metadata": {},
   "outputs": [
    {
     "data": {
      "text/plain": [
       "8.554824691849957e8:180.0:8.556552691849957e8"
      ]
     },
     "metadata": {},
     "output_type": "display_data"
    }
   ],
   "source": [
    "et_start = SPICE.utc2et(\"2027-02-09T22:00:00\")\n",
    "et_end   = SPICE.utc2et(\"2027-02-11T22:00:00\")\n",
    "step     = 3600/20\n",
    "\n",
    "et_range = et_start:step:et_end"
   ]
  },
  {
   "cell_type": "code",
   "execution_count": 8,
   "metadata": {},
   "outputs": [
    {
     "data": {
      "text/plain": [
       "spkpos"
      ]
     },
     "metadata": {},
     "output_type": "display_data"
    }
   ],
   "source": [
    "\"\"\"\n",
    "Obtain a dataframe of ephemerides \n",
    "\n",
    "# Arguments\n",
    "- `targ`   : Target body name\n",
    "- `et`     : Observer epoch\n",
    "- `ref`    : Reference frame of output position vector\n",
    "- `abcorr` : Aberration correction flag\n",
    "- `obs`    : Observing body name\n",
    "\"\"\"\n",
    "function spkpos(targ, ets::AbstractVector, ref, abcorr, obs)\n",
    "    df = DataFrame(et=Float64[], x=Float64[], y=Float64[], z=Float64[], lt=Float64[])\n",
    "    for et in ets\n",
    "        pos, lt = SPICE.spkpos(targ, et, ref, abcorr, obs)  # [km], [s]\n",
    "        push!(df, (et, pos..., lt))\n",
    "    end\n",
    "    df\n",
    "end"
   ]
  },
  {
   "cell_type": "code",
   "execution_count": 6,
   "metadata": {},
   "outputs": [
    {
     "ename": "UndefVarError",
     "evalue": "UndefVarError: spkpos not defined",
     "output_type": "error",
     "traceback": [
      "UndefVarError: spkpos not defined\n",
      "\n",
      "Stacktrace:\n",
      " [1] top-level scope\n",
      "   @ ~/Dropbox/Mac/Documents/GitHub/Astroshaper/notebooks/二重小惑星系_20221005.ipynb:1"
     ]
    }
   ],
   "source": [
    "pos_hera_d1 = spkpos(\"HERA\",      et_range, \"DIDYMOS_FIXED\", \"None\", \"DIDYMOS\")\n",
    "pos_d2_d1   = spkpos(\"DIMORPHOS\", et_range, \"DIDYMOS_FIXED\", \"None\", \"DIDYMOS\");\n",
    "\n",
    "pos_d2_d1   = spkpos(\"DIMORPHOS\", et_range, \"DIMORPHOS_FIXED\", \"None\", \"DIDYMOS\");"
   ]
  },
  {
   "cell_type": "code",
   "execution_count": 10,
   "metadata": {},
   "outputs": [
    {
     "ename": "SPICE.SpiceError",
     "evalue": "At epoch 8.5548246918500E+08 TDB (2027 FEB 09 22:01:09.184 TDB), there is insufficient information available to transform from reference frame -999000 (HERA_SPACECRAFT) to reference frame -658030 (DIDYMOS_FIXED). HERA_SPACECRAFT is a CK frame; a CK file containing data for instrument or structure -999000 at the epoch shown above, as well as a corresponding SCLK kernel, must be loaded in order to use this frame. Frame DIDYMOS_FIXED could be transformed to frame 1 (J2000). Failure to find required CK data could be due to one or more CK files not having been loaded, or to the epoch shown above lying within a coverage gap or beyond the coverage bounds of the loaded CK files. It is also possible that no loaded CK file has required angular velocity data for the input epoch, even if a loaded CK does have attitude data for that epoch. You can use CKBRIEF with the -dump option to display coverage intervals of a CK file.",
     "output_type": "error",
     "traceback": [
      "At epoch 8.5548246918500E+08 TDB (2027 FEB 09 22:01:09.184 TDB), there is insufficient information available to transform from reference frame -999000 (HERA_SPACECRAFT) to reference frame -658030 (DIDYMOS_FIXED). HERA_SPACECRAFT is a CK frame; a CK file containing data for instrument or structure -999000 at the epoch shown above, as well as a corresponding SCLK kernel, must be loaded in order to use this frame. Frame DIDYMOS_FIXED could be transformed to frame 1 (J2000). Failure to find required CK data could be due to one or more CK files not having been loaded, or to the epoch shown above lying within a coverage gap or beyond the coverage bounds of the loaded CK files. It is also possible that no loaded CK file has required angular velocity data for the input epoch, even if a loaded CK does have attitude data for that epoch. You can use CKBRIEF with the -dump option to display coverage intervals of a CK file.\n",
      "\n",
      "Stacktrace:\n",
      " [1] handleerror()\n",
      "   @ SPICE ~/.julia/packages/SPICE/xNciS/src/SPICE.jl:30\n",
      " [2] pxform(from::String, to::String, et::Float64)\n",
      "   @ SPICE ~/.julia/packages/SPICE/xNciS/src/p.jl:783\n",
      " [3] #9\n",
      "   @ ./none:0 [inlined]\n",
      " [4] iterate\n",
      "   @ ./generator.jl:47 [inlined]\n",
      " [5] collect(itr::Base.Generator{StepRangeLen{Float64, Base.TwicePrecision{Float64}, Base.TwicePrecision{Float64}, Int64}, var\"#9#10\"})\n",
      "   @ Base ./array.jl:787\n",
      " [6] top-level scope\n",
      "   @ ~/Dropbox/Mac/Documents/GitHub/Astroshaper/notebooks/二重小惑星系_20221005.ipynb:1"
     ]
    }
   ],
   "source": [
    "mat_H2D = [SPICE.pxform(\"HERA_SPACECRAFT\", \"DIDYMOS_FIXED\", et) for et in et_range];"
   ]
  },
  {
   "cell_type": "code",
   "execution_count": 9,
   "metadata": {},
   "outputs": [],
   "source": []
  },
  {
   "cell_type": "code",
   "execution_count": 17,
   "metadata": {},
   "outputs": [
    {
     "ename": "ErrorException",
     "evalue": "`Makie.convert_arguments` for the plot type Scatter{Tuple{Int64, Int64, Int64}} and its conversion trait PointBased() was unsuccessful.\n\nThe signature that could not be converted was:\n::Int64, ::Int64, ::Int64\n\nMakie needs to convert all plot input arguments to types that can be consumed by the backends (typically Arrays with Float32 elements).\nYou can define a method for `Makie.convert_arguments` (a type recipe) for these types or their supertypes to make this set of arguments convertible (See http://makie.juliaplots.org/stable/documentation/recipes/index.html).\n\nAlternatively, you can define `Makie.convert_single_argument` for single arguments which have types that are unknown to Makie but which can be converted to known types and fed back to the conversion pipeline.\n",
     "output_type": "error",
     "traceback": [
      "`Makie.convert_arguments` for the plot type Scatter{Tuple{Int64, Int64, Int64}} and its conversion trait PointBased() was unsuccessful.\n",
      "\n",
      "The signature that could not be converted was:\n",
      "::Int64, ::Int64, ::Int64\n",
      "\n",
      "Makie needs to convert all plot input arguments to types that can be consumed by the backends (typically Arrays with Float32 elements).\n",
      "You can define a method for `Makie.convert_arguments` (a type recipe) for these types or their supertypes to make this set of arguments convertible (See http://makie.juliaplots.org/stable/documentation/recipes/index.html).\n",
      "\n",
      "Alternatively, you can define `Makie.convert_single_argument` for single arguments which have types that are unknown to Makie but which can be converted to known types and fed back to the conversion pipeline.\n",
      "\n",
      "\n",
      "Stacktrace:\n",
      "  [1] error(s::String)\n",
      "    @ Base ./error.jl:35\n",
      "  [2] convert_arguments(::Type{Scatter{Tuple{Int64, Int64, Int64}}}, ::Int64, ::Vararg{Int64}; kw::Base.Pairs{Symbol, Union{}, Tuple{}, NamedTuple{(), Tuple{}}})\n",
      "    @ Makie ~/.julia/packages/Makie/fEZv2/src/conversions.jl:17\n",
      "  [3] convert_arguments(::Type{Scatter{Tuple{Int64, Int64, Int64}}}, ::Int64, ::Int64, ::Int64)\n",
      "    @ Makie ~/.julia/packages/Makie/fEZv2/src/conversions.jl:7\n",
      "  [4] plot!(::Scene, ::Type{Scatter}, ::Attributes, ::Int64, ::Vararg{Int64}; kw_attributes::Base.Pairs{Symbol, Union{}, Tuple{}, NamedTuple{(), Tuple{}}})\n",
      "    @ Makie ~/.julia/packages/Makie/fEZv2/src/interfaces.jl:302\n",
      "  [5] plot!(::Scene, ::Type{Scatter}, ::Attributes, ::Int64, ::Int64, ::Int64)\n",
      "    @ Makie ~/.julia/packages/Makie/fEZv2/src/interfaces.jl:287\n",
      "  [6] plot!(::Axis3, ::Type{Scatter}, ::Attributes, ::Int64, ::Vararg{Int64}; kw_attributes::Base.Pairs{Symbol, Union{}, Tuple{}, NamedTuple{(), Tuple{}}})\n",
      "    @ Makie.MakieLayout ~/.julia/packages/Makie/fEZv2/src/makielayout/blocks/axis3d.jl:280\n",
      "  [7] plot!(::Axis3, ::Type{Scatter}, ::Attributes, ::Int64, ::Int64, ::Int64)\n",
      "    @ Makie.MakieLayout ~/.julia/packages/Makie/fEZv2/src/makielayout/blocks/axis3d.jl:270\n",
      "  [8] plot!(::Type{Scatter}, ::Axis3, ::Int64, ::Vararg{Int64}; kw_attributes::Base.Pairs{Symbol, Union{}, Tuple{}, NamedTuple{(), Tuple{}}})\n",
      "    @ Makie.MakieLayout ~/.julia/packages/Makie/fEZv2/src/makielayout/blocks/axis3d.jl:288\n",
      "  [9] plot!(::Type{Scatter}, ::Axis3, ::Int64, ::Int64, ::Int64)\n",
      "    @ Makie.MakieLayout ~/.julia/packages/Makie/fEZv2/src/makielayout/blocks/axis3d.jl:286\n",
      " [10] plot!(::Type{Scatter}, ::Int64, ::Vararg{Int64}; kw_attributes::Base.Pairs{Symbol, Union{}, Tuple{}, NamedTuple{(), Tuple{}}})\n",
      "    @ Makie ~/.julia/packages/Makie/fEZv2/src/figureplotting.jl:46\n",
      " [11] plot!(::Type{Scatter}, ::Int64, ::Int64, ::Int64)\n",
      "    @ Makie ~/.julia/packages/Makie/fEZv2/src/figureplotting.jl:43\n",
      " [12] scatter!(::Int64, ::Vararg{Int64}; attributes::Base.Pairs{Symbol, Union{}, Tuple{}, NamedTuple{(), Tuple{}}})\n",
      "    @ MakieCore ~/.julia/packages/MakieCore/oBlaS/src/recipes.jl:37\n",
      " [13] scatter!(::Int64, ::Vararg{Int64})\n",
      "    @ MakieCore ~/.julia/packages/MakieCore/oBlaS/src/recipes.jl:36\n",
      " [14] top-level scope\n",
      "    @ ~/Dropbox/Mac/Documents/GitHub/Astroshaper/notebooks/二重小惑星系_20221005.ipynb:4"
     ]
    }
   ],
   "source": [
    "fig = Figure()\n",
    "ax = Axis3(fig[1, 1], aspect=:data)\n",
    "\n",
    "scatter!(0,0,0)\n",
    "scatter!(pos_hera_d1.x, pos_hera_d1.y, pos_hera_d1.z, color=:orange)\n",
    "scatter!(pos_d2_d1.x, pos_d2_d1.y, pos_d2_d1.z, color=:skyblue)\n",
    "\n",
    "fig"
   ]
  },
  {
   "cell_type": "code",
   "execution_count": 20,
   "metadata": {},
   "outputs": [],
   "source": []
  },
  {
   "cell_type": "code",
   "execution_count": null,
   "metadata": {},
   "outputs": [],
   "source": []
  },
  {
   "cell_type": "code",
   "execution_count": null,
   "metadata": {},
   "outputs": [],
   "source": []
  },
  {
   "cell_type": "code",
   "execution_count": null,
   "metadata": {},
   "outputs": [],
   "source": []
  },
  {
   "cell_type": "code",
   "execution_count": null,
   "metadata": {},
   "outputs": [],
   "source": []
  },
  {
   "cell_type": "markdown",
   "metadata": {},
   "source": [
    "## 66391 Moshup (1999 KW4)\n",
    "\n",
    "- [JPL database](https://ssd.jpl.nasa.gov/tools/sbdb_lookup.html#/?sstr=1999KW4&view=VOSP)"
   ]
  },
  {
   "cell_type": "code",
   "execution_count": 34,
   "metadata": {},
   "outputs": [
    {
     "data": {
      "text/plain": []
     },
     "execution_count": 34,
     "metadata": {},
     "output_type": "execute_result"
    },
    {
     "name": "stdout",
     "output_type": "stream",
     "text": [
      "--------------------\n",
      "  Orbital elements  \n",
      "--------------------\n",
      "    Semi-mojor axis         : a  = 0.6423718937095335 [AU]\n",
      "    Eccentricity            : e  = 0.6883626074960387 [-]\n",
      "    Lon. of ascending node  : Ω  = 244.89998977091534 [deg]\n",
      "    Argument of periapsis   : ω  = 192.6452855048569 [deg]\n",
      "    Inclination             : I  = 38.87892427076324 [deg]\n",
      "    Periapsis passage time  : tₚ = -8.239849462571867e6 [sec]\n",
      "    Mean anomaly            : Φ  = 182.5701683309563 [deg]\n",
      "--------------------\n",
      "  Other parameters  \n",
      "--------------------\n",
      "    Gravitational parameter : μ = 1.32712440018e20 [m^3/s^2]\n",
      "    Mean motion             : n = 1.9143629523143177 [deg/day]\n",
      "    Orbital period          : P = 188.05211392374034 [day]\n",
      "------------------\n",
      "  Time-variables  \n",
      "------------------\n",
      "    Time                    : t  = 0.0 [sec]\n",
      "    Eccentric anomaly       : u  = 181.5223575891701 [deg]\n",
      "    True anomaly            : ν  = 180.6540778308607 [deg]\n",
      "    Position                : r  = [-1.62213450924202e11, -1.8518786598129344e9, 0.0] [m]\n",
      "    Velocity                : v  = [584.8433651173145, -15962.501452684051, 0.0] [m/s]\n",
      "    Solar irradiation       : F☉ = 1161.6390244874326 [W/m²]\n"
     ]
    }
   ],
   "source": [
    "params_orbit = Dict()\n",
    "\n",
    "params_orbit[:a] = 0.6423718937095335  # semi-mojor axis [AU]\n",
    "params_orbit[:e] = 0.6883626074960387  # eccentricity\n",
    "params_orbit[:I] = 38.87892427076324   # inclination [deg]\n",
    "params_orbit[:Ω] = 244.8999897709153   # longitude of the ascending node [deg]\n",
    "params_orbit[:ω] = 192.6452855048569   # argument of periapsis [deg]\n",
    "params_orbit[:Φ] = 182.5701683309563   # mean anomaly [deg]\n",
    "\n",
    "params_orbit[:μ] = GM☉\n",
    "\n",
    "orbit1 = OrbitalElements(params_orbit)"
   ]
  },
  {
   "cell_type": "code",
   "execution_count": 36,
   "metadata": {},
   "outputs": [
    {
     "data": {
      "text/plain": []
     },
     "execution_count": 36,
     "metadata": {},
     "output_type": "execute_result"
    },
    {
     "name": "stdout",
     "output_type": "stream",
     "text": [
      "-------------------\n",
      "  Spin parameters  \n",
      "-------------------\n",
      "Right ascension (RA) : α = 22.298395064751112 [deg]\n",
      "Declination (Dec)    : δ = -67.747791152182 [deg]\n",
      "Ecliptic longitude   : λ = 326.0 [deg]\n",
      "Ecliptic latitude    : β = -65.0 [deg]\n",
      "Obliquity            : ε = 147.3267557672455 [deg]\n",
      "Spin period          : P = 2.7645000000000004 [hours]\n",
      "Spin rate            : ω = 0.0006313363183195259 [rad/sec]\n",
      "Vernal equinox lon.  : γ = 125.15365519198035 [deg]\n",
      "                           (longitude from the periheion direction)\n",
      "Time                 : t  = 0.0 [sec]\n",
      "Initial spin phase   : ϕ₀ = 0.0 [deg]\n",
      "Spin phase           : ϕ  = 0.0 [deg]\n"
     ]
    }
   ],
   "source": [
    "params_spin = Dict()\n",
    "params_spin[:λ] = 326.\n",
    "params_spin[:β] = -65.\n",
    "params_spin[:P] = 2.7645\n",
    "\n",
    "spin1 = SpinParams(params_spin, orbit1)"
   ]
  },
  {
   "cell_type": "code",
   "execution_count": 37,
   "metadata": {},
   "outputs": [],
   "source": [
    "# params_thermo = ParamsThermo(\n",
    "#     A_B   = 0.04,\n",
    "#     A_TH  = 0.,\n",
    "#     k     = 0.1,\n",
    "#     ρ     = 1270.,\n",
    "#     Cp    = 600.,\n",
    "#     ϵ     = 1.,\n",
    "#     P     = spin1.T,\n",
    "#     Δt    = spin1.T/72,\n",
    "#     t_bgn = 0.,\n",
    "#     # t_end = spin.T*10,\n",
    "#     t_end = orbit1.T,\n",
    "#     Δz    = 0.015,\n",
    "#     z_max = 0.6,\n",
    "# )"
   ]
  },
  {
   "cell_type": "markdown",
   "metadata": {},
   "source": [
    "## Satellite Squannit\n",
    "\n",
    "- [JPL database](https://ssd.jpl.nasa.gov/tools/sbdb_lookup.html#/?sstr=1999KW4&view=VOSP)"
   ]
  },
  {
   "cell_type": "code",
   "execution_count": 38,
   "metadata": {},
   "outputs": [
    {
     "data": {
      "text/plain": []
     },
     "execution_count": 38,
     "metadata": {},
     "output_type": "execute_result"
    },
    {
     "name": "stdout",
     "output_type": "stream",
     "text": [
      "--------------------\n",
      "  Orbital elements  \n",
      "--------------------\n",
      "    Semi-mojor axis         : a  = 1.7032328067237854e-8 [AU]\n",
      "    Eccentricity            : e  = 0.0004 [-]\n",
      "    Lon. of ascending node  : Ω  = 105.4 [deg]\n",
      "    Argument of periapsis   : ω  = 319.7 [deg]\n",
      "    Inclination             : I  = 156.1 [deg]\n",
      "    Periapsis passage time  : tₚ = 0.0 [sec]\n",
      "    Mean anomaly            : Φ  = -0.0 [deg]\n",
      "--------------------\n",
      "  Other parameters  \n",
      "--------------------\n",
      "    Gravitational parameter : μ = 166.051187528 [m^3/s^2]\n",
      "    Mean motion             : n = 495.97322554307357 [deg/day]\n",
      "    Orbital period          : P = 0.725845633311783 [day]\n",
      "------------------\n",
      "  Time-variables  \n",
      "------------------\n",
      "    Time                    : t  = 0.0 [sec]\n",
      "    Eccentric anomaly       : u  = 0.0 [deg]\n",
      "    True anomaly            : ν  = 0.0 [deg]\n",
      "    Position                : r  = [2546.9808000000003, 0.0, 0.0] [m]\n",
      "    Velocity                : v  = [-0.0, 0.25538477268155224, 0.0] [m/s]\n",
      "    Solar irradiation       : F☉ = 4.71248712997923e18 [W/m²]\n"
     ]
    }
   ],
   "source": [
    "params_orbit = Dict()\n",
    "\n",
    "params_orbit[:a] = 2548 / AU  # semi-mojor axis [AU]\n",
    "params_orbit[:e] = 0.0004     # eccentricity\n",
    "params_orbit[:I] = 156.1      # inclination [deg]\n",
    "params_orbit[:Ω] = 105.4      # longitude of the ascending node [deg]\n",
    "params_orbit[:ω] = 319.7      # argument of periapsis [deg]\n",
    "params_orbit[:tₚ] = 0.        # periapsis passage time [sec]\n",
    "\n",
    "m₁ = 2.353e12\n",
    "m₂ = 0.135e12\n",
    "params_orbit[:μ] = G * (m₁ + m₂)\n",
    "\n",
    "orbit2 = OrbitalElements(params_orbit)"
   ]
  },
  {
   "cell_type": "code",
   "execution_count": 42,
   "metadata": {},
   "outputs": [
    {
     "data": {
      "text/plain": []
     },
     "execution_count": 42,
     "metadata": {},
     "output_type": "execute_result"
    },
    {
     "name": "stdout",
     "output_type": "stream",
     "text": [
      "-------------------\n",
      "  Spin parameters  \n",
      "-------------------\n",
      "Right ascension (RA) : α = 15.829825508029357 [deg]\n",
      "Declination (Dec)    : δ = -66.1369604954399 [deg]\n",
      "Ecliptic longitude   : λ = 326.0 [deg]\n",
      "Ecliptic latitude    : β = -62.0 [deg]\n",
      "Obliquity            : ε = 147.00101898240996 [deg]\n",
      "Spin period          : P = 17.42029519948279 [hours]\n",
      "Spin rate            : ω = 0.00010018941883637818 [rad/sec]\n",
      "Vernal equinox lon.  : γ = 119.6521850206004 [deg]\n",
      "                           (longitude from the periheion direction)\n",
      "Time                 : t  = 0.0 [sec]\n",
      "Initial spin phase   : ϕ₀ = 0.0 [deg]\n",
      "Spin phase           : ϕ  = 0.0 [deg]\n"
     ]
    }
   ],
   "source": [
    "params_spin = Dict()\n",
    "params_spin[:λ] = 326.\n",
    "params_spin[:β] = -62.\n",
    "params_spin[:P] = SPICE.convrt(orbit2.P, \"seconds\", \"hours\")\n",
    "\n",
    "spin2 = SpinParams(params_spin, orbit1)"
   ]
  },
  {
   "cell_type": "code",
   "execution_count": 55,
   "metadata": {},
   "outputs": [
    {
     "data": {
      "text/plain": []
     },
     "execution_count": 55,
     "metadata": {},
     "output_type": "execute_result"
    },
    {
     "name": "stdout",
     "output_type": "stream",
     "text": [
      "Thermophysical parameters\n",
      "-------------------------\n",
      "A_B   : 0.04\n",
      "A_TH  : 0.0\n",
      "k     : 0.1\n",
      "ρ     : 1270.0\n",
      "Cp    : 600.0\n",
      "ϵ     : 1.0\n",
      "-------------------------\n",
      "t_bgn : 0.0\n",
      "t_bgn : 0.0 (Normalized by period P)\n",
      "t_end : 125426.1254362761\n",
      "t_end : 12.602854186639746 (Normalized by period P)\n",
      "Nt    : 144\n",
      "Δt    : 877.105772281651\n",
      "Δt    : 0.0881318474590192 (Normalized by period P)\n",
      "-------------------------\n",
      "z_max : 0.6\n",
      "z_max : 4.683432404907855 (Normalized by skin depth l)\n",
      "Nz    : 40\n",
      "Δz    : 0.015384615384615385\n",
      "Δz    : 0.12008801038225268 (Normalized by skin depth l)\n",
      "-------------------------\n",
      "P     : 9952.2\n",
      "l     : 0.12811116893055807\n",
      "Γ     : 276.04347483684523\n",
      "λ     : 0.4863217700643013\n",
      "-------------------------\n"
     ]
    }
   ],
   "source": [
    "params_thermo = ThermoParams(\n",
    "    A_B   = 0.04,\n",
    "    A_TH  = 0.,\n",
    "    k     = 0.1,\n",
    "    ρ     = 1270.,\n",
    "    Cp    = 600.,\n",
    "    ϵ     = 1.,\n",
    "    P     = spin1.P,\n",
    "    Nt    = 144,\n",
    "    t_bgn = 0.,\n",
    "    t_end = spin2.P * 2,\n",
    "    Nz    = 40,\n",
    "    z_max = 0.6,\n",
    ")"
   ]
  },
  {
   "cell_type": "code",
   "execution_count": null,
   "metadata": {},
   "outputs": [],
   "source": []
  },
  {
   "cell_type": "code",
   "execution_count": 22,
   "metadata": {},
   "outputs": [],
   "source": [
    "# kernels = [\n",
    "#     \"../../spice/kernels/generic_kernels/lsk/naif0012.tls\",\n",
    "#     \"../../spice/kernels/generic_kernels/spk/planets/de440.bsp\",\n",
    "#     \"../../spice/kernels/generic_kernels/pck/de-403-masses.tpc\",\n",
    "#     \"../../spice/kernels/generic_kernels/pck/pck00010.tpc\",\n",
    "# ]\n",
    "# bodies = [\"Sun\", \"Mercury\", \"Venus\", \"Earth_barycenter\", \"Mars_barycenter\"]\n",
    "\n",
    "# Astroshaper.plot_orbits(kernels, bodies, orbit1)"
   ]
  },
  {
   "cell_type": "code",
   "execution_count": 59,
   "metadata": {},
   "outputs": [],
   "source": [
    "# draw(shape1, shape2, \"tmp.mp4\")"
   ]
  },
  {
   "cell_type": "code",
   "execution_count": 61,
   "metadata": {},
   "outputs": [
    {
     "ename": "LoadError",
     "evalue": "MethodError: no method matching run_binary_TPM!(::ShapeModel{Int64, Vector{StaticArrays.SVector{3, Float64}}, Vector{StaticArrays.SVector{3, Int64}}, StructArrays.StructVector{Astroshaper.Facet{StaticArrays.SVector{3, Float64}, Float64, StructArrays.StructVector{Astroshaper.VisibleFacet, NamedTuple{(:id, :f, :d, :d̂), Tuple{Vector{Int64}, Vector{Float64}, Vector{Float64}, Vector{StaticArrays.SVector{3, Float64}}}}, Int64}, Astroshaper.Flux{Float64}, Vector{Float64}, Vector{Float64}}, NamedTuple{(:A, :B, :C, :center, :normal, :area, :visiblefacets, :flux, :temps, :_temps_, :force), Tuple{Vector{StaticArrays.SVector{3, Float64}}, Vector{StaticArrays.SVector{3, Float64}}, Vector{StaticArrays.SVector{3, Float64}}, Vector{StaticArrays.SVector{3, Float64}}, Vector{StaticArrays.SVector{3, Float64}}, Vector{Float64}, Vector{StructArrays.StructVector{Astroshaper.VisibleFacet, NamedTuple{(:id, :f, :d, :d̂), Tuple{Vector{Int64}, Vector{Float64}, Vector{Float64}, Vector{StaticArrays.SVector{3, Float64}}}}, Int64}}, Vector{Astroshaper.Flux{Float64}}, Vector{Vector{Float64}}, Vector{Vector{Float64}}, Vector{Vector{Float64}}}}, Int64}, Float64, StaticArrays.SVector{3, Float64}, Matrix{Float64}, Vector{Float64}}, ::ShapeModel{Int64, Vector{StaticArrays.SVector{3, Float64}}, Vector{StaticArrays.SVector{3, Int64}}, StructArrays.StructVector{Astroshaper.Facet{StaticArrays.SVector{3, Float64}, Float64, StructArrays.StructVector{Astroshaper.VisibleFacet, NamedTuple{(:id, :f, :d, :d̂), Tuple{Vector{Int64}, Vector{Float64}, Vector{Float64}, Vector{StaticArrays.SVector{3, Float64}}}}, Int64}, Astroshaper.Flux{Float64}, Vector{Float64}, Vector{Float64}}, NamedTuple{(:A, :B, :C, :center, :normal, :area, :visiblefacets, :flux, :temps, :_temps_, :force), Tuple{Vector{StaticArrays.SVector{3, Float64}}, Vector{StaticArrays.SVector{3, Float64}}, Vector{StaticArrays.SVector{3, Float64}}, Vector{StaticArrays.SVector{3, Float64}}, Vector{StaticArrays.SVector{3, Float64}}, Vector{Float64}, Vector{StructArrays.StructVector{Astroshaper.VisibleFacet, NamedTuple{(:id, :f, :d, :d̂), Tuple{Vector{Int64}, Vector{Float64}, Vector{Float64}, Vector{StaticArrays.SVector{3, Float64}}}}, Int64}}, Vector{Astroshaper.Flux{Float64}}, Vector{Vector{Float64}}, Vector{Vector{Float64}}, Vector{Vector{Float64}}}}, Int64}, Float64, StaticArrays.SVector{3, Float64}, Matrix{Float64}, Vector{Float64}}, ::OrbitalElements{Float64, StaticArrays.SVector{3, Float64}}, ::OrbitalElements{Float64, StaticArrays.SVector{3, Float64}}, ::SpinParams{Float64, StaticArrays.SVector{3, Float64}}, ::SpinParams{Float64, StaticArrays.SVector{3, Float64}}, ::ThermoParams{Int64, Float64, Int64, Float64})\n\u001b[0mClosest candidates are:\n\u001b[0m  run_binary_TPM!(::Any, ::Any) at ~/Dropbox/Mac/Documents/GitHub/Astroshaper/src/binary.jl:126",
     "output_type": "error",
     "traceback": [
      "MethodError: no method matching run_binary_TPM!(::ShapeModel{Int64, Vector{StaticArrays.SVector{3, Float64}}, Vector{StaticArrays.SVector{3, Int64}}, StructArrays.StructVector{Astroshaper.Facet{StaticArrays.SVector{3, Float64}, Float64, StructArrays.StructVector{Astroshaper.VisibleFacet, NamedTuple{(:id, :f, :d, :d̂), Tuple{Vector{Int64}, Vector{Float64}, Vector{Float64}, Vector{StaticArrays.SVector{3, Float64}}}}, Int64}, Astroshaper.Flux{Float64}, Vector{Float64}, Vector{Float64}}, NamedTuple{(:A, :B, :C, :center, :normal, :area, :visiblefacets, :flux, :temps, :_temps_, :force), Tuple{Vector{StaticArrays.SVector{3, Float64}}, Vector{StaticArrays.SVector{3, Float64}}, Vector{StaticArrays.SVector{3, Float64}}, Vector{StaticArrays.SVector{3, Float64}}, Vector{StaticArrays.SVector{3, Float64}}, Vector{Float64}, Vector{StructArrays.StructVector{Astroshaper.VisibleFacet, NamedTuple{(:id, :f, :d, :d̂), Tuple{Vector{Int64}, Vector{Float64}, Vector{Float64}, Vector{StaticArrays.SVector{3, Float64}}}}, Int64}}, Vector{Astroshaper.Flux{Float64}}, Vector{Vector{Float64}}, Vector{Vector{Float64}}, Vector{Vector{Float64}}}}, Int64}, Float64, StaticArrays.SVector{3, Float64}, Matrix{Float64}, Vector{Float64}}, ::ShapeModel{Int64, Vector{StaticArrays.SVector{3, Float64}}, Vector{StaticArrays.SVector{3, Int64}}, StructArrays.StructVector{Astroshaper.Facet{StaticArrays.SVector{3, Float64}, Float64, StructArrays.StructVector{Astroshaper.VisibleFacet, NamedTuple{(:id, :f, :d, :d̂), Tuple{Vector{Int64}, Vector{Float64}, Vector{Float64}, Vector{StaticArrays.SVector{3, Float64}}}}, Int64}, Astroshaper.Flux{Float64}, Vector{Float64}, Vector{Float64}}, NamedTuple{(:A, :B, :C, :center, :normal, :area, :visiblefacets, :flux, :temps, :_temps_, :force), Tuple{Vector{StaticArrays.SVector{3, Float64}}, Vector{StaticArrays.SVector{3, Float64}}, Vector{StaticArrays.SVector{3, Float64}}, Vector{StaticArrays.SVector{3, Float64}}, Vector{StaticArrays.SVector{3, Float64}}, Vector{Float64}, Vector{StructArrays.StructVector{Astroshaper.VisibleFacet, NamedTuple{(:id, :f, :d, :d̂), Tuple{Vector{Int64}, Vector{Float64}, Vector{Float64}, Vector{StaticArrays.SVector{3, Float64}}}}, Int64}}, Vector{Astroshaper.Flux{Float64}}, Vector{Vector{Float64}}, Vector{Vector{Float64}}, Vector{Vector{Float64}}}}, Int64}, Float64, StaticArrays.SVector{3, Float64}, Matrix{Float64}, Vector{Float64}}, ::OrbitalElements{Float64, StaticArrays.SVector{3, Float64}}, ::OrbitalElements{Float64, StaticArrays.SVector{3, Float64}}, ::SpinParams{Float64, StaticArrays.SVector{3, Float64}}, ::SpinParams{Float64, StaticArrays.SVector{3, Float64}}, ::ThermoParams{Int64, Float64, Int64, Float64})\n\u001b[0mClosest candidates are:\n\u001b[0m  run_binary_TPM!(::Any, ::Any) at ~/Dropbox/Mac/Documents/GitHub/Astroshaper/src/binary.jl:126",
      "",
      "Stacktrace:",
      " [1] top-level scope",
      "   @ In[61]:1",
      " [2] eval",
      "   @ ./boot.jl:373 [inlined]",
      " [3] include_string(mapexpr::typeof(REPL.softscope), mod::Module, code::String, filename::String)",
      "   @ Base ./loading.jl:1196"
     ]
    }
   ],
   "source": [
    "tmp = run_binary(shape1, shape2, orbit1, orbit2, spin1, spin2, params_thermo);"
   ]
  },
  {
   "cell_type": "code",
   "execution_count": null,
   "metadata": {},
   "outputs": [],
   "source": []
  },
  {
   "cell_type": "code",
   "execution_count": null,
   "metadata": {},
   "outputs": [],
   "source": []
  },
  {
   "cell_type": "code",
   "execution_count": null,
   "metadata": {},
   "outputs": [],
   "source": []
  },
  {
   "cell_type": "code",
   "execution_count": null,
   "metadata": {},
   "outputs": [],
   "source": []
  }
 ],
 "metadata": {
  "kernelspec": {
   "display_name": "Julia 1.7.0",
   "language": "julia",
   "name": "julia-1.7"
  },
  "language_info": {
   "file_extension": ".jl",
   "mimetype": "application/julia",
   "name": "julia",
   "version": "1.7.0"
  }
 },
 "nbformat": 4,
 "nbformat_minor": 4
}
