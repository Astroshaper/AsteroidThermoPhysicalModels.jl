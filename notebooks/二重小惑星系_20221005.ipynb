{
 "cells": [
  {
   "cell_type": "code",
   "execution_count": 1,
   "metadata": {},
   "outputs": [
    {
     "data": {
      "text/plain": [
       "v\"1.8.1\""
      ]
     },
     "execution_count": 1,
     "metadata": {},
     "output_type": "execute_result"
    }
   ],
   "source": [
    "VERSION"
   ]
  },
  {
   "cell_type": "code",
   "execution_count": 2,
   "metadata": {},
   "outputs": [],
   "source": [
    "ENV[\"COLUMNS\"] = 1000\n",
    "ENV[\"LINES\"] = 20;"
   ]
  },
  {
   "cell_type": "code",
   "execution_count": 6,
   "metadata": {},
   "outputs": [],
   "source": [
    "# using Pkg\n",
    "# Pkg.add(\"GLMakie\")\n",
    "# Pkg.update(\"GLMakie\")\n",
    "# Pkg.build(\"GLMakie\")"
   ]
  },
  {
   "cell_type": "code",
   "execution_count": 8,
   "metadata": {},
   "outputs": [],
   "source": [
    "using DataFrames\n",
    "using GLMakie\n",
    "\n",
    "using Revise\n",
    "using Astroshaper\n",
    "import SPICE"
   ]
  },
  {
   "cell_type": "code",
   "execution_count": 9,
   "metadata": {},
   "outputs": [],
   "source": [
    "meta_kernel = \"/Users/masanorikanamaru/Dropbox/spice/hera/kernels/mk/hera_study_PO_EMA_2024_shapeViewer.tm\"\n",
    "\n",
    "SPICE.furnsh(meta_kernel)"
   ]
  },
  {
   "cell_type": "code",
   "execution_count": 10,
   "metadata": {},
   "outputs": [
    {
     "data": {
      "text/plain": [
       "8.554824691849957e8:180.0:8.556552691849957e8"
      ]
     },
     "execution_count": 10,
     "metadata": {},
     "output_type": "execute_result"
    }
   ],
   "source": [
    "et_start = SPICE.utc2et(\"2027-02-09T22:00:00\")\n",
    "et_end   = SPICE.utc2et(\"2027-02-11T22:00:00\")\n",
    "step     = 3600/20\n",
    "\n",
    "et_range = et_start:step:et_end"
   ]
  },
  {
   "cell_type": "code",
   "execution_count": 11,
   "metadata": {},
   "outputs": [],
   "source": [
    "\"\"\"\n",
    "Obtain a dataframe of ephemerides \n",
    "\n",
    "# Arguments\n",
    "- `targ`   : Target body name\n",
    "- `ets`    : AbstractVetor of observer epoch\n",
    "- `ref`    : Reference frame of output position vector\n",
    "- `abcorr` : Aberration correction flag\n",
    "- `obs`    : Observing body name\n",
    "\"\"\"\n",
    "function spkpos_df(targ, ets::AbstractVector, ref, abcorr, obs)\n",
    "    df = DataFrame(et=Float64[], x=Float64[], y=Float64[], z=Float64[], lt=Float64[])\n",
    "    for et in ets\n",
    "        pos, lt = SPICE.spkpos(targ, et, ref, abcorr, obs)  # pos [km], lt [s]\n",
    "        pos = SPICE.convrt.(pos, \"km\", \"m\")\n",
    "        push!(df, (et, pos..., lt))\n",
    "    end\n",
    "    df\n",
    "end\n",
    "\n",
    "function spkpos_vec(targ, ets::AbstractVector, ref, abcorr, obs)\n",
    "    positions = Vector{Float64}[]\n",
    "    for et in ets\n",
    "        pos, lt = SPICE.spkpos(targ, et, ref, abcorr, obs)  # pos [km], lt [s]\n",
    "        pos = SPICE.convrt.(pos, \"km\", \"m\")\n",
    "        push!(positions, collect(pos))\n",
    "    end\n",
    "    positions\n",
    "end\n",
    "\n",
    "\n",
    "\"\"\"\n",
    "# Arguments\n",
    "- `from` : Name of the frame to transform from\n",
    "- `to`   : Name of the frame to transform to\n",
    "- `ets`  : Epoch of the rotation matrix\n",
    "\n",
    "# Return\n",
    "- `rotate` : A rotation matrix\n",
    "\"\"\"\n",
    "pxform(from, to, ets) = [SPICE.pxform(from, to, et) for et in ets];"
   ]
  },
  {
   "cell_type": "code",
   "execution_count": 12,
   "metadata": {},
   "outputs": [],
   "source": [
    "sun_d1 = spkpos_vec(\"SUN\",       et_range, \"DIDYMOS_FIXED\",   \"None\", \"DIDYMOS\")\n",
    "sun_d2 = spkpos_vec(\"SUN\",       et_range, \"DIMORPHOS_FIXED\", \"None\", \"DIMORPHOS\")\n",
    "d1_d2  = spkpos_vec(\"DIDYMOS\",   et_range, \"DIMORPHOS_FIXED\", \"None\", \"DIMORPHOS\")\n",
    "d2_d1  = spkpos_vec(\"DIMORPHOS\", et_range, \"DIDYMOS_FIXED\",   \"None\", \"DIDYMOS\");"
   ]
  },
  {
   "cell_type": "code",
   "execution_count": 13,
   "metadata": {},
   "outputs": [],
   "source": [
    "D1_TO_D2 = pxform(\"DIDYMOS_FIXED\",   \"DIMORPHOS_FIXED\", et_range)\n",
    "D2_TO_D1 = pxform(\"DIMORPHOS_FIXED\", \"DIDYMOS_FIXED\",   et_range);"
   ]
  },
  {
   "cell_type": "code",
   "execution_count": 14,
   "metadata": {},
   "outputs": [],
   "source": [
    "SPICE.kclear()"
   ]
  },
  {
   "cell_type": "code",
   "execution_count": 17,
   "metadata": {},
   "outputs": [
    {
     "data": {
      "text/plain": [
       "GLMakie.Screen(...)"
      ]
     },
     "execution_count": 17,
     "metadata": {},
     "output_type": "execute_result"
    }
   ],
   "source": [
    "fig = Figure()\n",
    "ax = Axis3(fig[1, 1], aspect=:data)\n",
    "\n",
    "# scatter!(0,0,0)\n",
    "# scatter!(sun_d1.x, sun_d1.y, sun_d1.z, color=:orange)\n",
    "# scatter!(d2_d1.x, d2_d1.y, d2_d1.z, color=:skyblue)\n",
    "# scatter!(sun_d1.x, sun_d1.y, sun_d1.z, color=:orange)\n",
    "# scatter!(d2_d1.x, d2_d1.y, d2_d1.z, color=:skyblue)\n",
    "\n",
    "scatter!([r[1] for r in sun_d1], [r[2] for r in sun_d1], [r[3] for r in sun_d1], color=:orange, size=2)\n",
    "\n",
    "display(fig)"
   ]
  },
  {
   "cell_type": "markdown",
   "metadata": {},
   "source": [
    "- まずはDidymosだけで熱計算してみる\n",
    "- まずはDimorphosだけで熱計算してみる\n",
    "- 二重小惑星として熱計算してみる"
   ]
  },
  {
   "cell_type": "code",
   "execution_count": 53,
   "metadata": {},
   "outputs": [],
   "source": [
    "shapedir = \"/Users/masanorikanamaru/Dropbox/spice/hera/kernels/dsk\"\n",
    "\n",
    "shapepath1 = joinpath(shapedir, \"g_50677mm_rad_obj_dida_0000n00000_v001.obj\")\n",
    "shapepath2 = joinpath(shapedir, \"g_06650mm_rad_obj_didb_0000n00000_v001.obj\")\n",
    "\n",
    "shape1 = ShapeModel(shapepath1; scale=1000, find_visible_facets=true, save_shape=false)\n",
    "shape2 = ShapeModel(shapepath2; scale=1000, find_visible_facets=true, save_shape=false);"
   ]
  },
  {
   "cell_type": "markdown",
   "metadata": {},
   "source": [
    "# Only Dimorphos"
   ]
  },
  {
   "cell_type": "code",
   "execution_count": 49,
   "metadata": {},
   "outputs": [
    {
     "data": {
      "text/plain": []
     },
     "execution_count": 49,
     "metadata": {},
     "output_type": "execute_result"
    },
    {
     "name": "stdout",
     "output_type": "stream",
     "text": [
      "Thermophysical parameters\n",
      "-------------------------\n",
      "A_B   : 0.059\n",
      "A_TH  : 0.0\n",
      "k     : 0.125\n",
      "ρ     : 2170.0\n",
      "Cp    : 600.0\n",
      "ϵ     : 0.9\n",
      "-------------------------\n",
      "t_bgn : 8.554824691849957e8\n",
      "t_bgn : 105180.37410616312 (Normalized by period P)\n",
      "t_end : 8.556552691849957e8\n",
      "t_end : 105201.61962468656 (Normalized by period P)\n",
      "Nt    : 961\n",
      "Δt    : 180.0000000000556\n",
      "Δt    : 0.022130748461919817 (Normalized by period P)\n",
      "-------------------------\n",
      "z_max : 0.6\n",
      "z_max : 6.057014348123621 (Normalized by skin depth l)\n",
      "Nz    : 41\n",
      "Δz    : 0.015\n",
      "Δz    : 0.15142535870309054 (Normalized by skin depth l)\n",
      "-------------------------\n",
      "P     : 8133.4800000000005\n",
      "l     : 0.09905870541414048\n",
      "Γ     : 403.4228550788862\n",
      "λ     : 0.07680491551461667\n",
      "-------------------------\n"
     ]
    }
   ],
   "source": [
    "thermo_params = ThermoParams(  # [Michel+2016; Naidu+2020]\n",
    "    A_B   = 0.059,  # Bolometric  Bond albedo\n",
    "    A_TH  = 0.0,\n",
    "    k     = 0.125,\n",
    "    ρ     = 2170.,\n",
    "    Cp    = 600.,\n",
    "    ϵ     = 0.9,\n",
    "    t_bgn = et_range[begin],\n",
    "    t_end = et_range[end],\n",
    "    Nt    = length(et_range),\n",
    "    z_max = 0.6,\n",
    "    Nz    = 41,\n",
    "    P     = SPICE.convrt(DIDYMOS[:P], \"hours\", \"seconds\"),\n",
    ")"
   ]
  },
  {
   "cell_type": "code",
   "execution_count": 60,
   "metadata": {},
   "outputs": [],
   "source": [
    "timestamp = run_TPM(shape1, et_range, sun_d1, thermo_params, \"tmp.jld2\");"
   ]
  },
  {
   "cell_type": "code",
   "execution_count": null,
   "metadata": {},
   "outputs": [],
   "source": []
  },
  {
   "cell_type": "code",
   "execution_count": null,
   "metadata": {},
   "outputs": [],
   "source": []
  },
  {
   "cell_type": "code",
   "execution_count": null,
   "metadata": {},
   "outputs": [],
   "source": []
  },
  {
   "cell_type": "code",
   "execution_count": null,
   "metadata": {},
   "outputs": [],
   "source": []
  },
  {
   "cell_type": "code",
   "execution_count": null,
   "metadata": {},
   "outputs": [],
   "source": []
  },
  {
   "cell_type": "code",
   "execution_count": null,
   "metadata": {},
   "outputs": [],
   "source": []
  },
  {
   "cell_type": "code",
   "execution_count": null,
   "metadata": {},
   "outputs": [],
   "source": []
  },
  {
   "cell_type": "code",
   "execution_count": null,
   "metadata": {},
   "outputs": [],
   "source": []
  }
 ],
 "metadata": {
  "kernelspec": {
   "display_name": "Julia 1.8.1",
   "language": "julia",
   "name": "julia-1.8"
  },
  "language_info": {
   "file_extension": ".jl",
   "mimetype": "application/julia",
   "name": "julia",
   "version": "1.8.1"
  }
 },
 "nbformat": 4,
 "nbformat_minor": 4
}
