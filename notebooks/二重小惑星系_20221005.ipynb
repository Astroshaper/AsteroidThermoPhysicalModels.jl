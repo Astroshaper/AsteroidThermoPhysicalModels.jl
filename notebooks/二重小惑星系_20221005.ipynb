{
 "cells": [
  {
   "cell_type": "code",
   "execution_count": 1,
   "metadata": {},
   "outputs": [
    {
     "data": {
      "text/plain": [
       "v\"1.8.1\""
      ]
     },
     "execution_count": 1,
     "metadata": {},
     "output_type": "execute_result"
    }
   ],
   "source": [
    "VERSION"
   ]
  },
  {
   "cell_type": "code",
   "execution_count": 2,
   "metadata": {},
   "outputs": [],
   "source": [
    "ENV[\"COLUMNS\"] = 1000\n",
    "ENV[\"LINES\"] = 20;"
   ]
  },
  {
   "cell_type": "code",
   "execution_count": 3,
   "metadata": {},
   "outputs": [],
   "source": [
    "# using Pkg\n",
    "# Pkg.add(\"BenchmarkTools\")\n",
    "# Pkg.update(\"BenchmarkTools\")\n",
    "# Pkg.build(\"BenchmarkTools\")"
   ]
  },
  {
   "cell_type": "code",
   "execution_count": 5,
   "metadata": {},
   "outputs": [],
   "source": [
    "using DataFrames\n",
    "using GLMakie\n",
    "using JLD2\n",
    "using BenchmarkTools\n",
    "\n",
    "using Revise\n",
    "using Astroshaper\n",
    "import SPICE"
   ]
  },
  {
   "cell_type": "code",
   "execution_count": 6,
   "metadata": {},
   "outputs": [],
   "source": [
    "meta_kernel = \"/Users/masanorikanamaru/Dropbox/spice/hera/kernels/mk/hera_study_PO_EMA_2024_shapeViewer.tm\"\n",
    "\n",
    "SPICE.furnsh(meta_kernel)"
   ]
  },
  {
   "cell_type": "code",
   "execution_count": 7,
   "metadata": {},
   "outputs": [
    {
     "name": "stdout",
     "output_type": "stream",
     "text": [
      "et_range = 8.554824691849957e8:180.0:8.556552691849957e8\n",
      "length(et_range) = 961\n"
     ]
    }
   ],
   "source": [
    "et_start = SPICE.utc2et(\"2027-02-09T22:00:00\")\n",
    "et_end   = SPICE.utc2et(\"2027-02-11T22:00:00\")\n",
    "step     = 3600/20\n",
    "\n",
    "et_range = et_start:step:et_end\n",
    "\n",
    "@show et_range\n",
    "@show length(et_range);"
   ]
  },
  {
   "cell_type": "code",
   "execution_count": 8,
   "metadata": {},
   "outputs": [
    {
     "name": "stdout",
     "output_type": "stream",
     "text": [
      "save_range[begin] = 1\n",
      "save_range[end] = 961\n",
      "length(save_range) = 961\n"
     ]
    }
   ],
   "source": [
    "# save_range = findall(et_range .> et_range[end] - 7.63262 * 3600)\n",
    "save_range = 1:length(et_range)\n",
    "\n",
    "@show save_range[begin]\n",
    "@show save_range[end]\n",
    "@show length(save_range);"
   ]
  },
  {
   "cell_type": "code",
   "execution_count": 9,
   "metadata": {},
   "outputs": [],
   "source": [
    "sun_d1 = spkpos(\"SUN\",       et_range, \"DIDYMOS_FIXED\",   \"None\", \"DIDYMOS\")\n",
    "sun_d2 = spkpos(\"SUN\",       et_range, \"DIMORPHOS_FIXED\", \"None\", \"DIMORPHOS\")\n",
    "d1_d2  = spkpos(\"DIDYMOS\",   et_range, \"DIMORPHOS_FIXED\", \"None\", \"DIMORPHOS\")\n",
    "d2_d1  = spkpos(\"DIMORPHOS\", et_range, \"DIDYMOS_FIXED\",   \"None\", \"DIDYMOS\");"
   ]
  },
  {
   "cell_type": "code",
   "execution_count": 10,
   "metadata": {},
   "outputs": [],
   "source": [
    "D1_TO_D2 = pxform(\"DIDYMOS_FIXED\",   \"DIMORPHOS_FIXED\", et_range)\n",
    "D2_TO_D1 = pxform(\"DIMORPHOS_FIXED\", \"DIDYMOS_FIXED\",   et_range)\n",
    "\n",
    "D1_TO_J2000 = pxform(\"DIDYMOS_FIXED\",   \"J2000\", et_range)\n",
    "D2_TO_J2000 = pxform(\"DIMORPHOS_FIXED\", \"J2000\", et_range);"
   ]
  },
  {
   "cell_type": "code",
   "execution_count": 11,
   "metadata": {},
   "outputs": [],
   "source": [
    "SPICE.kclear()"
   ]
  },
  {
   "cell_type": "code",
   "execution_count": 12,
   "metadata": {},
   "outputs": [
    {
     "data": {
      "text/plain": [
       "GLMakie.Screen(...)"
      ]
     },
     "execution_count": 12,
     "metadata": {},
     "output_type": "execute_result"
    }
   ],
   "source": [
    "fig = Figure()\n",
    "ax = Axis3(fig[1, 1], aspect=:data)\n",
    "\n",
    "# scatter!(0,0,0)\n",
    "# scatter!(sun_d1.x, sun_d1.y, sun_d1.z, color=:orange)\n",
    "# scatter!(d2_d1.x, d2_d1.y, d2_d1.z, color=:skyblue)\n",
    "# scatter!(sun_d1.x, sun_d1.y, sun_d1.z, color=:orange)\n",
    "# scatter!(d2_d1.x, d2_d1.y, d2_d1.z, color=:skyblue)\n",
    "\n",
    "scatter!([r[1] for r in sun_d1], [r[2] for r in sun_d1], [r[3] for r in sun_d1], color=:orange, size=2)\n",
    "\n",
    "display(fig)"
   ]
  },
  {
   "cell_type": "markdown",
   "metadata": {},
   "source": [
    "# 形状モデル Didymos & Dimorphos"
   ]
  },
  {
   "cell_type": "code",
   "execution_count": 15,
   "metadata": {},
   "outputs": [],
   "source": [
    "shapedir = \"/Users/masanorikanamaru/Dropbox/spice/hera/kernels/dsk\"\n",
    "\n",
    "shapepath1 = joinpath(shapedir, \"g_50677mm_rad_obj_dida_0000n00000_v001.obj\")\n",
    "shapepath2 = joinpath(shapedir, \"g_06650mm_rad_obj_didb_0000n00000_v001.obj\")\n",
    "\n",
    "shape1 = ShapeModel(shapepath1; scale=1000, find_visible_facets=true, save_shape=false)\n",
    "shape2 = ShapeModel(shapepath2; scale=1000, find_visible_facets=true, save_shape=false);"
   ]
  },
  {
   "cell_type": "code",
   "execution_count": 16,
   "metadata": {},
   "outputs": [
    {
     "name": "stdout",
     "output_type": "stream",
     "text": [
      "Shape model\n",
      "-----------\n",
      "Nodes             : 1000\n",
      "Faces             : 1996\n",
      "Surface area      : 1.9587914739775863e6\n",
      "Volume            : 2.485481753075182e8\n",
      "Equivalent radius : 390.03836143582186\n",
      "Center-of-Figure  : [2.484674354494825e-6, -2.0997384259416257e-6, 2.190089591373722e-6]\n",
      "Inertia tensor    : \n",
      "    | Ixx Ixy Ixz |   [0.0, 0.0, 0.0]\n",
      "    | Iyx Iyy Iyz | = [0.0, 0.0, 0.0]\n",
      "    | Izx Izy Izz |   [0.0, 0.0, 0.0]\n",
      "\n",
      "Shape model\n",
      "-----------\n",
      "Nodes             : 1538\n",
      "Faces             : 3072\n",
      "Surface area      : 53920.63065752515\n",
      "Volume            : 1.1314114665400542e6\n",
      "Equivalent radius : 64.64138537338498\n",
      "Center-of-Figure  : [2.009646200056278e-16, 3.5852088209004e-16, -2.9131831316015805e-15]\n",
      "Inertia tensor    : \n",
      "    | Ixx Ixy Ixz |   [0.0, 0.0, 0.0]\n",
      "    | Iyx Iyy Iyz | = [0.0, 0.0, 0.0]\n",
      "    | Izx Izy Izz |   [0.0, 0.0, 0.0]\n",
      "\n"
     ]
    }
   ],
   "source": [
    "println(shape1)\n",
    "println(shape2)"
   ]
  },
  {
   "cell_type": "markdown",
   "metadata": {},
   "source": [
    "# TPM only on Didymos"
   ]
  },
  {
   "cell_type": "code",
   "execution_count": 20,
   "metadata": {},
   "outputs": [
    {
     "data": {
      "text/plain": []
     },
     "execution_count": 20,
     "metadata": {},
     "output_type": "execute_result"
    },
    {
     "name": "stdout",
     "output_type": "stream",
     "text": [
      "Thermophysical parameters\n",
      "-------------------------\n",
      "A_B   : 0.059\n",
      "A_TH  : 0.0\n",
      "k     : 0.125\n",
      "ρ     : 2170.0\n",
      "Cp    : 600.0\n",
      "ϵ     : 0.9\n",
      "-------------------------\n",
      "t_bgn : 8.554824691849957e8\n",
      "t_bgn : 105180.37410616312 (Normalized by period P)\n",
      "t_end : 8.556552691849957e8\n",
      "t_end : 105201.61962468656 (Normalized by period P)\n",
      "Nt    : 961\n",
      "Δt    : 180.0000000000556\n",
      "Δt    : 0.022130748461919817 (Normalized by period P)\n",
      "-------------------------\n",
      "z_max : 0.6\n",
      "z_max : 6.057014348123621 (Normalized by skin depth l)\n",
      "Nz    : 41\n",
      "Δz    : 0.015\n",
      "Δz    : 0.15142535870309054 (Normalized by skin depth l)\n",
      "-------------------------\n",
      "P     : 8133.4800000000005\n",
      "l     : 0.09905870541414048\n",
      "Γ     : 403.4228550788862\n",
      "λ     : 0.07680491551461667\n",
      "-------------------------\n"
     ]
    }
   ],
   "source": [
    "thermo_params = ThermoParams(  # [Michel+2016; Naidu+2020]\n",
    "    A_B   = 0.059,  # Bolometric  Bond albedo\n",
    "    A_TH  = 0.0,\n",
    "    k     = 0.125,\n",
    "    ρ     = 2170.,\n",
    "    Cp    = 600.,\n",
    "    ϵ     = 0.9,\n",
    "    t_bgn = et_range[begin],\n",
    "    t_end = et_range[end],\n",
    "    Nt    = length(et_range),\n",
    "    z_max = 0.6,\n",
    "    Nz    = 41,\n",
    "    P     = SPICE.convrt(DIDYMOS[:P], \"hours\", \"seconds\"),\n",
    ")"
   ]
  },
  {
   "cell_type": "code",
   "execution_count": 99,
   "metadata": {},
   "outputs": [],
   "source": [
    "savepath = \"tmp.jld2\"\n",
    "run_TPM!(shape1, et_range, sun_d1, thermo_params, savepath, save_range)\n",
    "\n",
    "jldopen(savepath, \"r+\") do file\n",
    "    file[\"D1_TO_J2000\"] = D1_TO_J2000[save_range]\n",
    "end;"
   ]
  },
  {
   "cell_type": "code",
   "execution_count": 95,
   "metadata": {},
   "outputs": [
    {
     "data": {
      "text/plain": [
       "GLMakie.Screen(...)"
      ]
     },
     "execution_count": 95,
     "metadata": {},
     "output_type": "execute_result"
    }
   ],
   "source": [
    "draw(shape1; data=:temperature, colormap=:vik)"
   ]
  },
  {
   "cell_type": "code",
   "execution_count": 96,
   "metadata": {},
   "outputs": [],
   "source": [
    "data = load(\"tmp.jld2\");"
   ]
  },
  {
   "cell_type": "code",
   "execution_count": 98,
   "metadata": {},
   "outputs": [],
   "source": [
    "# data[\"shape\"]\n",
    "# data[\"et_range\"]\n",
    "# data[\"sun\"]\n",
    "# data[\"thermo_params\"]\n",
    "# data[\"surf_temps\"]\n",
    "# data[\"forces\"]\n",
    "# data[\"torques\"]\n",
    "\n",
    "# data[\"D1_TO_J2000\"]"
   ]
  },
  {
   "cell_type": "markdown",
   "metadata": {},
   "source": [
    "# TPM only on Dimorphos"
   ]
  },
  {
   "cell_type": "code",
   "execution_count": 101,
   "metadata": {},
   "outputs": [],
   "source": [
    "thermo_params = ThermoParams(  # [Michel+2016; Naidu+2020]\n",
    "    A_B   = 0.059,  # Bolometric  Bond albedo\n",
    "    A_TH  = 0.0,\n",
    "    k     = 0.125,\n",
    "    ρ     = 2170.,\n",
    "    Cp    = 600.,\n",
    "    ϵ     = 0.9,\n",
    "    t_bgn = et_range[begin],\n",
    "    t_end = et_range[end],\n",
    "    Nt    = length(et_range),\n",
    "    z_max = 0.6,\n",
    "    Nz    = 41,\n",
    "    P     = SPICE.convrt(DIDYMOS[:P], \"hours\", \"seconds\"),\n",
    ");"
   ]
  },
  {
   "cell_type": "code",
   "execution_count": 105,
   "metadata": {},
   "outputs": [],
   "source": [
    "savepath = \"tmp.jld2\"\n",
    "run_TPM!(shape2, et_range, sun_d2, thermo_params, savepath, save_range)\n",
    "\n",
    "jldopen(savepath, \"r+\") do file\n",
    "    file[\"D2_TO_J2000\"] = D2_TO_J2000[save_range]\n",
    "end;"
   ]
  },
  {
   "cell_type": "code",
   "execution_count": 111,
   "metadata": {},
   "outputs": [
    {
     "ename": "LoadError",
     "evalue": "You should not pass the `colormap` attribute to the colorbar when constructing it using an existing plot object. This attribute is copied from the plot object, and setting it from the colorbar will make the plot object and the colorbar go out of sync.",
     "output_type": "error",
     "traceback": [
      "You should not pass the `colormap` attribute to the colorbar when constructing it using an existing plot object. This attribute is copied from the plot object, and setting it from the colorbar will make the plot object and the colorbar go out of sync.",
      "",
      "Stacktrace:",
      " [1] error(s::String)",
      "   @ Base ./error.jl:35",
      " [2] Colorbar(fig_or_scene::GridPosition, plot::Combined{Makie.poly, Tuple{GeometryBasics.Mesh{3, Float32, GeometryBasics.TriangleP{3, Float32, GeometryBasics.PointMeta{3, Float32, Point{3, Float32}, (:normals,), Tuple{Vec{3, Float32}}}}, GeometryBasics.FaceView{GeometryBasics.TriangleP{3, Float32, GeometryBasics.PointMeta{3, Float32, Point{3, Float32}, (:normals,), Tuple{Vec{3, Float32}}}}, GeometryBasics.PointMeta{3, Float32, Point{3, Float32}, (:normals,), Tuple{Vec{3, Float32}}}, GeometryBasics.NgonFace{3, GeometryBasics.OffsetInteger{-1, UInt32}}, StructArrays.StructVector{GeometryBasics.PointMeta{3, Float32, Point{3, Float32}, (:normals,), Tuple{Vec{3, Float32}}}, NamedTuple{(:position, :normals), Tuple{Vector{Point{3, Float32}}, Vector{Vec{3, Float32}}}}, Int64}, Vector{GeometryBasics.NgonFace{3, GeometryBasics.OffsetInteger{-1, UInt32}}}}}}}; kwargs::Base.Pairs{Symbol, Any, Tuple{Symbol, Symbol, Symbol}, NamedTuple{(:limits, :colormap, :ticks), Tuple{Tuple{Float64, Float64}, Symbol, StepRange{Int64, Int64}}}})",
      "   @ Makie ~/.julia/packages/Makie/Ppzqh/src/makielayout/blocks/colorbar.jl:25",
      " [3] draw(shape::ShapeModel{Int64, Vector{StaticArraysCore.SVector{3, Float64}}, Vector{StaticArraysCore.SVector{3, Int64}}, StructArrays.StructVector{Astroshaper.Facet{StaticArraysCore.SVector{3, Float64}, Float64, StructArrays.StructVector{Astroshaper.VisibleFacet, NamedTuple{(:id, :f, :d, :d̂), Tuple{Vector{Int64}, Vector{Float64}, Vector{Float64}, Vector{StaticArraysCore.SVector{3, Float64}}}}, Int64}, Astroshaper.Flux{Float64}, Vector{Float64}, Vector{Float64}}, NamedTuple{(:A, :B, :C, :center, :normal, :area, :visiblefacets, :flux, :temps, :_temps_, :force), Tuple{Vector{StaticArraysCore.SVector{3, Float64}}, Vector{StaticArraysCore.SVector{3, Float64}}, Vector{StaticArraysCore.SVector{3, Float64}}, Vector{StaticArraysCore.SVector{3, Float64}}, Vector{StaticArraysCore.SVector{3, Float64}}, Vector{Float64}, Vector{StructArrays.StructVector{Astroshaper.VisibleFacet, NamedTuple{(:id, :f, :d, :d̂), Tuple{Vector{Int64}, Vector{Float64}, Vector{Float64}, Vector{StaticArraysCore.SVector{3, Float64}}}}, Int64}}, Vector{Astroshaper.Flux{Float64}}, Vector{Vector{Float64}}, Vector{Vector{Float64}}, Vector{Vector{Float64}}}}, Int64}, Float64, StaticArraysCore.SVector{3, Float64}, Matrix{Float64}, Vector{Float64}}; data::Symbol, r̂☉::Vector{Float64}, colormap::Symbol, strokecolor::Symbol)",
      "   @ Astroshaper ~/Documents/GitHub/Astroshaper/src/visualization.jl:150",
      " [4] top-level scope",
      "   @ In[111]:1",
      " [5] eval",
      "   @ ./boot.jl:368 [inlined]",
      " [6] include_string(mapexpr::typeof(REPL.softscope), mod::Module, code::String, filename::String)",
      "   @ Base ./loading.jl:1428"
     ]
    }
   ],
   "source": [
    "draw(shape2; data=:temperature, colormap=:vik)"
   ]
  },
  {
   "cell_type": "markdown",
   "metadata": {},
   "source": [
    "# TPM on Binary Asteroid"
   ]
  },
  {
   "cell_type": "code",
   "execution_count": null,
   "metadata": {},
   "outputs": [],
   "source": []
  },
  {
   "cell_type": "code",
   "execution_count": null,
   "metadata": {},
   "outputs": [],
   "source": []
  },
  {
   "cell_type": "code",
   "execution_count": null,
   "metadata": {},
   "outputs": [],
   "source": []
  }
 ],
 "metadata": {
  "kernelspec": {
   "display_name": "Julia 1.8.1",
   "language": "julia",
   "name": "julia-1.8"
  },
  "language_info": {
   "file_extension": ".jl",
   "mimetype": "application/julia",
   "name": "julia",
   "version": "1.8.1"
  }
 },
 "nbformat": 4,
 "nbformat_minor": 4
}
