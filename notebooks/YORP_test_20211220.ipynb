{
 "cells": [
  {
   "cell_type": "code",
   "execution_count": 207,
   "metadata": {},
   "outputs": [],
   "source": [
    "# using Pkg\n",
    "# Pkg.add(url=\"https://github.com/MasanoriKanamaru/Astroshaper\")\n",
    "# Pkg.update(\"Astroshaper\")\n",
    "# Pkg.test(\"Astroshaper\")"
   ]
  },
  {
   "cell_type": "code",
   "execution_count": 194,
   "metadata": {},
   "outputs": [],
   "source": [
    "# using Plots\n",
    "# using FileIO\n",
    "# using JLD2\n",
    "# using Profile"
   ]
  },
  {
   "cell_type": "code",
   "execution_count": 2,
   "metadata": {},
   "outputs": [],
   "source": [
    "using Revise\n",
    "using Astroshaper"
   ]
  },
  {
   "cell_type": "code",
   "execution_count": 3,
   "metadata": {},
   "outputs": [
    {
     "name": "stdout",
     "output_type": "stream",
     "text": [
      "shapepath = \"/Users/masanorikanamaru/Documents/shape/ryugu/ryugu_test.obj\"\n"
     ]
    }
   ],
   "source": [
    "shapedir = \"/Users/masanorikanamaru/Documents/shape/ryugu\"\n",
    "\n",
    "# shapename = \"ryugu_v252_f500.obj\"\n",
    "# shapename = \"ryugu_v752_f1500.obj\"\n",
    "shapename = \"ryugu_test.obj\"\n",
    "\n",
    "# shapename = \"SHAPE_SPC_49k_v20190802.obj\"\n",
    "# shapename = \"SHAPE_SPC_200k_v20190802.obj\"\n",
    "# shapename = \"SHAPE_SPC_800k_v20190802.obj\"\n",
    "# shapename = \"SHAPE_SPC_3M_v20190802.obj\"\n",
    "\n",
    "# shapename = \"SHAPE_SFM_49k_v20180804.obj\"\n",
    "# shapename = \"SHAPE_SPC_49k_v20200323.obj\"\n",
    "# shapename = \"SHAPE_SPC_3M_v20200323.obj\"\n",
    "\n",
    "shapepath = joinpath(shapedir, shapename)\n",
    "@show shapepath;"
   ]
  },
  {
   "cell_type": "code",
   "execution_count": 4,
   "metadata": {},
   "outputs": [],
   "source": [
    "# shapepath = splitext(shapepath)[1] * \".jld2\""
   ]
  },
  {
   "cell_type": "code",
   "execution_count": 13,
   "metadata": {},
   "outputs": [
    {
     "data": {
      "text/plain": []
     },
     "execution_count": 13,
     "metadata": {},
     "output_type": "execute_result"
    },
    {
     "name": "stdout",
     "output_type": "stream",
     "text": [
      "Shape model\n",
      "-----------\n",
      "Nodes             : 2976\n",
      "Faces             : 5932\n",
      "Surface area      : 2.6974896578683443e6\n",
      "Volume            : 3.768813053271797e8\n",
      "Equivalent radius : 448.0969577371473\n",
      "Center-of-Figure  : [0.37905838040179374, 0.23475514243730786, -0.03365988225760159]\n",
      "Inertia tensor    : \n",
      "    | Ixx Ixy Ixz |   [0.0, 0.0, 0.0]\n",
      "    | Iyx Iyy Iyz | = [0.0, 0.0, 0.0]\n",
      "    | Izx Izy Izz |   [0.0, 0.0, 0.0]\n"
     ]
    }
   ],
   "source": [
    "shape = Shape(shapepath; scale=1000, find_visible_facets=true, save_shape=false)"
   ]
  },
  {
   "cell_type": "code",
   "execution_count": 15,
   "metadata": {},
   "outputs": [],
   "source": [
    "# draw(shape)\n",
    "# draw(shape, data=:radius)\n",
    "# draw(shape, data=:temperature)\n",
    "# draw(shape; data=:illumination, r̂☉=[1,0,0.])\n",
    "# draw(shape, data=[center[3] for center in shape.facets.center])"
   ]
  },
  {
   "cell_type": "code",
   "execution_count": 16,
   "metadata": {},
   "outputs": [
    {
     "data": {
      "text/plain": [
       "Orbital elements\n",
       "----------------\n"
      ]
     },
     "execution_count": 16,
     "metadata": {},
     "output_type": "execute_result"
    },
    {
     "name": "stdout",
     "output_type": "stream",
     "text": [
      "Semi-mojor axis        : a  = 1.18956373 [AU]\n",
      "Eccentricity           : e  = 0.19027921 [-]\n",
      "Lon. of ascending node : Ω  = 251.589203 [deg]\n",
      "Argument of periapsis  : ω  = 211.435963 [deg]\n",
      "Inclination            : I  = 5.8840222 [deg]\n",
      "Periapsis passage time : tₚ = -2.4948038004043424e6 [sec]\n",
      "Mean anomaly           : Φ  = 21.9353799 [deg]\n",
      "\n",
      "Other parameters\n",
      "----------------\n",
      "Gravitational parameter : μ = 1.32712440018e20 [m^3/s^2]\n",
      "Mean motion             : n = 0.7596656791419168 [deg/day]\n",
      "Orbital period          : T = 473.8926739544681 [day]\n"
     ]
    }
   ],
   "source": [
    "orbit = OrbitalElements(RYUGU)"
   ]
  },
  {
   "cell_type": "code",
   "execution_count": 17,
   "metadata": {},
   "outputs": [
    {
     "data": {
      "text/plain": [
       "Spin parameters\n",
       "---------------\n"
      ]
     },
     "execution_count": 17,
     "metadata": {},
     "output_type": "execute_result"
    },
    {
     "name": "stdout",
     "output_type": "stream",
     "text": [
      "Right ascension (RA) : α = 96.4 [deg]\n",
      "Declination (Dec)    : δ = -66.4 [deg]\n",
      "Ecliptic longitude   : λ = 179.33757188938182 [deg]\n",
      "Ecliptic latitude    : β = -87.44207056697601 [deg]\n",
      "Obliquity            : ε = 171.65664649001607 [deg]\n",
      "Spin period          : P = 7.63262 [hours]\n",
      "Spin rate            : ω = 0.00022866712242903872 [rad/sec]\n",
      "Vernal equinox lon.  : γ = 154.3323208882217 [deg]\n",
      "                           (longitude from the periheion direction)\n"
     ]
    }
   ],
   "source": [
    "spin = SpinParams(RYUGU, orbit)"
   ]
  },
  {
   "cell_type": "code",
   "execution_count": 8,
   "metadata": {},
   "outputs": [],
   "source": [
    "# Astroshaper.init_temps_zero!(shape, orbit, spin, params_thermo)\n",
    "# Astroshaper.init_temps_zero!(shape::Shape, collect(1:shape.num_face))"
   ]
  },
  {
   "cell_type": "code",
   "execution_count": null,
   "metadata": {},
   "outputs": [],
   "source": []
  },
  {
   "cell_type": "markdown",
   "metadata": {},
   "source": [
    "# YORP効果 @現在の軌道"
   ]
  },
  {
   "cell_type": "code",
   "execution_count": 49,
   "metadata": {},
   "outputs": [],
   "source": [
    "thermo_params = ThermoParams(\n",
    "    A_B   = 0.04,\n",
    "    # A_B   = fill(0.04, shape.num_face),\n",
    "    A_TH  = 0.0,\n",
    "    k     = 0.1,\n",
    "    # k     = fill(0.1, shape.num_face),\n",
    "    ρ     = 1270.0,\n",
    "    Cp    = 600.0,\n",
    "    ϵ     = 1.,\n",
    "    t_bgn = 0.0,\n",
    "    t_end = spin.P * 10,\n",
    "    Nt    = 721,\n",
    "    z_max = 0.6,\n",
    "    Nz    = 41,\n",
    "    P     = spin.P,\n",
    ");"
   ]
  },
  {
   "cell_type": "code",
   "execution_count": 50,
   "metadata": {},
   "outputs": [
    {
     "data": {
      "text/plain": [
       "ThermoParams{Int64, Float64, Int64, Float64}"
      ]
     },
     "execution_count": 50,
     "metadata": {},
     "output_type": "execute_result"
    }
   ],
   "source": [
    "typeof(thermo_params)"
   ]
  },
  {
   "cell_type": "code",
   "execution_count": 52,
   "metadata": {},
   "outputs": [
    {
     "name": "stdout",
     "output_type": "stream",
     "text": [
      "  7.546398 seconds (2 allocations: 160 bytes)\n"
     ]
    },
    {
     "data": {
      "text/plain": [
       "3-element Vector{Float64}:\n",
       "  2.5306956279461983\n",
       " -8.233792225809143\n",
       " -0.7075406040546186"
      ]
     },
     "execution_count": 52,
     "metadata": {},
     "output_type": "execute_result"
    }
   ],
   "source": [
    "@time τ̄ = run_YORP(shape, orbit, spin, thermo_params)"
   ]
  },
  {
   "cell_type": "code",
   "execution_count": 53,
   "metadata": {},
   "outputs": [
    {
     "name": "stdout",
     "output_type": "stream",
     "text": [
      "shapename = \"ryugu_test.obj\"\n",
      "τ̄ = [2.5306956279461983, -8.233792225809143, -0.7075406040546186]\n",
      "(ω̇, ωε̇, ωψ̇) = (-2.305600098551757e-6, 6.734927363385765e-5, 6.191331835096895e-5)\n",
      "YORP_timescale(3.5, 7.63262, ω̇) = 1.5871695526790055e6\n"
     ]
    }
   ],
   "source": [
    "C = 4.039541372643629e16\n",
    "ω̇, ωε̇, ωψ̇ = torque2rate(τ̄, spin, C)  # [deg/day²]\n",
    "\n",
    "@show shapename\n",
    "@show τ̄\n",
    "@show ω̇, ωε̇, ωψ̇\n",
    "@show YORP_timescale(3.5, 7.63262, ω̇);  # 3.5時間から7.6時間まで減速する時間スケール [yr]"
   ]
  },
  {
   "cell_type": "code",
   "execution_count": 15,
   "metadata": {},
   "outputs": [],
   "source": [
    "##############################\n",
    "#  　ryugu_v252_f500.obj     #\n",
    "#　  t_end = orbit.T         #\n",
    "##############################\n",
    "\n",
    "# shapename = \"ryugu_v252_f500.obj\"\n",
    "# τ̄ = [2.102139762963553, -1.9503690549955461, 0.10649756611585151]\n",
    "# (ω̇, ωε̇, ωψ̇) = (-2.417553631012555e-6, 8.713420516412938e-6, 2.9006181145065934e-5)\n",
    "# getTimeScale(3.5, 7.63262, ω̇) = 1.514706707465591\n",
    "\n",
    "##############################\n",
    "#　  ryugu_test.obj          #\n",
    "#　  t_end = spin.P * 10     #\n",
    "##############################\n",
    "\n",
    "# shapename = \"ryugu_test.obj\"\n",
    "# τ̄ = [2.5306956279461983, -8.233792225809143, -0.7075406040546186]\n",
    "# (ω̇, ωε̇, ωψ̇) = (-2.305600098551757e-6, 6.734927363385765e-5, 6.191331835096895e-5)\n",
    "# YORP_timescale(3.5, 7.63262, ω̇) = 1.5871695526790055e6"
   ]
  },
  {
   "cell_type": "code",
   "execution_count": null,
   "metadata": {},
   "outputs": [],
   "source": []
  },
  {
   "cell_type": "markdown",
   "metadata": {},
   "source": [
    "# Yarkovsky効果 @現在の軌道"
   ]
  },
  {
   "cell_type": "markdown",
   "metadata": {},
   "source": [
    "可視光の反射率を変えた時に、Yarkovksy drift rateがどれくらい変わるか\n",
    "\n",
    "- 全球を白く塗る\n",
    "- 全球を黒く塗る\n",
    "- 半球を白く塗る \n",
    "- 半球を黒く塗る\n",
    "- ある場所から半径R圏内を白く塗る\n",
    "- ある場所から半径R圏内を黒く塗る"
   ]
  },
  {
   "cell_type": "code",
   "execution_count": 56,
   "metadata": {},
   "outputs": [],
   "source": [
    "thermo_params = ThermoParams(\n",
    "    A_B   = 0.04,\n",
    "    # A_B   = fill(0.04, shape.num_face),\n",
    "    A_TH  = 0.0,\n",
    "    k     = 0.1,\n",
    "    # k     = fill(0.1, shape.num_face),\n",
    "    ρ     = 1270.0,\n",
    "    Cp    = 600.0,\n",
    "    ϵ     = 1.,\n",
    "    t_bgn = 0.0,\n",
    "    t_end = spin.P * 10,\n",
    "    Nt    = 721,\n",
    "    z_max = 0.6,\n",
    "    Nz    = 41,\n",
    "    P     = spin.P,\n",
    ");"
   ]
  },
  {
   "cell_type": "code",
   "execution_count": 47,
   "metadata": {},
   "outputs": [],
   "source": [
    "A_B = fill(0.04, shape.num_face)\n",
    "\n",
    "selected = [center[1] > 0 for center in shape.facets.center]\n",
    "A_B[selected] .= 1;"
   ]
  },
  {
   "cell_type": "code",
   "execution_count": 48,
   "metadata": {},
   "outputs": [
    {
     "data": {
      "text/plain": [
       "GLMakie.Screen(...)"
      ]
     },
     "execution_count": 48,
     "metadata": {},
     "output_type": "execute_result"
    }
   ],
   "source": [
    "draw(shape; data=A_B)"
   ]
  },
  {
   "cell_type": "code",
   "execution_count": 128,
   "metadata": {},
   "outputs": [
    {
     "name": "stdout",
     "output_type": "stream",
     "text": [
      "  7.418221 seconds (8.44 k allocations: 239.047 KiB)\n"
     ]
    },
    {
     "data": {
      "text/html": [
       "<div class=\"data-frame\"><p>721 rows × 9 columns</p><table class=\"data-frame\"><thead><tr><th></th><th>t</th><th>u</th><th>ϕ</th><th>f_x</th><th>f_y</th><th>f_z</th><th>τ_x</th><th>τ_y</th><th>τ_z</th></tr><tr><th></th><th title=\"Float64\">Float64</th><th title=\"Float64\">Float64</th><th title=\"Float64\">Float64</th><th title=\"Float64\">Float64</th><th title=\"Float64\">Float64</th><th title=\"Float64\">Float64</th><th title=\"Float64\">Float64</th><th title=\"Float64\">Float64</th><th title=\"Float64\">Float64</th></tr></thead><tbody><tr><th>1</th><td>0.0</td><td>0.468819</td><td>0.0</td><td>1.90212e-5</td><td>1.02542e-5</td><td>-1.40544e-6</td><td>-0.000528987</td><td>0.000193509</td><td>-9.0529e-5</td></tr><tr><th>2</th><td>381.631</td><td>0.46889</td><td>0.0872665</td><td>0.025544</td><td>0.0134518</td><td>-0.00159032</td><td>0.43984</td><td>-0.671912</td><td>-0.214646</td></tr><tr><th>3</th><td>763.262</td><td>0.46896</td><td>0.174533</td><td>0.0517712</td><td>0.0262483</td><td>-0.00324469</td><td>0.838556</td><td>-1.27199</td><td>-0.415826</td></tr><tr><th>4</th><td>1144.89</td><td>0.469031</td><td>0.261799</td><td>0.079729</td><td>0.0384986</td><td>-0.00504891</td><td>1.21761</td><td>-1.83762</td><td>-0.591526</td></tr><tr><th>5</th><td>1526.52</td><td>0.469101</td><td>0.349066</td><td>0.107593</td><td>0.049073</td><td>-0.00683545</td><td>1.56989</td><td>-2.37126</td><td>-0.749464</td></tr><tr><th>6</th><td>1908.15</td><td>0.469172</td><td>0.436332</td><td>0.134406</td><td>0.0575789</td><td>-0.00859515</td><td>1.90292</td><td>-2.85768</td><td>-0.869135</td></tr><tr><th>7</th><td>2289.79</td><td>0.469242</td><td>0.523599</td><td>0.159602</td><td>0.0639084</td><td>-0.010362</td><td>2.21003</td><td>-3.30579</td><td>-0.955768</td></tr><tr><th>8</th><td>2671.42</td><td>0.469313</td><td>0.610865</td><td>0.182878</td><td>0.0679558</td><td>-0.0119916</td><td>2.48997</td><td>-3.75187</td><td>-1.05517</td></tr><tr><th>9</th><td>3053.05</td><td>0.469383</td><td>0.698132</td><td>0.203958</td><td>0.0700833</td><td>-0.0136593</td><td>2.73357</td><td>-4.18318</td><td>-1.16108</td></tr><tr><th>10</th><td>3434.68</td><td>0.469454</td><td>0.785398</td><td>0.222759</td><td>0.0706187</td><td>-0.0151164</td><td>2.94833</td><td>-4.64274</td><td>-1.27855</td></tr><tr><th>11</th><td>3816.31</td><td>0.469524</td><td>0.872665</td><td>0.239263</td><td>0.0698765</td><td>-0.0166607</td><td>3.08442</td><td>-5.08947</td><td>-1.43666</td></tr><tr><th>12</th><td>4197.94</td><td>0.469595</td><td>0.959931</td><td>0.253482</td><td>0.0683074</td><td>-0.018173</td><td>3.11618</td><td>-5.54585</td><td>-1.63394</td></tr><tr><th>13</th><td>4579.57</td><td>0.469665</td><td>1.0472</td><td>0.265559</td><td>0.0664053</td><td>-0.0195854</td><td>3.0434</td><td>-6.00266</td><td>-1.83741</td></tr><tr><th>14</th><td>4961.2</td><td>0.469736</td><td>1.13446</td><td>0.275931</td><td>0.0640616</td><td>-0.0207299</td><td>2.87309</td><td>-6.49685</td><td>-2.08411</td></tr><tr><th>15</th><td>5342.83</td><td>0.469807</td><td>1.22173</td><td>0.284727</td><td>0.0614655</td><td>-0.0223303</td><td>2.64743</td><td>-6.84091</td><td>-2.4453</td></tr><tr><th>&vellip;</th><td>&vellip;</td><td>&vellip;</td><td>&vellip;</td><td>&vellip;</td><td>&vellip;</td><td>&vellip;</td><td>&vellip;</td><td>&vellip;</td><td>&vellip;</td></tr></tbody></table></div>"
      ],
      "text/latex": [
       "\\begin{tabular}{r|ccccccccc}\n",
       "\t& t & u & ϕ & f\\_x & f\\_y & f\\_z & τ\\_x & τ\\_y & τ\\_z\\\\\n",
       "\t\\hline\n",
       "\t& Float64 & Float64 & Float64 & Float64 & Float64 & Float64 & Float64 & Float64 & Float64\\\\\n",
       "\t\\hline\n",
       "\t1 & 0.0 & 0.468819 & 0.0 & 1.90212e-5 & 1.02542e-5 & -1.40544e-6 & -0.000528987 & 0.000193509 & -9.0529e-5 \\\\\n",
       "\t2 & 381.631 & 0.46889 & 0.0872665 & 0.025544 & 0.0134518 & -0.00159032 & 0.43984 & -0.671912 & -0.214646 \\\\\n",
       "\t3 & 763.262 & 0.46896 & 0.174533 & 0.0517712 & 0.0262483 & -0.00324469 & 0.838556 & -1.27199 & -0.415826 \\\\\n",
       "\t4 & 1144.89 & 0.469031 & 0.261799 & 0.079729 & 0.0384986 & -0.00504891 & 1.21761 & -1.83762 & -0.591526 \\\\\n",
       "\t5 & 1526.52 & 0.469101 & 0.349066 & 0.107593 & 0.049073 & -0.00683545 & 1.56989 & -2.37126 & -0.749464 \\\\\n",
       "\t6 & 1908.15 & 0.469172 & 0.436332 & 0.134406 & 0.0575789 & -0.00859515 & 1.90292 & -2.85768 & -0.869135 \\\\\n",
       "\t7 & 2289.79 & 0.469242 & 0.523599 & 0.159602 & 0.0639084 & -0.010362 & 2.21003 & -3.30579 & -0.955768 \\\\\n",
       "\t8 & 2671.42 & 0.469313 & 0.610865 & 0.182878 & 0.0679558 & -0.0119916 & 2.48997 & -3.75187 & -1.05517 \\\\\n",
       "\t9 & 3053.05 & 0.469383 & 0.698132 & 0.203958 & 0.0700833 & -0.0136593 & 2.73357 & -4.18318 & -1.16108 \\\\\n",
       "\t10 & 3434.68 & 0.469454 & 0.785398 & 0.222759 & 0.0706187 & -0.0151164 & 2.94833 & -4.64274 & -1.27855 \\\\\n",
       "\t11 & 3816.31 & 0.469524 & 0.872665 & 0.239263 & 0.0698765 & -0.0166607 & 3.08442 & -5.08947 & -1.43666 \\\\\n",
       "\t12 & 4197.94 & 0.469595 & 0.959931 & 0.253482 & 0.0683074 & -0.018173 & 3.11618 & -5.54585 & -1.63394 \\\\\n",
       "\t13 & 4579.57 & 0.469665 & 1.0472 & 0.265559 & 0.0664053 & -0.0195854 & 3.0434 & -6.00266 & -1.83741 \\\\\n",
       "\t14 & 4961.2 & 0.469736 & 1.13446 & 0.275931 & 0.0640616 & -0.0207299 & 2.87309 & -6.49685 & -2.08411 \\\\\n",
       "\t15 & 5342.83 & 0.469807 & 1.22173 & 0.284727 & 0.0614655 & -0.0223303 & 2.64743 & -6.84091 & -2.4453 \\\\\n",
       "\t$\\dots$ & $\\dots$ & $\\dots$ & $\\dots$ & $\\dots$ & $\\dots$ & $\\dots$ & $\\dots$ & $\\dots$ & $\\dots$ \\\\\n",
       "\\end{tabular}\n"
      ],
      "text/plain": [
       "\u001b[1m721×9 DataFrame\u001b[0m\n",
       "\u001b[1m Row \u001b[0m│\u001b[1m t            \u001b[0m\u001b[1m u        \u001b[0m\u001b[1m ϕ          \u001b[0m\u001b[1m f_x        \u001b[0m\u001b[1m f_y        \u001b[0m\u001b[1m f_z         \u001b[0m\u001b[1m τ_x          \u001b[0m\u001b[1m τ_y \u001b[0m ⋯\n",
       "\u001b[1m     \u001b[0m│\u001b[90m Float64      \u001b[0m\u001b[90m Float64  \u001b[0m\u001b[90m Float64    \u001b[0m\u001b[90m Float64    \u001b[0m\u001b[90m Float64    \u001b[0m\u001b[90m Float64     \u001b[0m\u001b[90m Float64      \u001b[0m\u001b[90m Floa\u001b[0m ⋯\n",
       "─────┼──────────────────────────────────────────────────────────────────────────────────────────────\n",
       "   1 │    0.0        0.468819   0.0        1.90212e-5  1.02542e-5  -1.40544e-6  -0.000528987   0.0 ⋯\n",
       "   2 │  381.631      0.46889    0.0872665  0.025544    0.0134518   -0.00159032   0.43984      -0.6\n",
       "   3 │  763.262      0.46896    0.174533   0.0517712   0.0262483   -0.00324469   0.838556     -1.2\n",
       "  ⋮  │      ⋮           ⋮          ⋮           ⋮           ⋮            ⋮            ⋮             ⋱\n",
       " 719 │    2.74011e5  0.519329  62.6573     0.62042     0.194731    -0.092316     2.62015      -9.4\n",
       " 720 │    2.74393e5  0.519399  62.7446     0.619137    0.196491    -0.0936024    2.84142      -9.6 ⋯\n",
       " 721 │    2.74774e5  0.519469  62.8319     0.619016    0.196434    -0.0952242    3.00562      -9.5\n",
       "\u001b[36m                                                                      2 columns and 715 rows omitted\u001b[0m"
      ]
     },
     "execution_count": 128,
     "metadata": {},
     "output_type": "execute_result"
    }
   ],
   "source": [
    "@time df = run_TPM(shape, orbit, spin, thermo_params)"
   ]
  },
  {
   "cell_type": "code",
   "execution_count": null,
   "metadata": {},
   "outputs": [],
   "source": []
  },
  {
   "cell_type": "code",
   "execution_count": null,
   "metadata": {},
   "outputs": [],
   "source": []
  },
  {
   "cell_type": "code",
   "execution_count": null,
   "metadata": {},
   "outputs": [],
   "source": []
  },
  {
   "cell_type": "code",
   "execution_count": null,
   "metadata": {},
   "outputs": [],
   "source": []
  },
  {
   "cell_type": "code",
   "execution_count": 28,
   "metadata": {},
   "outputs": [],
   "source": [
    "# draw(shape; data=[flux.sun for flux in shape.facets.flux])\n",
    "# draw(shape; data=[flux.rad for flux in shape.facets.flux])"
   ]
  },
  {
   "cell_type": "code",
   "execution_count": null,
   "metadata": {},
   "outputs": [],
   "source": []
  },
  {
   "cell_type": "code",
   "execution_count": null,
   "metadata": {},
   "outputs": [],
   "source": []
  },
  {
   "cell_type": "code",
   "execution_count": null,
   "metadata": {},
   "outputs": [],
   "source": []
  },
  {
   "cell_type": "code",
   "execution_count": null,
   "metadata": {},
   "outputs": [],
   "source": []
  },
  {
   "cell_type": "code",
   "execution_count": null,
   "metadata": {},
   "outputs": [],
   "source": []
  },
  {
   "cell_type": "code",
   "execution_count": 23,
   "metadata": {},
   "outputs": [],
   "source": [
    "using Distributed"
   ]
  },
  {
   "cell_type": "code",
   "execution_count": 52,
   "metadata": {},
   "outputs": [],
   "source": [
    "# nworkers()\n",
    "# nprocs()\n",
    "# addprocs(4)\n",
    "# rmprocs(2)"
   ]
  },
  {
   "cell_type": "code",
   "execution_count": 53,
   "metadata": {},
   "outputs": [
    {
     "data": {
      "text/plain": [
       "f2 (generic function with 1 method)"
      ]
     },
     "execution_count": 53,
     "metadata": {},
     "output_type": "execute_result"
    }
   ],
   "source": [
    "function f1()\n",
    "    nheads = @distributed (+) for i = 1:200000000\n",
    "        Int(rand(Bool))\n",
    "    end\n",
    "end\n",
    "\n",
    "function f2()\n",
    "    sum(Int(rand(Bool)) for i = 1:200000000)\n",
    "end"
   ]
  },
  {
   "cell_type": "code",
   "execution_count": 54,
   "metadata": {},
   "outputs": [
    {
     "name": "stdout",
     "output_type": "stream",
     "text": [
      "  0.133683 seconds (44.48 k allocations: 2.289 MiB, 27.05% compilation time)\n"
     ]
    },
    {
     "data": {
      "text/plain": [
       "99998616"
      ]
     },
     "execution_count": 54,
     "metadata": {},
     "output_type": "execute_result"
    }
   ],
   "source": [
    "@time f1()"
   ]
  },
  {
   "cell_type": "code",
   "execution_count": 55,
   "metadata": {},
   "outputs": [
    {
     "name": "stdout",
     "output_type": "stream",
     "text": [
      "  0.243791 seconds\n"
     ]
    },
    {
     "data": {
      "text/plain": [
       "100010017"
      ]
     },
     "execution_count": 55,
     "metadata": {},
     "output_type": "execute_result"
    }
   ],
   "source": [
    "@time f2()"
   ]
  },
  {
   "cell_type": "code",
   "execution_count": null,
   "metadata": {},
   "outputs": [],
   "source": []
  },
  {
   "cell_type": "code",
   "execution_count": null,
   "metadata": {},
   "outputs": [],
   "source": []
  },
  {
   "cell_type": "code",
   "execution_count": null,
   "metadata": {},
   "outputs": [],
   "source": []
  },
  {
   "cell_type": "code",
   "execution_count": null,
   "metadata": {},
   "outputs": [],
   "source": []
  },
  {
   "cell_type": "code",
   "execution_count": null,
   "metadata": {},
   "outputs": [],
   "source": []
  },
  {
   "cell_type": "code",
   "execution_count": null,
   "metadata": {},
   "outputs": [],
   "source": [
    "# open(\"ryugu_test_temps.txt\",\"w\") do f\n",
    "#     for smesh in shape.smeshes\n",
    "#         println(f, smesh.Tz[begin], \", \", smesh.flux.sun, \", \", smesh.flux.scat, \", \", smesh.flux.rad)\n",
    "#     end\n",
    "# end"
   ]
  },
  {
   "cell_type": "code",
   "execution_count": null,
   "metadata": {},
   "outputs": [],
   "source": []
  },
  {
   "cell_type": "code",
   "execution_count": null,
   "metadata": {},
   "outputs": [],
   "source": [
    "# shapename = \"ryugu_v252_f500.obj\"\n",
    "\n",
    "# Thermophysical parameters\n",
    "# -------------------------\n",
    "# A_B   : 0.04\n",
    "# A_TH  : 0.0\n",
    "# k     : 0.1\n",
    "# ρ     : 1270.0\n",
    "# Cₚ    : 600.0\n",
    "# ϵ     : 1.0\n",
    "# P     : 27477.432\n",
    "# l     : 0.21287051812296282\n",
    "# Γ     : 276.04347483684523\n",
    "# Δt    : 0.01388888888888889\n",
    "# t_bgn : 0.0\n",
    "# t_end : 1490.1074827395094\n",
    "# Nt    : 107288\n",
    "# Δz    : 0.09395382778392625\n",
    "# z_max : 2.8186148335177874\n",
    "# Nz    : 31\n",
    "# λ     : 0.12520702099737538\n",
    "\n",
    "# 影 + 熱伝導\n",
    "# τ̄ = [2.166292988343463, -1.8232052646633534, 0.12149914462601369]\n",
    "# (ω̇, ωε̇, ωψ̇) = (-2.3559241586480615e-6, 7.198547956478111e-6, 2.903520943282301e-5)\n",
    "# getTimeScale(3.5, 7.63262, ω̇) = 1.5543304681988876\n",
    "\n",
    "# 影 + 熱伝導 + 放射の再吸収\n",
    "# τ̄ = [2.1867628755835007, -1.9130691894522611, 0.20980627031427984]\n",
    "# (ω̇, ωε̇, ωψ̇) = (-3.3918521233894786e-6, 7.818508184547549e-6, 2.964269717748932e-5)\n",
    "# getTimeScale(3.5, 7.63262, ω̇) = 1.0796121314667426\n",
    "\n",
    "# 影 + 熱伝導 + 放射の再吸収 + 散乱光による自己加熱\n",
    "# τ̄ = [2.1865019814933127, -1.9132227674055484, 0.20659523329863488]\n",
    "# (ω̇, ωε̇, ωψ̇) = (-3.358599466983103e-6, 7.826075560400724e-6, 2.9640911737278277e-5)\n",
    "# getTimeScale(3.5, 7.63262, ω̇) = 1.0903011021560833\n",
    "\n",
    "# 影 + 熱伝導 + 放射の再吸収 + 散乱光による自己加熱 + 熱放射の再吸収による自己加熱\n",
    "# τ̄ = [2.1769952611580217, -1.9075575309460082, 0.11690136500927037]\n",
    "# (ω̇, ωε̇, ωψ̇) = (-2.4174445056821524e-6, 7.953525830274134e-6, 2.9524204264352846e-5)\n",
    "# getTimeScale(3.5, 7.63262, ω̇) = 1.5147750825077182"
   ]
  },
  {
   "cell_type": "code",
   "execution_count": null,
   "metadata": {},
   "outputs": [],
   "source": [
    "# shapename = \"ryugu_v752_f1500.obj\"\n",
    "\n",
    "# 影\n",
    "# τ̄ = [3.3097974041391374, -1.7111464770712586, 0.12728322411992796]\n",
    "# (ω̇, ωε̇, ωψ̇) = (-1.5003553780529698e-6, 9.426867138482173e-7, 3.9434066533743185e-5)\n",
    "# getTimeScale(3.5, 7.63262, ω̇) = 2.440678224718057\n",
    "\n",
    "# 影 + 熱伝導 + 放射の再吸収 + 散乱光による自己加熱 + 熱放射の再吸収による自己加熱\n",
    "# τ̄ = [2.165370019439715, -1.8680106417353224, 0.027423863292429056]\n",
    "# (ω̇, ωε̇, ωψ̇) = (-1.433047521048842e-6, 7.77033687219021e-6, 2.923188963996669e-5)\n",
    "# getTimeScale(3.5, 7.63262, ω̇) = 2.5553128188466436"
   ]
  },
  {
   "cell_type": "code",
   "execution_count": null,
   "metadata": {},
   "outputs": [],
   "source": [
    "# shapename = \"ryugu_test.obj\"\n",
    "\n",
    "# 影\n",
    "# τ̄ = [3.2623680861875415, -1.7632177354631766, 0.2112963317251145]\n",
    "# (ω̇, ωε̇, ωψ̇) = (-2.484150619384357e-6, 1.5205017761112165e-6, 3.9220246601817255e-5)\n",
    "# getTimeScale(3.5, 7.63262, ω̇) = 1.4740993045985396\n",
    "\n",
    "# 影 + 熱伝導 + 放射の再吸収 + 散乱光による自己加熱 + 熱放射の再吸収による自己加熱\n",
    "# τ̄ = [2.1336218786667724, -1.878807112180092, 0.04045730505339008]\n",
    "# (ω̇, ωε̇, ωψ̇) = (-1.6056650245345357e-6, 7.99631943219241e-6, 2.8978423396048164e-5)\n",
    "# getTimeScale(3.5, 7.63262, ω̇) = 2.280603142373392"
   ]
  },
  {
   "cell_type": "code",
   "execution_count": null,
   "metadata": {},
   "outputs": [],
   "source": []
  },
  {
   "cell_type": "code",
   "execution_count": null,
   "metadata": {},
   "outputs": [],
   "source": []
  },
  {
   "cell_type": "code",
   "execution_count": null,
   "metadata": {},
   "outputs": [],
   "source": []
  },
  {
   "cell_type": "code",
   "execution_count": null,
   "metadata": {},
   "outputs": [],
   "source": [
    "surf_temp = [T[begin] for T in Ts];"
   ]
  },
  {
   "cell_type": "code",
   "execution_count": null,
   "metadata": {},
   "outputs": [],
   "source": [
    "plot(framestyle=:box, legend=false, size=(600,400))\n",
    "plot!(xlims=(0, t_max/P))\n",
    "plot!(ylims=(0, 400))\n",
    "\n",
    "ts = collect(0:Δτ:t_max/P)\n",
    "zs = collect(0:Δz:x_max/l)\n",
    "\n",
    "plot!(ts, surf_temp)\n",
    "\n",
    "xlabel!(\"Time / Rotation period\")\n",
    "ylabel!(\"Surface temperature [K]\")"
   ]
  },
  {
   "cell_type": "code",
   "execution_count": null,
   "metadata": {},
   "outputs": [],
   "source": []
  },
  {
   "cell_type": "code",
   "execution_count": null,
   "metadata": {},
   "outputs": [],
   "source": []
  },
  {
   "cell_type": "markdown",
   "metadata": {},
   "source": [
    "# View factorの計算時間"
   ]
  },
  {
   "cell_type": "code",
   "execution_count": null,
   "metadata": {},
   "outputs": [],
   "source": [
    "plot(framestyle=:box, legend=false)\n",
    "\n",
    "\n",
    "Ns = [500,      1500,     5932,     49152,      196608]    # 786432,     3145728\n",
    "ts = [0.002659, 0.027669, 0.473278, 164.478600, 10829.774176]    # 3600*24*10, 3600*24*1000\n",
    "plot!(Ns, ts, marker=(:circle))\n",
    "\n",
    "plot!(xticks=[10^3, 10^4, 10^5])\n",
    "plot!(xlabel=\"Number of facets\")\n",
    "plot!(ylabel=\"Calculation time [sec]\")\n",
    "plot!(xaxis=:log, yaxis=:log)"
   ]
  },
  {
   "cell_type": "code",
   "execution_count": null,
   "metadata": {},
   "outputs": [],
   "source": []
  },
  {
   "cell_type": "code",
   "execution_count": null,
   "metadata": {},
   "outputs": [],
   "source": [
    "# using FileIO, MeshIO\n",
    "# mesh = load(shapepath)"
   ]
  },
  {
   "cell_type": "code",
   "execution_count": null,
   "metadata": {},
   "outputs": [],
   "source": [
    "# using VTKView"
   ]
  },
  {
   "cell_type": "code",
   "execution_count": null,
   "metadata": {},
   "outputs": [],
   "source": [
    "# using VTKDataTypes\n",
    "# using VTKDataIO"
   ]
  },
  {
   "cell_type": "code",
   "execution_count": null,
   "metadata": {},
   "outputs": [],
   "source": [
    "using VTKDataTypes\n",
    "using WriteVTK\n",
    "using PyCall\n",
    "using LightXML\n",
    "# using Iterators\n",
    "\n",
    "@pyimport vtk.util.numpy_support as vtkns\n",
    "@pyimport vtk as vtk\n",
    "@pyimport numpy as np"
   ]
  },
  {
   "cell_type": "code",
   "execution_count": null,
   "metadata": {},
   "outputs": [],
   "source": [
    "# include(\"/Users/masanorikanamaru/Documents/GitHub/VTKDataIO.jl/src/vtkreaders.jl\")"
   ]
  },
  {
   "cell_type": "code",
   "execution_count": null,
   "metadata": {},
   "outputs": [],
   "source": [
    "# read_vtk(vtkname)"
   ]
  },
  {
   "cell_type": "code",
   "execution_count": null,
   "metadata": {},
   "outputs": [],
   "source": [
    "# read_static_vtk"
   ]
  }
 ],
 "metadata": {
  "kernelspec": {
   "display_name": "Julia 1.7.0",
   "language": "julia",
   "name": "julia-1.7"
  },
  "language_info": {
   "file_extension": ".jl",
   "mimetype": "application/julia",
   "name": "julia",
   "version": "1.7.0"
  }
 },
 "nbformat": 4,
 "nbformat_minor": 4
}
