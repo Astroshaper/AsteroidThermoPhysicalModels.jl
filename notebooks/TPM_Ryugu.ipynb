{
 "cells": [
  {
   "cell_type": "code",
   "execution_count": 1,
   "metadata": {},
   "outputs": [
    {
     "data": {
      "text/plain": [
       "v\"1.8.1\""
      ]
     },
     "execution_count": 1,
     "metadata": {},
     "output_type": "execute_result"
    }
   ],
   "source": [
    "VERSION"
   ]
  },
  {
   "cell_type": "code",
   "execution_count": 2,
   "metadata": {},
   "outputs": [],
   "source": [
    "ENV[\"COLUMNS\"] = 1000\n",
    "ENV[\"LINES\"] = 20;"
   ]
  },
  {
   "cell_type": "markdown",
   "metadata": {},
   "source": [
    "Install Astroshaper package"
   ]
  },
  {
   "cell_type": "code",
   "execution_count": 3,
   "metadata": {},
   "outputs": [],
   "source": [
    "# using Pkg\n",
    "# Pkg.add(url=\"https://github.com/MasanoriKanamaru/Astroshaper\")"
   ]
  },
  {
   "cell_type": "markdown",
   "metadata": {},
   "source": [
    "If you would like to install a new package..."
   ]
  },
  {
   "cell_type": "code",
   "execution_count": 4,
   "metadata": {},
   "outputs": [],
   "source": [
    "# using Pkg\n",
    "# Pkg.add(\"CSV\")\n",
    "# Pkg.update(\"CSV\")\n",
    "# Pkg.build(\"CSV\")"
   ]
  },
  {
   "cell_type": "code",
   "execution_count": 7,
   "metadata": {},
   "outputs": [],
   "source": [
    "using DataFrames\n",
    "using GLMakie\n",
    "using JLD2\n",
    "\n",
    "using Revise\n",
    "using Astroshaper\n",
    "import SPICE"
   ]
  },
  {
   "cell_type": "markdown",
   "metadata": {},
   "source": [
    "# SPICE Kernels"
   ]
  },
  {
   "cell_type": "code",
   "execution_count": 6,
   "metadata": {},
   "outputs": [],
   "source": [
    "\"\"\"\n",
    "Obtain a dataframe of ephemerides \n",
    "\n",
    "# Arguments\n",
    "- `targ`   : Target body name\n",
    "- `ets`    : AbstractVetor of observer epoch\n",
    "- `ref`    : Reference frame of output position vector\n",
    "- `abcorr` : Aberration correction flag\n",
    "- `obs`    : Observing body name\n",
    "\"\"\"\n",
    "function spkpos_df(targ, ets::AbstractVector, ref, abcorr, obs)\n",
    "    df = DataFrame(et=Float64[], x=Float64[], y=Float64[], z=Float64[], lt=Float64[])\n",
    "    for et in ets\n",
    "        pos, lt = SPICE.spkpos(targ, et, ref, abcorr, obs)  # pos [km], lt [s]\n",
    "        pos = SPICE.convrt.(pos, \"km\", \"m\")\n",
    "        push!(df, (et, pos..., lt))\n",
    "    end\n",
    "    df\n",
    "end\n",
    "\n",
    "function spkpos(targ, ets::AbstractVector, ref, abcorr, obs)\n",
    "    positions = Vector{Float64}[]\n",
    "    for et in ets\n",
    "        pos, lt = SPICE.spkpos(targ, et, ref, abcorr, obs)  # pos [km], lt [s]\n",
    "        pos = SPICE.convrt.(pos, \"km\", \"m\")\n",
    "        push!(positions, collect(pos))\n",
    "    end\n",
    "    positions\n",
    "end\n",
    "\n",
    "\n",
    "\"\"\"\n",
    "# Arguments\n",
    "- `from` : Name of the frame to transform from\n",
    "- `to`   : Name of the frame to transform to\n",
    "- `ets`  : Epoch of the rotation matrix\n",
    "\n",
    "# Return\n",
    "- `rotate` : A rotation matrix\n",
    "\"\"\"\n",
    "pxform(from, to, ets) = [SPICE.pxform(from, to, et) for et in ets];"
   ]
  },
  {
   "cell_type": "code",
   "execution_count": 61,
   "metadata": {},
   "outputs": [],
   "source": [
    "meta_kernel = \"/Users/masanorikanamaru/Dropbox/spice/hayabusa2/kernels/mk/hyb2_v03.tm\"\n",
    "\n",
    "SPICE.furnsh(meta_kernel)"
   ]
  },
  {
   "cell_type": "code",
   "execution_count": 62,
   "metadata": {},
   "outputs": [
    {
     "name": "stdout",
     "output_type": "stream",
     "text": [
      "et_range = 5.836752691841208e8:76.3262:5.863536318683208e8\n",
      "length(et_range) = 35092\n"
     ]
    }
   ],
   "source": [
    "et_start = SPICE.utc2et(\"2018-07-01T00:00:00\")\n",
    "et_end   = SPICE.utc2et(\"2018-08-01T00:00:00\")\n",
    "step     = 76.3262  # Rotation of 1 deg\n",
    "\n",
    "et_range = et_start : step : et_end\n",
    "\n",
    "@show et_range\n",
    "@show length(et_range);"
   ]
  },
  {
   "cell_type": "code",
   "execution_count": 64,
   "metadata": {},
   "outputs": [
    {
     "name": "stdout",
     "output_type": "stream",
     "text": [
      "save_range[begin] = 34733\n",
      "save_range[end] = 35092\n",
      "length(save_range) = 360\n"
     ]
    }
   ],
   "source": [
    "## Indices of et_range to be saved.\n",
    "## Save only the last rotation.\n",
    "save_range = findall(et_range .> et_range[end] - 7.63262 * 3600)\n",
    "\n",
    "@show save_range[begin]\n",
    "@show save_range[end]\n",
    "@show length(save_range);"
   ]
  },
  {
   "cell_type": "code",
   "execution_count": 65,
   "metadata": {},
   "outputs": [],
   "source": [
    "sun_ryugu = spkpos(\"SUN\", et_range, \"RYUGU_FIXED\", \"None\", \"RYUGU\");  # Sun's position in the RYUGU_FIXED frame"
   ]
  },
  {
   "cell_type": "code",
   "execution_count": 66,
   "metadata": {},
   "outputs": [],
   "source": [
    "RYUGU_TO_J2000 = pxform(\"RYUGU_FIXED\", \"J2000\", et_range);  # Transformation matrix from RYUGU_FIXED to J2000"
   ]
  },
  {
   "cell_type": "code",
   "execution_count": 67,
   "metadata": {},
   "outputs": [],
   "source": [
    "SPICE.kclear()"
   ]
  },
  {
   "cell_type": "code",
   "execution_count": 68,
   "metadata": {},
   "outputs": [],
   "source": [
    "# fig = Figure()\n",
    "# ax = Axis3(fig[1, 1], aspect=:data)\n",
    "\n",
    "# scatter!([r[1] for r in sun_ryugu], [r[2] for r in sun_ryugu], [r[3] for r in sun_ryugu], color=:orange, size=2)\n",
    "\n",
    "# display(fig)"
   ]
  },
  {
   "cell_type": "markdown",
   "metadata": {},
   "source": [
    "# Shape Model\n",
    "\n",
    "Note that it will take much time to load a shape model for the first time because each facet must find all facets that are visible from itself for a thermophysical simulation."
   ]
  },
  {
   "cell_type": "code",
   "execution_count": 69,
   "metadata": {},
   "outputs": [],
   "source": [
    "#### For the first time\n",
    "# shapepath = \"/Users/masanorikanamaru/Dropbox/Anivid/shape/SHAPE_SFM_49k_v20180804.obj\"\n",
    "# shape = ShapeModel(shapepath; scale=1000, find_visible_facets=true, save_shape=true)"
   ]
  },
  {
   "cell_type": "code",
   "execution_count": 70,
   "metadata": {},
   "outputs": [
    {
     "data": {
      "text/plain": []
     },
     "execution_count": 70,
     "metadata": {},
     "output_type": "execute_result"
    },
    {
     "name": "stdout",
     "output_type": "stream",
     "text": [
      "Shape model\n",
      "-----------\n",
      "Nodes             : 25350\n",
      "Faces             : 49152\n",
      "Surface area      : 2.7410142634530533e6\n",
      "Volume            : 3.772668304867635e8\n",
      "Equivalent radius : 448.2496970543\n",
      "Center-of-Figure  : [0.36087616278246093, 0.16010195831071833, 0.012657636711836645]\n",
      "Inertia tensor    : \n",
      "    | Ixx Ixy Ixz |   [0.0, 0.0, 0.0]\n",
      "    | Iyx Iyy Iyz | = [0.0, 0.0, 0.0]\n",
      "    | Izx Izy Izz |   [0.0, 0.0, 0.0]\n"
     ]
    }
   ],
   "source": [
    "#### After the second time, you can load the saved data (*jld2).\n",
    "shapepath = \"/Users/masanorikanamaru/Dropbox/Anivid/shape/SHAPE_SFM_49k_v20180804.jld2\"\n",
    "shape = ShapeModel(shapepath)"
   ]
  },
  {
   "cell_type": "code",
   "execution_count": 71,
   "metadata": {},
   "outputs": [],
   "source": [
    "# draw(shape)"
   ]
  },
  {
   "cell_type": "markdown",
   "metadata": {},
   "source": [
    "# Thermophsyical Simulation on Ryugu"
   ]
  },
  {
   "cell_type": "markdown",
   "metadata": {},
   "source": [
    "Thermal peroperties [Okada+2020; Shimaki+2020]"
   ]
  },
  {
   "cell_type": "code",
   "execution_count": 72,
   "metadata": {},
   "outputs": [
    {
     "data": {
      "text/plain": []
     },
     "execution_count": 72,
     "metadata": {},
     "output_type": "execute_result"
    },
    {
     "name": "stdout",
     "output_type": "stream",
     "text": [
      "Thermophysical parameters\n",
      "-------------------------\n",
      "A_B   : 0.04\n",
      "A_TH  : 0.0\n",
      "k     : 0.1\n",
      "ρ     : 1270.0\n",
      "Cp    : 600.0\n",
      "ϵ     : 1.0\n",
      "-------------------------\n",
      "t_bgn : 5.836752691841208e8\n",
      "t_bgn : 21241.98757671826 (Normalized by period P)\n",
      "t_end : 5.863536318683208e8\n",
      "t_end : 21339.462576718262 (Normalized by period P)\n",
      "Nt    : 35092\n",
      "Δt    : 76.3262000000017\n",
      "Δt    : 0.00277777777777784 (Normalized by period P)\n",
      "-------------------------\n",
      "z_max : 0.6\n",
      "z_max : 2.8186148335177874 (Normalized by skin depth l)\n",
      "Nz    : 41\n",
      "Δz    : 0.015\n",
      "Δz    : 0.07046537083794469 (Normalized by skin depth l)\n",
      "-------------------------\n",
      "P     : 27477.432\n",
      "l     : 0.21287051812296282\n",
      "Γ     : 276.04347483684523\n",
      "λ     : 0.0445180519101789\n",
      "-------------------------\n"
     ]
    }
   ],
   "source": [
    "thermo_params = ThermoParams(\n",
    "    A_B   = 0.04,  # Bolometric Bond albedo\n",
    "    A_TH  = 0.0,\n",
    "    k     = 0.1,\n",
    "    ρ     = 1270.0,\n",
    "    Cp    = 600.0,\n",
    "    ϵ     = 1.0,\n",
    "    t_bgn = et_range[begin],\n",
    "    t_end = et_range[end],\n",
    "    Nt    = length(et_range),\n",
    "    z_max = 0.6,\n",
    "    Nz    = 41,\n",
    "    P     = 7.63262 * 3600,\n",
    ")"
   ]
  },
  {
   "cell_type": "code",
   "execution_count": 74,
   "metadata": {},
   "outputs": [],
   "source": [
    "savepath = \"/Users/masanorikanamaru/Dropbox/Anivid/TPM_Ryugu.jld2\"\n",
    "run_TPM!(shape, et_range, sun_ryugu, thermo_params, savepath, save_range)\n",
    "\n",
    "jldopen(savepath, \"r+\") do file\n",
    "    file[\"RYUGU_TO_J2000\"] = RYUGU_TO_J2000[save_range]\n",
    "end;"
   ]
  },
  {
   "cell_type": "code",
   "execution_count": 87,
   "metadata": {},
   "outputs": [
    {
     "data": {
      "text/plain": [
       "GLMakie.Screen(...)"
      ]
     },
     "execution_count": 87,
     "metadata": {},
     "output_type": "execute_result"
    }
   ],
   "source": [
    "draw(shape; data=:temperature, colormap=:vik)"
   ]
  },
  {
   "cell_type": "code",
   "execution_count": 78,
   "metadata": {},
   "outputs": [],
   "source": [
    "data = load(savepath);"
   ]
  },
  {
   "cell_type": "code",
   "execution_count": 171,
   "metadata": {},
   "outputs": [
    {
     "data": {
      "text/plain": [
       "360-element Vector{Vector{Float64}}:\n",
       " [-5.445478071426464, -13.407310332541739, 1.5165430089894898]\n",
       " [-5.546896974206358, -13.355674887146078, 1.5750789025324705]\n",
       " [-5.646604281695755, -13.331027118819776, 1.6030290956922635]\n",
       " [-5.781724284054608, -13.318326376616906, 1.612806963871151]\n",
       " [-5.949858411386413, -13.263027565674754, 1.6168456541264473]\n",
       " [-6.109332041814932, -13.23233824896784, 1.6542182423237137]\n",
       " [-6.242204823942307, -13.180186221655683, 1.554026383076671]\n",
       " [-6.397582851240367, -13.142559126014115, 1.6054725485355685]\n",
       " ⋮\n",
       " [-3.1896192269450108, -11.548814571049508, -0.04644383549558256]\n",
       " [-3.329625018915606, -11.606369580558226, 0.05664949580691614]\n",
       " [-3.474740137276325, -11.656725930886232, 0.14271427273270487]\n",
       " [-3.6365284986310993, -11.69473692116042, 0.2541713712546988]\n",
       " [-3.752482744839304, -11.72737267252229, 0.3250555031674181]\n",
       " [-3.890169422548446, -11.74276337704782, 0.4146334759235643]\n",
       " [-4.045500932166366, -11.76306565085965, 0.49991647668516725]"
      ]
     },
     "execution_count": 171,
     "metadata": {},
     "output_type": "execute_result"
    }
   ],
   "source": [
    "# data[\"shape\"]\n",
    "# data[\"et_range\"]\n",
    "# data[\"sun\"]\n",
    "# data[\"thermo_params\"]\n",
    "# data[\"surf_temps\"]\n",
    "# data[\"forces\"]\n",
    "# data[\"torques\"]\n",
    "\n",
    "# data[\"RYUGU_TO_J2000\"]"
   ]
  },
  {
   "cell_type": "code",
   "execution_count": null,
   "metadata": {},
   "outputs": [],
   "source": []
  },
  {
   "cell_type": "markdown",
   "metadata": {},
   "source": [
    "# Convert data format"
   ]
  },
  {
   "cell_type": "code",
   "execution_count": 173,
   "metadata": {},
   "outputs": [],
   "source": [
    "using DataFrames\n",
    "using CSV\n",
    "using LinearAlgebra"
   ]
  },
  {
   "cell_type": "code",
   "execution_count": 166,
   "metadata": {},
   "outputs": [],
   "source": [
    "function jld_to_csv(filepath_jld)\n",
    "    data = load(filepath_jld)\n",
    "\n",
    "    df = DataFrame(time=Float64[], sun_x=Float64[], sun_y=Float64[], sun_z=Float64[], sun_dist=Float64[])\n",
    "\n",
    "    for (t, r☉) in zip(data[\"et_range\"], data[\"sun\"])\n",
    "        push!(df, [t, r☉..., norm(r☉)])\n",
    "    end\n",
    "\n",
    "    filepath_time_sun   = splitext(filepath_jld)[1] * \"_time_sun.csv\"\n",
    "    filepath_surf_temps = splitext(filepath_jld)[1] * \"_surf_temps.csv\"\n",
    "    CSV.write(filepath_time_sun, df)\n",
    "    CSV.write(filepath_surf_temps, DataFrame(data[\"surf_temps\"], :auto))\n",
    "\n",
    "    df\n",
    "end;"
   ]
  },
  {
   "cell_type": "code",
   "execution_count": 170,
   "metadata": {},
   "outputs": [],
   "source": [
    "filepath_jld = \"/Users/masanorikanamaru/Dropbox/Anivid/TPM_Ryugu_2018-07-01_2018-08-01/TPM_Ryugu.jld2\"\n",
    "jld_to_csv(filepath_jld);"
   ]
  },
  {
   "cell_type": "code",
   "execution_count": null,
   "metadata": {},
   "outputs": [],
   "source": []
  },
  {
   "cell_type": "code",
   "execution_count": null,
   "metadata": {},
   "outputs": [],
   "source": []
  },
  {
   "cell_type": "code",
   "execution_count": null,
   "metadata": {},
   "outputs": [],
   "source": []
  },
  {
   "cell_type": "code",
   "execution_count": null,
   "metadata": {},
   "outputs": [],
   "source": []
  }
 ],
 "metadata": {
  "kernelspec": {
   "display_name": "Julia 1.8.1",
   "language": "julia",
   "name": "julia-1.8"
  },
  "language_info": {
   "file_extension": ".jl",
   "mimetype": "application/julia",
   "name": "julia",
   "version": "1.8.1"
  }
 },
 "nbformat": 4,
 "nbformat_minor": 4
}
