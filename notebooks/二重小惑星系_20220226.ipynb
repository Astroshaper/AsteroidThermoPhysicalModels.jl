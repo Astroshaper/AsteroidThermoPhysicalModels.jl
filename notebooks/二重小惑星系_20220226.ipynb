{
 "cells": [
  {
   "cell_type": "code",
   "execution_count": 1,
   "metadata": {},
   "outputs": [],
   "source": [
    "import SPICE"
   ]
  },
  {
   "cell_type": "code",
   "execution_count": 3,
   "metadata": {},
   "outputs": [],
   "source": [
    "using Revise\n",
    "using Astroshaper"
   ]
  },
  {
   "cell_type": "code",
   "execution_count": 4,
   "metadata": {},
   "outputs": [
    {
     "name": "stdout",
     "output_type": "stream",
     "text": [
      "/Users/masanorikanamaru/Documents/GitHub/Astroshaper/notebooks\n",
      "kw4a.obj\n",
      "kw4b.obj\n"
     ]
    }
   ],
   "source": [
    "run(`pwd`);\n",
    "run(`ls ../../../shape/1999KW4`);"
   ]
  },
  {
   "cell_type": "code",
   "execution_count": 5,
   "metadata": {},
   "outputs": [],
   "source": [
    "shapepath1 = \"../../../shape/1999KW4/kw4a.obj\"  # Moshup\n",
    "shapepath2 = \"../../../shape/1999KW4/kw4b.obj\"  # Squannit\n",
    "\n",
    "shape1 = Shape(shapepath1; scale=1000, find_visible_facets=true, save_shape=false)\n",
    "shape2 = Shape(shapepath2; scale=1000, find_visible_facets=true, save_shape=false);"
   ]
  },
  {
   "cell_type": "code",
   "execution_count": 6,
   "metadata": {},
   "outputs": [
    {
     "name": "stdout",
     "output_type": "stream",
     "text": [
      "Shape model\n",
      "-----------\n",
      "Nodes             : 4586\n",
      "Faces             : 9168\n",
      "Surface area      : 5.743638127258508e6\n",
      "Volume            : 1.1953080261451116e9\n",
      "Equivalent radius : 658.3604632114165\n",
      "Center-of-Figure  : [0.28767094671714266, 0.3415906758513652, 0.1377089038193722]\n",
      "Inertia tensor    : \n",
      "    | Ixx Ixy Ixz |   [0.0, 0.0, 0.0]\n",
      "    | Iyx Iyy Iyz | = [0.0, 0.0, 0.0]\n",
      "    | Izx Izy Izz |   [0.0, 0.0, 0.0]\n",
      "\n",
      "Shape model\n",
      "-----------\n",
      "Nodes             : 1148\n",
      "Faces             : 2292\n",
      "Surface area      : 673921.5188286362\n",
      "Volume            : 4.803450937052403e7\n",
      "Equivalent radius : 225.50434622701187\n",
      "Center-of-Figure  : [-0.3362157386511278, -0.37818371176366805, 0.08011475904831772]\n",
      "Inertia tensor    : \n",
      "    | Ixx Ixy Ixz |   [0.0, 0.0, 0.0]\n",
      "    | Iyx Iyy Iyz | = [0.0, 0.0, 0.0]\n",
      "    | Izx Izy Izz |   [0.0, 0.0, 0.0]\n",
      "\n"
     ]
    }
   ],
   "source": [
    "println(shape1)\n",
    "println(shape2)"
   ]
  },
  {
   "cell_type": "code",
   "execution_count": 7,
   "metadata": {},
   "outputs": [
    {
     "data": {
      "text/plain": [
       "GLMakie.Screen(...)"
      ]
     },
     "execution_count": 7,
     "metadata": {},
     "output_type": "execute_result"
    }
   ],
   "source": [
    "draw(shape1, shape2)"
   ]
  },
  {
   "cell_type": "code",
   "execution_count": null,
   "metadata": {},
   "outputs": [],
   "source": []
  },
  {
   "cell_type": "markdown",
   "metadata": {},
   "source": [
    "## 66391 Moshup (1999 KW4)\n",
    "\n",
    "- [JPL database](https://ssd.jpl.nasa.gov/tools/sbdb_lookup.html#/?sstr=1999KW4&view=VOSP)"
   ]
  },
  {
   "cell_type": "code",
   "execution_count": 7,
   "metadata": {},
   "outputs": [
    {
     "data": {
      "text/plain": [
       "Orbital elements\n",
       "----------------\n"
      ]
     },
     "execution_count": 7,
     "metadata": {},
     "output_type": "execute_result"
    },
    {
     "name": "stdout",
     "output_type": "stream",
     "text": [
      "Semi-mojor axis        : a  = 0.6423718937095335 [AU]\n",
      "Eccentricity           : e  = 0.6883626074960387 [-]\n",
      "Lon. of ascending node : Ω  = 244.89998977091534 [deg]\n",
      "Argument of periapsis  : ω  = 192.6452855048569 [deg]\n",
      "Inclination            : I  = 38.87892427076324 [deg]\n",
      "Periapsis passage time : tₚ = -8.239849462571867e6 [sec]\n",
      "Mean anomaly           : Φ  = 182.5701683309563 [deg]\n",
      "\n",
      "Other parameters\n",
      "----------------\n",
      "Gravitational parameter : μ = 1.32712440018e20 [m^3/s^2]\n",
      "Mean motion             : n = 1.9143629523143177 [deg/day]\n",
      "Orbital period          : T = 188.05211392374034 [day]\n"
     ]
    }
   ],
   "source": [
    "params_orbit = Dict()\n",
    "\n",
    "params_orbit[:a] = 0.6423718937095335  # semi-mojor axis [AU]\n",
    "params_orbit[:e] = 0.6883626074960387  # eccentricity\n",
    "params_orbit[:I] = 38.87892427076324   # inclination [deg]\n",
    "params_orbit[:Ω] = 244.8999897709153   # longitude of the ascending node [deg]\n",
    "params_orbit[:ω] = 192.6452855048569   # argument of periapsis [deg]\n",
    "params_orbit[:Φ] = 182.5701683309563   # mean anomaly [deg]\n",
    "\n",
    "params_orbit[:μ] = GM☉\n",
    "\n",
    "orbit1 = OrbitalElements(params_orbit)"
   ]
  },
  {
   "cell_type": "code",
   "execution_count": 8,
   "metadata": {},
   "outputs": [
    {
     "data": {
      "text/plain": [
       "Spin parameters\n",
       "---------------\n"
      ]
     },
     "execution_count": 8,
     "metadata": {},
     "output_type": "execute_result"
    },
    {
     "name": "stdout",
     "output_type": "stream",
     "text": [
      "Right ascension (RA) : α = 22.298395064751112 [deg]\n",
      "Declination (Dec)    : δ = -67.747791152182 [deg]\n",
      "Ecliptic longitude   : λ = 326.0 [deg]\n",
      "Ecliptic latitude    : β = -65.0 [deg]\n",
      "Obliquity            : ε = 147.3267557672455 [deg]\n",
      "Spin period          : P = 2.7645000000000004 [hours]\n",
      "Spin rate            : ω = 0.0006313363183195259 [rad/sec]\n",
      "Vernal equinox lon.  : γ = 125.15365519198035 [deg]\n",
      "                           (longitude from the periheion direction)\n"
     ]
    }
   ],
   "source": [
    "params_spin = Dict()\n",
    "params_spin[:λ] = 326.\n",
    "params_spin[:β] = -65.\n",
    "params_spin[:T] = 2.7645\n",
    "\n",
    "spin1 = setSpinParams(params_spin, orbit1)"
   ]
  },
  {
   "cell_type": "code",
   "execution_count": 9,
   "metadata": {},
   "outputs": [],
   "source": [
    "# params_thermo = ParamsThermo(\n",
    "#     A_B   = 0.04,\n",
    "#     A_TH  = 0.,\n",
    "#     k     = 0.1,\n",
    "#     ρ     = 1270.,\n",
    "#     Cp    = 600.,\n",
    "#     ϵ     = 1.,\n",
    "#     P     = spin1.T,\n",
    "#     Δt    = spin1.T/72,\n",
    "#     t_bgn = 0.,\n",
    "#     # t_end = spin.T*10,\n",
    "#     t_end = orbit1.T,\n",
    "#     Δz    = 0.015,\n",
    "#     z_max = 0.6,\n",
    "# )"
   ]
  },
  {
   "cell_type": "markdown",
   "metadata": {},
   "source": [
    "## Satellite Squannit\n",
    "\n",
    "- [JPL database](https://ssd.jpl.nasa.gov/tools/sbdb_lookup.html#/?sstr=1999KW4&view=VOSP)"
   ]
  },
  {
   "cell_type": "code",
   "execution_count": 10,
   "metadata": {},
   "outputs": [
    {
     "data": {
      "text/plain": [
       "Orbital elements\n",
       "----------------\n"
      ]
     },
     "execution_count": 10,
     "metadata": {},
     "output_type": "execute_result"
    },
    {
     "name": "stdout",
     "output_type": "stream",
     "text": [
      "Semi-mojor axis        : a  = 1.7032328067237854e-8 [AU]\n",
      "Eccentricity           : e  = 0.0004 [-]\n",
      "Lon. of ascending node : Ω  = 105.4 [deg]\n",
      "Argument of periapsis  : ω  = 319.7 [deg]\n",
      "Inclination            : I  = 156.1 [deg]\n",
      "Periapsis passage time : tₚ = 0.0 [sec]\n",
      "Mean anomaly           : Φ  = -0.0 [deg]\n",
      "\n",
      "Other parameters\n",
      "----------------\n",
      "Gravitational parameter : μ = 166.051187528 [m^3/s^2]\n",
      "Mean motion             : n = 495.97322554307357 [deg/day]\n",
      "Orbital period          : T = 0.725845633311783 [day]\n"
     ]
    }
   ],
   "source": [
    "params_orbit = Dict()\n",
    "\n",
    "params_orbit[:a] = 2548 / AU  # semi-mojor axis [AU]\n",
    "params_orbit[:e] = 0.0004     # eccentricity\n",
    "params_orbit[:I] = 156.1      # inclination [deg]\n",
    "params_orbit[:Ω] = 105.4      # longitude of the ascending node [deg]\n",
    "params_orbit[:ω] = 319.7      # argument of periapsis [deg]\n",
    "params_orbit[:tₚ] = 0.        # periapsis passage time [sec]\n",
    "\n",
    "m₁ = 2.353e12\n",
    "m₂ = 0.135e12\n",
    "params_orbit[:μ] = G * (m₁ + m₂)\n",
    "\n",
    "orbit2 = OrbitalElements(params_orbit)"
   ]
  },
  {
   "cell_type": "code",
   "execution_count": 11,
   "metadata": {},
   "outputs": [
    {
     "data": {
      "text/plain": [
       "Spin parameters\n",
       "---------------\n"
      ]
     },
     "execution_count": 11,
     "metadata": {},
     "output_type": "execute_result"
    },
    {
     "name": "stdout",
     "output_type": "stream",
     "text": [
      "Right ascension (RA) : α = 15.829825508029357 [deg]\n",
      "Declination (Dec)    : δ = -66.1369604954399 [deg]\n",
      "Ecliptic longitude   : λ = 326.0 [deg]\n",
      "Ecliptic latitude    : β = -62.0 [deg]\n",
      "Obliquity            : ε = 147.00101898240996 [deg]\n",
      "Spin period          : P = 17.42029519948279 [hours]\n",
      "Spin rate            : ω = 0.00010018941883637818 [rad/sec]\n",
      "Vernal equinox lon.  : γ = 119.6521850206004 [deg]\n",
      "                           (longitude from the periheion direction)\n"
     ]
    }
   ],
   "source": [
    "params_spin = Dict()\n",
    "params_spin[:λ] = 326.\n",
    "params_spin[:β] = -62.\n",
    "params_spin[:T] = SPICE.convrt(orbit2.T, \"seconds\", \"hours\")\n",
    "\n",
    "spin2 = setSpinParams(params_spin, orbit1)"
   ]
  },
  {
   "cell_type": "code",
   "execution_count": 12,
   "metadata": {},
   "outputs": [
    {
     "data": {
      "text/plain": [
       "Thermophysical parameters\n"
      ]
     },
     "execution_count": 12,
     "metadata": {},
     "output_type": "execute_result"
    },
    {
     "name": "stdout",
     "output_type": "stream",
     "text": [
      "-------------------------\n",
      "A_B   : 0.04\n",
      "A_TH  : 0.0\n",
      "k     : 0.1\n",
      "ρ     : 1270.0\n",
      "Cp    : 600.0\n",
      "ϵ     : 1.0\n",
      "P     : 9952.2\n",
      "l     : 0.12811116893055807\n",
      "Γ     : 276.04347483684523\n",
      "Δt    : 0.01388888888888889\n",
      "t_bgn : 0.0\n",
      "t_end : 12.602854186639746\n",
      "Nt    : 908\n",
      "Δz    : 0.11708581012269635\n",
      "z_max : 4.683432404907855\n",
      "Nz    : 41\n",
      "λ     : 0.08062117235345587\n"
     ]
    }
   ],
   "source": [
    "params_thermo = ParamsThermo(\n",
    "    A_B   = 0.04,\n",
    "    A_TH  = 0.,\n",
    "    k     = 0.1,\n",
    "    ρ     = 1270.,\n",
    "    Cp    = 600.,\n",
    "    ϵ     = 1.,\n",
    "    P     = spin1.T,\n",
    "    Δt    = spin1.T/72,\n",
    "    t_bgn = 0.,\n",
    "    t_end = spin2.T * 2,\n",
    "    Δz    = 0.015,\n",
    "    z_max = 0.6,\n",
    ")"
   ]
  },
  {
   "cell_type": "code",
   "execution_count": 22,
   "metadata": {},
   "outputs": [],
   "source": [
    "# kernels = [\n",
    "#     \"../../spice/kernels/generic_kernels/lsk/naif0012.tls\",\n",
    "#     \"../../spice/kernels/generic_kernels/spk/planets/de440.bsp\",\n",
    "#     \"../../spice/kernels/generic_kernels/pck/de-403-masses.tpc\",\n",
    "#     \"../../spice/kernels/generic_kernels/pck/pck00010.tpc\",\n",
    "# ]\n",
    "# bodies = [\"Sun\", \"Mercury\", \"Venus\", \"Earth_barycenter\", \"Mars_barycenter\"]\n",
    "\n",
    "# Astroshaper.plot_orbits(kernels, bodies, orbit1)"
   ]
  },
  {
   "cell_type": "code",
   "execution_count": 51,
   "metadata": {},
   "outputs": [
    {
     "data": {
      "text/plain": [
       "\"tmp.mp4\""
      ]
     },
     "execution_count": 51,
     "metadata": {},
     "output_type": "execute_result"
    }
   ],
   "source": [
    "draw(shape1::Shape, shape2::Shape, \"tmp.mp4\")"
   ]
  },
  {
   "cell_type": "code",
   "execution_count": 23,
   "metadata": {},
   "outputs": [],
   "source": [
    "tmp = run_binary(shape1, shape2, orbit1, orbit2, spin1, spin2, params_thermo);"
   ]
  },
  {
   "cell_type": "code",
   "execution_count": null,
   "metadata": {},
   "outputs": [],
   "source": []
  },
  {
   "cell_type": "code",
   "execution_count": null,
   "metadata": {},
   "outputs": [],
   "source": []
  },
  {
   "cell_type": "code",
   "execution_count": null,
   "metadata": {},
   "outputs": [],
   "source": []
  },
  {
   "cell_type": "code",
   "execution_count": null,
   "metadata": {},
   "outputs": [],
   "source": []
  }
 ],
 "metadata": {
  "kernelspec": {
   "display_name": "Julia 1.7.0",
   "language": "julia",
   "name": "julia-1.7"
  },
  "language_info": {
   "file_extension": ".jl",
   "mimetype": "application/julia",
   "name": "julia",
   "version": "1.7.0"
  }
 },
 "nbformat": 4,
 "nbformat_minor": 4
}
