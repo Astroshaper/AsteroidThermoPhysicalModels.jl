{
 "cells": [
  {
   "cell_type": "code",
   "execution_count": null,
   "metadata": {},
   "outputs": [],
   "source": [
    "# using Pkg\n",
    "# Pkg.add(\"https://github.com/MasanoriKanamaru/Astroshaper\")\n",
    "# Pkg.update(\"Astroshaper\")"
   ]
  },
  {
   "cell_type": "code",
   "execution_count": null,
   "metadata": {},
   "outputs": [],
   "source": [
    "# Pkg.test(\"Astroshaper\")"
   ]
  },
  {
   "cell_type": "code",
   "execution_count": null,
   "metadata": {},
   "outputs": [],
   "source": [
    "using Revise\n",
    "using Astroshaper\n",
    "using Plots\n",
    "\n",
    "using FileIO\n",
    "using JLD2\n",
    "using Profile"
   ]
  },
  {
   "cell_type": "code",
   "execution_count": 2,
   "metadata": {},
   "outputs": [],
   "source": []
  },
  {
   "cell_type": "code",
   "execution_count": null,
   "metadata": {},
   "outputs": [],
   "source": []
  },
  {
   "cell_type": "code",
   "execution_count": null,
   "metadata": {},
   "outputs": [],
   "source": [
    "shapedir = \"/Users/masanorikanamaru/Documents/shape/ryugu\"\n",
    "\n",
    "shapename = \"ryugu_v252_f500.obj\"\n",
    "# shapename = \"ryugu_v752_f1500.obj\"\n",
    "# shapename = \"ryugu_test.obj\"\n",
    "\n",
    "# shapename = \"SHAPE_SPC_49k_v20190802.obj\"\n",
    "# shapename = \"SHAPE_SPC_200k_v20190802.obj\"\n",
    "# shapename = \"SHAPE_SPC_800k_v20190802.obj\"\n",
    "# shapename = \"SHAPE_SPC_3M_v20190802.obj\"\n",
    "\n",
    "# shapename = \"SHAPE_SFM_49k_v20180804.obj\"\n",
    "# shapename = \"SHAPE_SPC_49k_v20200323.obj\"\n",
    "# shapename = \"SHAPE_SPC_3M_v20200323.obj\"\n",
    "\n",
    "shapepath = joinpath(shapedir, shapename)\n",
    "@show shapepath;"
   ]
  },
  {
   "cell_type": "code",
   "execution_count": null,
   "metadata": {},
   "outputs": [],
   "source": [
    "@time shape = setShapeModel(shapepath; scale=1000, find_visible_faces=true, save_shape=false)\n",
    "\n",
    "# shape = setShapeModel(splitext(shapepath)[1] * \".jld2\")"
   ]
  },
  {
   "cell_type": "code",
   "execution_count": null,
   "metadata": {},
   "outputs": [],
   "source": [
    "# showshape(shape)"
   ]
  },
  {
   "cell_type": "code",
   "execution_count": null,
   "metadata": {},
   "outputs": [],
   "source": [
    "params_orbit = Dict()\n",
    "\n",
    "params_orbit[:a] = 1.18956373  # semi-mojor axis [AU]\n",
    "params_orbit[:e] = 0.19027921  # eccentricity\n",
    "params_orbit[:I] = 5.8840222   # inclination [deg]\n",
    "params_orbit[:Ω] = 251.589203  # longitude of the ascending node [deg]\n",
    "params_orbit[:ω] = 211.435963  # argument of periapsis [deg]\n",
    "params_orbit[:Φ] = 21.9353799  # mean anomaly [deg]\n",
    "\n",
    "params_orbit[:μ] = GM☉ + 30.0\n",
    "\n",
    "orbit = OrbitalElements(params_orbit)"
   ]
  },
  {
   "cell_type": "code",
   "execution_count": null,
   "metadata": {},
   "outputs": [],
   "source": [
    "params_spin = Dict()\n",
    "params_spin[:α] = 96.4\n",
    "params_spin[:δ] = -66.4\n",
    "params_spin[:T] = 7.63262\n",
    "\n",
    "spin = setSpinParams(params_spin, orbit)"
   ]
  },
  {
   "cell_type": "code",
   "execution_count": null,
   "metadata": {},
   "outputs": [],
   "source": [
    "dt = spin.T / 72\n",
    "times = Vector(0:dt:orbit.T);"
   ]
  },
  {
   "cell_type": "code",
   "execution_count": null,
   "metadata": {},
   "outputs": [],
   "source": [
    "# @time τ̄ = getNetTorque(shape, orbit, spin, times)\n",
    "@time τ̄ = getNetTorque_shadowing(shape, orbit, spin, times)\n",
    "\n",
    "C = 4.039541372643629e16\n",
    "ω̇, ωε̇, ωψ̇ = torque2rate(τ̄, spin, C)  # [deg/day/day]\n",
    "\n",
    "@show shapename\n",
    "@show τ̄\n",
    "@show ω̇, ωε̇, ωψ̇\n",
    "@show getTimeScale(3.5, 7.63262, ω̇);  # 3.5時間から7.6時間まで減速する時間スケール [Myr]"
   ]
  },
  {
   "cell_type": "code",
   "execution_count": null,
   "metadata": {},
   "outputs": [],
   "source": []
  },
  {
   "cell_type": "code",
   "execution_count": null,
   "metadata": {},
   "outputs": [],
   "source": []
  },
  {
   "cell_type": "code",
   "execution_count": null,
   "metadata": {},
   "outputs": [],
   "source": []
  },
  {
   "cell_type": "markdown",
   "metadata": {},
   "source": [
    "# 熱物理モデル"
   ]
  },
  {
   "cell_type": "code",
   "execution_count": null,
   "metadata": {},
   "outputs": [],
   "source": [
    "shape = setShapeModel(splitext(shapepath)[1] * \".jld2\")"
   ]
  },
  {
   "cell_type": "code",
   "execution_count": null,
   "metadata": {},
   "outputs": [],
   "source": [
    "params_thermo = ParamsThermo(\n",
    "    A_B = 0.04,\n",
    "    A_TH = 0.,\n",
    "    k = 0.1,\n",
    "    ρ = 1270.,\n",
    "    Cₚ = 600.,\n",
    "    ϵ = 1.,\n",
    "    P = spin.T,\n",
    "    Δt = spin.T/72,\n",
    "    t_bgn = 0.,\n",
    "    t_end = spin.T*10,\n",
    "    # t_end = orbit.T,\n",
    "    Δz = 0.02,\n",
    "    z_max = 0.6,\n",
    ")"
   ]
  },
  {
   "cell_type": "code",
   "execution_count": null,
   "metadata": {},
   "outputs": [],
   "source": [
    "@time τ̄ = run_YORP(shape, orbit, spin, params_thermo)\n",
    "\n",
    "## ryugu_v252_f500.obj\n",
    "##      0.192743 seconds (1.00 k allocations: 289.609 KiB) 10 自転分\n",
    "##     24.054642 seconds (1.00 k allocations: 289.609 KiB)　1 公転分"
   ]
  },
  {
   "cell_type": "code",
   "execution_count": null,
   "metadata": {},
   "outputs": [],
   "source": [
    "C = 4.039541372643629e16\n",
    "ω̇, ωε̇, ωψ̇ = torque2rate(τ̄, spin, C)  # [deg/day/day]\n",
    "\n",
    "@show shapename\n",
    "@show τ̄\n",
    "@show ω̇, ωε̇, ωψ̇\n",
    "@show getTimeScale(3.5, 7.63262, ω̇);  # 3.5時間から7.6時間まで減速する時間スケール [Myr]"
   ]
  },
  {
   "cell_type": "code",
   "execution_count": null,
   "metadata": {},
   "outputs": [],
   "source": []
  },
  {
   "cell_type": "code",
   "execution_count": null,
   "metadata": {},
   "outputs": [],
   "source": []
  },
  {
   "cell_type": "code",
   "execution_count": null,
   "metadata": {},
   "outputs": [],
   "source": [
    "# @profile τ̄ = run_YORP(shape, orbit, spin, params_thermo)\n",
    "# Profile.print()"
   ]
  },
  {
   "cell_type": "code",
   "execution_count": null,
   "metadata": {},
   "outputs": [],
   "source": []
  },
  {
   "cell_type": "code",
   "execution_count": null,
   "metadata": {},
   "outputs": [],
   "source": []
  },
  {
   "cell_type": "code",
   "execution_count": null,
   "metadata": {},
   "outputs": [],
   "source": [
    "# temps = get_surface_temperature(shape);"
   ]
  },
  {
   "cell_type": "code",
   "execution_count": null,
   "metadata": {},
   "outputs": [],
   "source": [
    "# open(\"ryugu_test_temps.txt\",\"w\") do f\n",
    "#     for smesh in shape.smeshes\n",
    "#         println(f, smesh.Tz[begin], \", \", smesh.flux.sun, \", \", smesh.flux.scat, \", \", smesh.flux.rad)\n",
    "#     end\n",
    "# end"
   ]
  },
  {
   "cell_type": "code",
   "execution_count": null,
   "metadata": {},
   "outputs": [],
   "source": []
  },
  {
   "cell_type": "code",
   "execution_count": null,
   "metadata": {},
   "outputs": [],
   "source": [
    "# shapename = \"ryugu_v252_f500.obj\"\n",
    "\n",
    "# Thermophysical parameters\n",
    "# -------------------------\n",
    "# A_B   : 0.04\n",
    "# A_TH  : 0.0\n",
    "# k     : 0.1\n",
    "# ρ     : 1270.0\n",
    "# Cₚ    : 600.0\n",
    "# ϵ     : 1.0\n",
    "# P     : 27477.432\n",
    "# l     : 0.21287051812296282\n",
    "# Γ     : 276.04347483684523\n",
    "# Δt    : 0.01388888888888889\n",
    "# t_bgn : 0.0\n",
    "# t_end : 1490.1074827395094\n",
    "# Nt    : 107288\n",
    "# Δz    : 0.09395382778392625\n",
    "# z_max : 2.8186148335177874\n",
    "# Nz    : 31\n",
    "# λ     : 0.12520702099737538\n",
    "\n",
    "# 影 + 熱伝導\n",
    "# τ̄ = [2.166292988343463, -1.8232052646633534, 0.12149914462601369]\n",
    "# (ω̇, ωε̇, ωψ̇) = (-2.3559241586480615e-6, 7.198547956478111e-6, 2.903520943282301e-5)\n",
    "# getTimeScale(3.5, 7.63262, ω̇) = 1.5543304681988876\n",
    "\n",
    "# 影 + 熱伝導 + 放射の再吸収\n",
    "# τ̄ = [2.1867628755835007, -1.9130691894522611, 0.20980627031427984]\n",
    "# (ω̇, ωε̇, ωψ̇) = (-3.3918521233894786e-6, 7.818508184547549e-6, 2.964269717748932e-5)\n",
    "# getTimeScale(3.5, 7.63262, ω̇) = 1.0796121314667426\n",
    "\n",
    "# 影 + 熱伝導 + 放射の再吸収 + 散乱光による自己加熱\n",
    "# τ̄ = [2.1865019814933127, -1.9132227674055484, 0.20659523329863488]\n",
    "# (ω̇, ωε̇, ωψ̇) = (-3.358599466983103e-6, 7.826075560400724e-6, 2.9640911737278277e-5)\n",
    "# getTimeScale(3.5, 7.63262, ω̇) = 1.0903011021560833\n",
    "\n",
    "# 影 + 熱伝導 + 放射の再吸収 + 散乱光による自己加熱 + 熱放射の再吸収による自己加熱\n",
    "# τ̄ = [2.1769952611580217, -1.9075575309460082, 0.11690136500927037]\n",
    "# (ω̇, ωε̇, ωψ̇) = (-2.4174445056821524e-6, 7.953525830274134e-6, 2.9524204264352846e-5)\n",
    "# getTimeScale(3.5, 7.63262, ω̇) = 1.5147750825077182"
   ]
  },
  {
   "cell_type": "code",
   "execution_count": null,
   "metadata": {},
   "outputs": [],
   "source": [
    "# shapename = \"ryugu_v752_f1500.obj\"\n",
    "\n",
    "# 影\n",
    "# τ̄ = [3.3097974041391374, -1.7111464770712586, 0.12728322411992796]\n",
    "# (ω̇, ωε̇, ωψ̇) = (-1.5003553780529698e-6, 9.426867138482173e-7, 3.9434066533743185e-5)\n",
    "# getTimeScale(3.5, 7.63262, ω̇) = 2.440678224718057\n",
    "\n",
    "# 影 + 熱伝導 + 放射の再吸収 + 散乱光による自己加熱 + 熱放射の再吸収による自己加熱\n",
    "# τ̄ = [2.165370019439715, -1.8680106417353224, 0.027423863292429056]\n",
    "# (ω̇, ωε̇, ωψ̇) = (-1.433047521048842e-6, 7.77033687219021e-6, 2.923188963996669e-5)\n",
    "# getTimeScale(3.5, 7.63262, ω̇) = 2.5553128188466436"
   ]
  },
  {
   "cell_type": "code",
   "execution_count": null,
   "metadata": {},
   "outputs": [],
   "source": [
    "# shapename = \"ryugu_test.obj\"\n",
    "\n",
    "# 影\n",
    "# τ̄ = [3.2623680861875415, -1.7632177354631766, 0.2112963317251145]\n",
    "# (ω̇, ωε̇, ωψ̇) = (-2.484150619384357e-6, 1.5205017761112165e-6, 3.9220246601817255e-5)\n",
    "# getTimeScale(3.5, 7.63262, ω̇) = 1.4740993045985396\n",
    "\n",
    "# 影 + 熱伝導 + 放射の再吸収 + 散乱光による自己加熱 + 熱放射の再吸収による自己加熱\n",
    "# τ̄ = [2.1336218786667724, -1.878807112180092, 0.04045730505339008]\n",
    "# (ω̇, ωε̇, ωψ̇) = (-1.6056650245345357e-6, 7.99631943219241e-6, 2.8978423396048164e-5)\n",
    "# getTimeScale(3.5, 7.63262, ω̇) = 2.280603142373392"
   ]
  },
  {
   "cell_type": "code",
   "execution_count": null,
   "metadata": {},
   "outputs": [],
   "source": []
  },
  {
   "cell_type": "code",
   "execution_count": null,
   "metadata": {},
   "outputs": [],
   "source": []
  },
  {
   "cell_type": "code",
   "execution_count": null,
   "metadata": {},
   "outputs": [],
   "source": []
  },
  {
   "cell_type": "code",
   "execution_count": null,
   "metadata": {},
   "outputs": [],
   "source": [
    "surf_temp = [T[begin] for T in Ts];"
   ]
  },
  {
   "cell_type": "code",
   "execution_count": null,
   "metadata": {},
   "outputs": [],
   "source": [
    "plot(framestyle=:box, legend=false, size=(600,400))\n",
    "plot!(xlims=(0, t_max/P))\n",
    "plot!(ylims=(0, 400))\n",
    "\n",
    "ts = collect(0:Δτ:t_max/P)\n",
    "zs = collect(0:Δz:x_max/l)\n",
    "\n",
    "plot!(ts, surf_temp)\n",
    "\n",
    "xlabel!(\"Time / Rotation period\")\n",
    "ylabel!(\"Surface temperature [K]\")"
   ]
  },
  {
   "cell_type": "code",
   "execution_count": null,
   "metadata": {},
   "outputs": [],
   "source": []
  },
  {
   "cell_type": "code",
   "execution_count": null,
   "metadata": {},
   "outputs": [],
   "source": []
  },
  {
   "cell_type": "markdown",
   "metadata": {},
   "source": [
    "# View factorの計算時間"
   ]
  },
  {
   "cell_type": "code",
   "execution_count": null,
   "metadata": {},
   "outputs": [],
   "source": [
    "plot(framestyle=:box, legend=false)\n",
    "\n",
    "\n",
    "Ns = [500,      1500,     5932,     49152,      196608]    # 786432,     3145728\n",
    "ts = [0.002659, 0.027669, 0.473278, 164.478600, 10829.774176]    # 3600*24*10, 3600*24*1000\n",
    "plot!(Ns, ts, marker=(:circle))\n",
    "\n",
    "plot!(xticks=[10^3, 10^4, 10^5])\n",
    "plot!(xlabel=\"Number of facets\")\n",
    "plot!(ylabel=\"Calculation time [sec]\")\n",
    "plot!(xaxis=:log, yaxis=:log)"
   ]
  },
  {
   "cell_type": "code",
   "execution_count": null,
   "metadata": {},
   "outputs": [],
   "source": []
  },
  {
   "cell_type": "markdown",
   "metadata": {},
   "source": [
    "# TPM出力からYORPトルクを計算する"
   ]
  },
  {
   "cell_type": "markdown",
   "metadata": {},
   "source": [
    "## vtkファイルの読込み\n",
    "\n",
    "最終的には自分で書いた方がよさそう...\n",
    "\n",
    "VTK Python tutorial --> https://kitware.github.io/vtk-examples/site/Python/"
   ]
  },
  {
   "cell_type": "code",
   "execution_count": null,
   "metadata": {},
   "outputs": [],
   "source": [
    "using Plots\n",
    "using FileIO\n",
    "using LinearAlgebra\n",
    "using DataFrames\n",
    "using Astroshaper"
   ]
  },
  {
   "cell_type": "code",
   "execution_count": null,
   "metadata": {},
   "outputs": [],
   "source": [
    "isvtk(filename) = splitext(filename)[end] == \".vtk\"\n",
    "filename2phase(filename) = parse(Int64, splitext(filename)[begin][79:end]);"
   ]
  },
  {
   "cell_type": "code",
   "execution_count": null,
   "metadata": {},
   "outputs": [],
   "source": [
    "vtkfiles = filter(f -> isvtk(f), readdir(\".\"))\n",
    "deleteat!(vtkfiles, 361);"
   ]
  },
  {
   "cell_type": "code",
   "execution_count": null,
   "metadata": {},
   "outputs": [],
   "source": [
    "@show vtkname = vtkfiles[1]\n",
    "@show filename2phase(vtkname);"
   ]
  },
  {
   "cell_type": "code",
   "execution_count": null,
   "metadata": {},
   "outputs": [],
   "source": [
    "using PyCall\n",
    "\n",
    "@show PyCall.pyversion\n",
    "@show PyCall.pyprogramname\n",
    "@show PyCall.libpython;"
   ]
  },
  {
   "cell_type": "code",
   "execution_count": null,
   "metadata": {},
   "outputs": [],
   "source": [
    "# pyimport_conda(\"vtk\", \"vtk\")\n",
    "vtk = pyimport(\"vtk\");"
   ]
  },
  {
   "cell_type": "code",
   "execution_count": null,
   "metadata": {},
   "outputs": [],
   "source": [
    "function get_temps(vtkfile)\n",
    "    reader = vtk.vtkPolyDataReader()\n",
    "    reader.SetFileName(vtkfile)\n",
    "    reader.ReadAllScalarsOn()\n",
    "    reader.ReadAllVectorsOn()\n",
    "    reader.ReadAllTensorsOn()\n",
    "    reader.Update()\n",
    "    vtkdata = reader.GetOutput()\n",
    "    \n",
    "    # @show vtkdata.GetNumberOfPoints()\n",
    "    # @show vtkdata.GetNumberOfCells()\n",
    "    # @show vtkdata.GetPoint(0)\n",
    "    \n",
    "    celldata = vtkdata.GetCellData()\n",
    "    temps = celldata.GetScalars()\n",
    "    nodes = vtkdata.GetPoints().GetData()\n",
    "    \n",
    "    temps\n",
    "end"
   ]
  },
  {
   "cell_type": "markdown",
   "metadata": {},
   "source": [
    "## 温度分布から熱トルクを求める"
   ]
  },
  {
   "cell_type": "code",
   "execution_count": null,
   "metadata": {},
   "outputs": [],
   "source": [
    "get_df(ϵ, T, n̂, dS) = - 2/3 * ϵ * σ_SB * T^4 / c₀ * dS .* n̂\n",
    "get_df(ϵ, T, mesh) = get_df(ϵ, T, mesh.normal, mesh.area)\n",
    "\n",
    "get_dτ(ϵ, T, mesh) = mesh.center × get_df(ϵ, T, mesh)"
   ]
  },
  {
   "cell_type": "code",
   "execution_count": null,
   "metadata": {},
   "outputs": [],
   "source": [
    "shapepath = \"/Users/masanorikanamaru/Documents/shape/ryugu/SHAPE_SFM_49k_v20180804.obj\"\n",
    "shape = setShapeModel(shapepath; scale=1000, find_visible_faces=true);"
   ]
  },
  {
   "cell_type": "code",
   "execution_count": null,
   "metadata": {},
   "outputs": [],
   "source": [
    "temps = get_temps(vtkfiles[1])\n",
    "dfs = get_df.(1, temps, shape.smeshes)\n",
    "dτs = get_dτ.(1, temps, shape.smeshes)\n",
    "τ = sum(dτs)\n",
    "@show τ;"
   ]
  },
  {
   "cell_type": "markdown",
   "metadata": {},
   "source": [
    "## １自転分のスナップショットに対して計算"
   ]
  },
  {
   "cell_type": "code",
   "execution_count": null,
   "metadata": {},
   "outputs": [],
   "source": [
    "ϕs = []\n",
    "τs = []\n",
    "for vtkfile in vtkfiles\n",
    "    ϕ = filename2phase(vtkfile)\n",
    "    temps = get_temps(vtkfile)\n",
    "    \n",
    "    dτs = get_dτ.(1, temps, shape.smeshes)\n",
    "    τ = sum(dτs)\n",
    "    \n",
    "    push!(ϕs, ϕ)\n",
    "    push!(τs, τ)\n",
    "end"
   ]
  },
  {
   "cell_type": "code",
   "execution_count": null,
   "metadata": {},
   "outputs": [],
   "source": [
    "params_orbit = Dict()\n",
    "\n",
    "params_orbit[:a] = 1.18956373  # semi-mojor axis [AU]\n",
    "params_orbit[:e] = 0.19027921  # eccentricity\n",
    "params_orbit[:I] = 5.8840222   # inclination [deg]\n",
    "params_orbit[:Ω] = 251.589203  # longitude of the ascending node [deg]\n",
    "params_orbit[:ω] = 211.435963  # argument of periapsis [deg]\n",
    "params_orbit[:Φ] = 21.9353799  # mean anomaly [deg]\n",
    "\n",
    "params_orbit[:μ] = GM☉ + 30.0\n",
    "\n",
    "orbit = OrbitalElements(params_orbit);"
   ]
  },
  {
   "cell_type": "code",
   "execution_count": null,
   "metadata": {},
   "outputs": [],
   "source": [
    "params_spin = Dict()\n",
    "params_spin[:α] = 96.4\n",
    "params_spin[:δ] = -66.4\n",
    "params_spin[:T] = 7.63262\n",
    "\n",
    "spin = setSpinParams(params_spin, orbit)"
   ]
  },
  {
   "cell_type": "code",
   "execution_count": null,
   "metadata": {},
   "outputs": [],
   "source": [
    "## Body-fixed frame -> orbital plane frame\n",
    "# τs = Astroshaper.body_to_orbit.(τs, spin.γ, spin.ε, ϕs);"
   ]
  },
  {
   "cell_type": "code",
   "execution_count": null,
   "metadata": {},
   "outputs": [],
   "source": [
    "function get_df(ϕs, τs, spin)\n",
    "    τω = [Astroshaper.getτω(τ, spin) for τ in τs]\n",
    "    τε = [Astroshaper.getτε(τ, spin) for τ in τs]\n",
    "    τψ = [Astroshaper.getτψ(τ, spin) for τ in τs]\n",
    "    \n",
    "    df = DataFrame(ϕ=ϕs, τω=τω, τε=τε, τψ=τψ)\n",
    "    # sort!(df, [:ϕ])\n",
    "end"
   ]
  },
  {
   "cell_type": "code",
   "execution_count": null,
   "metadata": {},
   "outputs": [],
   "source": [
    "df = get_df(ϕs, τs, spin);"
   ]
  },
  {
   "cell_type": "code",
   "execution_count": null,
   "metadata": {},
   "outputs": [],
   "source": [
    "marker = (:circle, 2, 0.9, :orange, stroke(0, 0., :black, :dot))\n",
    "\n",
    "p1 = hline([0], line=(1, :solid, :grey), label=false)\n",
    "scatter!(df.ϕ, df.τω, marker=marker)\n",
    "\n",
    "p2 = hline([0], line=(1, :solid, :grey), label=false)\n",
    "scatter!(df.ϕ, df.τε, marker=marker)\n",
    "\n",
    "p3 = hline([0], line=(1, :solid, :grey), label=false)\n",
    "scatter!(df.ϕ, df.τψ, marker=marker)\n",
    "\n",
    "plot!(xlabel=\"Phase [deg]\")\n",
    "# plot!(ylabel=\"τ / C [10^-6 deg/day/day]\")\n",
    "\n",
    "layout = @layout [\n",
    "    a\n",
    "    b\n",
    "    c\n",
    "]\n",
    "\n",
    "# title = [\"Type Ⅱ cases\" \"Type Ⅳ cases\"]\n",
    "plot(p1, p2, p3, layout=layout)\n",
    "\n",
    "plot!(framestyle=:box, legend=false)\n",
    "plot!(size=(800,600))\n",
    "plot!(xtickfontsize=10, ytickfontsize=10)\n",
    "# plot!(xlims=(0,spin.T/3600), xticks=(0:1:spin.T/3600))\n",
    "# plot!(ylims=(-20,20), yticks=(-20:5:20))"
   ]
  },
  {
   "cell_type": "code",
   "execution_count": null,
   "metadata": {},
   "outputs": [],
   "source": [
    "# for (ϕ, τ) in zip(ϕs, τs)\n",
    "#     println(ϕ, \" : \", τ)\n",
    "# end"
   ]
  },
  {
   "cell_type": "code",
   "execution_count": null,
   "metadata": {},
   "outputs": [],
   "source": [
    "τs"
   ]
  },
  {
   "cell_type": "code",
   "execution_count": null,
   "metadata": {},
   "outputs": [],
   "source": [
    "sum(τs)/360"
   ]
  },
  {
   "cell_type": "code",
   "execution_count": null,
   "metadata": {},
   "outputs": [],
   "source": [
    "myτs"
   ]
  },
  {
   "cell_type": "code",
   "execution_count": null,
   "metadata": {},
   "outputs": [],
   "source": [
    "sum(myτs)/360"
   ]
  },
  {
   "cell_type": "code",
   "execution_count": null,
   "metadata": {},
   "outputs": [],
   "source": [
    "mydf = get_df(0:360, myτs, spin);"
   ]
  },
  {
   "cell_type": "code",
   "execution_count": null,
   "metadata": {},
   "outputs": [],
   "source": [
    "marker = (:circle, 2, 0.9, :orange, stroke(0, 0., :black, :dot))\n",
    "\n",
    "p1 = hline([0], line=(1, :solid, :grey), label=false)\n",
    "scatter!(mydf.ϕ, mydf.τω, marker=marker)\n",
    "\n",
    "p2 = hline([0], line=(1, :solid, :grey), label=false)\n",
    "scatter!(mydf.ϕ, mydf.τε, marker=marker)\n",
    "\n",
    "p3 = hline([0], line=(1, :solid, :grey), label=false)\n",
    "scatter!(mydf.ϕ, mydf.τψ, marker=marker)\n",
    "\n",
    "plot!(xlabel=\"Phase [deg]\")\n",
    "# plot!(ylabel=\"τ / C [10^-6 deg/day/day]\")\n",
    "\n",
    "layout = @layout [\n",
    "    a\n",
    "    b\n",
    "    c\n",
    "]\n",
    "\n",
    "# title = [\"Type Ⅱ cases\" \"Type Ⅳ cases\"]\n",
    "plot(p1, p2, p3, layout=layout)\n",
    "\n",
    "plot!(framestyle=:box, legend=false)\n",
    "plot!(size=(800,600))\n",
    "plot!(xtickfontsize=10, ytickfontsize=10)\n",
    "# plot!(xlims=(0,spin.T/3600), xticks=(0:1:spin.T/3600))\n",
    "# plot!(ylims=(-20,20), yticks=(-20:5:20))"
   ]
  },
  {
   "cell_type": "code",
   "execution_count": null,
   "metadata": {},
   "outputs": [],
   "source": []
  },
  {
   "cell_type": "code",
   "execution_count": null,
   "metadata": {},
   "outputs": [],
   "source": []
  },
  {
   "cell_type": "code",
   "execution_count": null,
   "metadata": {},
   "outputs": [],
   "source": [
    "time_start = - 3600 * 24\n",
    "dt = spin.T / 360\n",
    "times = Vector(time_start:dt:time_start+spin.T)\n",
    "\n",
    "# myτs = Astroshaper.getTorqueVsTime(shape, orbit, spin, times)\n",
    "myτs = Astroshaper.getTorqueVsTime_shadowing(shape, orbit, spin, times)\n",
    "\n",
    "# @time τ̄ = getNetTorque(shape, orbit, spin, times)\n",
    "# @time τ̄ = getNetTorque_shadowing(shape, orbit, spin, times)\n",
    "\n",
    "# C = 4.039541372643629e16\n",
    "# ω̇, ωε̇, ωψ̇ = torque2rate(τ̄, spin, C)  # [deg/day/day]\n",
    "\n",
    "# @show τ̄\n",
    "# @show ω̇, ωε̇, ωψ̇\n",
    "# @show getTimeScale(3.5, 7.63262, ω̇);  # 3.5時間から7.6時間まで減速する時間スケール [Myr]\n",
    "\n",
    "#   0.061454 seconds (1 allocation: 32 bytes)\n",
    "# τ̄ = [4.939408157483719, -7.864118728020829, -0.6208459855848031]\n",
    "# (ω̇, ωε̇, ωψ̇) = (-1.0989356075969878e-6, 5.279549296388269e-5, 8.320493047921385e-5)\n",
    "# getTimeScale(3.5, 7.63262, ω̇) = 3.3322104363874914"
   ]
  },
  {
   "cell_type": "code",
   "execution_count": null,
   "metadata": {},
   "outputs": [],
   "source": []
  },
  {
   "cell_type": "code",
   "execution_count": null,
   "metadata": {},
   "outputs": [],
   "source": [
    "u = Astroshaper.solveKeplerEquation2(orbit, -3600*24)\n",
    "r = Astroshaper.get_r(orbit, u) / AU\n",
    "Astroshaper.orbit_to_inertia(r, orbit)"
   ]
  },
  {
   "cell_type": "code",
   "execution_count": null,
   "metadata": {},
   "outputs": [],
   "source": []
  },
  {
   "cell_type": "code",
   "execution_count": null,
   "metadata": {},
   "outputs": [],
   "source": [
    "C = 4.039541372643629e16"
   ]
  },
  {
   "cell_type": "code",
   "execution_count": null,
   "metadata": {},
   "outputs": [],
   "source": [
    "P = 7.632613738534321 * 3600\n",
    "albedo = 0.0146  # geometric albedo\n",
    "\n",
    "λ = 179.3\n",
    "β = -87.4\n",
    "\n",
    "yyyy = 2018\n",
    "mm = 6\n",
    "dd = 30\n",
    "localk = [-0.690068325, 0.699534161, -0.090245988];  # 座標はリュウグウ位置 (X,Y,Z) [AU]\n",
    "\n",
    "# 滝田コードでは、2018年6月30日（ユリウス通日で数えている）\n",
    "# 金丸コードでは、2018年7月1日\n",
    "# 実際には１２時間くらいの時間差になっている"
   ]
  },
  {
   "cell_type": "code",
   "execution_count": null,
   "metadata": {},
   "outputs": [],
   "source": [
    "const double aa = 1.19;\t\t\t\t\t\t\t\t\t// 軌道長半径\n",
    "const double e = 0.19;\t\t\t\t\t\t\t\t\t// 離心率\n",
    "const double LAN = 251.6;\t\t\t\t\t\t\t\t// longitude of acending node\n",
    "const double I = 5.88;\t\t\t\t\t\t\t\t\t// 黄道傾斜角 inclination\n",
    "const double PERI = 211.4;\t\t\t\t\t\t\t\t// 近点引数 argument of perihelion\n",
    "const double p_t = 2456376.135073920119*24.0 * 3600;\t// 近点通過時刻（ここではユリウス秒で設定）\n",
    "const double Mast = 7.63e+11;\t\t\t\t\t\t\t// 小惑星の質量 ここは仮定だが、影響はない。"
   ]
  },
  {
   "cell_type": "code",
   "execution_count": null,
   "metadata": {},
   "outputs": [],
   "source": []
  },
  {
   "cell_type": "code",
   "execution_count": null,
   "metadata": {},
   "outputs": [],
   "source": []
  },
  {
   "cell_type": "code",
   "execution_count": null,
   "metadata": {},
   "outputs": [],
   "source": []
  },
  {
   "cell_type": "code",
   "execution_count": null,
   "metadata": {},
   "outputs": [],
   "source": [
    "# using FileIO, MeshIO\n",
    "# mesh = load(shapepath)"
   ]
  },
  {
   "cell_type": "code",
   "execution_count": null,
   "metadata": {},
   "outputs": [],
   "source": []
  },
  {
   "cell_type": "code",
   "execution_count": null,
   "metadata": {},
   "outputs": [],
   "source": [
    "# using VTKView"
   ]
  },
  {
   "cell_type": "code",
   "execution_count": null,
   "metadata": {},
   "outputs": [],
   "source": [
    "# using VTKDataTypes\n",
    "# using VTKDataIO"
   ]
  },
  {
   "cell_type": "code",
   "execution_count": null,
   "metadata": {},
   "outputs": [],
   "source": []
  },
  {
   "cell_type": "code",
   "execution_count": null,
   "metadata": {},
   "outputs": [],
   "source": [
    "using VTKDataTypes\n",
    "using WriteVTK\n",
    "using PyCall\n",
    "using LightXML\n",
    "# using Iterators\n",
    "\n",
    "@pyimport vtk.util.numpy_support as vtkns\n",
    "@pyimport vtk as vtk\n",
    "@pyimport numpy as np"
   ]
  },
  {
   "cell_type": "code",
   "execution_count": null,
   "metadata": {},
   "outputs": [],
   "source": [
    "# include(\"/Users/masanorikanamaru/Documents/GitHub/VTKDataIO.jl/src/vtkreaders.jl\")"
   ]
  },
  {
   "cell_type": "code",
   "execution_count": null,
   "metadata": {},
   "outputs": [],
   "source": [
    "# read_vtk(vtkname)"
   ]
  },
  {
   "cell_type": "code",
   "execution_count": null,
   "metadata": {},
   "outputs": [],
   "source": [
    "# read_static_vtk"
   ]
  }
 ],
 "metadata": {
  "kernelspec": {
   "display_name": "Julia 1.7.0",
   "language": "julia",
   "name": "julia-1.7"
  },
  "language_info": {
   "file_extension": ".jl",
   "mimetype": "application/julia",
   "name": "julia",
   "version": "1.7.0"
  }
 },
 "nbformat": 4,
 "nbformat_minor": 4
}
