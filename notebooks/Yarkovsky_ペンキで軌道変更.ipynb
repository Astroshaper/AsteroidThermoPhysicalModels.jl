{
 "cells": [
  {
   "cell_type": "code",
   "execution_count": 2,
   "metadata": {},
   "outputs": [],
   "source": [
    "# using Pkg\n",
    "# Pkg.add(url=\"https://github.com/MasanoriKanamaru/Astroshaper\")\n",
    "# Pkg.update(\"Astroshaper\")\n",
    "# Pkg.test(\"Astroshaper\")"
   ]
  },
  {
   "cell_type": "code",
   "execution_count": 3,
   "metadata": {},
   "outputs": [],
   "source": [
    "using Plots\n",
    "using DataFrames\n",
    "using LinearAlgebra\n",
    "using Statistics\n",
    "using Parameters\n",
    "# using FileIO\n",
    "# using JLD2\n",
    "# using Profile"
   ]
  },
  {
   "cell_type": "code",
   "execution_count": 4,
   "metadata": {},
   "outputs": [
    {
     "name": "stderr",
     "output_type": "stream",
     "text": [
      "┌ Info: Precompiling Astroshaper [ab46f4a3-3c83-4d86-98d6-41a8b1a2e76e]\n",
      "└ @ Base loading.jl:1423\n"
     ]
    }
   ],
   "source": [
    "using Revise\n",
    "using Astroshaper"
   ]
  },
  {
   "cell_type": "code",
   "execution_count": 5,
   "metadata": {},
   "outputs": [],
   "source": [
    "ENV[\"COLUMNS\"] = 1000\n",
    "ENV[\"LINES\"] = 20;"
   ]
  },
  {
   "cell_type": "code",
   "execution_count": 6,
   "metadata": {},
   "outputs": [
    {
     "name": "stdout",
     "output_type": "stream",
     "text": [
      "shapepath = \"/Users/masanorikanamaru/Documents/shape/ryugu/ryugu_v252_f500.obj\"\n"
     ]
    }
   ],
   "source": [
    "shapedir = \"/Users/masanorikanamaru/Documents/shape/ryugu\"\n",
    "\n",
    "shapename = \"ryugu_v252_f500.obj\"\n",
    "# shapename = \"ryugu_v752_f1500.obj\"\n",
    "# shapename = \"ryugu_test.obj\"\n",
    "\n",
    "# shapename = \"SHAPE_SPC_49k_v20190802.obj\"\n",
    "# shapename = \"SHAPE_SPC_200k_v20190802.obj\"\n",
    "# shapename = \"SHAPE_SPC_800k_v20190802.obj\"\n",
    "# shapename = \"SHAPE_SPC_3M_v20190802.obj\"\n",
    "\n",
    "# shapename = \"SHAPE_SFM_49k_v20180804.obj\"\n",
    "# shapename = \"SHAPE_SPC_49k_v20200323.obj\"\n",
    "# shapename = \"SHAPE_SPC_3M_v20200323.obj\"\n",
    "\n",
    "shapepath = joinpath(shapedir, shapename)\n",
    "@show shapepath;"
   ]
  },
  {
   "cell_type": "code",
   "execution_count": 7,
   "metadata": {},
   "outputs": [],
   "source": [
    "# shapepath = splitext(shapepath)[1] * \".jld2\""
   ]
  },
  {
   "cell_type": "code",
   "execution_count": 9,
   "metadata": {},
   "outputs": [
    {
     "data": {
      "text/plain": []
     },
     "execution_count": 9,
     "metadata": {},
     "output_type": "execute_result"
    },
    {
     "name": "stdout",
     "output_type": "stream",
     "text": [
      "Shape model\n",
      "-----------\n",
      "Nodes             : 252\n",
      "Faces             : 500\n",
      "Surface area      : 2.6740222482370236e6\n",
      "Volume            : 3.759699719284749e8\n",
      "Equivalent radius : 447.7354864412234\n",
      "Center-of-Figure  : [0.37115829680556717, 0.14301318037402377, 0.02972401268611568]\n",
      "Inertia tensor    : \n",
      "    | Ixx Ixy Ixz |   [0.0, 0.0, 0.0]\n",
      "    | Iyx Iyy Iyz | = [0.0, 0.0, 0.0]\n",
      "    | Izx Izy Izz |   [0.0, 0.0, 0.0]\n"
     ]
    }
   ],
   "source": [
    "shape = ShapeModel(shapepath; scale=1000, find_visible_facets=true, save_shape=false)"
   ]
  },
  {
   "cell_type": "code",
   "execution_count": 25,
   "metadata": {},
   "outputs": [
    {
     "data": {
      "text/plain": [
       "GLMakie.Screen(...)"
      ]
     },
     "execution_count": 25,
     "metadata": {},
     "output_type": "execute_result"
    }
   ],
   "source": [
    "# draw(shape)\n",
    "# draw(shape; strokecolor=:gray10)\n",
    "# draw(shape, data=:radius)\n",
    "draw(shape, data=:temperature, colormap=:heat)\n",
    "# draw(shape; data=:illumination, r̂☉=[1,0,0.])\n",
    "# draw(shape, data=[center[3] for center in shape.facets.center])"
   ]
  },
  {
   "cell_type": "code",
   "execution_count": 26,
   "metadata": {},
   "outputs": [
    {
     "data": {
      "text/plain": [
       "Orbital elements\n",
       "----------------\n"
      ]
     },
     "execution_count": 26,
     "metadata": {},
     "output_type": "execute_result"
    },
    {
     "name": "stdout",
     "output_type": "stream",
     "text": [
      "Semi-mojor axis        : a  = 1.18956373 [AU]\n",
      "Eccentricity           : e  = 0.19027921 [-]\n",
      "Lon. of ascending node : Ω  = 251.589203 [deg]\n",
      "Argument of periapsis  : ω  = 211.435963 [deg]\n",
      "Inclination            : I  = 5.8840222 [deg]\n",
      "Periapsis passage time : tₚ = -2.4948038004043424e6 [sec]\n",
      "Mean anomaly           : Φ  = 21.9353799 [deg]\n",
      "\n",
      "Other parameters\n",
      "----------------\n",
      "Gravitational parameter : μ = 1.32712440018e20 [m^3/s^2]\n",
      "Mean motion             : n = 0.7596656791419168 [deg/day]\n",
      "Orbital period          : T = 473.8926739544681 [day]\n"
     ]
    }
   ],
   "source": [
    "orbit = OrbitalElements(RYUGU)"
   ]
  },
  {
   "cell_type": "code",
   "execution_count": 27,
   "metadata": {},
   "outputs": [
    {
     "data": {
      "text/plain": [
       "Spin parameters\n",
       "---------------\n"
      ]
     },
     "execution_count": 27,
     "metadata": {},
     "output_type": "execute_result"
    },
    {
     "name": "stdout",
     "output_type": "stream",
     "text": [
      "Right ascension (RA) : α = 96.4 [deg]\n",
      "Declination (Dec)    : δ = -66.4 [deg]\n",
      "Ecliptic longitude   : λ = 179.33757188938182 [deg]\n",
      "Ecliptic latitude    : β = -87.44207056697601 [deg]\n",
      "Obliquity            : ε = 171.65664649001607 [deg]\n",
      "Spin period          : P = 7.63262 [hours]\n",
      "Spin rate            : ω = 0.00022866712242903872 [rad/sec]\n",
      "Vernal equinox lon.  : γ = 154.3323208882217 [deg]\n",
      "                           (longitude from the periheion direction)\n"
     ]
    }
   ],
   "source": [
    "spin = SpinParams(RYUGU, orbit)"
   ]
  },
  {
   "cell_type": "code",
   "execution_count": null,
   "metadata": {},
   "outputs": [],
   "source": []
  },
  {
   "cell_type": "code",
   "execution_count": null,
   "metadata": {},
   "outputs": [],
   "source": []
  },
  {
   "cell_type": "markdown",
   "metadata": {},
   "source": [
    "# Yarkovsky効果\n",
    "\n",
    "## Yarkovsky drift rate vs. Bond albedo"
   ]
  },
  {
   "cell_type": "code",
   "execution_count": 15,
   "metadata": {},
   "outputs": [
    {
     "data": {
      "text/plain": []
     },
     "execution_count": 15,
     "metadata": {},
     "output_type": "execute_result"
    },
    {
     "name": "stdout",
     "output_type": "stream",
     "text": [
      "Thermophysical parameters\n",
      "-------------------------\n",
      "A_B   : 0.04\n",
      "A_TH  : 0.0\n",
      "k     : 0.1\n",
      "ρ     : 1270.0\n",
      "Cp    : 600.0\n",
      "ϵ     : 1.0\n",
      "-------------------------\n",
      "t_bgn : 0.0\n",
      "t_bgn : 0.0 (Normalized by period P)\n",
      "t_end : 4.506594182966604e7\n",
      "t_end : 1640.1074827395094 (Normalized by period P)\n",
      "Nt    : 118088\n",
      "Δt    : 381.6333874996066\n",
      "Δt    : 0.013888975778362643 (Normalized by period P)\n",
      "-------------------------\n",
      "z_max : 0.6\n",
      "z_max : 2.8186148335177874 (Normalized by skin depth l)\n",
      "Nz    : 41\n",
      "Δz    : 0.015\n",
      "Δz    : 0.07046537083794469 (Normalized by skin depth l)\n",
      "-------------------------\n",
      "P     : 27477.432\n",
      "l     : 0.21287051812296282\n",
      "Γ     : 276.04347483684523\n",
      "λ     : 0.2225916520849266\n",
      "-------------------------\n"
     ]
    }
   ],
   "source": [
    "t_end = orbit.T + spin.P * 150\n",
    "\n",
    "thermo_params = ThermoParams(\n",
    "    # A_B   = 0.00,\n",
    "    A_B   = 0.04,\n",
    "    # A_B   = 0.10,\n",
    "    # A_B   = 0.20,\n",
    "    # A_B   = 0.30,\n",
    "    # A_B   = 0.40,\n",
    "    # A_B   = 0.50,\n",
    "    # A_B   = 0.60,\n",
    "    # A_B   = 0.70,\n",
    "    # A_B   = 0.80,\n",
    "    # A_B   = 0.90,\n",
    "    # A_B   = 0.10,\n",
    "\n",
    "    A_TH  = 0.0,\n",
    "    k     = 0.1,\n",
    "    ρ     = 1270.0,\n",
    "    Cp    = 600.0,\n",
    "    ϵ     = 1.,\n",
    "    t_bgn = 0.0,\n",
    "    t_end = t_end,\n",
    "    Nt    = length(0 : spin.P/72 : t_end),\n",
    "    z_max = 0.6,\n",
    "    Nz    = 41,\n",
    "    P     = spin.P,\n",
    ")"
   ]
  },
  {
   "cell_type": "code",
   "execution_count": 64,
   "metadata": {},
   "outputs": [
    {
     "name": "stdout",
     "output_type": "stream",
     "text": [
      "  0.235123 seconds (41.10 k allocations: 7.649 MiB)\n"
     ]
    },
    {
     "data": {
      "text/html": [
       "<div class=\"data-frame\"><p>721 rows × 14 columns</p><table class=\"data-frame\"><thead><tr><th></th><th>t</th><th>u</th><th>ϕ</th><th>f_x</th><th>f_y</th><th>f_z</th><th>τ_x</th><th>τ_y</th><th>τ_z</th><th>E_in</th><th>E_out</th><th>ν</th><th>E_cons</th><th>Ē_cons</th></tr><tr><th></th><th title=\"Float64\">Float64</th><th title=\"Float64\">Float64</th><th title=\"Float64\">Float64</th><th title=\"Float64\">Float64</th><th title=\"Float64\">Float64</th><th title=\"Float64\">Float64</th><th title=\"Float64\">Float64</th><th title=\"Float64\">Float64</th><th title=\"Float64\">Float64</th><th title=\"Float64\">Float64</th><th title=\"Float64\">Float64</th><th title=\"Float64\">Float64</th><th title=\"Float64\">Float64</th><th title=\"Float64\">Float64</th></tr></thead><tbody><tr><th>1</th><td>0.0</td><td>0.468819</td><td>0.0</td><td>9.92025e-6</td><td>4.44963e-6</td><td>6.01218e-7</td><td>-0.000416175</td><td>0.000149287</td><td>-0.000183821</td><td>8.38911e8</td><td>0.0</td><td>0.563643</td><td>0.0</td><td>0.0</td></tr><tr><th>2</th><td>381.631</td><td>0.46889</td><td>0.0872665</td><td>0.0251434</td><td>0.0132682</td><td>-0.00181507</td><td>0.37064</td><td>-0.618929</td><td>-0.19855</td><td>8.3566e8</td><td>1.68572e7</td><td>0.563727</td><td>0.0201723</td><td>0.0100862</td></tr><tr><th>3</th><td>763.262</td><td>0.46896</td><td>0.174533</td><td>0.0510587</td><td>0.025989</td><td>-0.00369733</td><td>0.70619</td><td>-1.15349</td><td>-0.382106</td><td>8.34888e8</td><td>3.4082e7</td><td>0.56381</td><td>0.0408222</td><td>0.0203315</td></tr><tr><th>4</th><td>1144.89</td><td>0.469031</td><td>0.261799</td><td>0.0787493</td><td>0.0381852</td><td>-0.00567068</td><td>1.03461</td><td>-1.65732</td><td>-0.55864</td><td>8.35013e8</td><td>5.22418e7</td><td>0.563894</td><td>0.062564</td><td>0.0308896</td></tr><tr><th>5</th><td>1526.52</td><td>0.469101</td><td>0.349066</td><td>0.106405</td><td>0.0487858</td><td>-0.00763911</td><td>1.35364</td><td>-2.10314</td><td>-0.708673</td><td>8.34828e8</td><td>7.00753e7</td><td>0.563977</td><td>0.0839398</td><td>0.0414997</td></tr><tr><th>6</th><td>1908.15</td><td>0.469172</td><td>0.436332</td><td>0.133083</td><td>0.057346</td><td>-0.00956968</td><td>1.67198</td><td>-2.49911</td><td>-0.831672</td><td>8.33457e8</td><td>8.69602e7</td><td>0.56406</td><td>0.104337</td><td>0.0519725</td></tr><tr><th>7</th><td>2289.79</td><td>0.469242</td><td>0.523599</td><td>0.158207</td><td>0.0637697</td><td>-0.0114638</td><td>1.99403</td><td>-2.86807</td><td>-0.930422</td><td>8.38661e8</td><td>1.02548e8</td><td>0.564144</td><td>0.122276</td><td>0.0620158</td></tr><tr><th>8</th><td>2671.42</td><td>0.469313</td><td>0.610865</td><td>0.181472</td><td>0.0679746</td><td>-0.0133198</td><td>2.29748</td><td>-3.2293</td><td>-1.03886</td><td>8.41196e8</td><td>1.16765e8</td><td>0.564227</td><td>0.138809</td><td>0.071615</td></tr><tr><th>9</th><td>3053.05</td><td>0.469383</td><td>0.698132</td><td>0.202615</td><td>0.0702689</td><td>-0.0151363</td><td>2.57798</td><td>-3.60047</td><td>-1.1569</td><td>8.43099e8</td><td>1.29508e8</td><td>0.564311</td><td>0.153609</td><td>0.0807254</td></tr><tr><th>10</th><td>3434.68</td><td>0.469454</td><td>0.785398</td><td>0.22153</td><td>0.0709707</td><td>-0.0168772</td><td>2.81877</td><td>-3.99697</td><td>-1.29439</td><td>8.47883e8</td><td>1.40794e8</td><td>0.564394</td><td>0.166053</td><td>0.0892582</td></tr><tr><th>11</th><td>3816.31</td><td>0.469524</td><td>0.872665</td><td>0.238223</td><td>0.0703935</td><td>-0.0185741</td><td>2.98974</td><td>-4.41863</td><td>-1.46599</td><td>8.46022e8</td><td>1.50755e8</td><td>0.564477</td><td>0.178192</td><td>0.0973431</td></tr><tr><th>12</th><td>4197.94</td><td>0.469595</td><td>0.959931</td><td>0.2524</td><td>0.0694153</td><td>-0.0203391</td><td>3.06348</td><td>-4.85645</td><td>-1.64716</td><td>8.48519e8</td><td>1.59288e8</td><td>0.564561</td><td>0.187725</td><td>0.104875</td></tr><tr><th>13</th><td>4579.57</td><td>0.469665</td><td>1.0472</td><td>0.264944</td><td>0.0674757</td><td>-0.0220688</td><td>3.04825</td><td>-5.3046</td><td>-1.88322</td><td>8.5233e8</td><td>1.67054e8</td><td>0.564644</td><td>0.195997</td><td>0.111884</td></tr><tr><th>14</th><td>4961.2</td><td>0.469736</td><td>1.13446</td><td>0.275742</td><td>0.0650451</td><td>-0.0237436</td><td>2.97954</td><td>-5.72961</td><td>-2.19854</td><td>8.59748e8</td><td>1.74093e8</td><td>0.564728</td><td>0.202493</td><td>0.118356</td></tr><tr><th>15</th><td>5342.83</td><td>0.469807</td><td>1.22173</td><td>0.284932</td><td>0.0623898</td><td>-0.0255772</td><td>2.78439</td><td>-6.13005</td><td>-2.57831</td><td>8.6481e8</td><td>1.80596e8</td><td>0.564811</td><td>0.208827</td><td>0.124388</td></tr><tr><th>16</th><td>5724.47</td><td>0.469877</td><td>1.309</td><td>0.292669</td><td>0.0599731</td><td>-0.0273388</td><td>2.50849</td><td>-6.48703</td><td>-2.96226</td><td>8.7404e8</td><td>1.86558e8</td><td>0.564894</td><td>0.213444</td><td>0.129954</td></tr><tr><th>17</th><td>6106.1</td><td>0.469948</td><td>1.39626</td><td>0.299122</td><td>0.0581166</td><td>-0.0290436</td><td>2.15285</td><td>-6.797</td><td>-3.32595</td><td>8.83043e8</td><td>1.92023e8</td><td>0.564978</td><td>0.217456</td><td>0.135101</td></tr><tr><th>18</th><td>6487.73</td><td>0.470018</td><td>1.48353</td><td>0.304575</td><td>0.0569677</td><td>-0.0308406</td><td>1.73455</td><td>-7.04296</td><td>-3.64736</td><td>8.85596e8</td><td>1.97087e8</td><td>0.565061</td><td>0.222547</td><td>0.139959</td></tr><tr><th>19</th><td>6869.36</td><td>0.470089</td><td>1.5708</td><td>0.309301</td><td>0.0565125</td><td>-0.0326337</td><td>1.30159</td><td>-7.21055</td><td>-3.90584</td><td>8.86598e8</td><td>2.01829e8</td><td>0.565145</td><td>0.227644</td><td>0.144574</td></tr><tr><th>20</th><td>7250.99</td><td>0.470159</td><td>1.65806</td><td>0.313538</td><td>0.0567456</td><td>-0.0344717</td><td>0.889141</td><td>-7.29969</td><td>-4.08359</td><td>8.84038e8</td><td>2.06336e8</td><td>0.565228</td><td>0.233402</td><td>0.149015</td></tr><tr><th>&vellip;</th><td>&vellip;</td><td>&vellip;</td><td>&vellip;</td><td>&vellip;</td><td>&vellip;</td><td>&vellip;</td><td>&vellip;</td><td>&vellip;</td><td>&vellip;</td><td>&vellip;</td><td>&vellip;</td><td>&vellip;</td><td>&vellip;</td><td>&vellip;</td></tr></tbody></table></div>"
      ],
      "text/latex": [
       "\\begin{tabular}{r|cccccccccccccc}\n",
       "\t& t & u & ϕ & f\\_x & f\\_y & f\\_z & τ\\_x & τ\\_y & τ\\_z & E\\_in & E\\_out & ν & E\\_cons & Ē\\_cons\\\\\n",
       "\t\\hline\n",
       "\t& Float64 & Float64 & Float64 & Float64 & Float64 & Float64 & Float64 & Float64 & Float64 & Float64 & Float64 & Float64 & Float64 & Float64\\\\\n",
       "\t\\hline\n",
       "\t1 & 0.0 & 0.468819 & 0.0 & 9.92025e-6 & 4.44963e-6 & 6.01218e-7 & -0.000416175 & 0.000149287 & -0.000183821 & 8.38911e8 & 0.0 & 0.563643 & 0.0 & 0.0 \\\\\n",
       "\t2 & 381.631 & 0.46889 & 0.0872665 & 0.0251434 & 0.0132682 & -0.00181507 & 0.37064 & -0.618929 & -0.19855 & 8.3566e8 & 1.68572e7 & 0.563727 & 0.0201723 & 0.0100862 \\\\\n",
       "\t3 & 763.262 & 0.46896 & 0.174533 & 0.0510587 & 0.025989 & -0.00369733 & 0.70619 & -1.15349 & -0.382106 & 8.34888e8 & 3.4082e7 & 0.56381 & 0.0408222 & 0.0203315 \\\\\n",
       "\t4 & 1144.89 & 0.469031 & 0.261799 & 0.0787493 & 0.0381852 & -0.00567068 & 1.03461 & -1.65732 & -0.55864 & 8.35013e8 & 5.22418e7 & 0.563894 & 0.062564 & 0.0308896 \\\\\n",
       "\t5 & 1526.52 & 0.469101 & 0.349066 & 0.106405 & 0.0487858 & -0.00763911 & 1.35364 & -2.10314 & -0.708673 & 8.34828e8 & 7.00753e7 & 0.563977 & 0.0839398 & 0.0414997 \\\\\n",
       "\t6 & 1908.15 & 0.469172 & 0.436332 & 0.133083 & 0.057346 & -0.00956968 & 1.67198 & -2.49911 & -0.831672 & 8.33457e8 & 8.69602e7 & 0.56406 & 0.104337 & 0.0519725 \\\\\n",
       "\t7 & 2289.79 & 0.469242 & 0.523599 & 0.158207 & 0.0637697 & -0.0114638 & 1.99403 & -2.86807 & -0.930422 & 8.38661e8 & 1.02548e8 & 0.564144 & 0.122276 & 0.0620158 \\\\\n",
       "\t8 & 2671.42 & 0.469313 & 0.610865 & 0.181472 & 0.0679746 & -0.0133198 & 2.29748 & -3.2293 & -1.03886 & 8.41196e8 & 1.16765e8 & 0.564227 & 0.138809 & 0.071615 \\\\\n",
       "\t9 & 3053.05 & 0.469383 & 0.698132 & 0.202615 & 0.0702689 & -0.0151363 & 2.57798 & -3.60047 & -1.1569 & 8.43099e8 & 1.29508e8 & 0.564311 & 0.153609 & 0.0807254 \\\\\n",
       "\t10 & 3434.68 & 0.469454 & 0.785398 & 0.22153 & 0.0709707 & -0.0168772 & 2.81877 & -3.99697 & -1.29439 & 8.47883e8 & 1.40794e8 & 0.564394 & 0.166053 & 0.0892582 \\\\\n",
       "\t11 & 3816.31 & 0.469524 & 0.872665 & 0.238223 & 0.0703935 & -0.0185741 & 2.98974 & -4.41863 & -1.46599 & 8.46022e8 & 1.50755e8 & 0.564477 & 0.178192 & 0.0973431 \\\\\n",
       "\t12 & 4197.94 & 0.469595 & 0.959931 & 0.2524 & 0.0694153 & -0.0203391 & 3.06348 & -4.85645 & -1.64716 & 8.48519e8 & 1.59288e8 & 0.564561 & 0.187725 & 0.104875 \\\\\n",
       "\t13 & 4579.57 & 0.469665 & 1.0472 & 0.264944 & 0.0674757 & -0.0220688 & 3.04825 & -5.3046 & -1.88322 & 8.5233e8 & 1.67054e8 & 0.564644 & 0.195997 & 0.111884 \\\\\n",
       "\t14 & 4961.2 & 0.469736 & 1.13446 & 0.275742 & 0.0650451 & -0.0237436 & 2.97954 & -5.72961 & -2.19854 & 8.59748e8 & 1.74093e8 & 0.564728 & 0.202493 & 0.118356 \\\\\n",
       "\t15 & 5342.83 & 0.469807 & 1.22173 & 0.284932 & 0.0623898 & -0.0255772 & 2.78439 & -6.13005 & -2.57831 & 8.6481e8 & 1.80596e8 & 0.564811 & 0.208827 & 0.124388 \\\\\n",
       "\t16 & 5724.47 & 0.469877 & 1.309 & 0.292669 & 0.0599731 & -0.0273388 & 2.50849 & -6.48703 & -2.96226 & 8.7404e8 & 1.86558e8 & 0.564894 & 0.213444 & 0.129954 \\\\\n",
       "\t17 & 6106.1 & 0.469948 & 1.39626 & 0.299122 & 0.0581166 & -0.0290436 & 2.15285 & -6.797 & -3.32595 & 8.83043e8 & 1.92023e8 & 0.564978 & 0.217456 & 0.135101 \\\\\n",
       "\t18 & 6487.73 & 0.470018 & 1.48353 & 0.304575 & 0.0569677 & -0.0308406 & 1.73455 & -7.04296 & -3.64736 & 8.85596e8 & 1.97087e8 & 0.565061 & 0.222547 & 0.139959 \\\\\n",
       "\t19 & 6869.36 & 0.470089 & 1.5708 & 0.309301 & 0.0565125 & -0.0326337 & 1.30159 & -7.21055 & -3.90584 & 8.86598e8 & 2.01829e8 & 0.565145 & 0.227644 & 0.144574 \\\\\n",
       "\t20 & 7250.99 & 0.470159 & 1.65806 & 0.313538 & 0.0567456 & -0.0344717 & 0.889141 & -7.29969 & -4.08359 & 8.84038e8 & 2.06336e8 & 0.565228 & 0.233402 & 0.149015 \\\\\n",
       "\t$\\dots$ & $\\dots$ & $\\dots$ & $\\dots$ & $\\dots$ & $\\dots$ & $\\dots$ & $\\dots$ & $\\dots$ & $\\dots$ & $\\dots$ & $\\dots$ & $\\dots$ & $\\dots$ & $\\dots$ \\\\\n",
       "\\end{tabular}\n"
      ],
      "text/plain": [
       "\u001b[1m721×14 DataFrame\u001b[0m\n",
       "\u001b[1m Row \u001b[0m│\u001b[1m t            \u001b[0m\u001b[1m u        \u001b[0m\u001b[1m ϕ          \u001b[0m\u001b[1m f_x        \u001b[0m\u001b[1m f_y        \u001b[0m\u001b[1m f_z         \u001b[0m\u001b[1m τ_x          \u001b[0m\u001b[1m τ_y           \u001b[0m\u001b[1m τ_z          \u001b[0m\u001b[1m E_in      \u001b[0m\u001b[1m E_out     \u001b[0m\u001b[1m ν        \u001b[0m\u001b[1m E_cons    \u001b[0m\u001b[1m Ē_cons    \u001b[0m\n",
       "\u001b[1m     \u001b[0m│\u001b[90m Float64      \u001b[0m\u001b[90m Float64  \u001b[0m\u001b[90m Float64    \u001b[0m\u001b[90m Float64    \u001b[0m\u001b[90m Float64    \u001b[0m\u001b[90m Float64     \u001b[0m\u001b[90m Float64      \u001b[0m\u001b[90m Float64       \u001b[0m\u001b[90m Float64      \u001b[0m\u001b[90m Float64   \u001b[0m\u001b[90m Float64   \u001b[0m\u001b[90m Float64  \u001b[0m\u001b[90m Float64   \u001b[0m\u001b[90m Float64   \u001b[0m\n",
       "─────┼──────────────────────────────────────────────────────────────────────────────────────────────────────────────────────────────────────────────────────────────────────────\n",
       "   1 │    0.0        0.468819   0.0        9.92025e-6  4.44963e-6   6.01218e-7  -0.000416175    0.000149287  -0.000183821  8.38911e8  0.0        0.563643  0.0        0.0\n",
       "   2 │  381.631      0.46889    0.0872665  0.0251434   0.0132682   -0.00181507   0.37064       -0.618929     -0.19855      8.3566e8   1.68572e7  0.563727  0.0201723  0.0100862\n",
       "   3 │  763.262      0.46896    0.174533   0.0510587   0.025989    -0.00369733   0.70619       -1.15349      -0.382106     8.34888e8  3.4082e7   0.56381   0.0408222  0.0203315\n",
       "   4 │ 1144.89       0.469031   0.261799   0.0787493   0.0381852   -0.00567068   1.03461       -1.65732      -0.55864      8.35013e8  5.22418e7  0.563894  0.062564   0.0308896\n",
       "   5 │ 1526.52       0.469101   0.349066   0.106405    0.0487858   -0.00763911   1.35364       -2.10314      -0.708673     8.34828e8  7.00753e7  0.563977  0.0839398  0.0414997\n",
       "   6 │ 1908.15       0.469172   0.436332   0.133083    0.057346    -0.00956968   1.67198       -2.49911      -0.831672     8.33457e8  8.69602e7  0.56406   0.104337   0.0519725\n",
       "  ⋮  │      ⋮           ⋮          ⋮           ⋮           ⋮            ⋮            ⋮              ⋮             ⋮            ⋮          ⋮         ⋮          ⋮          ⋮\n",
       " 717 │    2.73248e5  0.519188  62.4828     0.627001    0.191069    -0.0895972    1.27437       -9.82918      -0.919588     8.47203e8  6.50652e8  0.623043  0.768      0.751992\n",
       " 718 │    2.73629e5  0.519258  62.5701     0.624404    0.193137    -0.0908928    1.50766      -10.0146       -0.764934     8.42021e8  6.48125e8  0.623125  0.769725   0.752181\n",
       " 719 │    2.74011e5  0.519329  62.6573     0.622355    0.194505    -0.0921487    1.46145      -10.0645       -0.852078     8.3629e8   6.46086e8  0.623208  0.772561   0.75246\n",
       " 720 │    2.74393e5  0.519399  62.7446     0.621264    0.1948      -0.0941986    1.48815       -9.85942      -1.25434      8.31332e8  6.43979e8  0.62329   0.774636   0.752664\n",
       " 721 │    2.74774e5  0.519469  62.8319     0.62049     0.194954    -0.0951321    1.75751       -9.52457      -1.68965      8.27913e8  6.41788e8  0.623373  0.775188   0.752849\n",
       "\u001b[36m                                                                                                                                                                710 rows omitted\u001b[0m"
      ]
     },
     "execution_count": 64,
     "metadata": {},
     "output_type": "execute_result"
    }
   ],
   "source": [
    "@time df = run_TPM(shape, orbit, spin, thermo_params)\n",
    "\n",
    "# df[:, :ȧ] = [ Astroshaper.drift_rate_ȧ([row.f_x, row.f_y, row.f_z] / RYUGU[:M], row.u, orbit) for row in eachrow(df) ]\n",
    "# ȧ_mean = mean( df.ȧ[@. df.t > (df.t[end] - orbit.T)] ) * 3600 * 24 * 365"
   ]
  },
  {
   "cell_type": "code",
   "execution_count": 65,
   "metadata": {},
   "outputs": [
    {
     "data": {
      "text/html": [
       "<div class=\"data-frame\"><p>14 rows × 7 columns</p><table class=\"data-frame\"><thead><tr><th></th><th>variable</th><th>mean</th><th>min</th><th>median</th><th>max</th><th>nmissing</th><th>eltype</th></tr><tr><th></th><th title=\"Symbol\">Symbol</th><th title=\"Float64\">Float64</th><th title=\"Float64\">Float64</th><th title=\"Float64\">Float64</th><th title=\"Float64\">Float64</th><th title=\"Int64\">Int64</th><th title=\"DataType\">DataType</th></tr></thead><tbody><tr><th>1</th><td>t</td><td>1.37387e5</td><td>0.0</td><td>1.37387e5</td><td>2.74774e5</td><td>0</td><td>Float64</td></tr><tr><th>2</th><td>u</td><td>0.494167</td><td>0.468819</td><td>0.494179</td><td>0.519469</td><td>0</td><td>Float64</td></tr><tr><th>3</th><td>ϕ</td><td>31.4159</td><td>0.0</td><td>31.4159</td><td>62.8319</td><td>0</td><td>Float64</td></tr><tr><th>4</th><td>f_x</td><td>0.555033</td><td>9.92025e-6</td><td>0.588482</td><td>0.642349</td><td>0</td><td>Float64</td></tr><tr><th>5</th><td>f_y</td><td>0.152681</td><td>4.44963e-6</td><td>0.161908</td><td>0.218619</td><td>0</td><td>Float64</td></tr><tr><th>6</th><td>f_z</td><td>-0.0679187</td><td>-0.102933</td><td>-0.0737024</td><td>6.01218e-7</td><td>0</td><td>Float64</td></tr><tr><th>7</th><td>τ_x</td><td>2.37387</td><td>-1.18597</td><td>2.24983</td><td>6.10219</td><td>0</td><td>Float64</td></tr><tr><th>8</th><td>τ_y</td><td>-8.24232</td><td>-11.2672</td><td>-8.11157</td><td>0.000149287</td><td>0</td><td>Float64</td></tr><tr><th>9</th><td>τ_z</td><td>-0.737358</td><td>-5.6173</td><td>-1.3916</td><td>7.35745</td><td>0</td><td>Float64</td></tr><tr><th>10</th><td>E_in</td><td>8.5695e8</td><td>8.24205e8</td><td>8.58231e8</td><td>8.86598e8</td><td>0</td><td>Float64</td></tr><tr><th>11</th><td>E_out</td><td>5.20913e8</td><td>0.0</td><td>5.69057e8</td><td>6.62286e8</td><td>0</td><td>Float64</td></tr><tr><th>12</th><td>ν</td><td>0.593563</td><td>0.563643</td><td>0.59359</td><td>0.623373</td><td>0</td><td>Float64</td></tr><tr><th>13</th><td>E_cons</td><td>0.608241</td><td>0.0</td><td>0.662774</td><td>0.775188</td><td>0</td><td>Float64</td></tr><tr><th>14</th><td>Ē_cons</td><td>0.577699</td><td>0.0</td><td>0.646008</td><td>0.752849</td><td>0</td><td>Float64</td></tr></tbody></table></div>"
      ],
      "text/latex": [
       "\\begin{tabular}{r|ccccccc}\n",
       "\t& variable & mean & min & median & max & nmissing & eltype\\\\\n",
       "\t\\hline\n",
       "\t& Symbol & Float64 & Float64 & Float64 & Float64 & Int64 & DataType\\\\\n",
       "\t\\hline\n",
       "\t1 & t & 1.37387e5 & 0.0 & 1.37387e5 & 2.74774e5 & 0 & Float64 \\\\\n",
       "\t2 & u & 0.494167 & 0.468819 & 0.494179 & 0.519469 & 0 & Float64 \\\\\n",
       "\t3 & ϕ & 31.4159 & 0.0 & 31.4159 & 62.8319 & 0 & Float64 \\\\\n",
       "\t4 & f\\_x & 0.555033 & 9.92025e-6 & 0.588482 & 0.642349 & 0 & Float64 \\\\\n",
       "\t5 & f\\_y & 0.152681 & 4.44963e-6 & 0.161908 & 0.218619 & 0 & Float64 \\\\\n",
       "\t6 & f\\_z & -0.0679187 & -0.102933 & -0.0737024 & 6.01218e-7 & 0 & Float64 \\\\\n",
       "\t7 & τ\\_x & 2.37387 & -1.18597 & 2.24983 & 6.10219 & 0 & Float64 \\\\\n",
       "\t8 & τ\\_y & -8.24232 & -11.2672 & -8.11157 & 0.000149287 & 0 & Float64 \\\\\n",
       "\t9 & τ\\_z & -0.737358 & -5.6173 & -1.3916 & 7.35745 & 0 & Float64 \\\\\n",
       "\t10 & E\\_in & 8.5695e8 & 8.24205e8 & 8.58231e8 & 8.86598e8 & 0 & Float64 \\\\\n",
       "\t11 & E\\_out & 5.20913e8 & 0.0 & 5.69057e8 & 6.62286e8 & 0 & Float64 \\\\\n",
       "\t12 & ν & 0.593563 & 0.563643 & 0.59359 & 0.623373 & 0 & Float64 \\\\\n",
       "\t13 & E\\_cons & 0.608241 & 0.0 & 0.662774 & 0.775188 & 0 & Float64 \\\\\n",
       "\t14 & Ē\\_cons & 0.577699 & 0.0 & 0.646008 & 0.752849 & 0 & Float64 \\\\\n",
       "\\end{tabular}\n"
      ],
      "text/plain": [
       "\u001b[1m14×7 DataFrame\u001b[0m\n",
       "\u001b[1m Row \u001b[0m│\u001b[1m variable \u001b[0m\u001b[1m mean       \u001b[0m\u001b[1m min          \u001b[0m\u001b[1m median     \u001b[0m\u001b[1m max          \u001b[0m\u001b[1m nmissing \u001b[0m\u001b[1m eltype   \u001b[0m\n",
       "\u001b[1m     \u001b[0m│\u001b[90m Symbol   \u001b[0m\u001b[90m Float64    \u001b[0m\u001b[90m Float64      \u001b[0m\u001b[90m Float64    \u001b[0m\u001b[90m Float64      \u001b[0m\u001b[90m Int64    \u001b[0m\u001b[90m DataType \u001b[0m\n",
       "─────┼──────────────────────────────────────────────────────────────────────────────────\n",
       "   1 │ t          1.37387e5    0.0          1.37387e5   2.74774e5           0  Float64\n",
       "   2 │ u          0.494167     0.468819     0.494179    0.519469            0  Float64\n",
       "   3 │ ϕ         31.4159       0.0         31.4159     62.8319              0  Float64\n",
       "   4 │ f_x        0.555033     9.92025e-6   0.588482    0.642349            0  Float64\n",
       "   5 │ f_y        0.152681     4.44963e-6   0.161908    0.218619            0  Float64\n",
       "   6 │ f_z       -0.0679187   -0.102933    -0.0737024   6.01218e-7          0  Float64\n",
       "  ⋮  │    ⋮          ⋮            ⋮            ⋮            ⋮           ⋮         ⋮\n",
       "  10 │ E_in       8.5695e8     8.24205e8    8.58231e8   8.86598e8           0  Float64\n",
       "  11 │ E_out      5.20913e8    0.0          5.69057e8   6.62286e8           0  Float64\n",
       "  12 │ ν          0.593563     0.563643     0.59359     0.623373            0  Float64\n",
       "  13 │ E_cons     0.608241     0.0          0.662774    0.775188            0  Float64\n",
       "  14 │ Ē_cons     0.577699     0.0          0.646008    0.752849            0  Float64\n",
       "\u001b[36m                                                                          3 rows omitted\u001b[0m"
      ]
     },
     "execution_count": 65,
     "metadata": {},
     "output_type": "execute_result"
    }
   ],
   "source": [
    "describe(df)"
   ]
  },
  {
   "cell_type": "code",
   "execution_count": null,
   "metadata": {},
   "outputs": [],
   "source": []
  },
  {
   "cell_type": "code",
   "execution_count": 26,
   "metadata": {},
   "outputs": [],
   "source": [
    "#### Bond albedo を変えた場合 ####\n",
    "# 全球で A_B = 0.00 : -144.45409088016052\n",
    "# 全球で A_B = 0.04 : -138.61342928209942  # Ryugu default\n",
    "# 全球で A_B = 0.10 : -129.7704183627798\n",
    "# 全球で A_B = 0.20 : -114.81121874363524\n",
    "# 全球で A_B = 0.30 : -99.57816555321362\n",
    "# 全球で A_B = 0.40 : -84.08719629669288\n",
    "# 全球で A_B = 0.50 : -68.38164025827987\n",
    "# 全球で A_B = 0.60 : -52.55894649198356\n",
    "# 全球で A_B = 0.70 : -36.82941437263273\n",
    "# 全球で A_B = 0.80 : -21.660545349731272\n",
    "# 全球で A_B = 0.90 : -8.203443369183109\n",
    "# 全球で A_B = 0.95 : -3.0141934949134384\n",
    "# 全球で A_B = 1.00 : -0.28995137028523116"
   ]
  },
  {
   "cell_type": "code",
   "execution_count": 20,
   "metadata": {},
   "outputs": [],
   "source": [
    "# df = DataFrame(A_B=Float64[], ȧ_mean=Float64[])\n",
    "\n",
    "# push!(df, (0.00, -144.45409088016052))\n",
    "# push!(df, (0.04, -138.61342928209942))\n",
    "# push!(df, (0.10, -129.7704183627798))\n",
    "# push!(df, (0.20, -114.81121874363524))\n",
    "# push!(df, (0.30, -99.57816555321362))\n",
    "# push!(df, (0.40, -84.08719629669288))\n",
    "# push!(df, (0.50, -68.38164025827987))\n",
    "# push!(df, (0.60, -52.55894649198356))\n",
    "# push!(df, (0.70, -36.82941437263273))\n",
    "# push!(df, (0.80, -21.660545349731272))\n",
    "# push!(df, (0.90, -8.203443369183109))\n",
    "# push!(df, (0.95, -3.0141934949134384))\n",
    "# push!(df, (1.00, -0.28995137028523116))\n",
    "\n",
    "# plot(framestyle=:box)\n",
    "# plot!(legend=false)\n",
    "\n",
    "# plot!(df.A_B, df.ȧ_mean, lw=5, lc=:orange)\n",
    "# scatter!(df.A_B, df.ȧ_mean, ms=5, msw=1, mc=:orange)\n",
    "\n",
    "# plot!(xlims=(0, 1))\n",
    "# plot!(ylims=(-150, 0))\n",
    "# plot!(xlabel=\"Bond albedo\")\n",
    "# plot!(ylabel=\"Yarkovsky drift rate, da/dt [m/yr]\")\n",
    "\n",
    "# plot!(size=(400,300))\n",
    "# # savefig(\"Yarkovsky_vs_albedo.pdf\")"
   ]
  },
  {
   "cell_type": "code",
   "execution_count": null,
   "metadata": {},
   "outputs": [],
   "source": []
  },
  {
   "cell_type": "markdown",
   "metadata": {},
   "source": [
    "## 半球を白く塗る\n",
    "- デフォルト： `A_B = 0.04`\n",
    "- 半球　　　： `A_B = 0.90`"
   ]
  },
  {
   "cell_type": "code",
   "execution_count": 102,
   "metadata": {},
   "outputs": [],
   "source": [
    "t_end = orbit.T + spin.P * 150\n",
    "\n",
    "thermo_params = ThermoParams(\n",
    "    A_B   = fill(0.04, shape.num_face),\n",
    "    A_TH  = 0.0,\n",
    "    k     = 0.1,\n",
    "    ρ     = 1270.0,\n",
    "    Cp    = 600.0,\n",
    "    ϵ     = 1.,\n",
    "    t_bgn = 0.0,\n",
    "    t_end = t_end,\n",
    "    Nt    = length(0 : spin.P/72 : t_end),\n",
    "    z_max = 0.6,\n",
    "    Nz    = 41,\n",
    "    P     = spin.P,\n",
    ");"
   ]
  },
  {
   "cell_type": "code",
   "execution_count": 103,
   "metadata": {},
   "outputs": [
    {
     "data": {
      "text/plain": [
       "1500-element Vector{Float64}:\n",
       " 0.9\n",
       " 0.9\n",
       " 0.9\n",
       " 0.9\n",
       " 0.9\n",
       " 0.9\n",
       " 0.9\n",
       " 0.9\n",
       " ⋮\n",
       " 0.04\n",
       " 0.9\n",
       " 0.04\n",
       " 0.9\n",
       " 0.04\n",
       " 0.04\n",
       " 0.04"
      ]
     },
     "execution_count": 103,
     "metadata": {},
     "output_type": "execute_result"
    }
   ],
   "source": [
    "# selected = [center[1] > 0 for center in shape.facets.center]  # x > 0\n",
    "# selected = [center[1] < 0 for center in shape.facets.center]  # x < 0\n",
    "# selected = [center[2] > 0 for center in shape.facets.center]  # y > 0\n",
    "# selected = [center[2] < 0 for center in shape.facets.center]  # y < 0\n",
    "# selected = [center[3] > 0 for center in shape.facets.center]  # z > 0\n",
    "selected = [center[3] < 0 for center in shape.facets.center]  # z < 0\n",
    "\n",
    "thermo_params.A_B[selected] .= 0.9\n",
    "\n",
    "thermo_params.A_B"
   ]
  },
  {
   "cell_type": "code",
   "execution_count": 104,
   "metadata": {},
   "outputs": [
    {
     "data": {
      "text/plain": [
       "GLMakie.Screen(...)"
      ]
     },
     "execution_count": 104,
     "metadata": {},
     "output_type": "execute_result"
    }
   ],
   "source": [
    "draw(shape; data=thermo_params.A_B, colormap=:grays)"
   ]
  },
  {
   "cell_type": "code",
   "execution_count": 105,
   "metadata": {},
   "outputs": [
    {
     "name": "stdout",
     "output_type": "stream",
     "text": [
      "167.132034 seconds (8.38 M allocations: 4.516 GiB, 0.41% gc time)\n"
     ]
    },
    {
     "data": {
      "text/plain": [
       "-80.89037271725797"
      ]
     },
     "execution_count": 105,
     "metadata": {},
     "output_type": "execute_result"
    }
   ],
   "source": [
    "@time df = run_TPM(shape, orbit, spin, thermo_params)\n",
    "\n",
    "df[:, :ȧ] = [ Astroshaper.drift_rate_ȧ([row.f_x, row.f_y, row.f_z] / RYUGU[:M], row.u, orbit) for row in eachrow(df) ]\n",
    "ȧ_mean = mean( df.ȧ[@. df.t > (df.t[end] - orbit.T)] ) * 3600 * 24 * 365"
   ]
  },
  {
   "cell_type": "code",
   "execution_count": 107,
   "metadata": {},
   "outputs": [
    {
     "data": {
      "text/html": [
       "<div class=\"data-frame\"><p>6 rows × 2 columns</p><table class=\"data-frame\"><thead><tr><th></th><th>paint_area</th><th>ȧ_mean</th></tr><tr><th></th><th title=\"String\">String</th><th title=\"Float64\">Float64</th></tr></thead><tbody><tr><th>1</th><td>x &gt; 0</td><td>-70.72</td></tr><tr><th>2</th><td>x &lt; 0</td><td>-76.093</td></tr><tr><th>3</th><td>y &gt; 0</td><td>-73.9618</td></tr><tr><th>4</th><td>y &lt; 0</td><td>-72.8647</td></tr><tr><th>5</th><td>z &gt; 0</td><td>-65.9334</td></tr><tr><th>6</th><td>z &lt; 0</td><td>-80.8904</td></tr></tbody></table></div>"
      ],
      "text/latex": [
       "\\begin{tabular}{r|cc}\n",
       "\t& paint\\_area & ȧ\\_mean\\\\\n",
       "\t\\hline\n",
       "\t& String & Float64\\\\\n",
       "\t\\hline\n",
       "\t1 & x > 0 & -70.72 \\\\\n",
       "\t2 & x < 0 & -76.093 \\\\\n",
       "\t3 & y > 0 & -73.9618 \\\\\n",
       "\t4 & y < 0 & -72.8647 \\\\\n",
       "\t5 & z > 0 & -65.9334 \\\\\n",
       "\t6 & z < 0 & -80.8904 \\\\\n",
       "\\end{tabular}\n"
      ],
      "text/plain": [
       "\u001b[1m6×2 DataFrame\u001b[0m\n",
       "\u001b[1m Row \u001b[0m│\u001b[1m paint_area \u001b[0m\u001b[1m ȧ_mean   \u001b[0m\n",
       "\u001b[1m     \u001b[0m│\u001b[90m String     \u001b[0m\u001b[90m Float64  \u001b[0m\n",
       "─────┼──────────────────────\n",
       "   1 │ x > 0       -70.72\n",
       "   2 │ x < 0       -76.093\n",
       "   3 │ y > 0       -73.9618\n",
       "   4 │ y < 0       -72.8647\n",
       "   5 │ z > 0       -65.9334\n",
       "   6 │ z < 0       -80.8904"
      ]
     },
     "execution_count": 107,
     "metadata": {},
     "output_type": "execute_result"
    }
   ],
   "source": [
    "df = DataFrame(paint_area=String[], ȧ_mean=Float64[])\n",
    "\n",
    "push!(df, (\"x > 0\", -70.71999998573446))\n",
    "push!(df, (\"x < 0\", -76.09300464248672))\n",
    "push!(df, (\"y > 0\", -73.9617718440074))\n",
    "push!(df, (\"y < 0\", -72.8647241824117))\n",
    "push!(df, (\"z > 0\", -65.93337926919034))\n",
    "push!(df, (\"z < 0\", -80.89037271725797))"
   ]
  },
  {
   "cell_type": "code",
   "execution_count": null,
   "metadata": {},
   "outputs": [],
   "source": []
  },
  {
   "cell_type": "markdown",
   "metadata": {},
   "source": [
    "## ある場所から半径R圏内を白く塗る\n",
    "\n",
    "- デフォルト ： `A_B = 0.04`\n",
    "- 半径Rの園内： `A_B = 0.90`"
   ]
  },
  {
   "cell_type": "code",
   "execution_count": 16,
   "metadata": {},
   "outputs": [],
   "source": [
    "function make_spot!(shape, thermo_params, target, R_paint, A_paint=0.9)\n",
    "    @unpack A_B = thermo_params\n",
    "\n",
    "    selected = [norm(center - target.center) < R_paint for center in shape.facets.center]\n",
    "    A_B[selected] .= A_paint\n",
    "\n",
    "    @show target.center\n",
    "    @show R_paint\n",
    "    @show A_paint\n",
    "end;"
   ]
  },
  {
   "cell_type": "code",
   "execution_count": 17,
   "metadata": {},
   "outputs": [],
   "source": [
    "t_end = orbit.T + spin.P * 150\n",
    "\n",
    "thermo_params = ThermoParams(\n",
    "    A_B   = fill(0.04, shape.num_face),\n",
    "    A_TH  = 0.0,\n",
    "    k     = 0.1,\n",
    "    ρ     = 1270.0,\n",
    "    Cp    = 600.0,\n",
    "    ϵ     = 1.,\n",
    "    t_bgn = 0.0,\n",
    "    t_end = t_end,\n",
    "    Nt    = length(0 : spin.P/72 : t_end),\n",
    "    z_max = 0.6,\n",
    "    Nz    = 41,\n",
    "    P     = spin.P,\n",
    ");"
   ]
  },
  {
   "cell_type": "code",
   "execution_count": 18,
   "metadata": {},
   "outputs": [
    {
     "name": "stdout",
     "output_type": "stream",
     "text": [
      "target.center = [93.70233333333333, 484.689, 41.068999999999996]\n",
      "R_paint = 100\n",
      "A_paint = 0.9\n"
     ]
    },
    {
     "data": {
      "text/plain": [
       "1500-element Vector{Float64}:\n",
       " 0.04\n",
       " 0.04\n",
       " 0.04\n",
       " 0.04\n",
       " 0.04\n",
       " 0.04\n",
       " 0.04\n",
       " 0.04\n",
       " ⋮\n",
       " 0.04\n",
       " 0.04\n",
       " 0.9\n",
       " 0.04\n",
       " 0.04\n",
       " 0.04\n",
       " 0.04"
      ]
     },
     "execution_count": 18,
     "metadata": {},
     "output_type": "execute_result"
    }
   ],
   "source": [
    "# make_spot!(shape, thermo_params, shape.facets[1], 100)\n",
    "# make_spot!(shape, thermo_params, shape.facets[200], 100)\n",
    "make_spot!(shape, thermo_params, shape.facets[500], 100)\n",
    "# make_spot!(shape, thermo_params, shape.facets[800], 100)\n",
    "# make_spot!(shape, thermo_params, shape.facets[1000], 100)\n",
    "# make_spot!(shape, thermo_params, shape.facets[1200], 100)\n",
    "# make_spot!(shape, thermo_params, shape.facets[1500], 100)\n",
    "\n",
    "thermo_params.A_B"
   ]
  },
  {
   "cell_type": "code",
   "execution_count": 23,
   "metadata": {},
   "outputs": [
    {
     "data": {
      "text/plain": [
       "GLMakie.Screen(...)"
      ]
     },
     "execution_count": 23,
     "metadata": {},
     "output_type": "execute_result"
    }
   ],
   "source": [
    "draw(shape; data=thermo_params.A_B, colormap=:grays, strokecolor=:gray40)"
   ]
  },
  {
   "cell_type": "code",
   "execution_count": 237,
   "metadata": {},
   "outputs": [
    {
     "name": "stdout",
     "output_type": "stream",
     "text": [
      "164.719163 seconds (8.38 M allocations: 4.516 GiB, 0.45% gc time)\n"
     ]
    },
    {
     "data": {
      "text/plain": [
       "-136.60537099740372"
      ]
     },
     "execution_count": 237,
     "metadata": {},
     "output_type": "execute_result"
    }
   ],
   "source": [
    "@time df = run_TPM(shape, orbit, spin, thermo_params)\n",
    "\n",
    "df[:, :ȧ] = [ Astroshaper.drift_rate_ȧ([row.f_x, row.f_y, row.f_z] / RYUGU[:M], row.u, orbit) for row in eachrow(df) ]\n",
    "ȧ_mean = mean( df.ȧ[@. df.t > (df.t[end] - orbit.T)] ) * 3600 * 24 * 365"
   ]
  },
  {
   "cell_type": "code",
   "execution_count": 238,
   "metadata": {},
   "outputs": [
    {
     "data": {
      "text/html": [
       "<div class=\"data-frame\"><p>9 rows × 4 columns</p><table class=\"data-frame\"><thead><tr><th></th><th>target_id</th><th>R_paint</th><th>A_paint</th><th>ȧ_mean</th></tr><tr><th></th><th title=\"Int64\">Int64</th><th title=\"Float64\">Float64</th><th title=\"Float64\">Float64</th><th title=\"Float64\">Float64</th></tr></thead><tbody><tr><th>1</th><td>0</td><td>0.0</td><td>0.04</td><td>-138.613</td></tr><tr><th>2</th><td>1</td><td>100.0</td><td>0.9</td><td>-138.899</td></tr><tr><th>3</th><td>100</td><td>100.0</td><td>0.9</td><td>-137.976</td></tr><tr><th>4</th><td>200</td><td>100.0</td><td>0.9</td><td>-138.412</td></tr><tr><th>5</th><td>500</td><td>100.0</td><td>0.9</td><td>-136.278</td></tr><tr><th>6</th><td>800</td><td>100.0</td><td>0.9</td><td>-136.605</td></tr><tr><th>7</th><td>1000</td><td>100.0</td><td>0.9</td><td>-136.219</td></tr><tr><th>8</th><td>1200</td><td>100.0</td><td>0.9</td><td>-135.848</td></tr><tr><th>9</th><td>1500</td><td>100.0</td><td>0.9</td><td>-136.547</td></tr></tbody></table></div>"
      ],
      "text/latex": [
       "\\begin{tabular}{r|cccc}\n",
       "\t& target\\_id & R\\_paint & A\\_paint & ȧ\\_mean\\\\\n",
       "\t\\hline\n",
       "\t& Int64 & Float64 & Float64 & Float64\\\\\n",
       "\t\\hline\n",
       "\t1 & 0 & 0.0 & 0.04 & -138.613 \\\\\n",
       "\t2 & 1 & 100.0 & 0.9 & -138.899 \\\\\n",
       "\t3 & 100 & 100.0 & 0.9 & -137.976 \\\\\n",
       "\t4 & 200 & 100.0 & 0.9 & -138.412 \\\\\n",
       "\t5 & 500 & 100.0 & 0.9 & -136.278 \\\\\n",
       "\t6 & 800 & 100.0 & 0.9 & -136.605 \\\\\n",
       "\t7 & 1000 & 100.0 & 0.9 & -136.219 \\\\\n",
       "\t8 & 1200 & 100.0 & 0.9 & -135.848 \\\\\n",
       "\t9 & 1500 & 100.0 & 0.9 & -136.547 \\\\\n",
       "\\end{tabular}\n"
      ],
      "text/plain": [
       "\u001b[1m9×4 DataFrame\u001b[0m\n",
       "\u001b[1m Row \u001b[0m│\u001b[1m target_id \u001b[0m\u001b[1m R_paint \u001b[0m\u001b[1m A_paint \u001b[0m\u001b[1m ȧ_mean   \u001b[0m\n",
       "\u001b[1m     \u001b[0m│\u001b[90m Int64     \u001b[0m\u001b[90m Float64 \u001b[0m\u001b[90m Float64 \u001b[0m\u001b[90m Float64  \u001b[0m\n",
       "─────┼───────────────────────────────────────\n",
       "   1 │         0      0.0     0.04  -138.613\n",
       "   2 │         1    100.0     0.9   -138.899\n",
       "   3 │       100    100.0     0.9   -137.976\n",
       "   4 │       200    100.0     0.9   -138.412\n",
       "   5 │       500    100.0     0.9   -136.278\n",
       "   6 │       800    100.0     0.9   -136.605\n",
       "   7 │      1000    100.0     0.9   -136.219\n",
       "   8 │      1200    100.0     0.9   -135.848\n",
       "   9 │      1500    100.0     0.9   -136.547"
      ]
     },
     "execution_count": 238,
     "metadata": {},
     "output_type": "execute_result"
    }
   ],
   "source": [
    "df = DataFrame(target_id=Int64[], R_paint=Float64[], A_paint=Float64[], ȧ_mean=Float64[])\n",
    "\n",
    "push!(df, (0, 0, 0.04, -138.61342928209942))  # Ryugu default\n",
    "\n",
    "push!(df, (   1, 100, 0.9, -138.89861671358886))\n",
    "push!(df, ( 100, 100, 0.9, -137.97552127948143))\n",
    "push!(df, ( 200, 100, 0.9, -138.411673198803))\n",
    "push!(df, ( 500, 100, 0.9, -136.27816040531908))\n",
    "push!(df, ( 800, 100, 0.9, -136.60537099740372))\n",
    "push!(df, (1000, 100, 0.9, -136.21877803349247))\n",
    "push!(df, (1200, 100, 0.9, -135.84771978282524))\n",
    "push!(df, (1500, 100, 0.9, -136.54691035865676))"
   ]
  },
  {
   "cell_type": "code",
   "execution_count": 65,
   "metadata": {},
   "outputs": [],
   "source": [
    "# a = RYUGU[:a] * AU\n",
    "# ȧ = (138.6 - 136.3) / (3600*24*365)\n",
    "# Δt = (3600*24*365) * 100.\n",
    "\n",
    "# - 3/2 * GM☉^(0.5) * a^(-1.5) * ȧ * Δt^2"
   ]
  },
  {
   "cell_type": "code",
   "execution_count": null,
   "metadata": {},
   "outputs": [],
   "source": []
  },
  {
   "cell_type": "code",
   "execution_count": null,
   "metadata": {},
   "outputs": [],
   "source": []
  },
  {
   "cell_type": "code",
   "execution_count": 106,
   "metadata": {},
   "outputs": [],
   "source": [
    "# draw(shape; data=[flux.sun for flux in shape.facets.flux])\n",
    "# draw(shape; data=[flux.rad for flux in shape.facets.flux])"
   ]
  },
  {
   "cell_type": "code",
   "execution_count": null,
   "metadata": {},
   "outputs": [],
   "source": []
  },
  {
   "cell_type": "code",
   "execution_count": null,
   "metadata": {},
   "outputs": [],
   "source": []
  },
  {
   "cell_type": "markdown",
   "metadata": {},
   "source": [
    "## 熱計算の収束判定"
   ]
  },
  {
   "cell_type": "code",
   "execution_count": 18,
   "metadata": {},
   "outputs": [],
   "source": [
    "# using Plots"
   ]
  },
  {
   "cell_type": "code",
   "execution_count": 11,
   "metadata": {},
   "outputs": [],
   "source": [
    "# thermo_params = ThermoParams(\n",
    "#     A_B   = 0.04,\n",
    "#     A_TH  = 0.0,\n",
    "#     k     = 0.1,\n",
    "#     ρ     = 1270.0,\n",
    "#     Cp    = 600.0,\n",
    "#     ϵ     = 1.,\n",
    "#     t_bgn = 0.0,\n",
    "#     t_end = orbit.T,\n",
    "#     Nt    = length(0:spin.P/72:orbit.T),\n",
    "#     z_max = 0.6,\n",
    "#     Nz    = 41,\n",
    "#     P     = spin.P,\n",
    "# )\n"
   ]
  },
  {
   "cell_type": "code",
   "execution_count": 19,
   "metadata": {},
   "outputs": [],
   "source": [
    "# @time df = run_TPM(shape, orbit, spin, thermo_params)"
   ]
  },
  {
   "cell_type": "code",
   "execution_count": 13,
   "metadata": {},
   "outputs": [],
   "source": [
    "# using Statistics\n",
    "\n",
    "# df[:, :E_cons] = df.E_out ./ df.E_in\n",
    "# df[:, :Ē_cons] = [ mean(df.E_cons[@. row.t - spin.P ≤ df.t ≤ row.t]) for row in eachrow(df) ];"
   ]
  },
  {
   "cell_type": "code",
   "execution_count": 21,
   "metadata": {},
   "outputs": [],
   "source": [
    "# plot(framestyle=:box)\n",
    "# plot!(legend=false)\n",
    "\n",
    "# xs = df.t / spin.P\n",
    "\n",
    "# plot!(xlims=(0, 500))\n",
    "\n",
    "# plot!(xs, df.E_in, c=:orange)\n",
    "# plot!(xs, df.E_out, c=:darkblue)\n",
    "\n",
    "# plot!(xlabel=\"Rotation cycle\")\n",
    "# plot!(ylabel=\"Enegy input/output [W]\")"
   ]
  },
  {
   "cell_type": "code",
   "execution_count": 23,
   "metadata": {},
   "outputs": [],
   "source": [
    "# xs = df.t / spin.P\n",
    "\n",
    "# p0 = plot(framestyle=:box)\n",
    "# plot!(legend=:bottomright)\n",
    "# plot!(xs, df.E_in,  c=:orange,   label=\"E_in\")\n",
    "# plot!(xs, df.E_out, c=:darkblue, label=\"E_out\")\n",
    "# plot!(xlabel=\"Rotation cycles\")\n",
    "\n",
    "# p1 = plot(p0)\n",
    "# plot!(xlims=[0,15])\n",
    "# plot!(yticks=[0, 2e8, 4e8, 6e8, 8e8, 1e9])\n",
    "# plot!(ylabel=\"Enegy input/output [W]\")\n",
    "\n",
    "# p2 = plot(p0)\n",
    "# plot!(xlims=[0,150])\n",
    "# plot!(yticks=false)\n",
    "\n",
    "# p3 = plot(p0)\n",
    "# plot!(xlims=[0,1500])\n",
    "# plot!(yticks=false)\n",
    "\n",
    "# plot(p1, p2, p3, layout=(1,3))\n",
    "# plot!(ylims=[0,1e9])\n",
    "# plot!(size=(900,300))\n",
    "# plot!(left_margin=4Plots.mm)\n",
    "# plot!(bottom_margin=4Plots.mm)\n",
    "# # savefig(\"enegey_IO.pdf\")"
   ]
  },
  {
   "cell_type": "code",
   "execution_count": 25,
   "metadata": {},
   "outputs": [],
   "source": [
    "# plot(framestyle=:box)\n",
    "# plot!(legend=false)\n",
    "\n",
    "# xs = df.t / spin.P\n",
    "# plot!(xs, df.Ē_cons, lw=5, lc=:darkorange)\n",
    "# hline!([1], lc=:gray)\n",
    "\n",
    "# plot!(xlims=(0, 200))\n",
    "# plot!(ylims=(0, 1.1))\n",
    "# plot!(yticks=[0,0.2,0.4,0.6,0.8,1.0])\n",
    "\n",
    "# plot!(xlabel=\"Rotation cycle\")\n",
    "# plot!(ylabel=\"E_out / E_in over a rotation cycle\")\n",
    "\n",
    "# plot!(size=(400,300))\n",
    "# # savefig(\"enegey_IO_ratio.pdf\")"
   ]
  },
  {
   "cell_type": "code",
   "execution_count": null,
   "metadata": {},
   "outputs": [],
   "source": []
  },
  {
   "cell_type": "code",
   "execution_count": null,
   "metadata": {},
   "outputs": [],
   "source": []
  },
  {
   "cell_type": "code",
   "execution_count": null,
   "metadata": {},
   "outputs": [],
   "source": []
  },
  {
   "cell_type": "code",
   "execution_count": null,
   "metadata": {},
   "outputs": [],
   "source": []
  }
 ],
 "metadata": {
  "kernelspec": {
   "display_name": "Julia 1.7.0",
   "language": "julia",
   "name": "julia-1.7"
  },
  "language_info": {
   "file_extension": ".jl",
   "mimetype": "application/julia",
   "name": "julia",
   "version": "1.7.0"
  }
 },
 "nbformat": 4,
 "nbformat_minor": 4
}
