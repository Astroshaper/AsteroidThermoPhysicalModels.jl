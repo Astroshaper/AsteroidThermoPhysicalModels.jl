{
 "cells": [
  {
   "cell_type": "code",
   "execution_count": 84,
   "metadata": {},
   "outputs": [],
   "source": [
    "# using Pkg\n",
    "# Pkg.add(\"https://github.com/MasanoriKanamaru/Astroshaper\")\n",
    "# Pkg.update(\"Astroshaper\")"
   ]
  },
  {
   "cell_type": "code",
   "execution_count": 85,
   "metadata": {},
   "outputs": [],
   "source": [
    "# Pkg.test(\"Astroshaper\")"
   ]
  },
  {
   "cell_type": "code",
   "execution_count": 4,
   "metadata": {},
   "outputs": [
    {
     "ename": "ErrorException",
     "evalue": "Failed to precompile Astroshaper [ab46f4a3-3c83-4d86-98d6-41a8b1a2e76e] to /Users/masanorikanamaru/.julia/compiled/v1.7/Astroshaper/jl_z16oNx.",
     "output_type": "error",
     "traceback": [
      "Failed to precompile Astroshaper [ab46f4a3-3c83-4d86-98d6-41a8b1a2e76e] to /Users/masanorikanamaru/.julia/compiled/v1.7/Astroshaper/jl_z16oNx.\n",
      "\n",
      "Stacktrace:\n",
      "  [1] error(s::String)\n",
      "    @ Base ./error.jl:33\n",
      "  [2] compilecache(pkg::Base.PkgId, path::String, internal_stderr::IO, internal_stdout::IO, ignore_loaded_modules::Bool)\n",
      "    @ Base ./loading.jl:1466\n",
      "  [3] compilecache(pkg::Base.PkgId, path::String)\n",
      "    @ Base ./loading.jl:1410\n",
      "  [4] _require(pkg::Base.PkgId)\n",
      "    @ Base ./loading.jl:1120\n",
      "  [5] require(uuidkey::Base.PkgId)\n",
      "    @ Base ./loading.jl:1013\n",
      "  [6] require(into::Module, mod::Symbol)\n",
      "    @ Base ./loading.jl:997\n",
      "  [7] eval\n",
      "    @ ./boot.jl:373 [inlined]\n",
      "  [8] include_string(mapexpr::typeof(REPL.softscope), mod::Module, code::String, filename::String)\n",
      "    @ Base ./loading.jl:1196\n",
      "  [9] #invokelatest#2\n",
      "    @ ./essentials.jl:716 [inlined]\n",
      " [10] invokelatest\n",
      "    @ ./essentials.jl:714 [inlined]\n",
      " [11] (::VSCodeServer.var\"#164#165\"{VSCodeServer.NotebookRunCellArguments, String})()\n",
      "    @ VSCodeServer ~/.vscode/extensions/julialang.language-julia-1.6.17/scripts/packages/VSCodeServer/src/serve_notebook.jl:19\n",
      " [12] withpath(f::VSCodeServer.var\"#164#165\"{VSCodeServer.NotebookRunCellArguments, String}, path::String)\n",
      "    @ VSCodeServer ~/.vscode/extensions/julialang.language-julia-1.6.17/scripts/packages/VSCodeServer/src/repl.jl:184\n",
      " [13] notebook_runcell_request(conn::VSCodeServer.JSONRPC.JSONRPCEndpoint{Base.PipeEndpoint, Base.PipeEndpoint}, params::VSCodeServer.NotebookRunCellArguments)\n",
      "    @ VSCodeServer ~/.vscode/extensions/julialang.language-julia-1.6.17/scripts/packages/VSCodeServer/src/serve_notebook.jl:13\n",
      " [14] dispatch_msg(x::VSCodeServer.JSONRPC.JSONRPCEndpoint{Base.PipeEndpoint, Base.PipeEndpoint}, dispatcher::VSCodeServer.JSONRPC.MsgDispatcher, msg::Dict{String, Any})\n",
      "    @ VSCodeServer.JSONRPC ~/.vscode/extensions/julialang.language-julia-1.6.17/scripts/packages/JSONRPC/src/typed.jl:67\n",
      " [15] serve_notebook(pipename::String, outputchannel_logger::Base.CoreLogging.SimpleLogger; crashreporting_pipename::String)\n",
      "    @ VSCodeServer ~/.vscode/extensions/julialang.language-julia-1.6.17/scripts/packages/VSCodeServer/src/serve_notebook.jl:136\n",
      " [16] top-level scope\n",
      "    @ ~/.vscode/extensions/julialang.language-julia-1.6.17/scripts/notebook/notebook.jl:32\n",
      " [17] include(mod::Module, _path::String)\n",
      "    @ Base ./Base.jl:418\n",
      " [18] exec_options(opts::Base.JLOptions)\n",
      "    @ Base ./client.jl:292\n",
      " [19] _start()\n",
      "    @ Base ./client.jl:495"
     ]
    }
   ],
   "source": [
    "using Revise\n",
    "using Astroshaper\n",
    "using SPICE\n",
    "using Parameters\n",
    "\n",
    "# using Plots\n",
    "# using FileIO\n",
    "# using JLD2\n",
    "# using Profile"
   ]
  },
  {
   "cell_type": "code",
   "execution_count": 3,
   "metadata": {},
   "outputs": [],
   "source": []
  },
  {
   "cell_type": "markdown",
   "metadata": {},
   "source": [
    "# Thermal skin depth"
   ]
  },
  {
   "cell_type": "code",
   "execution_count": 3,
   "metadata": {},
   "outputs": [
    {
     "data": {
      "text/plain": [
       "thermal_skin_depth (generic function with 1 method)"
      ]
     },
     "metadata": {},
     "output_type": "display_data"
    }
   ],
   "source": [
    "thermal_skin_depth(k, ρ, Cp, ω) = √(k / (ρ * Cp * ω))"
   ]
  },
  {
   "cell_type": "code",
   "execution_count": 4,
   "metadata": {},
   "outputs": [
    {
     "data": {
      "text/plain": [
       "42948.0"
      ]
     },
     "metadata": {},
     "output_type": "display_data"
    }
   ],
   "source": [
    "k  = 0.1\n",
    "ρ  = 1270.\n",
    "Cp = 600.\n",
    "\n",
    "Pₚ_orb  = convrt(770.1, \"days\",  \"seconds\")  # [sec]\n",
    "Pₚ_spin = convrt(2.259, \"hours\", \"seconds\")  # [sec]\n",
    "Pₛ_orb  = convrt(11.93, \"hours\", \"seconds\")  # [sec]\n",
    "Pₛ_spin = convrt(11.93, \"hours\", \"seconds\")  # [sec]"
   ]
  },
  {
   "cell_type": "code",
   "execution_count": 5,
   "metadata": {},
   "outputs": [
    {
     "name": "stdout",
     "output_type": "stream",
     "text": [
      "lₚ_orb = 1.1788621205670597\n",
      "lₚ_spin = 0.013032926498811735\n",
      "lₛ_orb = 0.029950498302110336\n",
      "lₛ_spin = 0.029950498302110336\n"
     ]
    }
   ],
   "source": [
    "lₚ_orb  = thermal_skin_depth(k, ρ, Cp, 2π/Pₚ_orb)   # [m]\n",
    "lₚ_spin = thermal_skin_depth(k, ρ, Cp, 2π/Pₚ_spin)  # [m]\n",
    "lₛ_orb  = thermal_skin_depth(k, ρ, Cp, 2π/Pₛ_orb)   # [m]\n",
    "lₛ_spin = thermal_skin_depth(k, ρ, Cp, 2π/Pₛ_spin)  # [m]\n",
    "\n",
    "@show lₚ_orb\n",
    "@show lₚ_spin\n",
    "@show lₛ_orb\n",
    "@show lₛ_spin;"
   ]
  },
  {
   "cell_type": "code",
   "execution_count": 6,
   "metadata": {},
   "outputs": [
    {
     "name": "stdout",
     "output_type": "stream",
     "text": [
      "l_D₁ = 0.010795671962887977\n",
      "l_D₂ = 0.004615647839773404\n"
     ]
    }
   ],
   "source": [
    "l_D₁ = thermal_skin_depth(k, ρ, Cp, 2π/(93*60))   # [m]\n",
    "l_D₂ = thermal_skin_depth(k, ρ, Cp, 2π/(17*60))   # [m]\n",
    "@show l_D₁\n",
    "@show l_D₂;"
   ]
  },
  {
   "cell_type": "code",
   "execution_count": 7,
   "metadata": {},
   "outputs": [],
   "source": []
  },
  {
   "cell_type": "markdown",
   "metadata": {},
   "source": [
    "# Didymos–Dimorphos System"
   ]
  },
  {
   "cell_type": "code",
   "execution_count": 8,
   "metadata": {},
   "outputs": [
    {
     "data": {
      "text/plain": [
       "Dict{Symbol, Float64} with 10 entries:\n",
       "  :a  => 1.64421\n",
       "  :P  => 2.2593\n",
       "  :μ  => 1.32712e20\n",
       "  :M  => 0.0\n",
       "  :I  => 3.40795\n",
       "  :Ω  => 73.1958\n",
       "  :e  => 0.383848\n",
       "  :ω  => 319.323\n",
       "  :Φ  => 232.009\n",
       "  :GM => 0.0"
      ]
     },
     "metadata": {},
     "output_type": "display_data"
    }
   ],
   "source": [
    "DIDYMOS"
   ]
  },
  {
   "cell_type": "code",
   "execution_count": 9,
   "metadata": {},
   "outputs": [
    {
     "data": {
      "text/plain": [
       "Dict{Symbol, Float64} with 2 entries:\n",
       "  :a => 1190.0\n",
       "  :P => 11.93"
      ]
     },
     "metadata": {},
     "output_type": "display_data"
    }
   ],
   "source": [
    "DIMORPHOS"
   ]
  },
  {
   "cell_type": "code",
   "execution_count": 10,
   "metadata": {},
   "outputs": [
    {
     "data": {
      "text/plain": []
     },
     "metadata": {},
     "output_type": "display_data"
    },
    {
     "name": "stdout",
     "output_type": "stream",
     "text": [
      "--------------------\n",
      "  Orbital elements  \n",
      "--------------------\n",
      "    Semi-mojor axis         : a  = 1.644206917783226 [AU]\n",
      "    Eccentricity            : e  = 0.3838482230328272 [-]\n",
      "    Lon. of ascending node  : Ω  = 73.19580068754534 [deg]\n",
      "    Argument of periapsis   : ω  = 319.3229511490275 [deg]\n",
      "    Inclination             : I  = 3.407952385532195 [deg]\n",
      "    Periapsis passage time  : tₚ = -4.287946417937834e7 [sec]\n",
      "    Mean anomaly            : Φ  = 232.0090776515427 [deg]\n",
      "--------------------\n",
      "  Other parameters  \n",
      "--------------------\n",
      "    Gravitational parameter : μ = 1.32712440018e20 [m^3/s^2]\n",
      "    Mean motion             : n = 0.46748681898720285 [deg/day]\n",
      "    Orbital period          : P = 770.07518795916 [day]\n",
      "------------------\n",
      "  Time-variables  \n",
      "------------------\n",
      "    Time                    : t  = 0.0 [sec]\n",
      "    Eccentric anomaly       : u  = 218.36021768165475 [deg]\n",
      "    True anomaly            : ν  = 206.13476168936427 [deg]\n",
      "    Position                : r  = [-2.872860913400594e11, -1.4095619743219016e11, 0.0] [m]\n",
      "    Velocity                : v  = [11080.436264868738, -12927.536828220113, 0.0] [m/s]\n",
      "    Solar irradiation       : F☉ = 298.5336573682783 [W/m²]\n"
     ]
    }
   ],
   "source": [
    "orbit = OrbitalElements(DIDYMOS)"
   ]
  },
  {
   "cell_type": "code",
   "execution_count": 11,
   "metadata": {},
   "outputs": [
    {
     "data": {
      "text/plain": []
     },
     "metadata": {},
     "output_type": "display_data"
    },
    {
     "name": "stdout",
     "output_type": "stream",
     "text": [
      "-------------------\n",
      "  Spin parameters  \n",
      "-------------------\n",
      "Right ascension (RA) : α = 270.0 [deg]\n",
      "Declination (Dec)    : δ = 66.56072055555556 [deg]\n",
      "Ecliptic longitude   : λ = -0.0 [deg]\n",
      "Ecliptic latitude    : β = 90.0 [deg]\n",
      "Obliquity            : ε = 0.0 [deg]\n",
      "Spin period          : P = 2.2593 [hours]\n",
      "Spin rate            : ω = 0.0007725088531821048 [rad/sec]\n",
      "Vernal equinox lon.  : γ = 180.0 [deg]\n",
      "                           (longitude from the periheion direction)\n",
      "Time                 : t  = 0.0 [sec]\n",
      "Initial spin phase   : ϕ₀ = 0.0 [deg]\n",
      "Spin phase           : ϕ  = 0.0 [deg]\n"
     ]
    }
   ],
   "source": [
    "spin1 = SpinParams(DIDYMOS[:P], [0,0,1.], orbit)"
   ]
  },
  {
   "cell_type": "code",
   "execution_count": 12,
   "metadata": {},
   "outputs": [
    {
     "data": {
      "text/plain": []
     },
     "metadata": {},
     "output_type": "display_data"
    },
    {
     "name": "stdout",
     "output_type": "stream",
     "text": [
      "-------------------\n",
      "  Spin parameters  \n",
      "-------------------\n",
      "Right ascension (RA) : α = 270.0 [deg]\n",
      "Declination (Dec)    : δ = 66.56072055555556 [deg]\n",
      "Ecliptic longitude   : λ = -0.0 [deg]\n",
      "Ecliptic latitude    : β = 90.0 [deg]\n",
      "Obliquity            : ε = 0.0 [deg]\n",
      "Spin period          : P = 11.93 [hours]\n",
      "Spin rate            : ω = 0.00014629750645384152 [rad/sec]\n",
      "Vernal equinox lon.  : γ = 180.0 [deg]\n",
      "                           (longitude from the periheion direction)\n",
      "Time                 : t  = 0.0 [sec]\n",
      "Initial spin phase   : ϕ₀ = 0.0 [deg]\n",
      "Spin phase           : ϕ  = 0.0 [deg]\n"
     ]
    }
   ],
   "source": [
    "spin2 = SpinParams(DIMORPHOS[:P], [0,0,1.], orbit)"
   ]
  },
  {
   "cell_type": "code",
   "execution_count": 13,
   "metadata": {},
   "outputs": [],
   "source": [
    "shapedir = \"/Users/masanorikanamaru/Documents/shape/Didymos\"\n",
    "\n",
    "shapepath1 = joinpath(shapedir, \"hera_didymain_k001_v01.obj\")\n",
    "shapepath2 = joinpath(shapedir, \"hera_didymoon_k001_v02.obj\")\n",
    "\n",
    "shape1 = ShapeModel(shapepath1; scale=1000, find_visible_facets=true, save_shape=false)\n",
    "shape2 = ShapeModel(shapepath2; scale=1000, find_visible_facets=true, save_shape=false);"
   ]
  },
  {
   "cell_type": "code",
   "execution_count": 14,
   "metadata": {},
   "outputs": [
    {
     "name": "stdout",
     "output_type": "stream",
     "text": [
      "Shape model\n",
      "-----------\n",
      "Nodes             : 1000\n",
      "Faces             : 1996\n",
      "Surface area      : 1.9587913443986587e6\n",
      "Volume            : 2.4854815800174046e8\n",
      "Equivalent radius : 390.03835238336166\n",
      "Center-of-Figure  : [2.9777658695984757, 2.1269824375909674, -0.43182393702978866]\n",
      "Inertia tensor    : \n",
      "    | Ixx Ixy Ixz |   [0.0, 0.0, 0.0]\n",
      "    | Iyx Iyy Iyz | = [0.0, 0.0, 0.0]\n",
      "    | Izx Izy Izz |   [0.0, 0.0, 0.0]\n",
      "\n",
      "Shape model\n",
      "-----------\n",
      "Nodes             : 482\n",
      "Faces             : 960\n",
      "Surface area      : 60582.65840330811\n",
      "Volume            : 1.3759964810686912e6\n",
      "Equivalent radius : 68.99901717137523\n",
      "Center-of-Figure  : [3.076131265479583e-5, 6.136260601844864e-7, -6.345517684616665e-6]\n",
      "Inertia tensor    : \n",
      "    | Ixx Ixy Ixz |   [0.0, 0.0, 0.0]\n",
      "    | Iyx Iyy Iyz | = [0.0, 0.0, 0.0]\n",
      "    | Izx Izy Izz |   [0.0, 0.0, 0.0]\n",
      "\n"
     ]
    }
   ],
   "source": [
    "println(shape1)\n",
    "println(shape2)"
   ]
  },
  {
   "cell_type": "code",
   "execution_count": 15,
   "metadata": {},
   "outputs": [],
   "source": [
    "# draw(shape1, shape2)"
   ]
  },
  {
   "cell_type": "code",
   "execution_count": 16,
   "metadata": {},
   "outputs": [
    {
     "name": "stdout",
     "output_type": "stream",
     "text": [
      "-------------------\n",
      "  Spin parameters  \n",
      "-------------------\n",
      "Right ascension (RA) : α = 270.0 [deg]\n",
      "Declination (Dec)    : δ = 66.56072055555556 [deg]\n",
      "Ecliptic longitude   : λ = -0.0 [deg]\n",
      "Ecliptic latitude    : β = 90.0 [deg]\n",
      "Obliquity            : ε = 0.0 [deg]\n",
      "Spin period          : P = 2.2593 [hours]\n",
      "Spin rate            : ω = 0.0007725088531821048 [rad/sec]\n",
      "Vernal equinox lon.  : γ = 180.0 [deg]\n",
      "                           (longitude from the periheion direction)\n",
      "Time                 : t  = 0.0 [sec]\n",
      "Initial spin phase   : ϕ₀ = 0.0 [deg]\n",
      "Spin phase           : ϕ  = 0.0 [deg]\n",
      "\n",
      "-------------------\n",
      "  Spin parameters  \n",
      "-------------------\n",
      "Right ascension (RA) : α = 270.0 [deg]\n",
      "Declination (Dec)    : δ = 66.56072055555556 [deg]\n",
      "Ecliptic longitude   : λ = -0.0 [deg]\n",
      "Ecliptic latitude    : β = 90.0 [deg]\n",
      "Obliquity            : ε = 0.0 [deg]\n",
      "Spin period          : P = 11.93 [hours]\n",
      "Spin rate            : ω = 0.00014629750645384152 [rad/sec]\n",
      "Vernal equinox lon.  : γ = 180.0 [deg]\n",
      "                           (longitude from the periheion direction)\n",
      "Time                 : t  = 0.0 [sec]\n",
      "Initial spin phase   : ϕ₀ = 0.0 [deg]\n",
      "Spin phase           : ϕ  = 0.0 [deg]\n",
      "\n"
     ]
    }
   ],
   "source": [
    "println(spin1)\n",
    "println(spin2)\n",
    "## 自転軸の方向ベクトルがどの座標系を基準としているか注意しておく"
   ]
  },
  {
   "cell_type": "code",
   "execution_count": 46,
   "metadata": {},
   "outputs": [],
   "source": [
    "@unpack a = DIMORPHOS\n",
    "P₂ = convrt(DIMORPHOS[:P], \"hours\", \"seconds\")  # Tidally rocked rotation\n",
    "n₂ = 2π / P₂\n",
    "mutual_orbit = MutualOrbit(a, 0., 0., n₂, P₂, 0., 0.)\n",
    "\n",
    "binary = Binary(shape1, shape2, orbit, mutual_orbit, spin1, spin2);"
   ]
  },
  {
   "cell_type": "code",
   "execution_count": 61,
   "metadata": {},
   "outputs": [
    {
     "data": {
      "text/plain": []
     },
     "metadata": {},
     "output_type": "display_data"
    },
    {
     "name": "stdout",
     "output_type": "stream",
     "text": [
      "Thermophysical parameters\n",
      "-------------------------\n",
      "A_B   : 0.04\n",
      "A_TH  : 0.0\n",
      "k     : 0.1\n",
      "ρ     : 1270.0\n",
      "Cp    : 600.0\n",
      "ϵ     : 1.0\n",
      "-------------------------\n",
      "t_bgn : 0.0\n",
      "t_bgn : 0.0 (Normalized by period P)\n",
      "t_end : 42948.0\n",
      "t_end : 5.280396583012437 (Normalized by period P)\n",
      "Nt    : 400\n",
      "Δt    : 107.6390977443609\n",
      "Δt    : 0.013234076649153978 (Normalized by period P)\n",
      "-------------------------\n",
      "z_max : 0.6\n",
      "z_max : 5.180666101161171 (Normalized by skin depth l)\n",
      "Nz    : 41\n",
      "Δz    : 0.014999999999999998\n",
      "Δz    : 0.12951665252902927 (Normalized by skin depth l)\n",
      "-------------------------\n",
      "P     : 8133.4800000000005\n",
      "l     : 0.11581522303966253\n",
      "Γ     : 276.04347483684523\n",
      "λ     : 0.06278162598096293\n",
      "-------------------------\n"
     ]
    }
   ],
   "source": [
    "thermo_params = ThermoParams(  # とりあえずRyuguの熱物性値\n",
    "    A_B   = 0.04,\n",
    "    A_TH  = 0.0,\n",
    "    k     = 0.1,\n",
    "    ρ     = 1270.0,\n",
    "    Cp    = 600.0,\n",
    "    ϵ     = 1.,\n",
    "    t_bgn = 0.0,\n",
    "    t_end = P₂,\n",
    "    Nt    = 400,\n",
    "    z_max = 0.6,\n",
    "    Nz    = 41,\n",
    "    P     = binary.spin1.P,\n",
    ")"
   ]
  },
  {
   "cell_type": "code",
   "execution_count": 75,
   "metadata": {},
   "outputs": [],
   "source": [
    "run_binary_TPM!(binary, thermo_params);"
   ]
  },
  {
   "cell_type": "code",
   "execution_count": 88,
   "metadata": {},
   "outputs": [
    {
     "data": {
      "text/plain": [
       "(:a, :e, :I, :n, :P, :t, :θ)"
      ]
     },
     "metadata": {},
     "output_type": "display_data"
    }
   ],
   "source": [
    "# fieldnames(binary.mutual_orbit)\n",
    "fieldnames(MutualOrbit)"
   ]
  },
  {
   "cell_type": "code",
   "execution_count": 97,
   "metadata": {},
   "outputs": [
    {
     "data": {
      "text/plain": []
     },
     "metadata": {},
     "output_type": "display_data"
    },
    {
     "name": "stdout",
     "output_type": "stream",
     "text": [
      "-------------------\n",
      "  Spin parameters  \n",
      "-------------------\n",
      "Right ascension (RA) : α = 270.0 [deg]\n",
      "Declination (Dec)    : δ = 66.56072055555556 [deg]\n",
      "Ecliptic longitude   : λ = -0.0 [deg]\n",
      "Ecliptic latitude    : β = 90.0 [deg]\n",
      "Obliquity            : ε = 0.0 [deg]\n",
      "Spin period          : P = 2.2593 [hours]\n",
      "Spin rate            : ω = 0.0007725088531821048 [rad/sec]\n",
      "Vernal equinox lon.  : γ = 180.0 [deg]\n",
      "                           (longitude from the periheion direction)\n",
      "Time                 : t  = 0.0 [sec]\n",
      "Initial spin phase   : ϕ₀ = 0.0 [deg]\n",
      "Spin phase           : ϕ  = 0.0 [deg]\n"
     ]
    }
   ],
   "source": []
  },
  {
   "cell_type": "code",
   "execution_count": 20,
   "metadata": {},
   "outputs": [],
   "source": [
    "P₁ = convrt(2.259, \"hours\", \"seconds\")\n",
    "P₂ = convrt(11.93, \"hours\", \"seconds\")\n",
    "\n",
    "ω₁ = 2π / P₁\n",
    "ω₂ = 2π / P₂\n",
    "\n",
    "a₂ = 1190.;"
   ]
  },
  {
   "cell_type": "code",
   "execution_count": 21,
   "metadata": {},
   "outputs": [],
   "source": [
    "ρ = 2170.  # Bulk density\n",
    "m₁ = ρ * shape1.VOLUME\n",
    "m₂ = ρ * shape2.VOLUME;\n"
   ]
  },
  {
   "cell_type": "code",
   "execution_count": 22,
   "metadata": {},
   "outputs": [],
   "source": []
  },
  {
   "cell_type": "code",
   "execution_count": 23,
   "metadata": {},
   "outputs": [],
   "source": []
  },
  {
   "cell_type": "code",
   "execution_count": 24,
   "metadata": {},
   "outputs": [
    {
     "data": {
      "text/plain": [
       "GLMakie.Screen(...)"
      ]
     },
     "execution_count": 24,
     "metadata": {},
     "output_type": "execute_result"
    }
   ],
   "source": [
    "draw(shape1; data=:temperature)"
   ]
  },
  {
   "cell_type": "code",
   "execution_count": 25,
   "metadata": {},
   "outputs": [
    {
     "data": {
      "text/plain": [
       "GLMakie.Screen(...)"
      ]
     },
     "execution_count": 25,
     "metadata": {},
     "output_type": "execute_result"
    }
   ],
   "source": [
    "draw(shape2; data=:temperature)"
   ]
  },
  {
   "cell_type": "code",
   "execution_count": null,
   "metadata": {},
   "outputs": [],
   "source": []
  }
 ],
 "metadata": {
  "kernelspec": {
   "display_name": "Julia 1.7.0",
   "language": "julia",
   "name": "julia-1.7"
  },
  "language_info": {
   "file_extension": ".jl",
   "mimetype": "application/julia",
   "name": "julia",
   "version": "1.7.0"
  }
 },
 "nbformat": 4,
 "nbformat_minor": 4
}
