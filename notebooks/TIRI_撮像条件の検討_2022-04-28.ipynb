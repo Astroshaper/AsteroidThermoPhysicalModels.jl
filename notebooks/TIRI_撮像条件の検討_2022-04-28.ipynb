{
 "cells": [
  {
   "cell_type": "code",
   "execution_count": 84,
   "metadata": {},
   "outputs": [],
   "source": [
    "# using Pkg\n",
    "# Pkg.add(\"https://github.com/MasanoriKanamaru/Astroshaper\")\n",
    "# Pkg.update(\"Astroshaper\")"
   ]
  },
  {
   "cell_type": "code",
   "execution_count": 85,
   "metadata": {},
   "outputs": [],
   "source": [
    "# Pkg.test(\"Astroshaper\")"
   ]
  },
  {
   "cell_type": "code",
   "execution_count": 1,
   "metadata": {},
   "outputs": [],
   "source": [
    "using Revise\n",
    "using Astroshaper\n",
    "using SPICE\n",
    "\n",
    "# using Plots\n",
    "# using FileIO\n",
    "# using JLD2\n",
    "# using Profile"
   ]
  },
  {
   "cell_type": "code",
   "execution_count": 2,
   "metadata": {},
   "outputs": [],
   "source": []
  },
  {
   "cell_type": "markdown",
   "metadata": {},
   "source": [
    "# Thermal skin depth"
   ]
  },
  {
   "cell_type": "code",
   "execution_count": 3,
   "metadata": {},
   "outputs": [
    {
     "data": {
      "text/plain": [
       "thermal_skin_depth (generic function with 1 method)"
      ]
     },
     "metadata": {},
     "output_type": "display_data"
    }
   ],
   "source": [
    "thermal_skin_depth(k, ρ, Cp, ω) = √(k / (ρ * Cp * ω))"
   ]
  },
  {
   "cell_type": "code",
   "execution_count": 4,
   "metadata": {},
   "outputs": [
    {
     "data": {
      "text/plain": [
       "42948.0"
      ]
     },
     "metadata": {},
     "output_type": "display_data"
    }
   ],
   "source": [
    "k  = 0.1\n",
    "ρ  = 1270.\n",
    "Cp = 600.\n",
    "\n",
    "Pₚ_orb  = SPICE.convrt(770.1, \"days\",  \"seconds\")  # [sec]\n",
    "Pₚ_spin = SPICE.convrt(2.259, \"hours\", \"seconds\")  # [sec]\n",
    "Pₛ_orb  = SPICE.convrt(11.93, \"hours\", \"seconds\")  # [sec]\n",
    "Pₛ_spin = SPICE.convrt(11.93, \"hours\", \"seconds\")  # [sec]"
   ]
  },
  {
   "cell_type": "code",
   "execution_count": 5,
   "metadata": {},
   "outputs": [
    {
     "name": "stdout",
     "output_type": "stream",
     "text": [
      "lₚ_orb = 1.1788621205670597\n",
      "lₚ_spin = 0.013032926498811735\n",
      "lₛ_orb = 0.029950498302110336\n",
      "lₛ_spin = 0.029950498302110336\n"
     ]
    }
   ],
   "source": [
    "lₚ_orb  = thermal_skin_depth(k, ρ, Cp, 2π/Pₚ_orb)   # [m]\n",
    "lₚ_spin = thermal_skin_depth(k, ρ, Cp, 2π/Pₚ_spin)  # [m]\n",
    "lₛ_orb  = thermal_skin_depth(k, ρ, Cp, 2π/Pₛ_orb)   # [m]\n",
    "lₛ_spin = thermal_skin_depth(k, ρ, Cp, 2π/Pₛ_spin)  # [m]\n",
    "\n",
    "@show lₚ_orb\n",
    "@show lₚ_spin\n",
    "@show lₛ_orb\n",
    "@show lₛ_spin;"
   ]
  },
  {
   "cell_type": "code",
   "execution_count": 6,
   "metadata": {},
   "outputs": [
    {
     "name": "stdout",
     "output_type": "stream",
     "text": [
      "l_D₁ = 0.010795671962887977\n",
      "l_D₂ = 0.004615647839773404\n"
     ]
    }
   ],
   "source": [
    "l_D₁ = thermal_skin_depth(k, ρ, Cp, 2π/(93*60))   # [m]\n",
    "l_D₂ = thermal_skin_depth(k, ρ, Cp, 2π/(17*60))   # [m]\n",
    "@show l_D₁\n",
    "@show l_D₂;"
   ]
  },
  {
   "cell_type": "code",
   "execution_count": 7,
   "metadata": {},
   "outputs": [],
   "source": []
  },
  {
   "cell_type": "markdown",
   "metadata": {},
   "source": [
    "# Didymos–Dimorphos System"
   ]
  },
  {
   "cell_type": "code",
   "execution_count": 8,
   "metadata": {},
   "outputs": [
    {
     "data": {
      "text/plain": [
       "Dict{Symbol, Float64} with 7 entries:\n",
       "  :a => 1.64421\n",
       "  :P => 2.2593\n",
       "  :I => 3.40795\n",
       "  :Ω => 73.1958\n",
       "  :e => 0.383848\n",
       "  :ω => 319.323\n",
       "  :Φ => 232.009"
      ]
     },
     "metadata": {},
     "output_type": "display_data"
    }
   ],
   "source": [
    "DIDYMOS"
   ]
  },
  {
   "cell_type": "code",
   "execution_count": 9,
   "metadata": {},
   "outputs": [
    {
     "data": {
      "text/plain": [
       "Dict{Symbol, Float64} with 2 entries:\n",
       "  :a => 1190.0\n",
       "  :P => 11.93"
      ]
     },
     "metadata": {},
     "output_type": "display_data"
    }
   ],
   "source": [
    "DIMORPHOS"
   ]
  },
  {
   "cell_type": "code",
   "execution_count": 11,
   "metadata": {},
   "outputs": [
    {
     "data": {
      "text/plain": []
     },
     "metadata": {},
     "output_type": "display_data"
    },
    {
     "name": "stdout",
     "output_type": "stream",
     "text": [
      "--------------------\n",
      "  Orbital elements  \n",
      "--------------------\n",
      "    Semi-mojor axis         : a  = 1.644206917783226 [AU]\n",
      "    Eccentricity            : e  = 0.3838482230328272 [-]\n",
      "    Lon. of ascending node  : Ω  = 73.19580068754534 [deg]\n",
      "    Argument of periapsis   : ω  = 319.3229511490275 [deg]\n",
      "    Inclination             : I  = 3.407952385532195 [deg]\n",
      "    Periapsis passage time  : tₚ = -4.287946417937834e7 [sec]\n",
      "    Mean anomaly            : Φ  = 232.0090776515427 [deg]\n",
      "--------------------\n",
      "  Other parameters  \n",
      "--------------------\n",
      "    Gravitational parameter : μ = 1.32712440018e20 [m^3/s^2]\n",
      "    Mean motion             : n = 0.46748681898720285 [deg/day]\n",
      "    Orbital period          : P = 770.07518795916 [day]\n",
      "------------------\n",
      "  Time-variables  \n",
      "------------------\n",
      "    Time                    : t  = 0.0 [sec]\n",
      "    Eccentric anomaly       : u  = 218.36021768165475 [deg]\n",
      "    True anomaly            : ν  = 206.13476168936427 [deg]\n",
      "    Position                : r  = [-2.872860913400594e11, -1.4095619743219016e11, 0.0] [m]\n",
      "    Velocity                : v  = [11080.436264868738, -12927.536828220113, 0.0] [m/s]\n",
      "    Solar irradiation       : F☉ = 298.5336573682783 [W/m²]\n"
     ]
    }
   ],
   "source": [
    "orbit = OrbitalElements(DIDYMOS)"
   ]
  },
  {
   "cell_type": "code",
   "execution_count": 12,
   "metadata": {},
   "outputs": [
    {
     "data": {
      "text/plain": []
     },
     "metadata": {},
     "output_type": "display_data"
    },
    {
     "name": "stdout",
     "output_type": "stream",
     "text": [
      "-------------------\n",
      "  Spin parameters  \n",
      "-------------------\n",
      "Right ascension (RA) : α = 270.0 [deg]\n",
      "Declination (Dec)    : δ = 66.56072055555556 [deg]\n",
      "Ecliptic longitude   : λ = -0.0 [deg]\n",
      "Ecliptic latitude    : β = 90.0 [deg]\n",
      "Obliquity            : ε = 0.0 [deg]\n",
      "Spin period          : P = 2.2593 [hours]\n",
      "Spin rate            : ω = 0.0007725088531821048 [rad/sec]\n",
      "Vernal equinox lon.  : γ = 180.0 [deg]\n",
      "                           (longitude from the periheion direction)\n",
      "Time                 : t  = 0.0 [sec]\n",
      "Initial spin phase   : ϕ₀ = 0.0 [deg]\n",
      "Spin phase           : ϕ  = 0.0 [deg]\n"
     ]
    }
   ],
   "source": [
    "spin1 = SpinParams(DIDYMOS[:P], [0,0,1.], orbit)"
   ]
  },
  {
   "cell_type": "code",
   "execution_count": 13,
   "metadata": {},
   "outputs": [
    {
     "data": {
      "text/plain": []
     },
     "metadata": {},
     "output_type": "display_data"
    },
    {
     "name": "stdout",
     "output_type": "stream",
     "text": [
      "-------------------\n",
      "  Spin parameters  \n",
      "-------------------\n",
      "Right ascension (RA) : α = 270.0 [deg]\n",
      "Declination (Dec)    : δ = 66.56072055555556 [deg]\n",
      "Ecliptic longitude   : λ = -0.0 [deg]\n",
      "Ecliptic latitude    : β = 90.0 [deg]\n",
      "Obliquity            : ε = 0.0 [deg]\n",
      "Spin period          : P = 11.93 [hours]\n",
      "Spin rate            : ω = 0.00014629750645384152 [rad/sec]\n",
      "Vernal equinox lon.  : γ = 180.0 [deg]\n",
      "                           (longitude from the periheion direction)\n",
      "Time                 : t  = 0.0 [sec]\n",
      "Initial spin phase   : ϕ₀ = 0.0 [deg]\n",
      "Spin phase           : ϕ  = 0.0 [deg]\n"
     ]
    }
   ],
   "source": [
    "spin2 = SpinParams(DIMORPHOS[:P], [0,0,1.], orbit)"
   ]
  },
  {
   "cell_type": "code",
   "execution_count": 14,
   "metadata": {},
   "outputs": [],
   "source": [
    "shapedir = \"/Users/masanorikanamaru/Documents/shape/Didymos\"\n",
    "\n",
    "shapepath1 = joinpath(shapedir, \"hera_didymain_k001_v01.obj\")\n",
    "shapepath2 = joinpath(shapedir, \"hera_didymoon_k001_v02.obj\")\n",
    "\n",
    "shape1 = ShapeModel(shapepath1; scale=1000, find_visible_facets=true, save_shape=false)\n",
    "shape2 = ShapeModel(shapepath2; scale=1000, find_visible_facets=true, save_shape=false);"
   ]
  },
  {
   "cell_type": "code",
   "execution_count": 15,
   "metadata": {},
   "outputs": [
    {
     "name": "stdout",
     "output_type": "stream",
     "text": [
      "Shape model\n",
      "-----------\n",
      "Nodes             : 1000\n",
      "Faces             : 1996\n",
      "Surface area      : 1.9587913443986587e6\n",
      "Volume            : 2.4854815800174046e8\n",
      "Equivalent radius : 390.03835238336166\n",
      "Center-of-Figure  : [2.9777658695984757, 2.1269824375909674, -0.43182393702978866]\n",
      "Inertia tensor    : \n",
      "    | Ixx Ixy Ixz |   [0.0, 0.0, 0.0]\n",
      "    | Iyx Iyy Iyz | = [0.0, 0.0, 0.0]\n",
      "    | Izx Izy Izz |   [0.0, 0.0, 0.0]\n",
      "\n",
      "Shape model\n",
      "-----------\n",
      "Nodes             : 482\n",
      "Faces             : 960\n",
      "Surface area      : 60582.65840330811\n",
      "Volume            : 1.3759964810686912e6\n",
      "Equivalent radius : 68.99901717137523\n",
      "Center-of-Figure  : [3.076131265479583e-5, 6.136260601844864e-7, -6.345517684616665e-6]\n",
      "Inertia tensor    : \n",
      "    | Ixx Ixy Ixz |   [0.0, 0.0, 0.0]\n",
      "    | Iyx Iyy Iyz | = [0.0, 0.0, 0.0]\n",
      "    | Izx Izy Izz |   [0.0, 0.0, 0.0]\n",
      "\n"
     ]
    }
   ],
   "source": [
    "println(shape1)\n",
    "println(shape2)"
   ]
  },
  {
   "cell_type": "code",
   "execution_count": 45,
   "metadata": {},
   "outputs": [],
   "source": [
    "draw(shape1, shape2)"
   ]
  },
  {
   "cell_type": "code",
   "execution_count": 25,
   "metadata": {},
   "outputs": [
    {
     "name": "stdout",
     "output_type": "stream",
     "text": [
      "-------------------\n",
      "  Spin parameters  \n",
      "-------------------\n",
      "Right ascension (RA) : α = 270.0 [deg]\n",
      "Declination (Dec)    : δ = 66.56072055555556 [deg]\n",
      "Ecliptic longitude   : λ = -0.0 [deg]\n",
      "Ecliptic latitude    : β = 90.0 [deg]\n",
      "Obliquity            : ε = 0.0 [deg]\n",
      "Spin period          : P = 2.2593 [hours]\n",
      "Spin rate            : ω = 0.0007725088531821048 [rad/sec]\n",
      "Vernal equinox lon.  : γ = 180.0 [deg]\n",
      "                           (longitude from the periheion direction)\n",
      "Time                 : t  = 0.0 [sec]\n",
      "Initial spin phase   : ϕ₀ = 0.0 [deg]\n",
      "Spin phase           : ϕ  = 0.0 [deg]\n",
      "\n",
      "-------------------\n",
      "  Spin parameters  \n",
      "-------------------\n",
      "Right ascension (RA) : α = 270.0 [deg]\n",
      "Declination (Dec)    : δ = 66.56072055555556 [deg]\n",
      "Ecliptic longitude   : λ = -0.0 [deg]\n",
      "Ecliptic latitude    : β = 90.0 [deg]\n",
      "Obliquity            : ε = 0.0 [deg]\n",
      "Spin period          : P = 11.93 [hours]\n",
      "Spin rate            : ω = 0.00014629750645384152 [rad/sec]\n",
      "Vernal equinox lon.  : γ = 180.0 [deg]\n",
      "                           (longitude from the periheion direction)\n",
      "Time                 : t  = 0.0 [sec]\n",
      "Initial spin phase   : ϕ₀ = 0.0 [deg]\n",
      "Spin phase           : ϕ  = 0.0 [deg]\n",
      "\n",
      "-------------------\n",
      "  Spin parameters  \n",
      "-------------------\n",
      "Right ascension (RA) : α = 270.0 [deg]\n",
      "Declination (Dec)    : δ = 66.56072055555556 [deg]\n",
      "Ecliptic longitude   : λ = -0.0 [deg]\n",
      "Ecliptic latitude    : β = 90.0 [deg]\n",
      "Obliquity            : ε = 0.0 [deg]\n",
      "Spin period          : P = 2.2593 [hours]\n",
      "Spin rate            : ω = 0.0007725088531821048 [rad/sec]\n",
      "Vernal equinox lon.  : γ = 180.0 [deg]\n",
      "                           (longitude from the periheion direction)\n",
      "Time                 : t  = 0.0 [sec]\n",
      "Initial spin phase   : ϕ₀ = 0.0 [deg]\n",
      "Spin phase           : ϕ  = 0.0 [deg]\n",
      "\n",
      "-------------------\n",
      "  Spin parameters  \n",
      "-------------------\n",
      "Right ascension (RA) : α = 270.0 [deg]\n",
      "Declination (Dec)    : δ = 66.56072055555556 [deg]\n",
      "Ecliptic longitude   : λ = -0.0 [deg]\n",
      "Ecliptic latitude    : β = 90.0 [deg]\n",
      "Obliquity            : ε = 0.0 [deg]\n",
      "Spin period          : P = 11.93 [hours]\n",
      "Spin rate            : ω = 0.00014629750645384152 [rad/sec]\n",
      "Vernal equinox lon.  : γ = 180.0 [deg]\n",
      "                           (longitude from the periheion direction)\n",
      "Time                 : t  = 0.0 [sec]\n",
      "Initial spin phase   : ϕ₀ = 0.0 [deg]\n",
      "Spin phase           : ϕ  = 0.0 [deg]\n",
      "\n"
     ]
    }
   ],
   "source": [
    "println(spin1)\n",
    "println(spin2)\n",
    "## 自転軸の方向ベクトルがどの座標系を基準としているか注意しておく"
   ]
  },
  {
   "cell_type": "code",
   "execution_count": 27,
   "metadata": {},
   "outputs": [],
   "source": [
    "binary = Binary(shape1, shape2, orbit, spin1, spin2);"
   ]
  },
  {
   "cell_type": "code",
   "execution_count": 39,
   "metadata": {},
   "outputs": [],
   "source": []
  },
  {
   "cell_type": "code",
   "execution_count": 20,
   "metadata": {},
   "outputs": [],
   "source": [
    "P₁ = convrt(2.259, \"hours\", \"seconds\")\n",
    "P₂ = convrt(11.93, \"hours\", \"seconds\")\n",
    "\n",
    "ω₁ = 2π / P₁\n",
    "ω₂ = 2π / P₂\n",
    "\n",
    "a₂ = 1190.;"
   ]
  },
  {
   "cell_type": "code",
   "execution_count": 21,
   "metadata": {},
   "outputs": [],
   "source": [
    "ρ = 2170.  # Bulk density\n",
    "m₁ = ρ * shape1.VOLUME\n",
    "m₂ = ρ * shape2.VOLUME;\n"
   ]
  },
  {
   "cell_type": "code",
   "execution_count": 22,
   "metadata": {},
   "outputs": [],
   "source": [
    "thermo_params = ThermoParams(  # とりあえずRyuguの熱物性値\n",
    "    A_B   = 0.04,\n",
    "    A_TH  = 0.0,\n",
    "    k     = 0.1,\n",
    "    ρ     = 1270.0,\n",
    "    Cp    = 600.0,\n",
    "    ϵ     = 1.,\n",
    "    t_bgn = 0.0,\n",
    "    t_end = P₂,\n",
    "    Nt    = 400,\n",
    "    z_max = 0.6,\n",
    "    Nz    = 41,\n",
    "    P     = P₁,\n",
    ");"
   ]
  },
  {
   "cell_type": "code",
   "execution_count": 23,
   "metadata": {},
   "outputs": [],
   "source": [
    "Astroshaper.init_temps_zero!(shape1, thermo_params)\n",
    "Astroshaper.init_temps_zero!(shape2, thermo_params)\n",
    "\n",
    "@unpack t_bgn, Δt, t_end, P = thermo_params\n",
    "for t in (t_bgn:Δt:t_end)*P\n",
    "    ϕ₁ = ω₁ * t\n",
    "    ϕ₂ = ω₂ * t\n",
    "\n",
    "    θ  = ω₂ * t\n",
    "    C₁ = [cos(θ+π), sin(θ+π), 0] * 1190 * m₂ / (m₁ + m₂)  # Center of Didymos\n",
    "    C₂ = [cos(θ),   sin(θ),   0] * 1190 * m₁ / (m₁ + m₂)  # Center of Dimorphos\n",
    "\n",
    "    F☉ = SOLAR_CONST             # Given a solar flux at 1 au\n",
    "    r̂☉ = SVector{3}([0, 1, 0.])  # Sun is fixed at the gravity center frame\n",
    "    \n",
    "    r̂☉₁ = rotateZ(r̂☉, ϕ₁)\n",
    "    r̂☉₂ = rotateZ(r̂☉, ϕ₂)\n",
    "\n",
    "    Astroshaper.update_flux_sun!(shape1, F☉, r̂☉₁)\n",
    "    Astroshaper.update_flux_scat_single!(shape1, thermo_params)\n",
    "    Astroshaper.update_flux_rad_single!(shape1, thermo_params)\n",
    "\n",
    "    Astroshaper.update_temps!(shape1, thermo_params)\n",
    "\n",
    "    Astroshaper.update_flux_sun!(shape2, F☉, r̂☉₂)\n",
    "    Astroshaper.update_flux_scat_single!(shape2, thermo_params)\n",
    "    Astroshaper.update_flux_rad_single!(shape2, thermo_params)\n",
    "\n",
    "    Astroshaper.update_temps!(shape2, thermo_params)\n",
    "\n",
    "    # println(t, \", \", rad2deg(ϕ₁), \", \", rad2deg(ϕ₂), \", \", r̂☉₁)\n",
    "\n",
    "end"
   ]
  },
  {
   "cell_type": "code",
   "execution_count": 24,
   "metadata": {},
   "outputs": [
    {
     "data": {
      "text/plain": [
       "GLMakie.Screen(...)"
      ]
     },
     "execution_count": 24,
     "metadata": {},
     "output_type": "execute_result"
    }
   ],
   "source": [
    "draw(shape1; data=:temperature)"
   ]
  },
  {
   "cell_type": "code",
   "execution_count": 25,
   "metadata": {},
   "outputs": [
    {
     "data": {
      "text/plain": [
       "GLMakie.Screen(...)"
      ]
     },
     "execution_count": 25,
     "metadata": {},
     "output_type": "execute_result"
    }
   ],
   "source": [
    "draw(shape2; data=:temperature)"
   ]
  },
  {
   "cell_type": "code",
   "execution_count": null,
   "metadata": {},
   "outputs": [],
   "source": []
  }
 ],
 "metadata": {
  "kernelspec": {
   "display_name": "Julia 1.7.0",
   "language": "julia",
   "name": "julia-1.7"
  },
  "language_info": {
   "file_extension": ".jl",
   "mimetype": "application/julia",
   "name": "julia",
   "version": "1.7.0"
  }
 },
 "nbformat": 4,
 "nbformat_minor": 4
}
