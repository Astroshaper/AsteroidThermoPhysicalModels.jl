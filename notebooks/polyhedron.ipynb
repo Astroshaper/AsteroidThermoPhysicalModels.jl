{
 "cells": [
  {
   "cell_type": "code",
   "execution_count": 1,
   "metadata": {},
   "outputs": [],
   "source": [
    "using BenchmarkTools\n",
    "using Revise\n",
    "\n",
    "using LinearAlgebra\n",
    "using DataFrames\n",
    "\n",
    "using FileIO\n",
    "using JLD2"
   ]
  },
  {
   "cell_type": "code",
   "execution_count": null,
   "metadata": {},
   "outputs": [],
   "source": [
    "using Plots\n",
    "# gr()\n",
    "# pgfplotsx()\n",
    "pyplot(fmt=:svg)"
   ]
  },
  {
   "cell_type": "code",
   "execution_count": 2,
   "metadata": {},
   "outputs": [
    {
     "name": "stdout",
     "output_type": "stream",
     "text": [
      "/Users/masanorikanamaru/Documents/GitHub/Astroshaper/src\n"
     ]
    }
   ],
   "source": [
    "run(`pwd`);"
   ]
  },
  {
   "cell_type": "code",
   "execution_count": 3,
   "metadata": {},
   "outputs": [],
   "source": [
    "# push!(LOAD_PATH, \"/path/to/MyPackage/src\")\n",
    "\n",
    "# include(\"shape.jl\")\n",
    "# include(\"smesh.jl\")\n",
    "# include(\"obj.jl\")\n",
    "# include(\"coordinate.jl\")\n",
    "# include(\"kepler.jl\")\n",
    "# include(\"spin.jl\")\n",
    "# include(\"YORP.jl\");"
   ]
  },
  {
   "cell_type": "code",
   "execution_count": 4,
   "metadata": {},
   "outputs": [
    {
     "name": "stderr",
     "output_type": "stream",
     "text": [
      "┌ Info: Precompiling HalfEdges [b1055ec2-7fd2-11e8-0664-e1e21354bdb9]\n",
      "└ @ Base loading.jl:1317\n"
     ]
    }
   ],
   "source": [
    "includet(\"polyhedron.jl\");"
   ]
  },
  {
   "cell_type": "code",
   "execution_count": 2,
   "metadata": {},
   "outputs": [],
   "source": [
    "using Revise\n",
    "using Astroshaper"
   ]
  },
  {
   "cell_type": "code",
   "execution_count": 3,
   "metadata": {},
   "outputs": [
    {
     "name": "stdout",
     "output_type": "stream",
     "text": [
      "/Users/masanorikanamaru/Documents/shape/ryugu/ryugu_test.obj\n"
     ]
    }
   ],
   "source": [
    "shapedir = \"/Users/masanorikanamaru/Documents/shape/ryugu\"\n",
    "\n",
    "shapename = \"ryugu_test.obj\"\n",
    "# shapename = \"SHAPE_SPC_49k_v20190802.obj\"\n",
    "# shapename = \"SHAPE_SPC_200k_v20190802.obj\"\n",
    "# shapename = \"SHAPE_SPC_800k_v20190802.obj\"\n",
    "# shapename = \"SHAPE_SPC_3M_v20190802.obj\"\n",
    "\n",
    "shapepath = joinpath(shapedir, shapename)\n",
    "println(shapepath)"
   ]
  },
  {
   "cell_type": "code",
   "execution_count": 4,
   "metadata": {},
   "outputs": [
    {
     "data": {
      "text/plain": [
       "\"/Users/masanorikanamaru/Documents/shape/itokawa/itokawa_v2718_f5430.obj\""
      ]
     },
     "execution_count": 4,
     "metadata": {},
     "output_type": "execute_result"
    }
   ],
   "source": [
    "# shapepath = \"/Users/masanorikanamaru/Documents/shape/itokawa/itokawa_v25350_f49152.obj\"\n",
    "shapepath = \"/Users/masanorikanamaru/Documents/shape/itokawa/itokawa_v2718_f5430.obj\""
   ]
  },
  {
   "cell_type": "code",
   "execution_count": 5,
   "metadata": {},
   "outputs": [
    {
     "ename": "LoadError",
     "evalue": "UndefVarError: loadmesh not defined",
     "output_type": "error",
     "traceback": [
      "UndefVarError: loadmesh not defined",
      "",
      "Stacktrace:",
      " [1] top-level scope",
      "   @ In[5]:1",
      " [2] eval",
      "   @ ./boot.jl:373 [inlined]",
      " [3] include_string(mapexpr::typeof(REPL.softscope), mod::Module, code::String, filename::String)",
      "   @ Base ./loading.jl:1196"
     ]
    }
   ],
   "source": [
    "topology, points = loadmesh(shapepath);\n",
    "points *= 1000.;\n",
    "\n",
    "println(\"**** Load \", shapepath, \" ****\")\n",
    "println(\"Vertices : \", nvertices(topology))\n",
    "println(\"Faces    : \", nfaces(topology))\n",
    "println(\"Edges    : \", nedges(topology))"
   ]
  },
  {
   "cell_type": "code",
   "execution_count": 20,
   "metadata": {},
   "outputs": [
    {
     "name": "stdout",
     "output_type": "stream",
     "text": [
      " 26.757689 seconds (1.42 G allocations: 35.706 GiB, 10.28% gc time)\n"
     ]
    }
   ],
   "source": [
    "@time potentials, accelerations = getSurfaceGravity(topology, points, 1950);\n",
    "\n",
    "#  5430-mesh :  10.599252 seconds (501.45 M allocations: 16.705 GiB, 12.62% gc time)\n",
    "# 49152-mesh : 833.042774 seconds (41.07 G allocations: 1.336 TiB, 12.05% gc time)"
   ]
  },
  {
   "cell_type": "code",
   "execution_count": null,
   "metadata": {},
   "outputs": [],
   "source": [
    "30.582577 seconds (1.42 G allocations: 35.706 GiB, 19.34% gc time)"
   ]
  },
  {
   "cell_type": "code",
   "execution_count": 9,
   "metadata": {},
   "outputs": [
    {
     "data": {
      "text/plain": [
       "5430-element Vector{Float64}:\n",
       " -0.010895647201850035\n",
       " -0.01090430957210558\n",
       " -0.010720331144283064\n",
       " -0.01116604636565566\n",
       " -0.011089087341142837\n",
       " -0.010809653284468684\n",
       " -0.01058416660390794\n",
       " -0.01086947554649759\n",
       " -0.011231025378015593\n",
       " -0.011422323106278215\n",
       " -0.01131260690873072\n",
       " -0.01097596192612083\n",
       " -0.01112558228030315\n",
       "  ⋮\n",
       " -0.01217561188407867\n",
       " -0.012146829456854599\n",
       " -0.01221956199638723\n",
       " -0.01229236472277908\n",
       " -0.012206386087450274\n",
       " -0.01212151703939945\n",
       " -0.012368395220410038\n",
       " -0.012476424305230598\n",
       " -0.012172107772857878\n",
       " -0.012079469029664535\n",
       " -0.014594237016997882\n",
       " -0.013738914536698236"
      ]
     },
     "execution_count": 9,
     "metadata": {},
     "output_type": "execute_result"
    }
   ],
   "source": [
    "potentials"
   ]
  },
  {
   "cell_type": "code",
   "execution_count": 10,
   "metadata": {},
   "outputs": [
    {
     "data": {
      "text/plain": [
       "5430-element Vector{SVector{3, Float64}}:\n",
       " [2.577947188714996e-5, 5.197679040914658e-5, -2.7009830378709968e-5]\n",
       " [2.2030189615376065e-5, 5.0466653018200496e-5, -3.126697808963081e-5]\n",
       " [2.963809379454974e-5, 5.066757929912562e-5, -2.52953062631447e-5]\n",
       " [2.6921381371466124e-5, 5.517698515492022e-5, -2.2916143872226028e-5]\n",
       " [1.9201021861450067e-5, 5.067115928466656e-5, -3.330778021697846e-5]\n",
       " [2.0345351977785303e-5, 4.6597310720904235e-5, -3.66498201457048e-5]\n",
       " [3.089272567932374e-5, 4.80744938467499e-5, -2.850194642724388e-5]\n",
       " [3.390654929627958e-5, 5.188314158427497e-5, -1.854416356299805e-5]\n",
       " [3.0593380416892374e-5, 5.577723922413485e-5, -1.8915636985183883e-5]\n",
       " [2.347986178494391e-5, 5.7046970287624094e-5, -2.366760534270383e-5]\n",
       " [1.794347378985264e-5, 5.279611222496425e-5, -3.191071894985246e-5]\n",
       " [1.731664797682609e-5, 4.645718763053634e-5, -3.832942047275329e-5]\n",
       " [1.397995415755572e-5, 4.4616667037596166e-5, -4.1279606911603434e-5]\n",
       " ⋮\n",
       " [-7.337970664555594e-5, -7.819836027965495e-6, 2.2939646295482953e-5]\n",
       " [-7.355124603602216e-5, -3.9403349247646914e-6, 2.2867331476553996e-5]\n",
       " [-7.356044760745697e-5, -1.8825085963655272e-5, 1.647442230736623e-5]\n",
       " [-7.237791319667254e-5, -2.0801667748117328e-5, 1.9995875212835525e-5]\n",
       " [-7.238841109647678e-5, -2.2385918895126066e-5, 1.6733638719318857e-5]\n",
       " [-7.402897405168526e-5, -2.0274763904940758e-5, 1.0266172642142191e-5]\n",
       " [-6.807612566928046e-5, -2.8984275646649497e-5, 2.442802856882833e-5]\n",
       " [-6.570586716686411e-5, -3.296470990788531e-5, 2.6568860362538663e-5]\n",
       " [-7.361784851318704e-5, -1.4510455678785573e-5, 1.895444185156772e-5]\n",
       " [-7.447484125468e-5, -1.3626210759272798e-5, 1.491489939524575e-5]\n",
       " [2.229400685040984e-6, 4.9518034009834915e-5, 6.667115570076509e-5]\n",
       " [-5.235369554278971e-6, 7.841972198913233e-5, -7.805708664792734e-6]"
      ]
     },
     "execution_count": 10,
     "metadata": {},
     "output_type": "execute_result"
    }
   ],
   "source": [
    "accelerations"
   ]
  },
  {
   "cell_type": "code",
   "execution_count": null,
   "metadata": {},
   "outputs": [],
   "source": [
    "open(\"potential.txt\", \"w\") do out\n",
    "    Base.print_array(out, potentials)\n",
    "end"
   ]
  },
  {
   "cell_type": "code",
   "execution_count": null,
   "metadata": {},
   "outputs": [],
   "source": [
    "open(\"accelration.txt\", \"w\") do out\n",
    "    Base.print_array(out, norm.(accelerations))\n",
    "end"
   ]
  },
  {
   "cell_type": "code",
   "execution_count": null,
   "metadata": {},
   "outputs": [],
   "source": []
  },
  {
   "cell_type": "markdown",
   "metadata": {},
   "source": [
    "# objの読込\n",
    "\n",
    "# objの保存\n",
    "\n",
    "# objの加工\n",
    "\n",
    "- 頂点座標を、動系方向に ± 1 m の範囲でランダムに散らす"
   ]
  },
  {
   "cell_type": "code",
   "execution_count": 12,
   "metadata": {},
   "outputs": [],
   "source": [
    "includet(\"obj.jl\")"
   ]
  },
  {
   "cell_type": "code",
   "execution_count": null,
   "metadata": {},
   "outputs": [],
   "source": [
    "shapedir = \"/Users/masanorikanamaru/Documents/shape/ryugu\"\n",
    "\n",
    "# shapename = \"ryugu_test.obj\"\n",
    "shapename = \"SHAPE_SPC_49k_v20190802.obj\"\n",
    "# shapename = \"SHAPE_SPC_200k_v20190802.obj\"\n",
    "# shapename = \"SHAPE_SPC_800k_v20190802.obj\"\n",
    "# shapename = \"SHAPE_SPC_3M_v20190802.obj\"\n",
    "\n",
    "shapepath = joinpath(shapedir, shapename)\n",
    "println(shapepath)"
   ]
  },
  {
   "cell_type": "code",
   "execution_count": 13,
   "metadata": {},
   "outputs": [
    {
     "name": "stdout",
     "output_type": "stream",
     "text": [
      "+-----------------------------+\n",
      "|        Load OBJ file        |\n",
      "+-----------------------------+\n",
      " Nodes: 2718\n",
      " Faces: 5430\n"
     ]
    }
   ],
   "source": [
    "nodes, faces = loadobj(shapepath);"
   ]
  },
  {
   "cell_type": "code",
   "execution_count": null,
   "metadata": {},
   "outputs": [],
   "source": [
    "N = 1000\n",
    "noise_weight = 4\n",
    "dirpath = \"../../shape/ryugu/SHAPE_SPC_49k_v20190802_perturbed_pm4m\"\n",
    "\n",
    "for i in 1:N\n",
    "    perturbed_nodes = perturbnodes(nodes, noise_weight)\n",
    "\n",
    "    filename = string(lpad(i, 4, \"0\"), \".obj\")\n",
    "    filepath = joinpath(dirpath, filename)\n",
    "    saveobj(filepath, perturbed_nodes, faces)\n",
    "end"
   ]
  },
  {
   "cell_type": "code",
   "execution_count": null,
   "metadata": {},
   "outputs": [],
   "source": []
  },
  {
   "cell_type": "code",
   "execution_count": null,
   "metadata": {},
   "outputs": [],
   "source": []
  },
  {
   "cell_type": "code",
   "execution_count": null,
   "metadata": {},
   "outputs": [],
   "source": [
    "topology, points = loadmesh(shapepath);\n",
    "points *= 1000.;"
   ]
  },
  {
   "cell_type": "code",
   "execution_count": null,
   "metadata": {},
   "outputs": [],
   "source": [
    "areas = getFaceAreas(topology, points);\n",
    "radii = sqrt.(areas / π)\n",
    "mean_radius = mean(radii)"
   ]
  },
  {
   "cell_type": "code",
   "execution_count": null,
   "metadata": {},
   "outputs": [],
   "source": []
  },
  {
   "cell_type": "code",
   "execution_count": null,
   "metadata": {},
   "outputs": [],
   "source": []
  }
 ],
 "metadata": {
  "kernelspec": {
   "display_name": "Julia 1.7.0",
   "language": "julia",
   "name": "julia-1.7"
  },
  "language_info": {
   "file_extension": ".jl",
   "mimetype": "application/julia",
   "name": "julia",
   "version": "1.7.0"
  }
 },
 "nbformat": 4,
 "nbformat_minor": 4
}
