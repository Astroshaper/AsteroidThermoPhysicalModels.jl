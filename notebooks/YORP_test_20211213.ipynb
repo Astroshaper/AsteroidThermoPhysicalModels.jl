{
 "cells": [
  {
   "cell_type": "code",
   "execution_count": 1,
   "metadata": {},
   "outputs": [],
   "source": [
    "# using Pkg\n",
    "# Pkg.add(url=\"https://github.com/MasanoriKanamaru/Astroshaper\")\n",
    "# Pkg.update(\"Astroshaper\")"
   ]
  },
  {
   "cell_type": "code",
   "execution_count": 2,
   "metadata": {},
   "outputs": [],
   "source": [
    "# Pkg.test(\"Astroshaper\")"
   ]
  },
  {
   "cell_type": "code",
   "execution_count": 3,
   "metadata": {},
   "outputs": [],
   "source": [
    "# using Plots\n",
    "# using FileIO\n",
    "# using JLD2\n",
    "# using Profile"
   ]
  },
  {
   "cell_type": "code",
   "execution_count": 3,
   "metadata": {},
   "outputs": [],
   "source": [
    "using Revise\n",
    "using Astroshaper"
   ]
  },
  {
   "cell_type": "code",
   "execution_count": 4,
   "metadata": {},
   "outputs": [
    {
     "name": "stdout",
     "output_type": "stream",
     "text": [
      "shapepath = \"/Users/masanorikanamaru/Documents/shape/ryugu/ryugu_v252_f500.obj\"\n"
     ]
    }
   ],
   "source": [
    "shapedir = \"/Users/masanorikanamaru/Documents/shape/ryugu\"\n",
    "\n",
    "shapename = \"ryugu_v252_f500.obj\"\n",
    "# shapename = \"ryugu_v752_f1500.obj\"\n",
    "# shapename = \"ryugu_test.obj\"\n",
    "\n",
    "# shapename = \"SHAPE_SPC_49k_v20190802.obj\"\n",
    "# shapename = \"SHAPE_SPC_200k_v20190802.obj\"\n",
    "# shapename = \"SHAPE_SPC_800k_v20190802.obj\"\n",
    "# shapename = \"SHAPE_SPC_3M_v20190802.obj\"\n",
    "\n",
    "# shapename = \"SHAPE_SFM_49k_v20180804.obj\"\n",
    "# shapename = \"SHAPE_SPC_49k_v20200323.obj\"\n",
    "# shapename = \"SHAPE_SPC_3M_v20200323.obj\"\n",
    "\n",
    "shapepath = joinpath(shapedir, shapename)\n",
    "@show shapepath;"
   ]
  },
  {
   "cell_type": "code",
   "execution_count": 6,
   "metadata": {},
   "outputs": [
    {
     "ename": "LoadError",
     "evalue": "MethodError: no method matching Shape(::String; scale=1000, find_visible_facets=true, save_shape=false)\n\u001b[0mClosest candidates are:\n\u001b[0m  Shape(::T1, \u001b[91m::T1\u001b[39m, \u001b[91m::T2\u001b[39m, \u001b[91m::T3\u001b[39m, \u001b[91m::T4\u001b[39m, \u001b[91m::T5\u001b[39m, \u001b[91m::T5\u001b[39m, \u001b[91m::T6\u001b[39m, \u001b[91m::T7\u001b[39m, \u001b[91m::T8\u001b[39m, \u001b[91m::T9\u001b[39m, \u001b[91m::T10\u001b[39m) where {T1, T2, T3, T4, T5, T6, T7, T8, T9, T10} at ~/.julia/packages/Astroshaper/JehQ2/src/shape.jl:27\u001b[91m got unsupported keyword arguments \"scale\", \"find_visible_facets\", \"save_shape\"\u001b[39m",
     "output_type": "error",
     "traceback": [
      "MethodError: no method matching Shape(::String; scale=1000, find_visible_facets=true, save_shape=false)\n\u001b[0mClosest candidates are:\n\u001b[0m  Shape(::T1, \u001b[91m::T1\u001b[39m, \u001b[91m::T2\u001b[39m, \u001b[91m::T3\u001b[39m, \u001b[91m::T4\u001b[39m, \u001b[91m::T5\u001b[39m, \u001b[91m::T5\u001b[39m, \u001b[91m::T6\u001b[39m, \u001b[91m::T7\u001b[39m, \u001b[91m::T8\u001b[39m, \u001b[91m::T9\u001b[39m, \u001b[91m::T10\u001b[39m) where {T1, T2, T3, T4, T5, T6, T7, T8, T9, T10} at ~/.julia/packages/Astroshaper/JehQ2/src/shape.jl:27\u001b[91m got unsupported keyword arguments \"scale\", \"find_visible_facets\", \"save_shape\"\u001b[39m",
      "",
      "Stacktrace:",
      " [1] top-level scope",
      "   @ ./timing.jl:220 [inlined]",
      " [2] top-level scope",
      "   @ ./In[6]:0",
      " [3] eval",
      "   @ ./boot.jl:373 [inlined]",
      " [4] include_string(mapexpr::typeof(REPL.softscope), mod::Module, code::String, filename::String)",
      "   @ Base ./loading.jl:1196"
     ]
    }
   ],
   "source": [
    "@time shape = Shape(shapepath; scale=1000, find_visible_facets=true, save_shape=false)\n",
    "\n",
    "# shape = setShapeModel(splitext(shapepath)[1] * \".jld2\")"
   ]
  },
  {
   "cell_type": "code",
   "execution_count": 9,
   "metadata": {},
   "outputs": [
    {
     "name": "stderr",
     "output_type": "stream",
     "text": [
      "┌ Info: Makie/Makie is caching fonts, this may take a while. Needed only on first run!\n",
      "└ @ Makie /Users/masanorikanamaru/.julia/packages/Makie/gQOQF/src/utilities/texture_atlas.jl:113\n"
     ]
    },
    {
     "data": {
      "text/plain": [
       "GLMakie.Screen(...)"
      ]
     },
     "execution_count": 9,
     "metadata": {},
     "output_type": "execute_result"
    }
   ],
   "source": [
    "# draw(shape)\n",
    "draw(shape, data=:radius)\n",
    "# draw(shape, data=:temperature)\n",
    "# draw(shape; data=:illumination, r̂☉=[1,0,0.])\n",
    "# draw(shape, data=[center[3] for center in shape.facets.center])"
   ]
  },
  {
   "cell_type": "code",
   "execution_count": 14,
   "metadata": {},
   "outputs": [
    {
     "data": {
      "text/plain": [
       "Orbital elements\n",
       "----------------\n"
      ]
     },
     "execution_count": 14,
     "metadata": {},
     "output_type": "execute_result"
    },
    {
     "name": "stdout",
     "output_type": "stream",
     "text": [
      "Semi-mojor axis        : a  = 1.18956373 [AU]\n",
      "Eccentricity           : e  = 0.19027921 [-]\n",
      "Lon. of ascending node : Ω  = 251.589203 [deg]\n",
      "Argument of periapsis  : ω  = 211.435963 [deg]\n",
      "Inclination            : I  = 5.8840222 [deg]\n",
      "Periapsis passage time : tₚ = -2.4948038004043424e6 [sec]\n",
      "Mean anomaly           : Φ  = 21.9353799 [deg]\n",
      "\n",
      "Other parameters\n",
      "----------------\n",
      "Gravitational parameter : μ = 1.32712440018e20 [m^3/s^2]\n",
      "Mean motion             : n = 0.7596656791419168 [deg/day]\n",
      "Orbital period          : T = 473.8926739544681 [day]\n"
     ]
    }
   ],
   "source": [
    "params_orbit = Dict()\n",
    "\n",
    "params_orbit[:a] = 1.18956373  # semi-mojor axis [AU]\n",
    "params_orbit[:e] = 0.19027921  # eccentricity\n",
    "params_orbit[:I] = 5.8840222   # inclination [deg]\n",
    "params_orbit[:Ω] = 251.589203  # longitude of the ascending node [deg]\n",
    "params_orbit[:ω] = 211.435963  # argument of periapsis [deg]\n",
    "params_orbit[:Φ] = 21.9353799  # mean anomaly [deg]\n",
    "\n",
    "params_orbit[:μ] = Astroshaper.GM☉ + 30.0\n",
    "\n",
    "orbit = Astroshaper.OrbitalElements(params_orbit)"
   ]
  },
  {
   "cell_type": "code",
   "execution_count": 15,
   "metadata": {},
   "outputs": [
    {
     "data": {
      "text/plain": [
       "Spin parameters\n",
       "---------------\n"
      ]
     },
     "execution_count": 15,
     "metadata": {},
     "output_type": "execute_result"
    },
    {
     "name": "stdout",
     "output_type": "stream",
     "text": [
      "Right ascension (RA) : α = 96.4 [deg]\n",
      "Declination (Dec)    : δ = -66.4 [deg]\n",
      "Ecliptic longitude   : λ = 179.33757188938182 [deg]\n",
      "Ecliptic latitude    : β = -87.44207056697601 [deg]\n",
      "Obliquity            : ε = 171.65664649001607 [deg]\n",
      "Spin period          : P = 7.63262 [hours]\n",
      "Spin rate            : ω = 0.00022866712242903872 [rad/sec]\n",
      "Vernal equinox lon.  : γ = 154.3323208882217 [deg]\n",
      "                           (longitude from the periheion direction)\n"
     ]
    }
   ],
   "source": [
    "params_spin = Dict()\n",
    "params_spin[:α] = 96.4\n",
    "params_spin[:δ] = -66.4\n",
    "params_spin[:T] = 7.63262\n",
    "\n",
    "spin = Astroshaper.setSpinParams(params_spin, orbit)"
   ]
  },
  {
   "cell_type": "code",
   "execution_count": 16,
   "metadata": {},
   "outputs": [
    {
     "data": {
      "text/plain": [
       "Thermophysical parameters\n"
      ]
     },
     "execution_count": 16,
     "metadata": {},
     "output_type": "execute_result"
    },
    {
     "name": "stdout",
     "output_type": "stream",
     "text": [
      "-------------------------\n",
      "A_B   : 0.04\n",
      "A_TH  : 0.0\n",
      "k     : 0.1\n",
      "ρ     : 1270.0\n",
      "Cₚ    : 600.0\n",
      "ϵ     : 1.0\n",
      "P     : 27477.432\n",
      "l     : 0.21287051812296282\n",
      "Γ     : 276.04347483684523\n",
      "Δt    : 0.01388888888888889\n",
      "t_bgn : 0.0\n",
      "t_end : 1490.1074827395094\n",
      "Nt    : 107288\n",
      "Δz    : 0.07046537083794469\n",
      "z_max : 2.8186148335177874\n",
      "Nz    : 41\n",
      "λ     : 0.22259025955088954\n"
     ]
    }
   ],
   "source": [
    "params_thermo = Astroshaper.ParamsThermo(\n",
    "    A_B   = 0.04,\n",
    "    A_TH  = 0.,\n",
    "    k     = 0.1,\n",
    "    ρ     = 1270.,\n",
    "    Cₚ    = 600.,\n",
    "    ϵ     = 1.,\n",
    "    P     = spin.T,\n",
    "    Δt    = spin.T/72,\n",
    "    t_bgn = 0.,\n",
    "    # t_end = spin.T*10,\n",
    "    t_end = orbit.T,\n",
    "    Δz    = 0.015,\n",
    "    z_max = 0.6,\n",
    ")"
   ]
  },
  {
   "cell_type": "markdown",
   "metadata": {},
   "source": [
    "# YORP効果 @現在の軌道"
   ]
  },
  {
   "cell_type": "code",
   "execution_count": 17,
   "metadata": {},
   "outputs": [
    {
     "name": "stdout",
     "output_type": "stream",
     "text": [
      " 26.790258 seconds (4.39 M allocations: 232.403 MiB, 0.25% gc time, 4.44% compilation time)\n"
     ]
    },
    {
     "data": {
      "text/plain": [
       "3-element Vector{Float64}:\n",
       "  2.102139762963553\n",
       " -1.9503690549955461\n",
       "  0.10649756611585151"
      ]
     },
     "execution_count": 17,
     "metadata": {},
     "output_type": "execute_result"
    }
   ],
   "source": [
    "@time τ̄ = Astroshaper.run_YORP(shape, orbit, spin, params_thermo)\n",
    "\n",
    "#  27.535155 seconds (48.96 k allocations: 2.696 MiB, 0.07% compilation time)\n",
    "# 3-element Vector{Float64}:\n",
    "#   2.0600308479674108\n",
    "#  -1.7810248460856288\n",
    "#  -0.06592046344492741"
   ]
  },
  {
   "cell_type": "code",
   "execution_count": 18,
   "metadata": {},
   "outputs": [
    {
     "name": "stdout",
     "output_type": "stream",
     "text": [
      "shapename = \"ryugu_v252_f500.obj\"\n",
      "τ̄ = [2.102139762963553, -1.9503690549955461, 0.10649756611585151]\n",
      "(ω̇, ωε̇, ωψ̇) = (-2.417553631012555e-6, 8.713420516412938e-6, 2.9006181145065934e-5)\n",
      "Astroshaper.getTimeScale(3.5, 7.63262, ω̇) = 1.514706707465591\n"
     ]
    }
   ],
   "source": [
    "C = 4.039541372643629e16\n",
    "ω̇, ωε̇, ωψ̇ = Astroshaper.torque2rate(τ̄, spin, C)  # [deg/day/day]\n",
    "\n",
    "@show shapename\n",
    "@show τ̄\n",
    "@show ω̇, ωε̇, ωψ̇\n",
    "@show Astroshaper.getTimeScale(3.5, 7.63262, ω̇);  # 3.5時間から7.6時間まで減速する時間スケール [Myr]"
   ]
  },
  {
   "cell_type": "code",
   "execution_count": 25,
   "metadata": {},
   "outputs": [],
   "source": [
    "# shapename = \"ryugu_v252_f500.obj\"\n",
    "# τ̄ = [2.1021409943529754, -1.9503714305184237, 0.10649921391003535]\n",
    "# (ω̇, ωε̇, ωψ̇) = (-2.417573363465429e-6, 8.71343482743634e-6, 2.9006203791289243e-5)\n",
    "# getTimeScale(3.5, 7.63262, ω̇) = 1.5146943442921814"
   ]
  },
  {
   "cell_type": "code",
   "execution_count": null,
   "metadata": {},
   "outputs": [],
   "source": []
  },
  {
   "cell_type": "code",
   "execution_count": null,
   "metadata": {},
   "outputs": [],
   "source": []
  },
  {
   "cell_type": "code",
   "execution_count": null,
   "metadata": {},
   "outputs": [],
   "source": []
  },
  {
   "cell_type": "code",
   "execution_count": null,
   "metadata": {},
   "outputs": [],
   "source": []
  },
  {
   "cell_type": "code",
   "execution_count": null,
   "metadata": {},
   "outputs": [],
   "source": []
  },
  {
   "cell_type": "code",
   "execution_count": null,
   "metadata": {},
   "outputs": [],
   "source": []
  },
  {
   "cell_type": "code",
   "execution_count": null,
   "metadata": {},
   "outputs": [],
   "source": []
  },
  {
   "cell_type": "code",
   "execution_count": null,
   "metadata": {},
   "outputs": [],
   "source": []
  },
  {
   "cell_type": "code",
   "execution_count": 18,
   "metadata": {},
   "outputs": [],
   "source": [
    "dt = spin.T / 72\n",
    "times = Vector(0:dt:orbit.T);"
   ]
  },
  {
   "cell_type": "code",
   "execution_count": 19,
   "metadata": {},
   "outputs": [
    {
     "name": "stdout",
     "output_type": "stream",
     "text": [
      "  0.476003 seconds (704.70 k allocations: 43.033 MiB, 2.90% gc time, 61.85% compilation time)\n",
      "shapename = \"ryugu_v252_f500.obj\"\n",
      "τ̄ = [3.4124067792767008, -1.7784815610053406, 0.07849385806600545]\n",
      "(ω̇, ωε̇, ωψ̇) = (-1.0141950148788857e-6, 1.187831694946682e-6, 4.0722111890863004e-5)\n",
      "getTimeScale(3.5, 7.63262, ω̇) = 3.610631729431061\n"
     ]
    }
   ],
   "source": [
    "@time τ̄ = getNetTorque(shape, orbit, spin, times)\n",
    "# @time τ̄ = getNetTorque_shadowing(shape, orbit, spin, times)\n",
    "\n",
    "C = 4.039541372643629e16\n",
    "ω̇, ωε̇, ωψ̇ = torque2rate(τ̄, spin, C)  # [deg/day/day]\n",
    "\n",
    "@show shapename\n",
    "@show τ̄\n",
    "@show ω̇, ωε̇, ωψ̇\n",
    "@show getTimeScale(3.5, 7.63262, ω̇);  # 3.5時間から7.6時間まで減速する時間スケール [Myr]\n",
    "\n",
    "# 136.766502 seconds (711.51 k allocations: 43.315 MiB, 0.22% compilation time)\n",
    "# shapename = \"ryugu_test.obj\"\n",
    "# τ̄ = [3.2623680861875397, -1.7632177354631757, 0.21129633172511464]\n",
    "# (ω̇, ωε̇, ωψ̇) = (-2.4841506193843577e-6, 1.5205017761112184e-6, 3.9220246601817234e-5)\n",
    "# getTimeScale(3.5, 7.63262, ω̇) = 1.474099304598539"
   ]
  },
  {
   "cell_type": "code",
   "execution_count": 17,
   "metadata": {},
   "outputs": [
    {
     "data": {
      "text/plain": [
       "449.1384853555837"
      ]
     },
     "execution_count": 17,
     "metadata": {},
     "output_type": "execute_result"
    }
   ],
   "source": [
    "equivalent_radius(shape)"
   ]
  },
  {
   "cell_type": "code",
   "execution_count": null,
   "metadata": {},
   "outputs": [],
   "source": []
  },
  {
   "cell_type": "code",
   "execution_count": null,
   "metadata": {},
   "outputs": [],
   "source": []
  },
  {
   "cell_type": "markdown",
   "metadata": {},
   "source": [
    "# 熱物理モデル"
   ]
  },
  {
   "cell_type": "code",
   "execution_count": 110,
   "metadata": {},
   "outputs": [
    {
     "data": {
      "text/plain": [
       "Shape model\n"
      ]
     },
     "execution_count": 110,
     "metadata": {},
     "output_type": "execute_result"
    },
    {
     "name": "stdout",
     "output_type": "stream",
     "text": [
      "-----------\n",
      "Nodes            : 252\n",
      "Faces            : 500\n",
      "Surface area     : 2.6740222482370236e6\n",
      "Volume           : 3.759699719284749e8\n",
      "Center-of-Figure : [0.37115829680556717, 0.14301318037402377, 0.02972401268611568]\n",
      "Inertia tensor   : \n",
      "    | Ixx Ixy Ixz |   [0.0, 0.0, 0.0]\n",
      "    | Iyx Iyy Iyz | = [0.0, 0.0, 0.0]\n",
      "    | Izx Izy Izz |   [0.0, 0.0, 0.0]\n"
     ]
    }
   ],
   "source": [
    "shape = setShapeModel(splitext(shapepath)[1] * \".jld2\")"
   ]
  },
  {
   "cell_type": "code",
   "execution_count": 116,
   "metadata": {},
   "outputs": [
    {
     "data": {
      "text/plain": [
       "Thermophysical parameters\n"
      ]
     },
     "execution_count": 116,
     "metadata": {},
     "output_type": "execute_result"
    },
    {
     "name": "stdout",
     "output_type": "stream",
     "text": [
      "-------------------------\n",
      "A_B   : 0.04\n",
      "A_TH  : 0.0\n",
      "k     : 0.1\n",
      "ρ     : 1270.0\n",
      "Cₚ    : 600.0\n",
      "ϵ     : 1.0\n",
      "P     : 27477.432\n",
      "l     : 0.21287051812296282\n",
      "Γ     : 276.04347483684523\n",
      "Δt    : 0.01388888888888889\n",
      "t_bgn : 0.0\n",
      "t_end : 10.0\n",
      "Nt    : 721\n",
      "Δz    : 0.09395382778392625\n",
      "z_max : 2.8186148335177874\n",
      "Nz    : 31\n",
      "λ     : 0.12520702099737538\n"
     ]
    }
   ],
   "source": [
    "params_thermo = ParamsThermo(\n",
    "    A_B   = 0.04,\n",
    "    A_TH  = 0.,\n",
    "    k     = 0.1,\n",
    "    ρ     = 1270.,\n",
    "    Cₚ    = 600.,\n",
    "    ϵ     = 1.,\n",
    "    P     = spin.T,\n",
    "    Δt    = spin.T/72,\n",
    "    t_bgn = 0.,\n",
    "    t_end = spin.T*10,\n",
    "    # t_end = orbit.T,\n",
    "    Δz    = 0.02,\n",
    "    z_max = 0.6,\n",
    ")"
   ]
  },
  {
   "cell_type": "code",
   "execution_count": 117,
   "metadata": {},
   "outputs": [
    {
     "name": "stdout",
     "output_type": "stream",
     "text": [
      "  0.183669 seconds (2 allocations: 224 bytes)\n"
     ]
    },
    {
     "data": {
      "text/plain": [
       "3-element Vector{Float64}:\n",
       "  2.6540854297077656\n",
       " -8.261518047749385\n",
       " -0.7209072995537058"
      ]
     },
     "execution_count": 117,
     "metadata": {},
     "output_type": "execute_result"
    }
   ],
   "source": [
    "@time τ̄ = run_YORP(shape, orbit, spin, params_thermo)\n",
    "\n",
    "## ryugu_v252_f500.obj\n",
    "##      0.192743 seconds (1.00 k allocations: 289.609 KiB) 10 自転分\n",
    "##     24.054642 seconds (1.00 k allocations: 289.609 KiB)　1 公転分"
   ]
  },
  {
   "cell_type": "code",
   "execution_count": 118,
   "metadata": {},
   "outputs": [
    {
     "name": "stdout",
     "output_type": "stream",
     "text": [
      "shapename = \"ryugu_v252_f500.obj\"\n",
      "τ̄ = [2.6540854297077656, -8.261518047749385, -0.7209072995537058]\n",
      "(ω̇, ωε̇, ωψ̇) = (-2.1218499272401102e-6, 6.707169861288398e-5, 6.32180194826035e-5)\n",
      "getTimeScale(3.5, 7.63262, ω̇) = 1.7257981601533547\n"
     ]
    }
   ],
   "source": [
    "C = 4.039541372643629e16\n",
    "ω̇, ωε̇, ωψ̇ = torque2rate(τ̄, spin, C)  # [deg/day/day]\n",
    "\n",
    "@show shapename\n",
    "@show τ̄\n",
    "@show ω̇, ωε̇, ωψ̇\n",
    "@show getTimeScale(3.5, 7.63262, ω̇);  # 3.5時間から7.6時間まで減速する時間スケール [Myr]"
   ]
  },
  {
   "cell_type": "code",
   "execution_count": null,
   "metadata": {},
   "outputs": [],
   "source": []
  },
  {
   "cell_type": "code",
   "execution_count": null,
   "metadata": {},
   "outputs": [],
   "source": []
  },
  {
   "cell_type": "code",
   "execution_count": 35,
   "metadata": {},
   "outputs": [],
   "source": [
    "# @profile τ̄ = run_YORP(shape, orbit, spin, params_thermo)\n",
    "# Profile.print()"
   ]
  },
  {
   "cell_type": "code",
   "execution_count": null,
   "metadata": {},
   "outputs": [],
   "source": []
  },
  {
   "cell_type": "code",
   "execution_count": null,
   "metadata": {},
   "outputs": [],
   "source": []
  },
  {
   "cell_type": "code",
   "execution_count": 63,
   "metadata": {},
   "outputs": [],
   "source": [
    "# temps = get_surface_temperature(shape);"
   ]
  },
  {
   "cell_type": "code",
   "execution_count": 69,
   "metadata": {},
   "outputs": [],
   "source": [
    "# open(\"ryugu_test_temps.txt\",\"w\") do f\n",
    "#     for smesh in shape.smeshes\n",
    "#         println(f, smesh.Tz[begin], \", \", smesh.flux.sun, \", \", smesh.flux.scat, \", \", smesh.flux.rad)\n",
    "#     end\n",
    "# end"
   ]
  },
  {
   "cell_type": "code",
   "execution_count": 23,
   "metadata": {},
   "outputs": [],
   "source": []
  },
  {
   "cell_type": "code",
   "execution_count": null,
   "metadata": {},
   "outputs": [],
   "source": [
    "# shapename = \"ryugu_v252_f500.obj\"\n",
    "\n",
    "# Thermophysical parameters\n",
    "# -------------------------\n",
    "# A_B   : 0.04\n",
    "# A_TH  : 0.0\n",
    "# k     : 0.1\n",
    "# ρ     : 1270.0\n",
    "# Cₚ    : 600.0\n",
    "# ϵ     : 1.0\n",
    "# P     : 27477.432\n",
    "# l     : 0.21287051812296282\n",
    "# Γ     : 276.04347483684523\n",
    "# Δt    : 0.01388888888888889\n",
    "# t_bgn : 0.0\n",
    "# t_end : 1490.1074827395094\n",
    "# Nt    : 107288\n",
    "# Δz    : 0.09395382778392625\n",
    "# z_max : 2.8186148335177874\n",
    "# Nz    : 31\n",
    "# λ     : 0.12520702099737538\n",
    "\n",
    "# 影 + 熱伝導\n",
    "# τ̄ = [2.166292988343463, -1.8232052646633534, 0.12149914462601369]\n",
    "# (ω̇, ωε̇, ωψ̇) = (-2.3559241586480615e-6, 7.198547956478111e-6, 2.903520943282301e-5)\n",
    "# getTimeScale(3.5, 7.63262, ω̇) = 1.5543304681988876\n",
    "\n",
    "# 影 + 熱伝導 + 放射の再吸収\n",
    "# τ̄ = [2.1867628755835007, -1.9130691894522611, 0.20980627031427984]\n",
    "# (ω̇, ωε̇, ωψ̇) = (-3.3918521233894786e-6, 7.818508184547549e-6, 2.964269717748932e-5)\n",
    "# getTimeScale(3.5, 7.63262, ω̇) = 1.0796121314667426\n",
    "\n",
    "# 影 + 熱伝導 + 放射の再吸収 + 散乱光による自己加熱\n",
    "# τ̄ = [2.1865019814933127, -1.9132227674055484, 0.20659523329863488]\n",
    "# (ω̇, ωε̇, ωψ̇) = (-3.358599466983103e-6, 7.826075560400724e-6, 2.9640911737278277e-5)\n",
    "# getTimeScale(3.5, 7.63262, ω̇) = 1.0903011021560833\n",
    "\n",
    "# 影 + 熱伝導 + 放射の再吸収 + 散乱光による自己加熱 + 熱放射の再吸収による自己加熱\n",
    "# τ̄ = [2.1769952611580217, -1.9075575309460082, 0.11690136500927037]\n",
    "# (ω̇, ωε̇, ωψ̇) = (-2.4174445056821524e-6, 7.953525830274134e-6, 2.9524204264352846e-5)\n",
    "# getTimeScale(3.5, 7.63262, ω̇) = 1.5147750825077182"
   ]
  },
  {
   "cell_type": "code",
   "execution_count": null,
   "metadata": {},
   "outputs": [],
   "source": [
    "# shapename = \"ryugu_v752_f1500.obj\"\n",
    "\n",
    "# 影\n",
    "# τ̄ = [3.3097974041391374, -1.7111464770712586, 0.12728322411992796]\n",
    "# (ω̇, ωε̇, ωψ̇) = (-1.5003553780529698e-6, 9.426867138482173e-7, 3.9434066533743185e-5)\n",
    "# getTimeScale(3.5, 7.63262, ω̇) = 2.440678224718057\n",
    "\n",
    "# 影 + 熱伝導 + 放射の再吸収 + 散乱光による自己加熱 + 熱放射の再吸収による自己加熱\n",
    "# τ̄ = [2.165370019439715, -1.8680106417353224, 0.027423863292429056]\n",
    "# (ω̇, ωε̇, ωψ̇) = (-1.433047521048842e-6, 7.77033687219021e-6, 2.923188963996669e-5)\n",
    "# getTimeScale(3.5, 7.63262, ω̇) = 2.5553128188466436"
   ]
  },
  {
   "cell_type": "code",
   "execution_count": null,
   "metadata": {},
   "outputs": [],
   "source": [
    "# shapename = \"ryugu_test.obj\"\n",
    "\n",
    "# 影\n",
    "# τ̄ = [3.2623680861875415, -1.7632177354631766, 0.2112963317251145]\n",
    "# (ω̇, ωε̇, ωψ̇) = (-2.484150619384357e-6, 1.5205017761112165e-6, 3.9220246601817255e-5)\n",
    "# getTimeScale(3.5, 7.63262, ω̇) = 1.4740993045985396\n",
    "\n",
    "# 影 + 熱伝導 + 放射の再吸収 + 散乱光による自己加熱 + 熱放射の再吸収による自己加熱\n",
    "# τ̄ = [2.1336218786667724, -1.878807112180092, 0.04045730505339008]\n",
    "# (ω̇, ωε̇, ωψ̇) = (-1.6056650245345357e-6, 7.99631943219241e-6, 2.8978423396048164e-5)\n",
    "# getTimeScale(3.5, 7.63262, ω̇) = 2.280603142373392"
   ]
  },
  {
   "cell_type": "code",
   "execution_count": null,
   "metadata": {},
   "outputs": [],
   "source": []
  },
  {
   "cell_type": "code",
   "execution_count": null,
   "metadata": {},
   "outputs": [],
   "source": []
  },
  {
   "cell_type": "code",
   "execution_count": null,
   "metadata": {},
   "outputs": [],
   "source": []
  },
  {
   "cell_type": "code",
   "execution_count": null,
   "metadata": {},
   "outputs": [],
   "source": [
    "surf_temp = [T[begin] for T in Ts];"
   ]
  },
  {
   "cell_type": "code",
   "execution_count": null,
   "metadata": {},
   "outputs": [],
   "source": [
    "plot(framestyle=:box, legend=false, size=(600,400))\n",
    "plot!(xlims=(0, t_max/P))\n",
    "plot!(ylims=(0, 400))\n",
    "\n",
    "ts = collect(0:Δτ:t_max/P)\n",
    "zs = collect(0:Δz:x_max/l)\n",
    "\n",
    "plot!(ts, surf_temp)\n",
    "\n",
    "xlabel!(\"Time / Rotation period\")\n",
    "ylabel!(\"Surface temperature [K]\")"
   ]
  },
  {
   "cell_type": "code",
   "execution_count": null,
   "metadata": {},
   "outputs": [],
   "source": []
  },
  {
   "cell_type": "code",
   "execution_count": null,
   "metadata": {},
   "outputs": [],
   "source": []
  },
  {
   "cell_type": "markdown",
   "metadata": {},
   "source": [
    "# View factorの計算時間"
   ]
  },
  {
   "cell_type": "code",
   "execution_count": 168,
   "metadata": {},
   "outputs": [
    {
     "data": {
      "image/svg+xml": "<?xml version=\"1.0\" encoding=\"utf-8\"?>\n<svg xmlns=\"http://www.w3.org/2000/svg\" xmlns:xlink=\"http://www.w3.org/1999/xlink\" width=\"600\" height=\"400\" viewBox=\"0 0 2400 1600\">\n<defs>\n  <clipPath id=\"clip860\">\n    <rect x=\"0\" y=\"0\" width=\"2400\" height=\"1600\"/>\n  </clipPath>\n</defs>\n<path clip-path=\"url(#clip860)\" d=\"\nM0 1600 L2400 1600 L2400 0 L0 0  Z\n  \" fill=\"#ffffff\" fill-rule=\"evenodd\" fill-opacity=\"1\"/>\n<defs>\n  <clipPath id=\"clip861\">\n    <rect x=\"480\" y=\"0\" width=\"1681\" height=\"1600\"/>\n  </clipPath>\n</defs>\n<path clip-path=\"url(#clip860)\" d=\"\nM251.372 1410.9 L2352.76 1410.9 L2352.76 47.2441 L251.372 47.2441  Z\n  \" fill=\"#ffffff\" fill-rule=\"evenodd\" fill-opacity=\"1\"/>\n<defs>\n  <clipPath id=\"clip862\">\n    <rect x=\"251\" y=\"47\" width=\"2102\" height=\"1365\"/>\n  </clipPath>\n</defs>\n<polyline clip-path=\"url(#clip862)\" style=\"stroke:#000000; stroke-width:2; stroke-opacity:0.1; fill:none\" points=\"\n  540.848,1410.9 540.848,47.2441 \n  \"/>\n<polyline clip-path=\"url(#clip862)\" style=\"stroke:#000000; stroke-width:2; stroke-opacity:0.1; fill:none\" points=\"\n  1304.9,1410.9 1304.9,47.2441 \n  \"/>\n<polyline clip-path=\"url(#clip862)\" style=\"stroke:#000000; stroke-width:2; stroke-opacity:0.1; fill:none\" points=\"\n  2068.96,1410.9 2068.96,47.2441 \n  \"/>\n<polyline clip-path=\"url(#clip860)\" style=\"stroke:#000000; stroke-width:4; stroke-opacity:1; fill:none\" points=\"\n  251.372,1410.9 2352.76,1410.9 \n  \"/>\n<polyline clip-path=\"url(#clip860)\" style=\"stroke:#000000; stroke-width:4; stroke-opacity:1; fill:none\" points=\"\n  251.372,47.2441 2352.76,47.2441 \n  \"/>\n<polyline clip-path=\"url(#clip860)\" style=\"stroke:#000000; stroke-width:4; stroke-opacity:1; fill:none\" points=\"\n  540.848,1410.9 540.848,1394.53 \n  \"/>\n<polyline clip-path=\"url(#clip860)\" style=\"stroke:#000000; stroke-width:4; stroke-opacity:1; fill:none\" points=\"\n  1304.9,1410.9 1304.9,1394.53 \n  \"/>\n<polyline clip-path=\"url(#clip860)\" style=\"stroke:#000000; stroke-width:4; stroke-opacity:1; fill:none\" points=\"\n  2068.96,1410.9 2068.96,1394.53 \n  \"/>\n<path clip-path=\"url(#clip860)\" d=\"M 0 0 M506.292 1489.17 L513.931 1489.17 L513.931 1462.8 L505.621 1464.47 L505.621 1460.21 L513.885 1458.54 L518.56 1458.54 L518.56 1489.17 L526.199 1489.17 L526.199 1493.1 L506.292 1493.1 L506.292 1489.17 Z\" fill=\"#000000\" fill-rule=\"evenodd\" fill-opacity=\"1\" /><path clip-path=\"url(#clip860)\" d=\"M 0 0 M545.644 1461.62 Q542.033 1461.62 540.204 1465.19 Q538.398 1468.73 538.398 1475.86 Q538.398 1482.97 540.204 1486.53 Q542.033 1490.07 545.644 1490.07 Q549.278 1490.07 551.083 1486.53 Q552.912 1482.97 552.912 1475.86 Q552.912 1468.73 551.083 1465.19 Q549.278 1461.62 545.644 1461.62 M545.644 1457.92 Q551.454 1457.92 554.509 1462.53 Q557.588 1467.11 557.588 1475.86 Q557.588 1484.59 554.509 1489.19 Q551.454 1493.78 545.644 1493.78 Q539.833 1493.78 536.755 1489.19 Q533.699 1484.59 533.699 1475.86 Q533.699 1467.11 536.755 1462.53 Q539.833 1457.92 545.644 1457.92 Z\" fill=\"#000000\" fill-rule=\"evenodd\" fill-opacity=\"1\" /><path clip-path=\"url(#clip860)\" d=\"M 0 0 M570.283 1450.55 Q573.01 1451.14 574.534 1452.98 Q576.076 1454.82 576.076 1457.53 Q576.076 1461.69 573.217 1463.96 Q570.358 1466.24 565.092 1466.24 Q563.324 1466.24 561.444 1465.88 Q559.582 1465.54 557.588 1464.85 L557.588 1461.18 Q559.168 1462.1 561.049 1462.57 Q562.929 1463.04 564.979 1463.04 Q568.553 1463.04 570.415 1461.63 Q572.296 1460.22 572.296 1457.53 Q572.296 1455.05 570.547 1453.66 Q568.816 1452.25 565.713 1452.25 L562.44 1452.25 L562.44 1449.12 L565.863 1449.12 Q568.666 1449.12 570.152 1448.01 Q571.637 1446.89 571.637 1444.78 Q571.637 1442.62 570.095 1441.47 Q568.572 1440.3 565.713 1440.3 Q564.152 1440.3 562.365 1440.64 Q560.578 1440.98 558.434 1441.69 L558.434 1438.31 Q560.597 1437.71 562.478 1437.41 Q564.378 1437.11 566.052 1437.11 Q570.377 1437.11 572.898 1439.08 Q575.418 1441.04 575.418 1444.38 Q575.418 1446.72 574.082 1448.33 Q572.747 1449.93 570.283 1450.55 Z\" fill=\"#000000\" fill-rule=\"evenodd\" fill-opacity=\"1\" /><path clip-path=\"url(#clip860)\" d=\"M 0 0 M1269.36 1489.17 L1277 1489.17 L1277 1462.8 L1268.69 1464.47 L1268.69 1460.21 L1276.95 1458.54 L1281.63 1458.54 L1281.63 1489.17 L1289.27 1489.17 L1289.27 1493.1 L1269.36 1493.1 L1269.36 1489.17 Z\" fill=\"#000000\" fill-rule=\"evenodd\" fill-opacity=\"1\" /><path clip-path=\"url(#clip860)\" d=\"M 0 0 M1308.71 1461.62 Q1305.1 1461.62 1303.27 1465.19 Q1301.46 1468.73 1301.46 1475.86 Q1301.46 1482.97 1303.27 1486.53 Q1305.1 1490.07 1308.71 1490.07 Q1312.34 1490.07 1314.15 1486.53 Q1315.98 1482.97 1315.98 1475.86 Q1315.98 1468.73 1314.15 1465.19 Q1312.34 1461.62 1308.71 1461.62 M1308.71 1457.92 Q1314.52 1457.92 1317.58 1462.53 Q1320.65 1467.11 1320.65 1475.86 Q1320.65 1484.59 1317.58 1489.19 Q1314.52 1493.78 1308.71 1493.78 Q1302.9 1493.78 1299.82 1489.19 Q1296.77 1484.59 1296.77 1475.86 Q1296.77 1467.11 1299.82 1462.53 Q1302.9 1457.92 1308.71 1457.92 Z\" fill=\"#000000\" fill-rule=\"evenodd\" fill-opacity=\"1\" /><path clip-path=\"url(#clip860)\" d=\"M 0 0 M1333.33 1440.92 L1323.74 1455.91 L1333.33 1455.91 L1333.33 1440.92 M1332.33 1437.61 L1337.11 1437.61 L1337.11 1455.91 L1341.12 1455.91 L1341.12 1459.07 L1337.11 1459.07 L1337.11 1465.69 L1333.33 1465.69 L1333.33 1459.07 L1320.65 1459.07 L1320.65 1455.41 L1332.33 1437.61 Z\" fill=\"#000000\" fill-rule=\"evenodd\" fill-opacity=\"1\" /><path clip-path=\"url(#clip860)\" d=\"M 0 0 M2034.56 1489.17 L2042.2 1489.17 L2042.2 1462.8 L2033.89 1464.47 L2033.89 1460.21 L2042.15 1458.54 L2046.83 1458.54 L2046.83 1489.17 L2054.47 1489.17 L2054.47 1493.1 L2034.56 1493.1 L2034.56 1489.17 Z\" fill=\"#000000\" fill-rule=\"evenodd\" fill-opacity=\"1\" /><path clip-path=\"url(#clip860)\" d=\"M 0 0 M2073.91 1461.62 Q2070.3 1461.62 2068.47 1465.19 Q2066.67 1468.73 2066.67 1475.86 Q2066.67 1482.97 2068.47 1486.53 Q2070.3 1490.07 2073.91 1490.07 Q2077.55 1490.07 2079.35 1486.53 Q2081.18 1482.97 2081.18 1475.86 Q2081.18 1468.73 2079.35 1465.19 Q2077.55 1461.62 2073.91 1461.62 M2073.91 1457.92 Q2079.72 1457.92 2082.78 1462.53 Q2085.86 1467.11 2085.86 1475.86 Q2085.86 1484.59 2082.78 1489.19 Q2079.72 1493.78 2073.91 1493.78 Q2068.1 1493.78 2065.02 1489.19 Q2061.97 1484.59 2061.97 1475.86 Q2061.97 1467.11 2065.02 1462.53 Q2068.1 1457.92 2073.91 1457.92 Z\" fill=\"#000000\" fill-rule=\"evenodd\" fill-opacity=\"1\" /><path clip-path=\"url(#clip860)\" d=\"M 0 0 M2087.04 1437.61 L2101.95 1437.61 L2101.95 1440.81 L2090.52 1440.81 L2090.52 1447.69 Q2091.35 1447.41 2092.17 1447.28 Q2093 1447.13 2093.83 1447.13 Q2098.53 1447.13 2101.28 1449.71 Q2104.02 1452.28 2104.02 1456.68 Q2104.02 1461.22 2101.2 1463.74 Q2098.38 1466.24 2093.25 1466.24 Q2091.48 1466.24 2089.64 1465.94 Q2087.81 1465.64 2085.86 1465.04 L2085.86 1461.22 Q2087.55 1462.14 2089.35 1462.59 Q2091.16 1463.04 2093.17 1463.04 Q2096.43 1463.04 2098.32 1461.33 Q2100.22 1459.62 2100.22 1456.68 Q2100.22 1453.75 2098.32 1452.04 Q2096.43 1450.33 2093.17 1450.33 Q2091.65 1450.33 2090.12 1450.67 Q2088.62 1451 2087.04 1451.72 L2087.04 1437.61 Z\" fill=\"#000000\" fill-rule=\"evenodd\" fill-opacity=\"1\" /><path clip-path=\"url(#clip860)\" d=\"M 0 0 M1024.61 1526.67 L1033.27 1526.67 L1054.34 1566.42 L1054.34 1526.67 L1060.58 1526.67 L1060.58 1574.19 L1051.92 1574.19 L1030.85 1534.43 L1030.85 1574.19 L1024.61 1574.19 L1024.61 1526.67 Z\" fill=\"#000000\" fill-rule=\"evenodd\" fill-opacity=\"1\" /><path clip-path=\"url(#clip860)\" d=\"M 0 0 M1072.52 1560.12 L1072.52 1538.54 L1078.37 1538.54 L1078.37 1559.89 Q1078.37 1564.96 1080.35 1567.5 Q1082.32 1570.02 1086.27 1570.02 Q1091.01 1570.02 1093.75 1566.99 Q1096.52 1563.97 1096.52 1558.75 L1096.52 1538.54 L1102.37 1538.54 L1102.37 1574.19 L1096.52 1574.19 L1096.52 1568.71 Q1094.38 1571.96 1091.55 1573.55 Q1088.75 1575.11 1085.03 1575.11 Q1078.88 1575.11 1075.7 1571.29 Q1072.52 1567.47 1072.52 1560.12 M1087.25 1537.68 L1087.25 1537.68 Z\" fill=\"#000000\" fill-rule=\"evenodd\" fill-opacity=\"1\" /><path clip-path=\"url(#clip860)\" d=\"M 0 0 M1142.19 1545.38 Q1144.39 1541.43 1147.44 1539.56 Q1150.5 1537.68 1154.63 1537.68 Q1160.2 1537.68 1163.23 1541.59 Q1166.25 1545.48 1166.25 1552.67 L1166.25 1574.19 L1160.36 1574.19 L1160.36 1552.86 Q1160.36 1547.74 1158.55 1545.25 Q1156.73 1542.77 1153.01 1542.77 Q1148.46 1542.77 1145.82 1545.79 Q1143.18 1548.82 1143.18 1554.04 L1143.18 1574.19 L1137.29 1574.19 L1137.29 1552.86 Q1137.29 1547.7 1135.47 1545.25 Q1133.66 1542.77 1129.87 1542.77 Q1125.38 1542.77 1122.74 1545.83 Q1120.1 1548.85 1120.1 1554.04 L1120.1 1574.19 L1114.21 1574.19 L1114.21 1538.54 L1120.1 1538.54 L1120.1 1544.08 Q1122.11 1540.8 1124.91 1539.24 Q1127.71 1537.68 1131.56 1537.68 Q1135.44 1537.68 1138.15 1539.65 Q1140.88 1541.62 1142.19 1545.38 Z\" fill=\"#000000\" fill-rule=\"evenodd\" fill-opacity=\"1\" /><path clip-path=\"url(#clip860)\" d=\"M 0 0 M1203.52 1556.39 Q1203.52 1549.93 1200.85 1546.27 Q1198.21 1542.58 1193.56 1542.58 Q1188.91 1542.58 1186.24 1546.27 Q1183.6 1549.93 1183.6 1556.39 Q1183.6 1562.85 1186.24 1566.55 Q1188.91 1570.21 1193.56 1570.21 Q1198.21 1570.21 1200.85 1566.55 Q1203.52 1562.85 1203.52 1556.39 M1183.6 1543.95 Q1185.44 1540.77 1188.25 1539.24 Q1191.08 1537.68 1194.99 1537.68 Q1201.49 1537.68 1205.53 1542.83 Q1209.6 1547.99 1209.6 1556.39 Q1209.6 1564.8 1205.53 1569.95 Q1201.49 1575.11 1194.99 1575.11 Q1191.08 1575.11 1188.25 1573.58 Q1185.44 1572.02 1183.6 1568.84 L1183.6 1574.19 L1177.71 1574.19 L1177.71 1524.66 L1183.6 1524.66 L1183.6 1543.95 Z\" fill=\"#000000\" fill-rule=\"evenodd\" fill-opacity=\"1\" /><path clip-path=\"url(#clip860)\" d=\"M 0 0 M1249.8 1554.9 L1249.8 1557.76 L1222.87 1557.76 Q1223.26 1563.81 1226.5 1566.99 Q1229.78 1570.14 1235.61 1570.14 Q1238.98 1570.14 1242.13 1569.32 Q1245.31 1568.49 1248.43 1566.83 L1248.43 1572.37 Q1245.28 1573.71 1241.97 1574.41 Q1238.66 1575.11 1235.26 1575.11 Q1226.73 1575.11 1221.73 1570.14 Q1216.76 1565.18 1216.76 1556.71 Q1216.76 1547.96 1221.47 1542.83 Q1226.22 1537.68 1234.24 1537.68 Q1241.43 1537.68 1245.6 1542.33 Q1249.8 1546.94 1249.8 1554.9 M1243.95 1553.18 Q1243.88 1548.37 1241.24 1545.51 Q1238.63 1542.64 1234.3 1542.64 Q1229.4 1542.64 1226.44 1545.41 Q1223.51 1548.18 1223.07 1553.21 L1243.95 1553.18 Z\" fill=\"#000000\" fill-rule=\"evenodd\" fill-opacity=\"1\" /><path clip-path=\"url(#clip860)\" d=\"M 0 0 M1280.07 1544.01 Q1279.08 1543.44 1277.91 1543.18 Q1276.76 1542.9 1275.36 1542.9 Q1270.39 1542.9 1267.72 1546.14 Q1265.08 1549.36 1265.08 1555.41 L1265.08 1574.19 L1259.19 1574.19 L1259.19 1538.54 L1265.08 1538.54 L1265.08 1544.08 Q1266.93 1540.83 1269.89 1539.27 Q1272.85 1537.68 1277.08 1537.68 Q1277.68 1537.68 1278.42 1537.77 Q1279.15 1537.84 1280.04 1538 L1280.07 1544.01 Z\" fill=\"#000000\" fill-rule=\"evenodd\" fill-opacity=\"1\" /><path clip-path=\"url(#clip860)\" d=\"M 0 0 M1320.75 1542.64 Q1316.04 1542.64 1313.3 1546.34 Q1310.56 1550 1310.56 1556.39 Q1310.56 1562.79 1313.27 1566.48 Q1316 1570.14 1320.75 1570.14 Q1325.43 1570.14 1328.16 1566.45 Q1330.9 1562.76 1330.9 1556.39 Q1330.9 1550.06 1328.16 1546.37 Q1325.43 1542.64 1320.75 1542.64 M1320.75 1537.68 Q1328.39 1537.68 1332.75 1542.64 Q1337.11 1547.61 1337.11 1556.39 Q1337.11 1565.15 1332.75 1570.14 Q1328.39 1575.11 1320.75 1575.11 Q1313.08 1575.11 1308.72 1570.14 Q1304.39 1565.15 1304.39 1556.39 Q1304.39 1547.61 1308.72 1542.64 Q1313.08 1537.68 1320.75 1537.68 Z\" fill=\"#000000\" fill-rule=\"evenodd\" fill-opacity=\"1\" /><path clip-path=\"url(#clip860)\" d=\"M 0 0 M1364.86 1524.66 L1364.86 1529.53 L1359.26 1529.53 Q1356.11 1529.53 1354.87 1530.8 Q1353.66 1532.08 1353.66 1535.39 L1353.66 1538.54 L1363.3 1538.54 L1363.3 1543.09 L1353.66 1543.09 L1353.66 1574.19 L1347.77 1574.19 L1347.77 1543.09 L1342.17 1543.09 L1342.17 1538.54 L1347.77 1538.54 L1347.77 1536.05 Q1347.77 1530.1 1350.54 1527.4 Q1353.31 1524.66 1359.32 1524.66 L1364.86 1524.66 Z\" fill=\"#000000\" fill-rule=\"evenodd\" fill-opacity=\"1\" /><path clip-path=\"url(#clip860)\" d=\"M 0 0 M1408.53 1524.66 L1408.53 1529.53 L1402.93 1529.53 Q1399.78 1529.53 1398.54 1530.8 Q1397.33 1532.08 1397.33 1535.39 L1397.33 1538.54 L1406.97 1538.54 L1406.97 1543.09 L1397.33 1543.09 L1397.33 1574.19 L1391.44 1574.19 L1391.44 1543.09 L1385.84 1543.09 L1385.84 1538.54 L1391.44 1538.54 L1391.44 1536.05 Q1391.44 1530.1 1394.21 1527.4 Q1396.98 1524.66 1402.99 1524.66 L1408.53 1524.66 Z\" fill=\"#000000\" fill-rule=\"evenodd\" fill-opacity=\"1\" /><path clip-path=\"url(#clip860)\" d=\"M 0 0 M1429.63 1556.27 Q1422.54 1556.27 1419.8 1557.89 Q1417.06 1559.51 1417.06 1563.43 Q1417.06 1566.55 1419.1 1568.39 Q1421.17 1570.21 1424.7 1570.21 Q1429.57 1570.21 1432.5 1566.77 Q1435.46 1563.3 1435.46 1557.57 L1435.46 1556.27 L1429.63 1556.27 M1441.31 1553.85 L1441.31 1574.19 L1435.46 1574.19 L1435.46 1568.77 Q1433.45 1572.02 1430.46 1573.58 Q1427.47 1575.11 1423.14 1575.11 Q1417.67 1575.11 1414.42 1572.05 Q1411.2 1568.97 1411.2 1563.81 Q1411.2 1557.79 1415.21 1554.74 Q1419.26 1551.68 1427.25 1551.68 L1435.46 1551.68 L1435.46 1551.11 Q1435.46 1547.07 1432.78 1544.87 Q1430.14 1542.64 1425.34 1542.64 Q1422.28 1542.64 1419.38 1543.38 Q1416.49 1544.11 1413.81 1545.57 L1413.81 1540.16 Q1417.03 1538.92 1420.05 1538.31 Q1423.08 1537.68 1425.94 1537.68 Q1433.68 1537.68 1437.49 1541.69 Q1441.31 1545.7 1441.31 1553.85 Z\" fill=\"#000000\" fill-rule=\"evenodd\" fill-opacity=\"1\" /><path clip-path=\"url(#clip860)\" d=\"M 0 0 M1479.03 1539.91 L1479.03 1545.38 Q1476.55 1544.01 1474.03 1543.34 Q1471.55 1542.64 1469 1542.64 Q1463.31 1542.64 1460.16 1546.27 Q1457.01 1549.87 1457.01 1556.39 Q1457.01 1562.92 1460.16 1566.55 Q1463.31 1570.14 1469 1570.14 Q1471.55 1570.14 1474.03 1569.47 Q1476.55 1568.77 1479.03 1567.41 L1479.03 1572.82 Q1476.58 1573.96 1473.94 1574.54 Q1471.33 1575.11 1468.37 1575.11 Q1460.32 1575.11 1455.57 1570.05 Q1450.83 1564.99 1450.83 1556.39 Q1450.83 1547.67 1455.6 1542.68 Q1460.41 1537.68 1468.75 1537.68 Q1471.46 1537.68 1474.03 1538.25 Q1476.61 1538.79 1479.03 1539.91 Z\" fill=\"#000000\" fill-rule=\"evenodd\" fill-opacity=\"1\" /><path clip-path=\"url(#clip860)\" d=\"M 0 0 M1519.71 1554.9 L1519.71 1557.76 L1492.78 1557.76 Q1493.16 1563.81 1496.41 1566.99 Q1499.69 1570.14 1505.51 1570.14 Q1508.89 1570.14 1512.04 1569.32 Q1515.22 1568.49 1518.34 1566.83 L1518.34 1572.37 Q1515.19 1573.71 1511.88 1574.41 Q1508.57 1575.11 1505.16 1575.11 Q1496.63 1575.11 1491.63 1570.14 Q1486.67 1565.18 1486.67 1556.71 Q1486.67 1547.96 1491.38 1542.83 Q1496.12 1537.68 1504.14 1537.68 Q1511.34 1537.68 1515.51 1542.33 Q1519.71 1546.94 1519.71 1554.9 M1513.85 1553.18 Q1513.79 1548.37 1511.15 1545.51 Q1508.54 1542.64 1504.21 1542.64 Q1499.31 1542.64 1496.35 1545.41 Q1493.42 1548.18 1492.97 1553.21 L1513.85 1553.18 Z\" fill=\"#000000\" fill-rule=\"evenodd\" fill-opacity=\"1\" /><path clip-path=\"url(#clip860)\" d=\"M 0 0 M1535.11 1528.42 L1535.11 1538.54 L1547.18 1538.54 L1547.18 1543.09 L1535.11 1543.09 L1535.11 1562.44 Q1535.11 1566.8 1536.29 1568.04 Q1537.5 1569.28 1541.16 1569.28 L1547.18 1569.28 L1547.18 1574.19 L1541.16 1574.19 Q1534.38 1574.19 1531.8 1571.67 Q1529.22 1569.12 1529.22 1562.44 L1529.22 1543.09 L1524.93 1543.09 L1524.93 1538.54 L1529.22 1538.54 L1529.22 1528.42 L1535.11 1528.42 Z\" fill=\"#000000\" fill-rule=\"evenodd\" fill-opacity=\"1\" /><path clip-path=\"url(#clip860)\" d=\"M 0 0 M1577.6 1539.59 L1577.6 1545.13 Q1575.12 1543.85 1572.45 1543.22 Q1569.77 1542.58 1566.91 1542.58 Q1562.55 1542.58 1560.35 1543.92 Q1558.19 1545.25 1558.19 1547.93 Q1558.19 1549.96 1559.75 1551.14 Q1561.31 1552.29 1566.02 1553.34 L1568.02 1553.78 Q1574.26 1555.12 1576.87 1557.57 Q1579.51 1559.99 1579.51 1564.35 Q1579.51 1569.32 1575.57 1572.21 Q1571.65 1575.11 1564.78 1575.11 Q1561.91 1575.11 1558.79 1574.54 Q1555.71 1573.99 1552.27 1572.88 L1552.27 1566.83 Q1555.51 1568.52 1558.67 1569.38 Q1561.82 1570.21 1564.9 1570.21 Q1569.04 1570.21 1571.27 1568.81 Q1573.5 1567.37 1573.5 1564.8 Q1573.5 1562.41 1571.87 1561.14 Q1570.28 1559.86 1564.84 1558.68 L1562.8 1558.21 Q1557.36 1557.06 1554.94 1554.71 Q1552.52 1552.32 1552.52 1548.18 Q1552.52 1543.15 1556.09 1540.42 Q1559.65 1537.68 1566.21 1537.68 Q1569.46 1537.68 1572.32 1538.16 Q1575.18 1538.63 1577.6 1539.59 Z\" fill=\"#000000\" fill-rule=\"evenodd\" fill-opacity=\"1\" /><polyline clip-path=\"url(#clip862)\" style=\"stroke:#000000; stroke-width:2; stroke-opacity:0.1; fill:none\" points=\"\n  251.372,1260.34 2352.76,1260.34 \n  \"/>\n<polyline clip-path=\"url(#clip862)\" style=\"stroke:#000000; stroke-width:2; stroke-opacity:0.1; fill:none\" points=\"\n  251.372,1065.71 2352.76,1065.71 \n  \"/>\n<polyline clip-path=\"url(#clip862)\" style=\"stroke:#000000; stroke-width:2; stroke-opacity:0.1; fill:none\" points=\"\n  251.372,871.084 2352.76,871.084 \n  \"/>\n<polyline clip-path=\"url(#clip862)\" style=\"stroke:#000000; stroke-width:2; stroke-opacity:0.1; fill:none\" points=\"\n  251.372,676.457 2352.76,676.457 \n  \"/>\n<polyline clip-path=\"url(#clip862)\" style=\"stroke:#000000; stroke-width:2; stroke-opacity:0.1; fill:none\" points=\"\n  251.372,481.83 2352.76,481.83 \n  \"/>\n<polyline clip-path=\"url(#clip862)\" style=\"stroke:#000000; stroke-width:2; stroke-opacity:0.1; fill:none\" points=\"\n  251.372,287.203 2352.76,287.203 \n  \"/>\n<polyline clip-path=\"url(#clip862)\" style=\"stroke:#000000; stroke-width:2; stroke-opacity:0.1; fill:none\" points=\"\n  251.372,92.5759 2352.76,92.5759 \n  \"/>\n<polyline clip-path=\"url(#clip860)\" style=\"stroke:#000000; stroke-width:4; stroke-opacity:1; fill:none\" points=\"\n  251.372,1410.9 251.372,47.2441 \n  \"/>\n<polyline clip-path=\"url(#clip860)\" style=\"stroke:#000000; stroke-width:4; stroke-opacity:1; fill:none\" points=\"\n  2352.76,1410.9 2352.76,47.2441 \n  \"/>\n<polyline clip-path=\"url(#clip860)\" style=\"stroke:#000000; stroke-width:4; stroke-opacity:1; fill:none\" points=\"\n  251.372,1260.34 276.589,1260.34 \n  \"/>\n<polyline clip-path=\"url(#clip860)\" style=\"stroke:#000000; stroke-width:4; stroke-opacity:1; fill:none\" points=\"\n  251.372,1065.71 276.589,1065.71 \n  \"/>\n<polyline clip-path=\"url(#clip860)\" style=\"stroke:#000000; stroke-width:4; stroke-opacity:1; fill:none\" points=\"\n  251.372,871.084 276.589,871.084 \n  \"/>\n<polyline clip-path=\"url(#clip860)\" style=\"stroke:#000000; stroke-width:4; stroke-opacity:1; fill:none\" points=\"\n  251.372,676.457 276.589,676.457 \n  \"/>\n<polyline clip-path=\"url(#clip860)\" style=\"stroke:#000000; stroke-width:4; stroke-opacity:1; fill:none\" points=\"\n  251.372,481.83 276.589,481.83 \n  \"/>\n<polyline clip-path=\"url(#clip860)\" style=\"stroke:#000000; stroke-width:4; stroke-opacity:1; fill:none\" points=\"\n  251.372,287.203 276.589,287.203 \n  \"/>\n<polyline clip-path=\"url(#clip860)\" style=\"stroke:#000000; stroke-width:4; stroke-opacity:1; fill:none\" points=\"\n  251.372,92.5759 276.589,92.5759 \n  \"/>\n<path clip-path=\"url(#clip860)\" d=\"M 0 0 M115.232 1280.13 L122.871 1280.13 L122.871 1253.76 L114.561 1255.43 L114.561 1251.17 L122.825 1249.51 L127.501 1249.51 L127.501 1280.13 L135.14 1280.13 L135.14 1284.07 L115.232 1284.07 L115.232 1280.13 Z\" fill=\"#000000\" fill-rule=\"evenodd\" fill-opacity=\"1\" /><path clip-path=\"url(#clip860)\" d=\"M 0 0 M154.584 1252.58 Q150.973 1252.58 149.144 1256.15 Q147.339 1259.69 147.339 1266.82 Q147.339 1273.93 149.144 1277.49 Q150.973 1281.03 154.584 1281.03 Q158.218 1281.03 160.024 1277.49 Q161.852 1273.93 161.852 1266.82 Q161.852 1259.69 160.024 1256.15 Q158.218 1252.58 154.584 1252.58 M154.584 1248.88 Q160.394 1248.88 163.45 1253.49 Q166.528 1258.07 166.528 1266.82 Q166.528 1275.55 163.45 1280.15 Q160.394 1284.74 154.584 1284.74 Q148.774 1284.74 145.695 1280.15 Q142.64 1275.55 142.64 1266.82 Q142.64 1258.07 145.695 1253.49 Q148.774 1248.88 154.584 1248.88 Z\" fill=\"#000000\" fill-rule=\"evenodd\" fill-opacity=\"1\" /><path clip-path=\"url(#clip860)\" d=\"M 0 0 M166.528 1242.98 L190.64 1242.98 L190.64 1246.18 L166.528 1246.18 L166.528 1242.98 Z\" fill=\"#000000\" fill-rule=\"evenodd\" fill-opacity=\"1\" /><path clip-path=\"url(#clip860)\" d=\"M 0 0 M202.113 1253.46 L215.372 1253.46 L215.372 1256.65 L197.542 1256.65 L197.542 1253.46 Q199.705 1251.22 203.429 1247.46 Q207.172 1243.68 208.131 1242.59 Q209.956 1240.54 210.67 1239.13 Q211.404 1237.7 211.404 1236.32 Q211.404 1234.09 209.824 1232.67 Q208.263 1231.26 205.743 1231.26 Q203.956 1231.26 201.962 1231.88 Q199.987 1232.51 197.73 1233.77 L197.73 1229.93 Q200.025 1229.01 202.019 1228.54 Q204.012 1228.07 205.667 1228.07 Q210.031 1228.07 212.626 1230.25 Q215.222 1232.43 215.222 1236.08 Q215.222 1237.81 214.563 1239.37 Q213.924 1240.91 212.212 1243.02 Q211.742 1243.56 209.222 1246.18 Q206.702 1248.77 202.113 1253.46 Z\" fill=\"#000000\" fill-rule=\"evenodd\" fill-opacity=\"1\" /><path clip-path=\"url(#clip860)\" d=\"M 0 0 M114.931 1085.5 L122.57 1085.5 L122.57 1059.14 L114.26 1060.8 L114.26 1056.54 L122.524 1054.88 L127.2 1054.88 L127.2 1085.5 L134.839 1085.5 L134.839 1089.44 L114.931 1089.44 L114.931 1085.5 Z\" fill=\"#000000\" fill-rule=\"evenodd\" fill-opacity=\"1\" /><path clip-path=\"url(#clip860)\" d=\"M 0 0 M154.283 1057.96 Q150.672 1057.96 148.843 1061.52 Q147.038 1065.06 147.038 1072.19 Q147.038 1079.3 148.843 1082.86 Q150.672 1086.41 154.283 1086.41 Q157.917 1086.41 159.723 1082.86 Q161.552 1079.3 161.552 1072.19 Q161.552 1065.06 159.723 1061.52 Q157.917 1057.96 154.283 1057.96 M154.283 1054.25 Q160.093 1054.25 163.149 1058.86 Q166.227 1063.44 166.227 1072.19 Q166.227 1080.92 163.149 1085.53 Q160.093 1090.11 154.283 1090.11 Q148.473 1090.11 145.394 1085.53 Q142.339 1080.92 142.339 1072.19 Q142.339 1063.44 145.394 1058.86 Q148.473 1054.25 154.283 1054.25 Z\" fill=\"#000000\" fill-rule=\"evenodd\" fill-opacity=\"1\" /><path clip-path=\"url(#clip860)\" d=\"M 0 0 M166.227 1048.35 L190.339 1048.35 L190.339 1051.55 L166.227 1051.55 L166.227 1048.35 Z\" fill=\"#000000\" fill-rule=\"evenodd\" fill-opacity=\"1\" /><path clip-path=\"url(#clip860)\" d=\"M 0 0 M199.197 1058.83 L205.404 1058.83 L205.404 1037.41 L198.652 1038.76 L198.652 1035.3 L205.366 1033.95 L209.166 1033.95 L209.166 1058.83 L215.372 1058.83 L215.372 1062.03 L199.197 1062.03 L199.197 1058.83 Z\" fill=\"#000000\" fill-rule=\"evenodd\" fill-opacity=\"1\" /><path clip-path=\"url(#clip860)\" d=\"M 0 0 M144.667 890.876 L152.305 890.876 L152.305 864.51 L143.995 866.177 L143.995 861.918 L152.259 860.251 L156.935 860.251 L156.935 890.876 L164.574 890.876 L164.574 894.811 L144.667 894.811 L144.667 890.876 Z\" fill=\"#000000\" fill-rule=\"evenodd\" fill-opacity=\"1\" /><path clip-path=\"url(#clip860)\" d=\"M 0 0 M184.018 863.33 Q180.407 863.33 178.578 866.895 Q176.773 870.436 176.773 877.566 Q176.773 884.672 178.578 888.237 Q180.407 891.779 184.018 891.779 Q187.652 891.779 189.458 888.237 Q191.287 884.672 191.287 877.566 Q191.287 870.436 189.458 866.895 Q187.652 863.33 184.018 863.33 M184.018 859.626 Q189.828 859.626 192.884 864.233 Q195.963 868.816 195.963 877.566 Q195.963 886.293 192.884 890.899 Q189.828 895.482 184.018 895.482 Q178.208 895.482 175.129 890.899 Q172.074 886.293 172.074 877.566 Q172.074 868.816 175.129 864.233 Q178.208 859.626 184.018 859.626 Z\" fill=\"#000000\" fill-rule=\"evenodd\" fill-opacity=\"1\" /><path clip-path=\"url(#clip860)\" d=\"M 0 0 M205.667 841.822 Q202.733 841.822 201.248 844.719 Q199.781 847.596 199.781 853.389 Q199.781 859.163 201.248 862.059 Q202.733 864.937 205.667 864.937 Q208.62 864.937 210.087 862.059 Q211.573 859.163 211.573 853.389 Q211.573 847.596 210.087 844.719 Q208.62 841.822 205.667 841.822 M205.667 838.813 Q210.388 838.813 212.871 842.556 Q215.372 846.28 215.372 853.389 Q215.372 860.48 212.871 864.222 Q210.388 867.946 205.667 867.946 Q200.947 867.946 198.445 864.222 Q195.963 860.48 195.963 853.389 Q195.963 846.28 198.445 842.556 Q200.947 838.813 205.667 838.813 Z\" fill=\"#000000\" fill-rule=\"evenodd\" fill-opacity=\"1\" /><path clip-path=\"url(#clip860)\" d=\"M 0 0 M147.356 696.249 L154.995 696.249 L154.995 669.883 L146.685 671.55 L146.685 667.291 L154.949 665.624 L159.624 665.624 L159.624 696.249 L167.263 696.249 L167.263 700.184 L147.356 700.184 L147.356 696.249 Z\" fill=\"#000000\" fill-rule=\"evenodd\" fill-opacity=\"1\" /><path clip-path=\"url(#clip860)\" d=\"M 0 0 M186.708 668.703 Q183.097 668.703 181.268 672.268 Q179.462 675.809 179.462 682.939 Q179.462 690.045 181.268 693.61 Q183.097 697.152 186.708 697.152 Q190.342 697.152 192.147 693.61 Q193.976 690.045 193.976 682.939 Q193.976 675.809 192.147 672.268 Q190.342 668.703 186.708 668.703 M186.708 664.999 Q192.518 664.999 195.573 669.606 Q198.652 674.189 198.652 682.939 Q198.652 691.666 195.573 696.272 Q192.518 700.856 186.708 700.856 Q180.898 700.856 177.819 696.272 Q174.763 691.666 174.763 682.939 Q174.763 674.189 177.819 669.606 Q180.898 664.999 186.708 664.999 Z\" fill=\"#000000\" fill-rule=\"evenodd\" fill-opacity=\"1\" /><path clip-path=\"url(#clip860)\" d=\"M 0 0 M199.197 669.577 L205.404 669.577 L205.404 648.154 L198.652 649.509 L198.652 646.048 L205.366 644.694 L209.166 644.694 L209.166 669.577 L215.372 669.577 L215.372 672.774 L199.197 672.774 L199.197 669.577 Z\" fill=\"#000000\" fill-rule=\"evenodd\" fill-opacity=\"1\" /><path clip-path=\"url(#clip860)\" d=\"M 0 0 M146.246 501.622 L153.885 501.622 L153.885 475.257 L145.575 476.923 L145.575 472.664 L153.839 470.997 L158.515 470.997 L158.515 501.622 L166.154 501.622 L166.154 505.557 L146.246 505.557 L146.246 501.622 Z\" fill=\"#000000\" fill-rule=\"evenodd\" fill-opacity=\"1\" /><path clip-path=\"url(#clip860)\" d=\"M 0 0 M185.598 474.076 Q181.987 474.076 180.158 477.641 Q178.353 481.182 178.353 488.312 Q178.353 495.419 180.158 498.983 Q181.987 502.525 185.598 502.525 Q189.232 502.525 191.038 498.983 Q192.867 495.419 192.867 488.312 Q192.867 481.182 191.038 477.641 Q189.232 474.076 185.598 474.076 M185.598 470.372 Q191.408 470.372 194.464 474.979 Q197.542 479.562 197.542 488.312 Q197.542 497.039 194.464 501.645 Q191.408 506.229 185.598 506.229 Q179.788 506.229 176.709 501.645 Q173.654 497.039 173.654 488.312 Q173.654 479.562 176.709 474.979 Q179.788 470.372 185.598 470.372 Z\" fill=\"#000000\" fill-rule=\"evenodd\" fill-opacity=\"1\" /><path clip-path=\"url(#clip860)\" d=\"M 0 0 M202.113 474.95 L215.372 474.95 L215.372 478.147 L197.542 478.147 L197.542 474.95 Q199.705 472.711 203.429 468.95 Q207.172 465.17 208.131 464.079 Q209.956 462.029 210.67 460.618 Q211.404 459.189 211.404 457.816 Q211.404 455.578 209.824 454.167 Q208.263 452.756 205.743 452.756 Q203.956 452.756 201.962 453.377 Q199.987 453.998 197.73 455.258 L197.73 451.421 Q200.025 450.5 202.019 450.029 Q204.012 449.559 205.667 449.559 Q210.031 449.559 212.626 451.741 Q215.222 453.923 215.222 457.571 Q215.222 459.302 214.563 460.863 Q213.924 462.405 212.212 464.511 Q211.742 465.057 209.222 467.671 Q206.702 470.266 202.113 474.95 Z\" fill=\"#000000\" fill-rule=\"evenodd\" fill-opacity=\"1\" /><path clip-path=\"url(#clip860)\" d=\"M 0 0 M145.588 306.995 L153.227 306.995 L153.227 280.63 L144.917 282.296 L144.917 278.037 L153.181 276.37 L157.857 276.37 L157.857 306.995 L165.495 306.995 L165.495 310.93 L145.588 310.93 L145.588 306.995 Z\" fill=\"#000000\" fill-rule=\"evenodd\" fill-opacity=\"1\" /><path clip-path=\"url(#clip860)\" d=\"M 0 0 M184.94 279.449 Q181.329 279.449 179.5 283.014 Q177.694 286.556 177.694 293.685 Q177.694 300.792 179.5 304.356 Q181.329 307.898 184.94 307.898 Q188.574 307.898 190.38 304.356 Q192.208 300.792 192.208 293.685 Q192.208 286.556 190.38 283.014 Q188.574 279.449 184.94 279.449 M184.94 275.745 Q190.75 275.745 193.805 280.352 Q196.884 284.935 196.884 293.685 Q196.884 302.412 193.805 307.018 Q190.75 311.602 184.94 311.602 Q179.13 311.602 176.051 307.018 Q172.995 302.412 172.995 293.685 Q172.995 284.935 176.051 280.352 Q179.13 275.745 184.94 275.745 Z\" fill=\"#000000\" fill-rule=\"evenodd\" fill-opacity=\"1\" /><path clip-path=\"url(#clip860)\" d=\"M 0 0 M209.579 268.38 Q212.307 268.963 213.83 270.806 Q215.372 272.649 215.372 275.357 Q215.372 279.514 212.513 281.79 Q209.655 284.065 204.388 284.065 Q202.621 284.065 200.74 283.708 Q198.878 283.37 196.884 282.674 L196.884 279.006 Q198.464 279.928 200.345 280.398 Q202.226 280.868 204.276 280.868 Q207.849 280.868 209.711 279.458 Q211.592 278.047 211.592 275.357 Q211.592 272.875 209.843 271.483 Q208.112 270.072 205.009 270.072 L201.737 270.072 L201.737 266.95 L205.16 266.95 Q207.962 266.95 209.448 265.841 Q210.934 264.712 210.934 262.606 Q210.934 260.443 209.391 259.296 Q207.868 258.13 205.009 258.13 Q203.448 258.13 201.661 258.468 Q199.875 258.807 197.73 259.521 L197.73 256.136 Q199.893 255.534 201.774 255.233 Q203.674 254.932 205.348 254.932 Q209.673 254.932 212.194 256.907 Q214.714 258.863 214.714 262.211 Q214.714 264.543 213.379 266.16 Q212.043 267.759 209.579 268.38 Z\" fill=\"#000000\" fill-rule=\"evenodd\" fill-opacity=\"1\" /><path clip-path=\"url(#clip860)\" d=\"M 0 0 M143.613 112.368 L151.252 112.368 L151.252 86.0027 L142.942 87.6694 L142.942 83.4102 L151.206 81.7435 L155.882 81.7435 L155.882 112.368 L163.521 112.368 L163.521 116.304 L143.613 116.304 L143.613 112.368 Z\" fill=\"#000000\" fill-rule=\"evenodd\" fill-opacity=\"1\" /><path clip-path=\"url(#clip860)\" d=\"M 0 0 M182.965 84.8222 Q179.354 84.8222 177.525 88.387 Q175.72 91.9286 175.72 99.0582 Q175.72 106.165 177.525 109.729 Q179.354 113.271 182.965 113.271 Q186.599 113.271 188.405 109.729 Q190.233 106.165 190.233 99.0582 Q190.233 91.9286 188.405 88.387 Q186.599 84.8222 182.965 84.8222 M182.965 81.1185 Q188.775 81.1185 191.831 85.725 Q194.909 90.3083 194.909 99.0582 Q194.909 107.785 191.831 112.391 Q188.775 116.975 182.965 116.975 Q177.155 116.975 174.076 112.391 Q171.021 107.785 171.021 99.0582 Q171.021 90.3083 174.076 85.725 Q177.155 81.1185 182.965 81.1185 Z\" fill=\"#000000\" fill-rule=\"evenodd\" fill-opacity=\"1\" /><path clip-path=\"url(#clip860)\" d=\"M 0 0 M207.586 64.1233 L197.994 79.1131 L207.586 79.1131 L207.586 64.1233 M206.589 60.8131 L211.366 60.8131 L211.366 79.1131 L215.372 79.1131 L215.372 82.2728 L211.366 82.2728 L211.366 88.8931 L207.586 88.8931 L207.586 82.2728 L194.909 82.2728 L194.909 78.6053 L206.589 60.8131 Z\" fill=\"#000000\" fill-rule=\"evenodd\" fill-opacity=\"1\" /><path clip-path=\"url(#clip860)\" d=\"M 0 0 M20.1444 1042.68 L26.9239 1042.68 Q23.9002 1045.92 22.4043 1049.62 Q20.9083 1053.28 20.9083 1057.41 Q20.9083 1065.56 25.9054 1069.89 Q30.8707 1074.22 40.2919 1074.22 Q49.6813 1074.22 54.6784 1069.89 Q59.6436 1065.56 59.6436 1057.41 Q59.6436 1053.28 58.1477 1049.62 Q56.6518 1045.92 53.6281 1042.68 L60.3439 1042.68 Q62.6355 1046.05 63.7814 1049.84 Q64.9272 1053.59 64.9272 1057.8 Q64.9272 1068.59 58.3387 1074.79 Q51.7183 1081 40.2919 1081 Q28.8336 1081 22.2451 1074.79 Q15.6248 1068.59 15.6248 1057.8 Q15.6248 1053.53 16.7706 1049.77 Q17.8846 1045.99 20.1444 1042.68 Z\" fill=\"#000000\" fill-rule=\"evenodd\" fill-opacity=\"1\" /><path clip-path=\"url(#clip860)\" d=\"M 0 0 M46.0847 1016.8 Q46.0847 1023.9 47.7079 1026.64 Q49.3312 1029.37 53.2461 1029.37 Q56.3653 1029.37 58.2114 1027.34 Q60.0256 1025.27 60.0256 1021.73 Q60.0256 1016.86 56.5881 1013.94 Q53.1188 1010.98 47.3897 1010.98 L46.0847 1010.98 L46.0847 1016.8 M43.6657 1005.12 L64.0042 1005.12 L64.0042 1010.98 L58.5933 1010.98 Q61.8398 1012.98 63.3994 1015.97 Q64.9272 1018.96 64.9272 1023.29 Q64.9272 1028.77 61.8716 1032.01 Q58.7843 1035.23 53.6281 1035.23 Q47.6125 1035.23 44.5569 1031.22 Q41.5014 1027.18 41.5014 1019.19 L41.5014 1010.98 L40.9285 1010.98 Q36.8862 1010.98 34.6901 1013.65 Q32.4621 1016.29 32.4621 1021.1 Q32.4621 1024.15 33.1941 1027.05 Q33.9262 1029.95 35.3903 1032.62 L29.9795 1032.62 Q28.7381 1029.4 28.1334 1026.38 Q27.4968 1023.36 27.4968 1020.49 Q27.4968 1012.76 31.5072 1008.94 Q35.5176 1005.12 43.6657 1005.12 Z\" fill=\"#000000\" fill-rule=\"evenodd\" fill-opacity=\"1\" /><path clip-path=\"url(#clip860)\" d=\"M 0 0 M14.479 993.056 L14.479 987.2 L64.0042 987.2 L64.0042 993.056 L14.479 993.056 Z\" fill=\"#000000\" fill-rule=\"evenodd\" fill-opacity=\"1\" /><path clip-path=\"url(#clip860)\" d=\"M 0 0 M29.7248 949.292 L35.1993 949.292 Q33.8307 951.775 33.1623 954.289 Q32.4621 956.772 32.4621 959.318 Q32.4621 965.015 36.0905 968.166 Q39.6872 971.317 46.212 971.317 Q52.7369 971.317 56.3653 968.166 Q59.9619 965.015 59.9619 959.318 Q59.9619 956.772 59.2935 954.289 Q58.5933 951.775 57.2247 949.292 L62.6355 949.292 Q63.7814 951.743 64.3543 954.385 Q64.9272 956.994 64.9272 959.955 Q64.9272 968.007 59.8664 972.75 Q54.8057 977.492 46.212 977.492 Q37.491 977.492 32.4939 972.718 Q27.4968 967.912 27.4968 959.573 Q27.4968 956.867 28.0697 954.289 Q28.6108 951.711 29.7248 949.292 Z\" fill=\"#000000\" fill-rule=\"evenodd\" fill-opacity=\"1\" /><path clip-path=\"url(#clip860)\" d=\"M 0 0 M49.9359 939.712 L28.3562 939.712 L28.3562 933.855 L49.7131 933.855 Q54.7739 933.855 57.3202 931.882 Q59.8346 929.908 59.8346 925.962 Q59.8346 921.219 56.8109 918.482 Q53.7872 915.713 48.5673 915.713 L28.3562 915.713 L28.3562 909.856 L64.0042 909.856 L64.0042 915.713 L58.5296 915.713 Q61.7762 917.845 63.3676 920.678 Q64.9272 923.479 64.9272 927.203 Q64.9272 933.346 61.1078 936.529 Q57.2883 939.712 49.9359 939.712 M27.4968 924.975 L27.4968 924.975 Z\" fill=\"#000000\" fill-rule=\"evenodd\" fill-opacity=\"1\" /><path clip-path=\"url(#clip860)\" d=\"M 0 0 M14.479 897.793 L14.479 891.937 L64.0042 891.937 L64.0042 897.793 L14.479 897.793 Z\" fill=\"#000000\" fill-rule=\"evenodd\" fill-opacity=\"1\" /><path clip-path=\"url(#clip860)\" d=\"M 0 0 M46.0847 863.482 Q46.0847 870.58 47.7079 873.317 Q49.3312 876.055 53.2461 876.055 Q56.3653 876.055 58.2114 874.018 Q60.0256 871.949 60.0256 868.416 Q60.0256 863.546 56.5881 860.618 Q53.1188 857.658 47.3897 857.658 L46.0847 857.658 L46.0847 863.482 M43.6657 851.801 L64.0042 851.801 L64.0042 857.658 L58.5933 857.658 Q61.8398 859.663 63.3994 862.655 Q64.9272 865.647 64.9272 869.975 Q64.9272 875.45 61.8716 878.696 Q58.7843 881.911 53.6281 881.911 Q47.6125 881.911 44.5569 877.901 Q41.5014 873.858 41.5014 865.869 L41.5014 857.658 L40.9285 857.658 Q36.8862 857.658 34.6901 860.331 Q32.4621 862.973 32.4621 867.779 Q32.4621 870.835 33.1941 873.731 Q33.9262 876.627 35.3903 879.301 L29.9795 879.301 Q28.7381 876.086 28.1334 873.063 Q27.4968 870.039 27.4968 867.174 Q27.4968 859.44 31.5072 855.621 Q35.5176 851.801 43.6657 851.801 Z\" fill=\"#000000\" fill-rule=\"evenodd\" fill-opacity=\"1\" /><path clip-path=\"url(#clip860)\" d=\"M 0 0 M18.2347 833.945 L28.3562 833.945 L28.3562 821.882 L32.9077 821.882 L32.9077 833.945 L52.2594 833.945 Q56.6199 833.945 57.8613 832.768 Q59.1026 831.558 59.1026 827.898 L59.1026 821.882 L64.0042 821.882 L64.0042 827.898 Q64.0042 834.677 61.4897 837.256 Q58.9434 839.834 52.2594 839.834 L32.9077 839.834 L32.9077 844.131 L28.3562 844.131 L28.3562 839.834 L18.2347 839.834 L18.2347 833.945 Z\" fill=\"#000000\" fill-rule=\"evenodd\" fill-opacity=\"1\" /><path clip-path=\"url(#clip860)\" d=\"M 0 0 M28.3562 814.18 L28.3562 808.323 L64.0042 808.323 L64.0042 814.18 L28.3562 814.18 M14.479 814.18 L14.479 808.323 L21.895 808.323 L21.895 814.18 L14.479 814.18 Z\" fill=\"#000000\" fill-rule=\"evenodd\" fill-opacity=\"1\" /><path clip-path=\"url(#clip860)\" d=\"M 0 0 M32.4621 782.256 Q32.4621 786.966 36.1542 789.704 Q39.8145 792.441 46.212 792.441 Q52.6095 792.441 56.3017 789.736 Q59.9619 786.998 59.9619 782.256 Q59.9619 777.577 56.2698 774.84 Q52.5777 772.103 46.212 772.103 Q39.8781 772.103 36.186 774.84 Q32.4621 777.577 32.4621 782.256 M27.4968 782.256 Q27.4968 774.617 32.4621 770.256 Q37.4273 765.896 46.212 765.896 Q54.9649 765.896 59.9619 770.256 Q64.9272 774.617 64.9272 782.256 Q64.9272 789.927 59.9619 794.287 Q54.9649 798.616 46.212 798.616 Q37.4273 798.616 32.4621 794.287 Q27.4968 789.927 27.4968 782.256 Z\" fill=\"#000000\" fill-rule=\"evenodd\" fill-opacity=\"1\" /><path clip-path=\"url(#clip860)\" d=\"M 0 0 M42.4881 726.556 L64.0042 726.556 L64.0042 732.412 L42.679 732.412 Q37.6183 732.412 35.1038 734.386 Q32.5894 736.359 32.5894 740.306 Q32.5894 745.048 35.6131 747.786 Q38.6368 750.523 43.8567 750.523 L64.0042 750.523 L64.0042 756.411 L28.3562 756.411 L28.3562 750.523 L33.8944 750.523 Q30.6797 748.422 29.0883 745.589 Q27.4968 742.725 27.4968 739.001 Q27.4968 732.858 31.3163 729.707 Q35.1038 726.556 42.4881 726.556 Z\" fill=\"#000000\" fill-rule=\"evenodd\" fill-opacity=\"1\" /><path clip-path=\"url(#clip860)\" d=\"M 0 0 M18.2347 688.362 L28.3562 688.362 L28.3562 676.299 L32.9077 676.299 L32.9077 688.362 L52.2594 688.362 Q56.6199 688.362 57.8613 687.184 Q59.1026 685.975 59.1026 682.314 L59.1026 676.299 L64.0042 676.299 L64.0042 682.314 Q64.0042 689.094 61.4897 691.672 Q58.9434 694.25 52.2594 694.25 L32.9077 694.25 L32.9077 698.547 L28.3562 698.547 L28.3562 694.25 L18.2347 694.25 L18.2347 688.362 Z\" fill=\"#000000\" fill-rule=\"evenodd\" fill-opacity=\"1\" /><path clip-path=\"url(#clip860)\" d=\"M 0 0 M28.3562 668.596 L28.3562 662.74 L64.0042 662.74 L64.0042 668.596 L28.3562 668.596 M14.479 668.596 L14.479 662.74 L21.895 662.74 L21.895 668.596 L14.479 668.596 Z\" fill=\"#000000\" fill-rule=\"evenodd\" fill-opacity=\"1\" /><path clip-path=\"url(#clip860)\" d=\"M 0 0 M35.1993 622.731 Q31.2526 620.535 29.3747 617.48 Q27.4968 614.424 27.4968 610.286 Q27.4968 604.716 31.4117 601.693 Q35.2948 598.669 42.4881 598.669 L64.0042 598.669 L64.0042 604.557 L42.679 604.557 Q37.5546 604.557 35.072 606.371 Q32.5894 608.186 32.5894 611.91 Q32.5894 616.461 35.6131 619.103 Q38.6368 621.745 43.8567 621.745 L64.0042 621.745 L64.0042 627.633 L42.679 627.633 Q37.5228 627.633 35.072 629.447 Q32.5894 631.261 32.5894 635.049 Q32.5894 639.537 35.6449 642.178 Q38.6686 644.82 43.8567 644.82 L64.0042 644.82 L64.0042 650.709 L28.3562 650.709 L28.3562 644.82 L33.8944 644.82 Q30.616 642.815 29.0564 640.014 Q27.4968 637.213 27.4968 633.362 Q27.4968 629.479 29.4702 626.773 Q31.4436 624.036 35.1993 622.731 Z\" fill=\"#000000\" fill-rule=\"evenodd\" fill-opacity=\"1\" /><path clip-path=\"url(#clip860)\" d=\"M 0 0 M44.7161 556.496 L47.5806 556.496 L47.5806 583.423 Q53.6281 583.041 56.8109 579.795 Q59.9619 576.516 59.9619 570.692 Q59.9619 567.318 59.1344 564.167 Q58.3069 560.984 56.6518 557.865 L62.1899 557.865 Q63.5267 561.016 64.227 564.326 Q64.9272 567.636 64.9272 571.042 Q64.9272 579.572 59.9619 584.569 Q54.9967 589.534 46.5303 589.534 Q37.7774 589.534 32.6531 584.823 Q27.4968 580.081 27.4968 572.06 Q27.4968 564.867 32.1438 560.697 Q36.7589 556.496 44.7161 556.496 M42.9973 562.353 Q38.1912 562.416 35.3266 565.058 Q32.4621 567.668 32.4621 571.997 Q32.4621 576.898 35.2312 579.858 Q38.0002 582.786 43.0292 583.232 L42.9973 562.353 Z\" fill=\"#000000\" fill-rule=\"evenodd\" fill-opacity=\"1\" /><path clip-path=\"url(#clip860)\" d=\"M 0 0 M14.479 526.705 L14.479 513.209 L19.0304 513.209 L19.0304 520.848 L68.0464 520.848 L68.0464 513.209 L72.5979 513.209 L72.5979 526.705 L14.479 526.705 Z\" fill=\"#000000\" fill-rule=\"evenodd\" fill-opacity=\"1\" /><path clip-path=\"url(#clip860)\" d=\"M 0 0 M29.4065 478.007 L34.9447 478.007 Q33.6716 480.49 33.035 483.163 Q32.3984 485.837 32.3984 488.701 Q32.3984 493.062 33.7352 495.258 Q35.072 497.422 37.7456 497.422 Q39.7826 497.422 40.9603 495.863 Q42.1061 494.303 43.1565 489.592 L43.6021 487.587 Q44.9389 481.349 47.3897 478.739 Q49.8086 476.097 54.1691 476.097 Q59.1344 476.097 62.0308 480.044 Q64.9272 483.959 64.9272 490.834 Q64.9272 493.698 64.3543 496.818 Q63.8132 499.905 62.6992 503.342 L56.6518 503.342 Q58.3387 500.096 59.198 496.945 Q60.0256 493.794 60.0256 490.706 Q60.0256 486.569 58.6251 484.341 Q57.1929 482.113 54.6147 482.113 Q52.2276 482.113 50.9545 483.736 Q49.6813 485.327 48.5037 490.77 L48.0262 492.807 Q46.8804 498.25 44.5251 500.669 Q42.138 503.088 38.0002 503.088 Q32.9713 503.088 30.2341 499.523 Q27.4968 495.958 27.4968 489.402 Q27.4968 486.155 27.9743 483.29 Q28.4517 480.426 29.4065 478.007 Z\" fill=\"#000000\" fill-rule=\"evenodd\" fill-opacity=\"1\" /><path clip-path=\"url(#clip860)\" d=\"M 0 0 M44.7161 436.28 L47.5806 436.28 L47.5806 463.207 Q53.6281 462.825 56.8109 459.578 Q59.9619 456.3 59.9619 450.475 Q59.9619 447.101 59.1344 443.95 Q58.3069 440.768 56.6518 437.648 L62.1899 437.648 Q63.5267 440.799 64.227 444.11 Q64.9272 447.42 64.9272 450.825 Q64.9272 459.355 59.9619 464.352 Q54.9967 469.318 46.5303 469.318 Q37.7774 469.318 32.6531 464.607 Q27.4968 459.865 27.4968 451.844 Q27.4968 444.651 32.1438 440.481 Q36.7589 436.28 44.7161 436.28 M42.9973 442.136 Q38.1912 442.2 35.3266 444.842 Q32.4621 447.452 32.4621 451.78 Q32.4621 456.682 35.2312 459.642 Q38.0002 462.57 43.0292 463.016 L42.9973 442.136 Z\" fill=\"#000000\" fill-rule=\"evenodd\" fill-opacity=\"1\" /><path clip-path=\"url(#clip860)\" d=\"M 0 0 M29.7248 401.014 L35.1993 401.014 Q33.8307 403.496 33.1623 406.011 Q32.4621 408.493 32.4621 411.04 Q32.4621 416.737 36.0905 419.888 Q39.6872 423.039 46.212 423.039 Q52.7369 423.039 56.3653 419.888 Q59.9619 416.737 59.9619 411.04 Q59.9619 408.493 59.2935 406.011 Q58.5933 403.496 57.2247 401.014 L62.6355 401.014 Q63.7814 403.464 64.3543 406.106 Q64.9272 408.716 64.9272 411.676 Q64.9272 419.729 59.8664 424.471 Q54.8057 429.214 46.212 429.214 Q37.491 429.214 32.4939 424.439 Q27.4968 419.633 27.4968 411.294 Q27.4968 408.589 28.0697 406.011 Q28.6108 403.433 29.7248 401.014 Z\" fill=\"#000000\" fill-rule=\"evenodd\" fill-opacity=\"1\" /><path clip-path=\"url(#clip860)\" d=\"M 0 0 M14.479 377.142 L72.5979 377.142 L72.5979 390.638 L68.0464 390.638 L68.0464 383.031 L19.0304 383.031 L19.0304 390.638 L14.479 390.638 L14.479 377.142 Z\" fill=\"#000000\" fill-rule=\"evenodd\" fill-opacity=\"1\" /><polyline clip-path=\"url(#clip862)\" style=\"stroke:#009af9; stroke-width:4; stroke-opacity:1; fill:none\" points=\"\n  310.845,1372.3 675.392,1174.31 1131.62,934.315 1833.28,439.769 2293.28,85.838 \n  \"/>\n<circle clip-path=\"url(#clip862)\" cx=\"310.845\" cy=\"1372.3\" r=\"14\" fill=\"#009af9\" fill-rule=\"evenodd\" fill-opacity=\"1\" stroke=\"#000000\" stroke-opacity=\"1\" stroke-width=\"3.2\"/>\n<circle clip-path=\"url(#clip862)\" cx=\"675.392\" cy=\"1174.31\" r=\"14\" fill=\"#009af9\" fill-rule=\"evenodd\" fill-opacity=\"1\" stroke=\"#000000\" stroke-opacity=\"1\" stroke-width=\"3.2\"/>\n<circle clip-path=\"url(#clip862)\" cx=\"1131.62\" cy=\"934.315\" r=\"14\" fill=\"#009af9\" fill-rule=\"evenodd\" fill-opacity=\"1\" stroke=\"#000000\" stroke-opacity=\"1\" stroke-width=\"3.2\"/>\n<circle clip-path=\"url(#clip862)\" cx=\"1833.28\" cy=\"439.769\" r=\"14\" fill=\"#009af9\" fill-rule=\"evenodd\" fill-opacity=\"1\" stroke=\"#000000\" stroke-opacity=\"1\" stroke-width=\"3.2\"/>\n<circle clip-path=\"url(#clip862)\" cx=\"2293.28\" cy=\"85.838\" r=\"14\" fill=\"#009af9\" fill-rule=\"evenodd\" fill-opacity=\"1\" stroke=\"#000000\" stroke-opacity=\"1\" stroke-width=\"3.2\"/>\n</svg>\n"
     },
     "execution_count": 168,
     "metadata": {},
     "output_type": "execute_result"
    }
   ],
   "source": [
    "plot(framestyle=:box, legend=false)\n",
    "\n",
    "\n",
    "Ns = [500,      1500,     5932,     49152,      196608]    # 786432,     3145728\n",
    "ts = [0.002659, 0.027669, 0.473278, 164.478600, 10829.774176]    # 3600*24*10, 3600*24*1000\n",
    "plot!(Ns, ts, marker=(:circle))\n",
    "\n",
    "plot!(xticks=[10^3, 10^4, 10^5])\n",
    "plot!(xlabel=\"Number of facets\")\n",
    "plot!(ylabel=\"Calculation time [sec]\")\n",
    "plot!(xaxis=:log, yaxis=:log)"
   ]
  },
  {
   "cell_type": "code",
   "execution_count": null,
   "metadata": {},
   "outputs": [],
   "source": []
  },
  {
   "cell_type": "code",
   "execution_count": 172,
   "metadata": {},
   "outputs": [],
   "source": [
    "# using FileIO, MeshIO\n",
    "# mesh = load(shapepath)"
   ]
  },
  {
   "cell_type": "code",
   "execution_count": null,
   "metadata": {},
   "outputs": [],
   "source": []
  },
  {
   "cell_type": "code",
   "execution_count": 18,
   "metadata": {},
   "outputs": [],
   "source": [
    "# using VTKView"
   ]
  },
  {
   "cell_type": "code",
   "execution_count": 20,
   "metadata": {},
   "outputs": [],
   "source": [
    "# using VTKDataTypes\n",
    "# using VTKDataIO"
   ]
  },
  {
   "cell_type": "code",
   "execution_count": null,
   "metadata": {},
   "outputs": [],
   "source": []
  },
  {
   "cell_type": "code",
   "execution_count": 1,
   "metadata": {},
   "outputs": [],
   "source": [
    "using VTKDataTypes\n",
    "using WriteVTK\n",
    "using PyCall\n",
    "using LightXML\n",
    "# using Iterators\n",
    "\n",
    "@pyimport vtk.util.numpy_support as vtkns\n",
    "@pyimport vtk as vtk\n",
    "@pyimport numpy as np"
   ]
  },
  {
   "cell_type": "code",
   "execution_count": 13,
   "metadata": {},
   "outputs": [],
   "source": [
    "# include(\"/Users/masanorikanamaru/Documents/GitHub/VTKDataIO.jl/src/vtkreaders.jl\")"
   ]
  },
  {
   "cell_type": "code",
   "execution_count": 14,
   "metadata": {},
   "outputs": [],
   "source": [
    "# read_vtk(vtkname)"
   ]
  },
  {
   "cell_type": "code",
   "execution_count": 15,
   "metadata": {},
   "outputs": [],
   "source": [
    "# read_static_vtk"
   ]
  }
 ],
 "metadata": {
  "kernelspec": {
   "display_name": "Julia 1.7.0",
   "language": "julia",
   "name": "julia-1.7"
  },
  "language_info": {
   "file_extension": ".jl",
   "mimetype": "application/julia",
   "name": "julia",
   "version": "1.7.0"
  }
 },
 "nbformat": 4,
 "nbformat_minor": 4
}
