{
 "cells": [
  {
   "cell_type": "markdown",
   "metadata": {},
   "source": [
    "# 2021年11月11日・12日 @太陽系天体若手研究会\n",
    "\n",
    "# 『小惑星Ryuguの軌道と自転の進化』"
   ]
  },
  {
   "cell_type": "code",
   "execution_count": 1,
   "metadata": {},
   "outputs": [],
   "source": [
    "using Revise\n",
    "using Astroshaper"
   ]
  },
  {
   "cell_type": "code",
   "execution_count": 2,
   "metadata": {},
   "outputs": [],
   "source": [
    "using Plots\n",
    "using DataFrames"
   ]
  },
  {
   "cell_type": "code",
   "execution_count": 3,
   "metadata": {},
   "outputs": [],
   "source": [
    "using BenchmarkTools\n",
    "using StaticArrays\n",
    "using StructArrays\n",
    "using LinearAlgebra\n",
    "using Parameters"
   ]
  },
  {
   "cell_type": "code",
   "execution_count": null,
   "metadata": {},
   "outputs": [],
   "source": []
  },
  {
   "cell_type": "code",
   "execution_count": 4,
   "metadata": {},
   "outputs": [
    {
     "name": "stdout",
     "output_type": "stream",
     "text": [
      "shapepath = \"/Users/masanorikanamaru/Documents/shape/ryugu/SHAPE_SPC_49k_v20190802.obj\"\n"
     ]
    }
   ],
   "source": [
    "shapedir = \"/Users/masanorikanamaru/Documents/shape/ryugu\"\n",
    "\n",
    "# shapename = \"ryugu_v252_f500.obj\"\n",
    "# shapename = \"ryugu_v752_f1500.obj\"\n",
    "# shapename = \"ryugu_test.obj\"\n",
    "\n",
    "shapename = \"SHAPE_SPC_49k_v20190802.obj\"\n",
    "# shapename = \"SHAPE_SPC_200k_v20190802.obj\"\n",
    "# shapename = \"SHAPE_SPC_800k_v20190802.obj\"\n",
    "# shapename = \"SHAPE_SPC_3M_v20190802.obj\"\n",
    "\n",
    "# shapename = \"SHAPE_SFM_49k_v20180804.obj\"\n",
    "# shapename = \"SHAPE_SPC_49k_v20200323.obj\"\n",
    "# shapename = \"SHAPE_SPC_3M_v20200323.obj\"\n",
    "\n",
    "shapepath = joinpath(shapedir, shapename)\n",
    "@show shapepath;"
   ]
  },
  {
   "cell_type": "code",
   "execution_count": 5,
   "metadata": {},
   "outputs": [
    {
     "name": "stdout",
     "output_type": "stream",
     "text": [
      "207.646813 seconds (53.34 M allocations: 68.472 GiB, 1.70% gc time, 0.96% compilation time)\n",
      "-----------\n",
      "Nodes            : 25350\n",
      "Faces            : 49152\n",
      "Surface area     : 2.7384522746510603e6\n",
      "Volume           : 3.7944354093407744e8\n",
      "Center-of-Figure : "
     ]
    },
    {
     "data": {
      "text/plain": [
       "Shape model\n"
      ]
     },
     "execution_count": 5,
     "metadata": {},
     "output_type": "execute_result"
    },
    {
     "name": "stdout",
     "output_type": "stream",
     "text": [
      "[-1.172145219526267, 0.06944951401879955, 0.15390926344677297]\n",
      "Inertia tensor   : \n",
      "    | Ixx Ixy Ixz |   [0.0, 0.0, 0.0]\n",
      "    | Iyx Iyy Iyz | = [0.0, 0.0, 0.0]\n",
      "    | Izx Izy Izz |   [0.0, 0.0, 0.0]\n"
     ]
    }
   ],
   "source": [
    "@time shape = setShapeModel(shapepath; scale=1000, find_visible_faces=true, save_shape=true)\n",
    "\n",
    "# shape = setShapeModel(splitext(shapepath)[1] * \".jld2\")"
   ]
  },
  {
   "cell_type": "code",
   "execution_count": 6,
   "metadata": {},
   "outputs": [
    {
     "data": {
      "text/plain": [
       "Orbital elements\n",
       "----------------\n"
      ]
     },
     "execution_count": 6,
     "metadata": {},
     "output_type": "execute_result"
    },
    {
     "name": "stdout",
     "output_type": "stream",
     "text": [
      "Semi-mojor axis        : a  = 1.18956373 [AU]\n",
      "Eccentricity           : e  = 0.19027921 [-]\n",
      "Lon. of ascending node : Ω  = 251.589203 [deg]\n",
      "Argument of periapsis  : ω  = 211.435963 [deg]\n",
      "Inclination            : I  = 5.8840222 [deg]\n",
      "Periapsis passage time : tₚ = -2.4948038004043424e6 [sec]\n",
      "Mean anomaly           : Φ  = 21.9353799 [deg]\n",
      "\n",
      "Other parameters\n",
      "----------------\n",
      "Gravitational parameter : μ = 1.32712440018e20 [m^3/s^2]\n",
      "Mean motion             : n = 0.7596656791419168 [deg/day]\n",
      "Orbital period          : T = 473.8926739544681 [day]\n"
     ]
    }
   ],
   "source": [
    "params_orbit = Dict()\n",
    "\n",
    "params_orbit[:a] = 1.18956373  # semi-mojor axis [AU]\n",
    "params_orbit[:e] = 0.19027921  # eccentricity\n",
    "params_orbit[:I] = 5.8840222   # inclination [deg]\n",
    "params_orbit[:Ω] = 251.589203  # longitude of the ascending node [deg]\n",
    "params_orbit[:ω] = 211.435963  # argument of periapsis [deg]\n",
    "params_orbit[:Φ] = 21.9353799  # mean anomaly [deg]\n",
    "\n",
    "params_orbit[:μ] = GM☉ + 30.0\n",
    "\n",
    "orbit = OrbitalElements(params_orbit)"
   ]
  },
  {
   "cell_type": "code",
   "execution_count": 7,
   "metadata": {},
   "outputs": [
    {
     "data": {
      "text/plain": [
       "Spin parameters\n",
       "---------------\n"
      ]
     },
     "execution_count": 7,
     "metadata": {},
     "output_type": "execute_result"
    },
    {
     "name": "stdout",
     "output_type": "stream",
     "text": [
      "Right ascension (RA) : α = 96.4 [deg]\n",
      "Declination (Dec)    : δ = -66.4 [deg]\n",
      "Ecliptic longitude   : λ = 179.33757188938182 [deg]\n",
      "Ecliptic latitude    : β = -87.44207056697601 [deg]\n",
      "Obliquity            : ε = 171.65664649001607 [deg]\n",
      "Spin period          : P = 7.63262 [hours]\n",
      "Spin rate            : ω = 0.00022866712242903872 [rad/sec]\n",
      "Vernal equinox lon.  : γ = 154.3323208882217 [deg]\n",
      "                           (longitude from the periheion direction)\n"
     ]
    }
   ],
   "source": [
    "params_spin = Dict()\n",
    "params_spin[:α] = 96.4\n",
    "params_spin[:δ] = -66.4\n",
    "params_spin[:T] = 7.63262\n",
    "\n",
    "spin = setSpinParams(params_spin, orbit)"
   ]
  },
  {
   "cell_type": "code",
   "execution_count": 8,
   "metadata": {},
   "outputs": [
    {
     "data": {
      "text/plain": [
       "Thermophysical parameters\n"
      ]
     },
     "execution_count": 8,
     "metadata": {},
     "output_type": "execute_result"
    },
    {
     "name": "stdout",
     "output_type": "stream",
     "text": [
      "-------------------------\n",
      "A_B   : 0.04\n",
      "A_TH  : 0.0\n",
      "k     : 0.1\n",
      "ρ     : 1270.0\n",
      "Cₚ    : 600.0\n",
      "ϵ     : 1.0\n",
      "P     : 27477.432\n",
      "l     : 0.21287051812296282\n",
      "Γ     : 276.04347483684523\n",
      "Δt    : 0.01388888888888889\n",
      "t_bgn : 0.0\n",
      "t_end : 1490.1074827395094\n",
      "Nt    : 107288\n",
      "Δz    : 0.07046537083794469\n",
      "z_max : 2.8186148335177874\n",
      "Nz    : 41\n",
      "λ     : 0.22259025955088954\n"
     ]
    }
   ],
   "source": [
    "params_thermo = ParamsThermo(\n",
    "    A_B   = 0.04,\n",
    "    A_TH  = 0.,\n",
    "    k     = 0.1,\n",
    "    ρ     = 1270.,\n",
    "    Cₚ    = 600.,\n",
    "    ϵ     = 1.,\n",
    "    P     = spin.T,\n",
    "    Δt    = spin.T/72,\n",
    "    t_bgn = 0.,\n",
    "    # t_end = spin.T*10,\n",
    "    t_end = orbit.T,\n",
    "    Δz    = 0.015,\n",
    "    z_max = 0.6,\n",
    ")"
   ]
  },
  {
   "cell_type": "markdown",
   "metadata": {},
   "source": [
    "## YORP効果"
   ]
  },
  {
   "cell_type": "code",
   "execution_count": null,
   "metadata": {},
   "outputs": [],
   "source": [
    "@time τ̄ = run_YORP(shape, orbit, spin, params_thermo)\n",
    "\n",
    "#   0.197834 seconds (2 allocations: 224 bytes)\n",
    "\n",
    "# 3-element Vector{Float64}:\n",
    "#   2.3738673604758747\n",
    "#  -8.242315949107525\n",
    "#  -0.7373576061313664"
   ]
  },
  {
   "cell_type": "code",
   "execution_count": null,
   "metadata": {},
   "outputs": [],
   "source": [
    "C = 4.039541372643629e16\n",
    "ω̇, ωε̇, ωψ̇ = torque2rate(τ̄, spin, C)  # [deg/day/day]\n",
    "\n",
    "@show shapename\n",
    "@show τ̄\n",
    "@show ω̇, ωε̇, ωψ̇\n",
    "@show getTimeScale(3.5, 7.63262, ω̇);  # 3.5時間から7.6時間まで減速する時間スケール [Myr]"
   ]
  },
  {
   "cell_type": "markdown",
   "metadata": {},
   "source": [
    "## Yarkovsky効果"
   ]
  },
  {
   "cell_type": "code",
   "execution_count": null,
   "metadata": {},
   "outputs": [],
   "source": [
    "@time Fs = run_Yarkovsky(shape, orbit, spin, params_thermo);"
   ]
  },
  {
   "cell_type": "code",
   "execution_count": null,
   "metadata": {},
   "outputs": [],
   "source": [
    "Fs  # Orbital plane frame"
   ]
  },
  {
   "cell_type": "code",
   "execution_count": null,
   "metadata": {},
   "outputs": [],
   "source": [
    "sum(Fs)"
   ]
  },
  {
   "cell_type": "code",
   "execution_count": null,
   "metadata": {},
   "outputs": [],
   "source": []
  },
  {
   "cell_type": "code",
   "execution_count": null,
   "metadata": {},
   "outputs": [],
   "source": []
  },
  {
   "cell_type": "code",
   "execution_count": null,
   "metadata": {},
   "outputs": [],
   "source": [
    "@unpack P, Δt, t_bgn, t_end = params_thermo\n",
    "ts = collect( (t_bgn:Δt:t_end)*P )\n",
    "\n",
    "us = Float64[]  # eccentric anomaly\n",
    "fs = Float64[]  # true anomaly\n",
    "for t in ts\n",
    "    u = Astroshaper.solveKeplerEquation2(orbit, t)\n",
    "    f = Astroshaper.u2ν(u, orbit.e)\n",
    "    push!(us, u)\n",
    "    push!(fs, f)\n",
    "end"
   ]
  },
  {
   "cell_type": "code",
   "execution_count": null,
   "metadata": {},
   "outputs": [],
   "source": [
    "_Fs = Vector{Float64}[]\n",
    "for (f, F) in zip(fs, Fs)\n",
    "    _F = rotateZ(SVector{3}(F), f)\n",
    "    push!(_Fs, _F)\n",
    "end"
   ]
  },
  {
   "cell_type": "code",
   "execution_count": null,
   "metadata": {},
   "outputs": [],
   "source": [
    "_Fs"
   ]
  },
  {
   "cell_type": "code",
   "execution_count": null,
   "metadata": {},
   "outputs": [],
   "source": [
    "@unpack P, Δt, t_bgn, t_end = params_thermo\n",
    "ts = collect( (t_bgn:Δt:t_end)*P )\n",
    "M = 30.0 / G\n",
    "\n",
    "df = DataFrame(t=Float64[], u=Float64[], r=Float64[], f=Float64[], a_R=Float64[], a_T=Float64[], a_N=Float64[])\n",
    "\n",
    "for (t, F) in zip(ts, Fs)\n",
    "    u = Astroshaper.solveKeplerEquation2(orbit, t)\n",
    "    r = norm(Astroshaper.get_r(orbit, u))\n",
    "    f = Astroshaper.u2ν(u, orbit.e)\n",
    "    _F = rotateZ(SVector{3}(F), f)\n",
    "    \n",
    "    push!(df, (t, u, r, f, _F[1]/M, _F[2]/M, _F[3]/M))\n",
    "end"
   ]
  },
  {
   "cell_type": "code",
   "execution_count": null,
   "metadata": {},
   "outputs": [],
   "source": [
    "df"
   ]
  },
  {
   "cell_type": "code",
   "execution_count": null,
   "metadata": {},
   "outputs": [],
   "source": [
    "df.drift_R = @. 2 / orbit.n / √(1 - orbit.e^2) * orbit.e * sin(df.f) * df.a_R\n",
    "df.drift_T = @. 2 / orbit.n / √(1 - orbit.e^2) * orbit.a * (1 - orbit.e^2) / df.r * df.a_T\n",
    "\n",
    "df.drift_total = @. df.drift_R + df.drift_T"
   ]
  },
  {
   "cell_type": "code",
   "execution_count": null,
   "metadata": {},
   "outputs": [],
   "source": [
    "plot(framestyle=:box, legend=:bottomleft)\n",
    "plot!(xlims=(0, orbit.T/3600/24))\n",
    "# plot!(ylims=(-1.2, 1.2))\n",
    "\n",
    "# hline([mean(df.drift_total)*3600*24*365], label=false)\n",
    "\n",
    "plot!(df.t/3600/24, df.drift_R*3600*24*365, label=\"Radial\",)\n",
    "plot!(df.t/3600/24, df.drift_T*3600*24*365, label=\"Transverse\")\n",
    "plot!(df.t/3600/24, df.drift_total*3600*24*365, label=\"Total\")\n",
    "# plot!([0], [0], marker=(:plus, 5, :black))\n",
    "# scatter!(xs, ys, marker=(:circle, 0.8, 1, :blue, stroke(0, 0.2, :black, :dot)))"
   ]
  },
  {
   "cell_type": "code",
   "execution_count": null,
   "metadata": {},
   "outputs": [],
   "source": [
    "mean(df.drift_total)*3600*24*365"
   ]
  },
  {
   "cell_type": "code",
   "execution_count": null,
   "metadata": {},
   "outputs": [],
   "source": []
  },
  {
   "cell_type": "code",
   "execution_count": null,
   "metadata": {},
   "outputs": [],
   "source": []
  }
 ],
 "metadata": {
  "kernelspec": {
   "display_name": "Julia 1.6.0",
   "language": "julia",
   "name": "julia-1.6"
  },
  "language_info": {
   "file_extension": ".jl",
   "mimetype": "application/julia",
   "name": "julia",
   "version": "1.6.1"
  }
 },
 "nbformat": 4,
 "nbformat_minor": 4
}
