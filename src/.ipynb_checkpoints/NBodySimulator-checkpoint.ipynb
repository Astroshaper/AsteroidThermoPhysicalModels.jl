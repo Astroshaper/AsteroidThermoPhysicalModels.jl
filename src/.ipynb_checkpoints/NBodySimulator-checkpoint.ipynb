{
 "cells": [
  {
   "cell_type": "code",
   "execution_count": null,
   "metadata": {},
   "outputs": [],
   "source": []
  },
  {
   "cell_type": "code",
   "execution_count": null,
   "metadata": {},
   "outputs": [],
   "source": []
  },
  {
   "cell_type": "code",
   "execution_count": 1,
   "metadata": {},
   "outputs": [],
   "source": [
    "# 重力の計算\n",
    "# 積分（エルミート法）\n",
    "\n",
    "# シミュレーションを走らせる & スナップショットの保存\n",
    "# アニメーションにするスクリプト"
   ]
  },
  {
   "cell_type": "code",
   "execution_count": 2,
   "metadata": {},
   "outputs": [
    {
     "name": "stdout",
     "output_type": "stream",
     "text": [
      "1, 2\n",
      "1, 3\n",
      "1, 4\n",
      "1, 5\n",
      "2, 3\n",
      "2, 4\n",
      "2, 5\n",
      "3, 4\n",
      "3, 5\n",
      "4, 5\n"
     ]
    }
   ],
   "source": [
    "## これで粒子のペアに対してイテレートできる！\n",
    "\n",
    "indices = [1, 2, 3, 4, 5]\n",
    "\n",
    "for i in indices\n",
    "    for j in indices\n",
    "        i ≥ j && continue\n",
    "        println(i, \", \", j)\n",
    "    end\n",
    "end"
   ]
  },
  {
   "cell_type": "code",
   "execution_count": null,
   "metadata": {},
   "outputs": [],
   "source": [
    "# c.f. StructArray.jl"
   ]
  },
  {
   "cell_type": "code",
   "execution_count": null,
   "metadata": {},
   "outputs": [],
   "source": []
  },
  {
   "cell_type": "code",
   "execution_count": 218,
   "metadata": {},
   "outputs": [],
   "source": [
    "using BenchmarkTools\n",
    "using Revise\n",
    "\n",
    "using StaticArrays\n",
    "using StructArrays"
   ]
  },
  {
   "cell_type": "code",
   "execution_count": 219,
   "metadata": {},
   "outputs": [],
   "source": [
    "using Plots"
   ]
  },
  {
   "cell_type": "code",
   "execution_count": 220,
   "metadata": {},
   "outputs": [],
   "source": [
    "include(\"constants.jl\");\n",
    "include(\"nbody.jl\");\n",
    "include(\"hermite4.jl\");"
   ]
  },
  {
   "cell_type": "code",
   "execution_count": 221,
   "metadata": {},
   "outputs": [
    {
     "data": {
      "text/plain": [
       "(:r, :v, :a⁰, :a¹, :a², :a³, :ᵖr, :ᵖv, :⁺a⁰, :⁺a¹, :ᶜr, :ᶜv, :m, :R)"
      ]
     },
     "execution_count": 221,
     "metadata": {},
     "output_type": "execute_result"
    }
   ],
   "source": [
    "fieldnames(Particle)"
   ]
  },
  {
   "cell_type": "code",
   "execution_count": null,
   "metadata": {},
   "outputs": [],
   "source": []
  },
  {
   "cell_type": "code",
   "execution_count": 222,
   "metadata": {},
   "outputs": [],
   "source": [
    "ϵ = 0.1\n",
    "α = 7/6\n",
    "η = 0.05\n",
    "t_end = 3600*24*365;"
   ]
  },
  {
   "cell_type": "code",
   "execution_count": 223,
   "metadata": {},
   "outputs": [
    {
     "name": "stdout",
     "output_type": "stream",
     "text": [
      "Δt = 20000\n"
     ]
    }
   ],
   "source": [
    "sun = Particle(zeros(3), zeros(3), 1.989e30)\n",
    "earth = Particle([AU, 0., 0.], [0., 3.0e4, 0.], 5.972e24)\n",
    "\n",
    "ps = StructArray([sun, earth])\n",
    "initialize!(ps, ϵ)\n",
    "\n",
    "# Δt = get_Δt_initial(ps, η)\n",
    "Δt = 20000\n",
    "\n",
    "@show Δt;"
   ]
  },
  {
   "cell_type": "code",
   "execution_count": 224,
   "metadata": {},
   "outputs": [],
   "source": [
    "# @time snapshots = run_sim(ps, Δt, t_end, ϵ, α, η);\n",
    "# @time snapshots = run_sim(ps, Δt, t_end, ϵ, α, η);"
   ]
  },
  {
   "cell_type": "code",
   "execution_count": 225,
   "metadata": {},
   "outputs": [
    {
     "name": "stdout",
     "output_type": "stream",
     "text": [
      "  0.562949 seconds (1.72 M allocations: 77.217 MiB, 7.50% gc time)\n",
      "  0.000009 seconds (37 allocations: 2.453 KiB)\n"
     ]
    },
    {
     "data": {
      "text/plain": [
       "11413.917958560058"
      ]
     },
     "execution_count": 225,
     "metadata": {},
     "output_type": "execute_result"
    }
   ],
   "source": [
    "@time forward!(ps, Δt, ϵ, α, η)\n",
    "@time forward!(ps, Δt, ϵ, α, η)"
   ]
  },
  {
   "cell_type": "code",
   "execution_count": 171,
   "metadata": {},
   "outputs": [
    {
     "name": "stdout",
     "output_type": "stream",
     "text": [
      "  0.000004 seconds\n",
      "  0.000008 seconds (16 allocations: 1024 bytes)\n",
      "  0.000004 seconds\n",
      "  0.000008 seconds (16 allocations: 1024 bytes)\n",
      "  0.000009 seconds (5 allocations: 464 bytes)\n"
     ]
    },
    {
     "data": {
      "text/plain": [
       "10729.539231238346"
      ]
     },
     "execution_count": 171,
     "metadata": {},
     "output_type": "execute_result"
    }
   ],
   "source": [
    "@time predict!(ps, Δt)\n",
    "@time evaluate_by_predictor!(ps, ϵ)\n",
    "@time collect!(ps, Δt, α)\n",
    "@time evaluate_by_corrector!(ps, ϵ)\n",
    "@time prepare!(ps, Δt, η)"
   ]
  },
  {
   "cell_type": "code",
   "execution_count": null,
   "metadata": {},
   "outputs": [],
   "source": []
  },
  {
   "cell_type": "code",
   "execution_count": 21,
   "metadata": {},
   "outputs": [],
   "source": [
    "anim = @animate for snapshot in snapshots\n",
    "    r1 = snapshot[1]\n",
    "    r2 = snapshot[2]\n",
    "        \n",
    "    plt = plot(framestyle=:box, legend=true, aspect_ratio=:equal,\n",
    "        # title=\"t = $(lpad(round(t/3600/24), 5)) [day]\",\n",
    "        xlims=(-1.2, 1.2), xlabel=\"x [AU]\",\n",
    "        ylims=(-1.2, 1.2), ylabel=\"y [AU]\",\n",
    "    )\n",
    "    \n",
    "    scatter!([r1[1]/AU], [r1[2]/AU], marker=())\n",
    "    scatter!([r2[1]/AU], [r2[2]/AU], marker=())\n",
    "end;"
   ]
  },
  {
   "cell_type": "code",
   "execution_count": 61,
   "metadata": {},
   "outputs": [],
   "source": [
    "# gif(anim, \"../kepler.gif\", fps=40)"
   ]
  },
  {
   "cell_type": "code",
   "execution_count": null,
   "metadata": {},
   "outputs": [],
   "source": []
  },
  {
   "cell_type": "code",
   "execution_count": null,
   "metadata": {},
   "outputs": [],
   "source": []
  },
  {
   "cell_type": "code",
   "execution_count": null,
   "metadata": {},
   "outputs": [],
   "source": []
  },
  {
   "cell_type": "code",
   "execution_count": 212,
   "metadata": {},
   "outputs": [
    {
     "name": "stdout",
     "output_type": "stream",
     "text": [
      "Δt = 20000\n"
     ]
    }
   ],
   "source": [
    "ps = StructArray([Particle((rand(3).-0.5)*AU, (rand(3).-0.5)*1e4, 1e29) for _ in 1:10])\n",
    "initialize!(ps, ϵ)\n",
    "\n",
    "# Δt = get_Δt_initial(ps, η)\n",
    "Δt = 20000\n",
    "\n",
    "ϵ = 1.e3\n",
    "α = 7/6\n",
    "η = 0.05\n",
    "t_end = 3600*24*365;\n",
    "\n",
    "@show Δt;"
   ]
  },
  {
   "cell_type": "code",
   "execution_count": 213,
   "metadata": {},
   "outputs": [
    {
     "name": "stdout",
     "output_type": "stream",
     "text": [
      "  0.104585 seconds (1.31 M allocations: 82.881 MiB, 10.97% gc time)\n"
     ]
    }
   ],
   "source": [
    "@time snapshots = run_sim(ps, Δt, t_end, ϵ, α, η);"
   ]
  },
  {
   "cell_type": "code",
   "execution_count": 214,
   "metadata": {},
   "outputs": [],
   "source": [
    "anim = @animate for snapshot in snapshots\n",
    "        \n",
    "    plt = plot(framestyle=:box, legend=false, aspect_ratio=:equal,\n",
    "        # title=\"t = $(lpad(round(t/3600/24), 5)) [day]\",\n",
    "        xlims=(-1.2, 1.2), xlabel=\"x [AU]\",\n",
    "        ylims=(-1.2, 1.2), ylabel=\"y [AU]\",\n",
    "    )\n",
    "    \n",
    "    for r in snapshot\n",
    "        scatter!([r[1]/AU], [r[2]/AU], marker=())\n",
    "    end\n",
    "end;"
   ]
  },
  {
   "cell_type": "code",
   "execution_count": 217,
   "metadata": {},
   "outputs": [],
   "source": [
    "# gif(anim, \"../nbody-10.gif\", fps=30)"
   ]
  },
  {
   "cell_type": "code",
   "execution_count": null,
   "metadata": {},
   "outputs": [],
   "source": []
  },
  {
   "cell_type": "code",
   "execution_count": null,
   "metadata": {},
   "outputs": [],
   "source": []
  },
  {
   "cell_type": "code",
   "execution_count": 220,
   "metadata": {},
   "outputs": [
    {
     "data": {
      "text/plain": [
       "run_sim (generic function with 1 method)"
      ]
     },
     "execution_count": 220,
     "metadata": {},
     "output_type": "execute_result"
    }
   ],
   "source": [
    "# function run_sim(ps, Δt, t_end)\n",
    "    \n",
    "#     snapshots = []\n",
    "    \n",
    "#     for t in 0:Δt:t_end\n",
    "#         apply_mutual_gravity!(ps)\n",
    "#         update!(ps, Δt)\n",
    "#         push!(snapshots, deepcopy(ps))\n",
    "        \n",
    "#         reset_acceleration!(ps)\n",
    "#     end\n",
    "#     snapshots\n",
    "# end"
   ]
  },
  {
   "cell_type": "code",
   "execution_count": 221,
   "metadata": {},
   "outputs": [],
   "source": [
    "Δt = 3600 * 24 * 5\n",
    "t_end = 3600 * 24 * 365;"
   ]
  },
  {
   "cell_type": "code",
   "execution_count": 222,
   "metadata": {},
   "outputs": [],
   "source": [
    "sun = Particle(zeros(3), zeros(3), zeros(3), 1.989e30, 1.)\n",
    "earth = Particle([AU, 0., 0.], [0., 3.0e4, 0.], zeros(3), 5.972e24, 1.)\n",
    "\n",
    "ps = [sun, earth]\n",
    "labels = [\"Sun\", \"Earth\"];"
   ]
  },
  {
   "cell_type": "code",
   "execution_count": 223,
   "metadata": {},
   "outputs": [
    {
     "name": "stdout",
     "output_type": "stream",
     "text": [
      "  0.171367 seconds (162.36 k allocations: 7.776 MiB)\n"
     ]
    }
   ],
   "source": [
    "@time snapshots = run_sim(ps, Δt, t_end);"
   ]
  },
  {
   "cell_type": "code",
   "execution_count": 226,
   "metadata": {},
   "outputs": [],
   "source": [
    "anim = @animate for ps in snapshots\n",
    "        \n",
    "    plt = plot(framestyle=:box, legend=true, aspect_ratio=:equal,\n",
    "        # title=\"t = $(lpad(t/3600/24, 5)) [day]\",\n",
    "        xlims=(-1.2, 1.2), xlabel=\"x [AU]\",\n",
    "        ylims=(-1.2, 1.2), ylabel=\"y [AU]\",)\n",
    "    \n",
    "    for (p, label) in zip(ps, labels)\n",
    "        scatter!([p.r[1]/AU], [p.r[2]/AU], label=label, marker=())\n",
    "    end\n",
    "end;"
   ]
  },
  {
   "cell_type": "code",
   "execution_count": 243,
   "metadata": {},
   "outputs": [],
   "source": [
    "# gif(anim, \"../test_.gif\", fps = 20)"
   ]
  },
  {
   "cell_type": "code",
   "execution_count": null,
   "metadata": {},
   "outputs": [],
   "source": []
  },
  {
   "cell_type": "code",
   "execution_count": null,
   "metadata": {},
   "outputs": [],
   "source": []
  },
  {
   "cell_type": "code",
   "execution_count": null,
   "metadata": {},
   "outputs": [],
   "source": []
  },
  {
   "cell_type": "code",
   "execution_count": 228,
   "metadata": {},
   "outputs": [
    {
     "data": {
      "text/plain": [
       "2-element Array{String,1}:\n",
       " \"Sun\"\n",
       " \"Earth\""
      ]
     },
     "execution_count": 228,
     "metadata": {},
     "output_type": "execute_result"
    }
   ],
   "source": [
    "sun = Particle(zeros(3), zeros(3), zeros(3), 1.989e30, 1.)\n",
    "earth = Particle([AU, 0., 0.], [0., 3.0e4, 0.], zeros(3), 5.972e24, 1.)\n",
    "\n",
    "ps = [sun, earth]\n",
    "labels = [\"Sun\", \"Earth\"]"
   ]
  },
  {
   "cell_type": "code",
   "execution_count": 229,
   "metadata": {},
   "outputs": [],
   "source": [
    "Δt = 3600 * 24 * 5\n",
    "t_end = 3600 * 24 * 365;"
   ]
  },
  {
   "cell_type": "code",
   "execution_count": 230,
   "metadata": {},
   "outputs": [],
   "source": [
    "anim = @animate for t in 0:Δt:t_end\n",
    "        \n",
    "    plt = plot(framestyle=:box, legend=true, aspect_ratio=:equal,\n",
    "        title=\"t = $(lpad(t/3600/24, 5)) [day]\",\n",
    "        xlims=(-1.2, 1.2), xlabel=\"x [AU]\",\n",
    "        ylims=(-1.2, 1.2), ylabel=\"y [AU]\",)\n",
    "    \n",
    "    apply_mutual_gravity!(ps)\n",
    "    update!(ps, Δt)\n",
    "    \n",
    "    for (p, label) in zip(ps, labels)\n",
    "        scatter!([p.r[1]/AU], [p.r[2]/AU], label=label, marker=())\n",
    "    end\n",
    "    \n",
    "    reset_acceleration!(ps)\n",
    "end;"
   ]
  },
  {
   "cell_type": "code",
   "execution_count": 245,
   "metadata": {},
   "outputs": [],
   "source": [
    "# gif(anim, \"../test.gif\", fps = 20)"
   ]
  },
  {
   "cell_type": "code",
   "execution_count": null,
   "metadata": {},
   "outputs": [],
   "source": []
  },
  {
   "cell_type": "code",
   "execution_count": null,
   "metadata": {},
   "outputs": [],
   "source": []
  },
  {
   "cell_type": "code",
   "execution_count": 183,
   "metadata": {},
   "outputs": [],
   "source": [
    "p1 = Particle([ 1, 0, 0]*AU, [-0.8, 0.5, 0]*1e4, zeros(3), rand()*1e29, 1.)\n",
    "p2 = Particle([ 0, 1, 0]*AU, [ 0.2,-0.9, 0]*1e4, zeros(3), rand()*1e29, 1.)\n",
    "p3 = Particle([-1,-1, 0]*AU, [ 0.5, 0.8, 0]*1e4, zeros(3), rand()*1e29, 1.)\n",
    "\n",
    "ps = [p1, p2, p3]\n",
    "\n",
    "for p in ps\n",
    "    p.r[3] = 0\n",
    "    p.v[3] = 0\n",
    "end"
   ]
  },
  {
   "cell_type": "code",
   "execution_count": 184,
   "metadata": {},
   "outputs": [],
   "source": [
    "Δt = 3600 * 24 * 5\n",
    "t_end = 3600 * 24 * 365 * 1.5;"
   ]
  },
  {
   "cell_type": "code",
   "execution_count": 185,
   "metadata": {},
   "outputs": [],
   "source": [
    "anim = @animate for t in 0:Δt:t_end\n",
    "        \n",
    "    plt = plot(framestyle=:box, legend=false, aspect_ratio=:equal,\n",
    "        title=\"t = $(lpad(t/3600/24, 5)) [day]\",\n",
    "        xlims=(-1.2, 1.2), xlabel=\"x [AU]\",\n",
    "        ylims=(-1.2, 1.2), ylabel=\"y [AU]\",)\n",
    "    \n",
    "    apply_mutual_gravity!(ps)\n",
    "    update!(ps, Δt)\n",
    "    \n",
    "    for p in ps        \n",
    "        scatter!([p.r[1]/AU], [p.r[2]/AU], marker=())\n",
    "    end\n",
    "    reset_acceleration!(ps)\n",
    "end;"
   ]
  },
  {
   "cell_type": "code",
   "execution_count": 246,
   "metadata": {},
   "outputs": [],
   "source": [
    "# gif(anim, \"../test.gif\", fps = 20)"
   ]
  },
  {
   "cell_type": "code",
   "execution_count": null,
   "metadata": {},
   "outputs": [],
   "source": []
  },
  {
   "cell_type": "code",
   "execution_count": 201,
   "metadata": {},
   "outputs": [
    {
     "data": {
      "text/plain": [
       "rand_vel (generic function with 1 method)"
      ]
     },
     "execution_count": 201,
     "metadata": {},
     "output_type": "execute_result"
    }
   ],
   "source": [
    "function rand_loc()\n",
    "    r = (rand(3) .- 0.5) * AU\n",
    "    r[3] = 0\n",
    "    r\n",
    "end\n",
    "\n",
    "function rand_vel()\n",
    "    v = (rand(3) .- 0.5) * 1e4\n",
    "    v[3] = 0\n",
    "    v\n",
    "end"
   ]
  },
  {
   "cell_type": "code",
   "execution_count": 214,
   "metadata": {},
   "outputs": [],
   "source": [
    "N_body = 5\n",
    "\n",
    "ps = [Particle(rand_loc(), rand_vel(), zeros(3), 1.e29, 1.) for _ in 1:N_body];"
   ]
  },
  {
   "cell_type": "code",
   "execution_count": 215,
   "metadata": {},
   "outputs": [],
   "source": [
    "Δt = 3600 * 24 * 5\n",
    "t_end = 3600 * 24 * 365 * 2;"
   ]
  },
  {
   "cell_type": "code",
   "execution_count": 216,
   "metadata": {},
   "outputs": [],
   "source": [
    "anim = @animate for t in 0:Δt:t_end\n",
    "        \n",
    "    plt = plot(framestyle=:box, legend=false, aspect_ratio=:equal,\n",
    "        title=\"t = $(lpad(t/3600/24, 5)) [day]\",\n",
    "        xlims=(-1.2, 1.2), xlabel=\"x [AU]\",\n",
    "        ylims=(-1.2, 1.2), ylabel=\"y [AU]\",)\n",
    "    \n",
    "    apply_mutual_gravity!(ps)\n",
    "    update!(ps, Δt)\n",
    "    \n",
    "    for p in ps        \n",
    "        scatter!([p.r[1]/AU], [p.r[2]/AU], marker=())\n",
    "    end\n",
    "    reset_acceleration!(ps)\n",
    "end;"
   ]
  },
  {
   "cell_type": "code",
   "execution_count": 247,
   "metadata": {},
   "outputs": [],
   "source": [
    "# gif(anim, \"../test.gif\", fps = 20)"
   ]
  },
  {
   "cell_type": "code",
   "execution_count": null,
   "metadata": {},
   "outputs": [],
   "source": []
  },
  {
   "cell_type": "code",
   "execution_count": null,
   "metadata": {},
   "outputs": [],
   "source": []
  },
  {
   "cell_type": "code",
   "execution_count": null,
   "metadata": {},
   "outputs": [],
   "source": []
  },
  {
   "cell_type": "code",
   "execution_count": null,
   "metadata": {},
   "outputs": [],
   "source": []
  },
  {
   "cell_type": "code",
   "execution_count": null,
   "metadata": {},
   "outputs": [],
   "source": []
  },
  {
   "cell_type": "code",
   "execution_count": null,
   "metadata": {},
   "outputs": [],
   "source": []
  },
  {
   "cell_type": "code",
   "execution_count": null,
   "metadata": {},
   "outputs": [],
   "source": []
  },
  {
   "cell_type": "code",
   "execution_count": null,
   "metadata": {},
   "outputs": [],
   "source": [
    "using JPLEphemeris  # https://github.com/JuliaAstro/JPLEphemeris.jl\n",
    "\n",
    "# Load the DE430 SPK kernel\n",
    "spk = SPK(\"de430.bsp\")\n",
    "\n",
    "# List the available segments\n",
    "print_segments(spk)\n",
    "\n",
    "# 2016-01-01T00:00 in Julian days\n",
    "jd = Dates.datetime2julian(DateTime(2016,1,1,0,0,0))\n",
    "\n",
    "# Position of Earth's barycenter w.r.t. the Solar System's barycenter at 2016-01-01T00:00\n",
    "# [km]\n",
    "pos = position(spk, \"earth barycenter\", jd)\n",
    "\n",
    "# Velocity of Earth w.r.t. Earth's barycentre at 2016-01-01T00:00\n",
    "# [km/s]\n",
    "vel = velocity(spk, \"earth barycenter\", \"earth\", jd)\n",
    "\n",
    "# Compute the state vector (position and velocity) of Earth's barycenter (NAIF ID: 3)\n",
    "# w.r.t. to the Solar System's barycenter (NAIF ID: 0) for a range of Julian days\n",
    "st = state(spk, 0, 3, jd:jd+100)\n",
    "\n",
    "# Two-part Julian dates (day number and fraction) can be used for higher precision.\n",
    "# For example for 2016-01-01T12:00:\n",
    "st = state(spk, 0, 3, jd, 0.5)"
   ]
  },
  {
   "cell_type": "code",
   "execution_count": null,
   "metadata": {},
   "outputs": [],
   "source": []
  }
 ],
 "metadata": {
  "kernelspec": {
   "display_name": "Julia 1.5.3",
   "language": "julia",
   "name": "julia-1.5"
  },
  "language_info": {
   "file_extension": ".jl",
   "mimetype": "application/julia",
   "name": "julia",
   "version": "1.5.3"
  }
 },
 "nbformat": 4,
 "nbformat_minor": 4
}
